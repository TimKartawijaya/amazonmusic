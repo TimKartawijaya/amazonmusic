{
 "cells": [
  {
   "cell_type": "code",
   "execution_count": 120,
   "metadata": {},
   "outputs": [
    {
     "name": "stderr",
     "output_type": "stream",
     "text": [
      "/anaconda/lib/python3.6/site-packages/ipykernel_launcher.py:16: FutureWarning: specifying 'categories' or 'ordered' in .astype() is deprecated; pass a CategoricalDtype instead\n",
      "  app.launch_new_instance()\n",
      "/anaconda/lib/python3.6/site-packages/ipykernel_launcher.py:17: FutureWarning: specifying 'categories' or 'ordered' in .astype() is deprecated; pass a CategoricalDtype instead\n",
      "/anaconda/lib/python3.6/site-packages/ipykernel_launcher.py:21: FutureWarning: specifying 'categories' or 'ordered' in .astype() is deprecated; pass a CategoricalDtype instead\n",
      "/anaconda/lib/python3.6/site-packages/ipykernel_launcher.py:22: FutureWarning: specifying 'categories' or 'ordered' in .astype() is deprecated; pass a CategoricalDtype instead\n"
     ]
    },
    {
     "data": {
      "text/plain": [
       "<53577x9000 sparse matrix of type '<class 'numpy.int64'>'\n",
       "\twith 438344 stored elements in Compressed Sparse Row format>"
      ]
     },
     "execution_count": 120,
     "metadata": {},
     "output_type": "execute_result"
    }
   ],
   "source": [
    "from sklearn.neighbors import NearestNeighbors\n",
    "import pandas as pd\n",
    "import implicit\n",
    "import numpy as np\n",
    "import scipy\n",
    "\n",
    "df = pd.read_csv('lastfm_9000_users.csv', na_filter=False)\n",
    "\n",
    "data = df.drop(['Unnamed: 0','artist_mbid'], axis=1)\n",
    "\n",
    "users = list(np.sort(data.user_id.unique()))\n",
    "artists = list(data.artist_name.unique())\n",
    "plays = list(data.plays)\n",
    "\n",
    "#user-user\n",
    "rows = data.user_id.astype('category', categories=users).cat.codes\n",
    "cols = data.artist_name.astype('category', categories=artists).cat.codes\n",
    "plays_sparse = scipy.sparse.csr_matrix((plays, (rows, cols)), shape=(len(users),len(artists)))\n",
    "\n",
    "#item-item\n",
    "rows = data.artist_name.astype('category', categories=artists).cat.codes\n",
    "cols = data.user_id.astype('category', categories=users).cat.codes\n",
    "plays_sparse = scipy.sparse.csr_matrix((plays, (rows, cols)), shape=(len(artists),len(users)))\n",
    "\n",
    "plays_sparse"
   ]
  },
  {
   "cell_type": "code",
   "execution_count": 122,
   "metadata": {
    "collapsed": true
   },
   "outputs": [],
   "source": [
    "# initialize a model\n",
    "model = implicit.als.AlternatingLeastSquares(factors=50)"
   ]
  },
  {
   "cell_type": "code",
   "execution_count": 123,
   "metadata": {},
   "outputs": [
    {
     "name": "stderr",
     "output_type": "stream",
     "text": [
      "100%|██████████| 15.0/15 [00:05<00:00,  2.66it/s]\n"
     ]
    }
   ],
   "source": [
    "# train the model on a sparse matrix of item/user/confidence weights\n",
    "model.fit(plays_sparse)"
   ]
  },
  {
   "cell_type": "code",
   "execution_count": 161,
   "metadata": {},
   "outputs": [
    {
     "name": "stdout",
     "output_type": "stream",
     "text": [
      "These are the artists are recommended to user  0018c29f20d69d17a14ba01089ec997acaffbb46\n",
      "nick drake\n",
      "elliott smith\n",
      "the shins\n",
      "neil young\n",
      "the smiths\n",
      "pixies\n",
      "the beatles\n",
      "sufjan stevens\n",
      "the national\n",
      "kings of leon\n",
      "calexico\n",
      "beck\n",
      "bright eyes\n",
      "modest mouse\n",
      "the decemberists\n"
     ]
    }
   ],
   "source": [
    "#ignore this, don't run this for now\n",
    "# recommend items for a user\n",
    "userid = 3\n",
    "number_of_recs=15\n",
    "user_items = plays_sparse.T.tocsr()\n",
    "recommendations = model.recommend(userid, user_items,N=number_of_recs)\n",
    "recommendations\n",
    "print(\"These are the artists are recommended to user \",users[userid])\n",
    "for (x,y) in recommendations:\n",
    "    print(artists[x])"
   ]
  },
  {
   "cell_type": "code",
   "execution_count": 159,
   "metadata": {},
   "outputs": [
    {
     "name": "stdout",
     "output_type": "stream",
     "text": [
      "These are the artists similar to  pink floyd\n",
      "pink floyd\n",
      "the beatles\n",
      "radiohead\n",
      "led zeppelin\n",
      "red hot chili peppers\n",
      "nirvana\n",
      "the cure\n",
      "muse\n",
      "coldplay\n",
      "sigur rós\n"
     ]
    }
   ],
   "source": [
    "# find related items\n",
    "dummy=47\n",
    "related = model.similar_items(dummy)\n",
    "print(\"These are the artists similar to \",artists[dummy])\n",
    "for (x,y) in related:\n",
    "    print(artists[x])"
   ]
  },
  {
   "cell_type": "code",
   "execution_count": null,
   "metadata": {
    "collapsed": true
   },
   "outputs": [],
   "source": []
  }
 ],
 "metadata": {
  "kernelspec": {
   "display_name": "Python 3",
   "language": "python",
   "name": "python3"
  },
  "language_info": {
   "codemirror_mode": {
    "name": "ipython",
    "version": 3
   },
   "file_extension": ".py",
   "mimetype": "text/x-python",
   "name": "python",
   "nbconvert_exporter": "python",
   "pygments_lexer": "ipython3",
   "version": "3.6.6"
  }
 },
 "nbformat": 4,
 "nbformat_minor": 2
}
