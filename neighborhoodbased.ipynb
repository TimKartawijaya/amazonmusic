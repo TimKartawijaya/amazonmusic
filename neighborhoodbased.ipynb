{
 "cells": [
  {
   "cell_type": "code",
   "execution_count": 10,
   "metadata": {},
   "outputs": [],
   "source": [
    "import pandas as pd\n",
    "from sklearn.neighbors import NearestNeighbors"
   ]
  },
  {
   "cell_type": "code",
   "execution_count": 11,
   "metadata": {},
   "outputs": [],
   "source": [
    "df = pd.read_csv(\"lastfm_9000_users.csv\")"
   ]
  },
  {
   "cell_type": "code",
   "execution_count": 12,
   "metadata": {},
   "outputs": [
    {
     "data": {
      "text/html": [
       "<div>\n",
       "<style scoped>\n",
       "    .dataframe tbody tr th:only-of-type {\n",
       "        vertical-align: middle;\n",
       "    }\n",
       "\n",
       "    .dataframe tbody tr th {\n",
       "        vertical-align: top;\n",
       "    }\n",
       "\n",
       "    .dataframe thead th {\n",
       "        text-align: right;\n",
       "    }\n",
       "</style>\n",
       "<table border=\"1\" class=\"dataframe\">\n",
       "  <thead>\n",
       "    <tr style=\"text-align: right;\">\n",
       "      <th></th>\n",
       "      <th>Unnamed: 0</th>\n",
       "      <th>user_id</th>\n",
       "      <th>artist_mbid</th>\n",
       "      <th>artist_name</th>\n",
       "      <th>plays</th>\n",
       "    </tr>\n",
       "  </thead>\n",
       "  <tbody>\n",
       "    <tr>\n",
       "      <th>0</th>\n",
       "      <td>0</td>\n",
       "      <td>00029d80b8af94f2d5e3349ceb28b7304f80c1c4</td>\n",
       "      <td>b7ffd2af-418f-4be2-bdd1-22f8b48613da</td>\n",
       "      <td>nine inch nails</td>\n",
       "      <td>11092</td>\n",
       "    </tr>\n",
       "    <tr>\n",
       "      <th>1</th>\n",
       "      <td>1</td>\n",
       "      <td>00029d80b8af94f2d5e3349ceb28b7304f80c1c4</td>\n",
       "      <td>8ca01f46-53ac-4af2-8516-55a909c0905e</td>\n",
       "      <td>my bloody valentine</td>\n",
       "      <td>1671</td>\n",
       "    </tr>\n",
       "    <tr>\n",
       "      <th>2</th>\n",
       "      <td>2</td>\n",
       "      <td>00029d80b8af94f2d5e3349ceb28b7304f80c1c4</td>\n",
       "      <td>e795e03d-b5d5-4a5f-834d-162cfb308a2c</td>\n",
       "      <td>pj harvey</td>\n",
       "      <td>1603</td>\n",
       "    </tr>\n",
       "    <tr>\n",
       "      <th>3</th>\n",
       "      <td>3</td>\n",
       "      <td>00029d80b8af94f2d5e3349ceb28b7304f80c1c4</td>\n",
       "      <td>69ee3720-a7cb-4402-b48d-a02c366f2bcf</td>\n",
       "      <td>the cure</td>\n",
       "      <td>1588</td>\n",
       "    </tr>\n",
       "    <tr>\n",
       "      <th>4</th>\n",
       "      <td>4</td>\n",
       "      <td>00029d80b8af94f2d5e3349ceb28b7304f80c1c4</td>\n",
       "      <td>90cc2464-234e-4da0-b39b-576f36e633bc</td>\n",
       "      <td>antony and the johnsons</td>\n",
       "      <td>1039</td>\n",
       "    </tr>\n",
       "  </tbody>\n",
       "</table>\n",
       "</div>"
      ],
      "text/plain": [
       "   Unnamed: 0                                   user_id  \\\n",
       "0           0  00029d80b8af94f2d5e3349ceb28b7304f80c1c4   \n",
       "1           1  00029d80b8af94f2d5e3349ceb28b7304f80c1c4   \n",
       "2           2  00029d80b8af94f2d5e3349ceb28b7304f80c1c4   \n",
       "3           3  00029d80b8af94f2d5e3349ceb28b7304f80c1c4   \n",
       "4           4  00029d80b8af94f2d5e3349ceb28b7304f80c1c4   \n",
       "\n",
       "                            artist_mbid              artist_name  plays  \n",
       "0  b7ffd2af-418f-4be2-bdd1-22f8b48613da          nine inch nails  11092  \n",
       "1  8ca01f46-53ac-4af2-8516-55a909c0905e      my bloody valentine   1671  \n",
       "2  e795e03d-b5d5-4a5f-834d-162cfb308a2c                pj harvey   1603  \n",
       "3  69ee3720-a7cb-4402-b48d-a02c366f2bcf                 the cure   1588  \n",
       "4  90cc2464-234e-4da0-b39b-576f36e633bc  antony and the johnsons   1039  "
      ]
     },
     "execution_count": 12,
     "metadata": {},
     "output_type": "execute_result"
    }
   ],
   "source": [
    "df.head()"
   ]
  },
  {
   "cell_type": "code",
   "execution_count": 6,
   "metadata": {},
   "outputs": [
    {
     "data": {
      "text/html": [
       "<div>\n",
       "<style scoped>\n",
       "    .dataframe tbody tr th:only-of-type {\n",
       "        vertical-align: middle;\n",
       "    }\n",
       "\n",
       "    .dataframe tbody tr th {\n",
       "        vertical-align: top;\n",
       "    }\n",
       "\n",
       "    .dataframe thead th {\n",
       "        text-align: right;\n",
       "    }\n",
       "</style>\n",
       "<table border=\"1\" class=\"dataframe\">\n",
       "  <thead>\n",
       "    <tr style=\"text-align: right;\">\n",
       "      <th></th>\n",
       "      <th>Unnamed: 0</th>\n",
       "      <th>plays</th>\n",
       "    </tr>\n",
       "  </thead>\n",
       "  <tbody>\n",
       "    <tr>\n",
       "      <th>count</th>\n",
       "      <td>438346.000000</td>\n",
       "      <td>438346.000000</td>\n",
       "    </tr>\n",
       "    <tr>\n",
       "      <th>mean</th>\n",
       "      <td>219172.500000</td>\n",
       "      <td>216.435998</td>\n",
       "    </tr>\n",
       "    <tr>\n",
       "      <th>std</th>\n",
       "      <td>126539.734886</td>\n",
       "      <td>800.547832</td>\n",
       "    </tr>\n",
       "    <tr>\n",
       "      <th>min</th>\n",
       "      <td>0.000000</td>\n",
       "      <td>1.000000</td>\n",
       "    </tr>\n",
       "    <tr>\n",
       "      <th>25%</th>\n",
       "      <td>109586.250000</td>\n",
       "      <td>34.000000</td>\n",
       "    </tr>\n",
       "    <tr>\n",
       "      <th>50%</th>\n",
       "      <td>219172.500000</td>\n",
       "      <td>94.000000</td>\n",
       "    </tr>\n",
       "    <tr>\n",
       "      <th>75%</th>\n",
       "      <td>328758.750000</td>\n",
       "      <td>225.000000</td>\n",
       "    </tr>\n",
       "    <tr>\n",
       "      <th>max</th>\n",
       "      <td>438345.000000</td>\n",
       "      <td>242328.000000</td>\n",
       "    </tr>\n",
       "  </tbody>\n",
       "</table>\n",
       "</div>"
      ],
      "text/plain": [
       "          Unnamed: 0          plays\n",
       "count  438346.000000  438346.000000\n",
       "mean   219172.500000     216.435998\n",
       "std    126539.734886     800.547832\n",
       "min         0.000000       1.000000\n",
       "25%    109586.250000      34.000000\n",
       "50%    219172.500000      94.000000\n",
       "75%    328758.750000     225.000000\n",
       "max    438345.000000  242328.000000"
      ]
     },
     "execution_count": 6,
     "metadata": {},
     "output_type": "execute_result"
    }
   ],
   "source": [
    "model_knn = NearestNeighbors(metric = \"cosine\", algorithm = \"brute\")\n",
    "model_knn.fit()"
   ]
  },
  {
   "cell_type": "code",
   "execution_count": null,
   "metadata": {},
   "outputs": [],
   "source": []
  }
 ],
 "metadata": {
  "kernelspec": {
   "display_name": "Python 3",
   "language": "python",
   "name": "python3"
  },
  "language_info": {
   "codemirror_mode": {
    "name": "ipython",
    "version": 2
   },
   "file_extension": ".py",
   "mimetype": "text/x-python",
   "name": "python",
   "nbconvert_exporter": "python",
   "pygments_lexer": "ipython2",
   "version": "2.7.15"
  }
 },
 "nbformat": 4,
 "nbformat_minor": 2
}
