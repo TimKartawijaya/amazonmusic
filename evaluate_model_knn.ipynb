{
 "cells": [
  {
   "cell_type": "code",
   "execution_count": 1,
   "metadata": {},
   "outputs": [],
   "source": [
    "#our goal is to have top K artist recommendations for a user, so that they would \n",
    "from math import log\n",
    "from __future__ import print_function\n",
    "import pandas as pd\n",
    "import implicit\n",
    "import numpy as np\n",
    "import scipy\n",
    "import random\n",
    "from operator import itemgetter\n",
    "from tqdm import tqdm_notebook as tqdm\n",
    "\n",
    "df = pd.read_csv('lastfm_9000_users.csv', na_filter=False)\n",
    "df = df.drop(['Unnamed: 0'], axis=1)"
   ]
  },
  {
   "cell_type": "markdown",
   "metadata": {},
   "source": [
    "## TO DO\n",
    "\n",
    "BIG THINGS: \n",
    "- set-up cross-validation\n",
    "    - Baseline model evaluate\n",
    "    - Tune our Hyperparameters\n",
    "- fix precision/recall\n",
    "- calculate NDCG  \n",
    "- seeing if it scales\n",
    "\n",
    "CASES TO EVALUATE:\n",
    "- sparse vs. non-sparse data\n",
    "- threshold of relevance\n",
    "- which users should we hold out (those with > 10/20/30 values?)\n",
    "\n",
    "PERFORMANCE:\n",
    "- speed up split_train_per_user, by figuring out how to access zero values faster\n",
    "- speed up precision, recall evaluation"
   ]
  },
  {
   "cell_type": "markdown",
   "metadata": {},
   "source": [
    "## Data Preparation|"
   ]
  },
  {
   "cell_type": "code",
   "execution_count": 3,
   "metadata": {},
   "outputs": [],
   "source": [
    "#create sparse matrix from dataframe object\n",
    "def create_sparse_matrix(data, user_user = True):\n",
    "    \"\"\"\n",
    "    Creates sparse matrix (csr_matrix) out of pandas dataframe.\n",
    "    \n",
    "    Parameters: \n",
    "    - data: Dataframe of user/artist data\n",
    "    - user_user: determines whether output will be for user-to-user or item-to-item collaborative filtering\n",
    "                 if user_user is True, then rows will be items and columns will be users\n",
    "    \n",
    "    Returns: \n",
    "    - plays_sparse: a sparse csr_matrix\n",
    "    \n",
    "    \"\"\"\n",
    "    print(\"Creating sparse matrix...\")\n",
    "    #grab unique users/artist IDS\n",
    "    users = list(np.sort(data.user_id.unique()))\n",
    "    artists = list(data.artist_mbid.unique())\n",
    "    plays = list(data.plays)\n",
    "\n",
    "    # user-user set-up\n",
    "    if (user_user == True):\n",
    "        rows = data.user_id.astype('category', categories=users).cat.codes\n",
    "        cols = data.artist_mbid.astype('category', categories=artists).cat.codes\n",
    "        plays_sparse = scipy.sparse.csr_matrix((plays, (rows, cols)), shape=(len(users),len(artists)))\n",
    "\n",
    "    #item-item set-up\n",
    "    else:    \n",
    "        rows = data.artist_mbid.astype('category', categories=artists).cat.codes\n",
    "        cols = data.user_id.astype('category', categories=users).cat.codes\n",
    "        plays_sparse = scipy.sparse.csr_matrix((plays, (rows, cols)), shape=(len(artists),len(users)))\n",
    "        \n",
    "    return plays_sparse"
   ]
  },
  {
   "cell_type": "code",
   "execution_count": 4,
   "metadata": {},
   "outputs": [],
   "source": [
    "#calculate how sparse the matrix is\n",
    "def calculate_sparsity(M):\n",
    "    \"\"\"\n",
    "    Calculates how sparse this matrix\n",
    "    \"\"\"\n",
    "    matrix_size = float(M.shape[0]*M.shape[1]) # Number of possible interactions in the matrix\n",
    "    num_plays = len(M.nonzero()[0]) # Number of items interacted with\n",
    "    sparsity = 100*(1 - float(num_plays/matrix_size))\n",
    "    return sparsity"
   ]
  },
  {
   "cell_type": "markdown",
   "metadata": {},
   "source": [
    "## Split Train Test"
   ]
  },
  {
   "cell_type": "code",
   "execution_count": 5,
   "metadata": {},
   "outputs": [],
   "source": [
    "#split train, test using all user pairs\n",
    "def make_train_all_user_pairs(data, test_pct):\n",
    "    \"\"\"\n",
    "    params:\n",
    "        data: data set in csr_matrix format\n",
    "        test_pct: percentage to be test set\n",
    "    \"\"\"\n",
    "    #create copies of dataset for training and test data\n",
    "    test = data.copy()\n",
    "    train = data.copy()\n",
    "    \n",
    "    #alter train data, masking/holding-out random user-pair values for some users\n",
    "    nonzero_idx = train.nonzero() #find indices in data where interaction exists\n",
    "    \n",
    "    \n",
    "    nonzero_pairs = zip(nonzero_idx[0], nonzero_idx[1]) #create pairs of (user, item) index\n",
    "    \n",
    "    #determine how many user-pair values we need to mask, according to test_pct\n",
    "    random.seed(0) #for reproducibility\n",
    "    num_samples = int(np.ceil(test_pct * len(nonzero_pairs)))\n",
    "    samples = random.sample(nonzero_pairs, num_samples) #sample random number of user-item pairs without replacement\n",
    "    print(type(samples))\n",
    "    #get user, item row and column indices\n",
    "    user_idx = [index[0] for index in samples] \n",
    "    item_idx = [index[1] for index in samples] \n",
    "    \n",
    "    train[user_idx,item_idx] = 0 #mask the randomly chosen user-item pairs\n",
    "    train.eliminate_zeros() #remove zeros in sparse arrays that was made previously\n",
    "    \n",
    "    return train, test, list(set(user_idx)), samples #output unique list of user rows that were altered"
   ]
  },
  {
   "cell_type": "code",
   "execution_count": 6,
   "metadata": {},
   "outputs": [],
   "source": [
    "#split train, test by user only with interactions#, with test size=total/k\n",
    "def split_train_test_per_user(data, k, interactions = 20,cross_valid= False):\n",
    "    \"\"\"\n",
    "    Create train matrix with masked values and dictionary of test values \n",
    "    \n",
    "    Parameters:\n",
    "    - data: csr_matrix, assuming matrix is user-user (item as rows, columns as users)\n",
    "    - test_pct: percentage of items to mask per user\n",
    "    \n",
    "    Output:\n",
    "    - train: masked matrix\n",
    "    - test: list of tuples of held out data ((user_idx, item_idx), plays)\n",
    "    \"\"\"\n",
    "    random.seed(0) #for reproducibility\n",
    "    \n",
    "    train = data.copy() #transpose to make procedure easier/more intuitive\n",
    "    \n",
    "    test = dict() #dict to keep track of masked user-item values\n",
    "    \n",
    "    user_count = 0\n",
    "    test_list=[]\n",
    "    train_list=[]\n",
    "    if cross_valid==True: #initialize\n",
    "        for i in range(k):\n",
    "            test_list.append(dict())\n",
    "            train_list.append(train)\n",
    "    \n",
    "    #for each user in the training set\n",
    "    for user_idx in tqdm(range(train.get_shape()[0])):\n",
    "\n",
    "        #get indices of interactions of this user\n",
    "        nonzero_idx = train[user_idx].nonzero()\n",
    "\n",
    "        #only hold out users that have enough data (greater than interactions #)\n",
    "        if nonzero_idx[1].shape[0] >= interactions:\n",
    "            user_count += 1\n",
    "            #create list of tuples: interaction index (row, col) with the number of plays\n",
    "            nonzero_pairs = [((user_idx, item_idx), train[user_idx,item_idx]) for item_idx in nonzero_idx[1]]\n",
    "\n",
    "            #sort tuples descending by value\n",
    "            nonzero_sorted = sorted(nonzero_pairs, key = itemgetter(1), reverse = True)\n",
    "\n",
    "            #get top interaction # values, then sample test_pct% randomly from subset\n",
    "            top_values = nonzero_sorted[0:interactions]\n",
    "\n",
    "            #sample random number of item_indexes without replacement\n",
    "            num_samples = int(np.floor(interactions/float(k)))\n",
    "            if (cross_valid==False): \n",
    "                samples = random.sample(top_values, num_samples) \n",
    "\n",
    "                #append user_idx, item_\n",
    "                test[user_idx] = [pair[0][1] for pair in samples]\n",
    "\n",
    "                #mask the randomly chosen items of this user\n",
    "                for pair in samples:\n",
    "                    train[pair[0][0], pair[0][1]] = 0\n",
    "\n",
    "            else: #Cross Validation Step\n",
    "                for i in range(k):\n",
    "                    train = train_list[i]\n",
    "                    k_test=test_list[i]\n",
    "                    random.shuffle(top_values) \n",
    "                    samples=top_values[0:num_samples]\n",
    "                    top_values=top_values[num_samples:]\n",
    "                    #append user_idx, item_\n",
    "                    k_test[user_idx] = [pair[0][1] for pair in samples]\n",
    "                    test_list[i]=k_test #update test\n",
    "                    #mask the randomly chosen items of this user\n",
    "                    for pair in samples:\n",
    "                        train[pair[0][0], pair[0][1]] = 0\n",
    "                    train.eliminate_zeros()\n",
    "                    train_list[i]=train #update train\n",
    "    if (cross_valid==False):\n",
    "        return train.T.tocsr(), test, user_count #convert matrix back\n",
    "    else:\n",
    "        for i in range(k):\n",
    "            train_list[i]=train_list[i].T.tocsr()\n",
    "        return train_list, test_list, user_count #convert matrix back\n"
   ]
  },
  {
   "cell_type": "code",
   "execution_count": 7,
   "metadata": {},
   "outputs": [],
   "source": [
    "#calculate how many interactions are masked compared to previous dataset\n",
    "def pct_masked(original, altered):\n",
    "    altered_n = altered.nonzero()[0].shape[0]\n",
    "    original_n = original.nonzero()[0].shape[0]\n",
    "    return (original_n - altered_n)/float(altered_n)"
   ]
  },
  {
   "cell_type": "markdown",
   "metadata": {},
   "source": [
    "## Custom Models"
   ]
  },
  {
   "cell_type": "code",
   "execution_count": 8,
   "metadata": {},
   "outputs": [],
   "source": [
    "def baseline(k,user_items):\n",
    "    plays=user_items.toarray()\n",
    "    totalplays=np.sum(plays,axis=1)    \n",
    "    idx = (-totalplays).argsort()[:k]\n",
    "    return idx"
   ]
  },
  {
   "cell_type": "markdown",
   "metadata": {},
   "source": [
    "## Evaluation/Metrics"
   ]
  },
  {
   "cell_type": "code",
   "execution_count": 9,
   "metadata": {},
   "outputs": [],
   "source": [
    "def zeros_list(n):\n",
    "    listofzeros = [0] * n\n",
    "    return listofzeros\n",
    "\n",
    "def dcg_at_k(scores):\n",
    "    assert scores\n",
    "    return scores[0] + sum(sc / log(ind, 2) for sc, ind in zip(scores[1:], range(2, len(scores)+1)))\n",
    "\n",
    "def ndcg_at_k(predicted_scores, user_scores):\n",
    "    \"\"\"\n",
    "    predicted_scores: recommended k items from model\n",
    "    user_scores: held out items\n",
    "    \"\"\"\n",
    "    assert len(predicted_scores) == len(user_scores)\n",
    "\n",
    "    idcg = dcg_at_k(sorted(user_scores, reverse=True))\n",
    "    x = (dcg_at_k(predicted_scores) / idcg) if idcg > 0.0 else 0.0\n",
    "    \n",
    "    return x\n",
    "\n",
    "#used to evaluate model\n",
    "def evaluate(model, test, M, n_rec = 20):\n",
    "    \"\"\"\n",
    "    Calculate precision/recall\n",
    "    \n",
    "    parameters:\n",
    "    - model: fitted implicit model that will perform recommendations\n",
    "    - test: list containing tuples that are heldout for each user\n",
    "    - M: csr_matrix of item-users, used in fit\n",
    "    - n_rec: how many recommendations the system outputs\n",
    "    \n",
    "    \n",
    "    returns:\n",
    "    - two numpy arrays containing precision and recall\n",
    "    \"\"\"\n",
    "    #TODO: Refactor NDCG and Recall, less dependent on each other\n",
    "    \n",
    "    M_rec = M.T.tocsr() #transpose to recommend\n",
    "    \n",
    "    tp = float(0)\n",
    "    test_n = float(0)\n",
    "    print('Evaluating model...')\n",
    "    \n",
    "    ndcg = list()\n",
    "    #calculate true positives for each user, append results to list\n",
    "    for user, holdout_items in tqdm(test.items()):\n",
    "        \n",
    "        #get list of item recs for each user\n",
    "        rec = model.recommend(user, M_rec, N=n_rec, filter_already_liked_items=True) #returns (item_id, score)\n",
    "        rec_items = [pair[0] for pair in rec] #get only item_id\n",
    "        test_n += len(holdout_items) #total number of heldout items\n",
    "        \n",
    "        #for NDCG\n",
    "        predicted_scores = zeros_list(n_rec)\n",
    "        user_scores = zeros_list(n_rec)\n",
    "        i = 0\n",
    "            \n",
    "        #count true positives in recommended items\n",
    "        for item in holdout_items: \n",
    "            value = M[user,item]\n",
    "            user_scores[i] = value\n",
    "            i += 1\n",
    "            if item in rec_items:\n",
    "                predicted_scores[rec_items.index(item)] = value #if holdout items is in recommended\n",
    "                tp += 1\n",
    "        #Calculate NDCG\n",
    "        ndcg.append(ndcg_at_k(predicted_scores, user_scores))\n",
    "\n",
    "    recall = tp/test_n\n",
    "    return recall, np.mean(ndcg)"
   ]
  },
  {
   "cell_type": "code",
   "execution_count": 10,
   "metadata": {},
   "outputs": [],
   "source": [
    "#used to evaluate model\n",
    "def evaluate_base(rec_items, test, M, n_rec = 20):\n",
    "    \"\"\"\n",
    "    Calculate recall\n",
    "    \n",
    "    parameters:\n",
    "    - model: fitted implicit model that will perform recommendations\n",
    "    - test: list containing tuples that are heldout for each user\n",
    "    - M: csr_matrix of item-users, used in fit\n",
    "    - n_rec: how many recommendations the system outputs\n",
    "    returns:\n",
    "    - numpy array containing recall\n",
    "    \"\"\"\n",
    "    M_rec = M.T.tocsr() #transpose to recommend\n",
    "    \n",
    "    tp = float(0)\n",
    "    test_n = float(0)\n",
    "    rec_items = list(rec_items)\n",
    "    ndcg = list()\n",
    "\n",
    "    print('Evaluating model...')\n",
    "    #calculate true positives for each user, append results to list\n",
    "\n",
    "    for user, holdout_items in tqdm(test.items()):\n",
    "        test_n += len(holdout_items)\n",
    "        #count true positives in recommended items\n",
    "        predicted_scores = zeros_list(n_rec)\n",
    "        user_scores = zeros_list(n_rec)\n",
    "        i = 0\n",
    "        for item in holdout_items:\n",
    "            value = M[user,item]\n",
    "            user_scores[i] = value\n",
    "            i += 1\n",
    "            if item in rec_items:\n",
    "                predicted_scores[rec_items.index(item)] = value #if holdout items is in recommended\n",
    "                tp += 1\n",
    "\n",
    "        ndcg.append(ndcg_at_k(predicted_scores, user_scores))\n",
    "        \n",
    "    recall = tp/test_n\n",
    "    return recall,np.mean(ndcg)"
   ]
  },
  {
   "cell_type": "markdown",
   "metadata": {},
   "source": [
    "# Main Script\n",
    "\n",
    "#### Create sparse matrix"
   ]
  },
  {
   "cell_type": "code",
   "execution_count": 11,
   "metadata": {},
   "outputs": [
    {
     "name": "stdout",
     "output_type": "stream",
     "text": [
      "Creating sparse matrix...\n"
     ]
    },
    {
     "name": "stderr",
     "output_type": "stream",
     "text": [
      "/home/tim_kartawijaya/anaconda3/lib/python3.6/site-packages/ipykernel_launcher.py:23: FutureWarning: specifying 'categories' or 'ordered' in .astype() is deprecated; pass a CategoricalDtype instead\n",
      "/home/tim_kartawijaya/anaconda3/lib/python3.6/site-packages/ipykernel_launcher.py:24: FutureWarning: specifying 'categories' or 'ordered' in .astype() is deprecated; pass a CategoricalDtype instead\n"
     ]
    },
    {
     "name": "stdout",
     "output_type": "stream",
     "text": [
      "Matrix Sparsity: 99.8965986346416\n"
     ]
    },
    {
     "data": {
      "application/vnd.jupyter.widget-view+json": {
       "model_id": "dca1d74d5c1242eb9c6c6c26930c7ea2",
       "version_major": 2,
       "version_minor": 0
      },
      "text/plain": [
       "HBox(children=(IntProgress(value=0, max=9000), HTML(value='')))"
      ]
     },
     "metadata": {},
     "output_type": "display_data"
    },
    {
     "name": "stdout",
     "output_type": "stream",
     "text": [
      "\n",
      "Percentage of original data masked: 0.06548419166887459\n",
      "Users masked: 8980\n"
     ]
    }
   ],
   "source": [
    "\"\"\"\n",
    "PREPARE\n",
    "\"\"\"\n",
    "#create sparse matrix\n",
    "plays_sparse = create_sparse_matrix(df).astype('float')\n",
    "\n",
    "#filter out users with < 15 artists/reduce sparsity if needed\n",
    "print('Matrix Sparsity:', calculate_sparsity(plays_sparse))\n",
    "\n",
    "\"\"\"\n",
    "SPLIT TRAIN TEST\n",
    "\"\"\"\n",
    "train, test, user_count = split_train_test_per_user(plays_sparse, 3, 10)\n",
    "print(\"Percentage of original data masked:\", pct_masked(plays_sparse, train))\n",
    "print(\"Users masked:\", user_count)"
   ]
  },
  {
   "cell_type": "markdown",
   "metadata": {},
   "source": [
    "#### Run model-based once"
   ]
  },
  {
   "cell_type": "code",
   "execution_count": 232,
   "metadata": {
    "scrolled": true
   },
   "outputs": [
    {
     "name": "stdout",
     "output_type": "stream",
     "text": [
      "<generator object <genexpr> at 0x116dfb0a0>\n",
      "---\n",
      "30\n",
      "1\n",
      "Fitting model...\n",
      "Recall: 15.256137204349288 %\n",
      "Average NDCG: 8.869369269177547 %\n"
     ]
    }
   ],
   "source": [
    "\"\"\"\n",
    "ALS MODEL BASED\n",
    "\"\"\"\n",
    "model = implicit.als.AlternatingLeastSquares(50)\n",
    "\n",
    "# K-Nearest Neighbors\n",
    "# model = implicit.nearest_neighbours.BM25Recommender()\n",
    "\n",
    "# train model \n",
    "print(\"Fitting model...\")\n",
    "model.fit(train, show_progress=True)\n",
    "\n",
    "recall, ndcg = evaluate(model, test, plays_sparse)\n",
    "print(\"Recall:\",recall*100,'%')\n",
    "print(\"Average NDCG:\",ndcg*100,'%')"
   ]
  },
  {
   "cell_type": "markdown",
   "metadata": {},
   "source": [
    "#### Run Baseline once"
   ]
  },
  {
   "cell_type": "code",
   "execution_count": 206,
   "metadata": {
    "collapsed": true
   },
   "outputs": [],
   "source": [
    "#BASELINE\n",
    "user_items = plays_sparse.T.tocsr()\n",
    "rec_items=baseline(20,user_items)"
   ]
  },
  {
   "cell_type": "code",
   "execution_count": 207,
   "metadata": {},
   "outputs": [
    {
     "name": "stdout",
     "output_type": "stream",
     "text": [
      "Evaluating model...\n"
     ]
    },
    {
     "data": {
      "application/vnd.jupyter.widget-view+json": {
       "model_id": "f1604b9b6edf410b8ea8fe479bdf2cf5"
      }
     },
     "metadata": {},
     "output_type": "display_data"
    },
    {
     "name": "stdout",
     "output_type": "stream",
     "text": [
      "7.939866369710467 %\n",
      "Average NDCG per User: 4.783246758217563 %\n"
     ]
    }
   ],
   "source": [
    "#Evaluate Baseline\n",
    "recall,ndcg = evaluate_base(rec_items,test,plays_sparse)\n",
    "print(recall*100,'%')\n",
    "print(\"Average NDCG per User:\",ndcg*100,'%')"
   ]
  },
  {
   "cell_type": "markdown",
   "metadata": {},
   "source": [
    "# Cross Validation "
   ]
  },
  {
   "cell_type": "markdown",
   "metadata": {},
   "source": [
    "### Splitting into test and training sets"
   ]
  },
  {
   "cell_type": "code",
   "execution_count": 208,
   "metadata": {},
   "outputs": [
    {
     "data": {
      "application/vnd.jupyter.widget-view+json": {
       "model_id": "b5d50b4576924f71b9859ce89163c5e3"
      }
     },
     "metadata": {},
     "output_type": "display_data"
    }
   ],
   "source": [
    "#Cross Validation test\n",
    "k=5\n",
    "train_list, test_list, user_count = split_train_test_per_user(plays_sparse,k,20,cross_valid=True)"
   ]
  },
  {
   "cell_type": "markdown",
   "metadata": {},
   "source": [
    "### KNN/ALS Hyperparameter Tuning"
   ]
  },
  {
   "cell_type": "code",
   "execution_count": 11,
   "metadata": {},
   "outputs": [],
   "source": [
    "\"\"\"\n",
    "input: \n",
    "    - k: # of folds within the training set (split into tuning sets)\n",
    "    - interactions: size of recommendation list\n",
    "    - model: model that is being optimized   \n",
    "    - data: sparse user-item matrix\n",
    "    - param1: list of values to try for hyperparameter 1.\n",
    "    - param2: list of values to try for hyperparameter 2. \n",
    "    - param3: list of values to try for hyperparameter 3.\n",
    "    NOTE: if using KNN, there are 3 parameters. param2 is the integer used for k1; \n",
    "    only k and b are tested only param1 and param3 should be lists.\n",
    "    If using ALS, there are 2 parameters. both should be lists. \n",
    "    \n",
    "output:\n",
    "    - max_ndcg_list: a list of k tuples, one for each fold. \n",
    "        each tuple is in the form (max_ndcg,max_first_param,max_second_param,max_recall)\n",
    "        which records the best ndcg, and the two params that achieved it, \n",
    "        and the max_recall achieved (which may be from different param values).\n",
    "\"\"\"\n",
    "def auto_tune_parameter(k,interactions,model,data,param1,param2,param3=None):\n",
    "    # train model\n",
    "    #create list of MAX NDCG and Recall depending on # params\n",
    "    max_ndcg_list=[] #will end up being length k list of tuples of best param values\n",
    "    heatmap_list=[]\n",
    "    if param3==None: #for ALS\n",
    "        num_param=2\n",
    "        first_param=param1\n",
    "        second_param=param2\n",
    "    else: #for KNN\n",
    "        num_param=3\n",
    "        first_param=param1\n",
    "        second_param=param3\n",
    "    train_and_tune,test,user_count=split_train_test_per_user(data, k+1, interactions,cross_valid= False)\n",
    "    train_list, tune_list, user_count = split_train_test_per_user(train_and_tune.T.tocsr(),k,int(np.ceil(((k-1)/k)*interactions)),cross_valid=True)\n",
    "    #to be updated via max: to determine final params to use on test set \n",
    "    test_ndcg=0\n",
    "    test_first_param=first_param[0]\n",
    "    test_second_param=second_param[0]\n",
    "    #create recall/NDCG matrix storing for each combination of \n",
    "    for fold in range(k): #For each fold; there are k-1 folds within train_and_tune\n",
    "        ndcg_heatmap=[[0 for x in range(len(second_param))] for y in range(len(first_param))]\n",
    "        print(ndcg_heatmap)\n",
    "        train=train_list[fold]\n",
    "        tune=tune_list[fold]\n",
    "        #not keeping track of individual ndcg for now ^^^\n",
    "        max_first_param=first_param[0] #initialize best value of first_param for this fold\n",
    "        max_second_param=second_param[0] #initialize best value of second_param for this fold\n",
    "        max_recall=0\n",
    "        max_ndcg=0\n",
    "        value1_index=0 #index for heatmap\n",
    "        print(\"Fitting fold number...\",fold)\n",
    "        for value1 in first_param:\n",
    "            value2_index=0\n",
    "            for value2 in second_param:\n",
    "                if num_param==2:\n",
    "                    print(\"Trying \",(value1,value2))\n",
    "                    usemodel=model(value1,value2)\n",
    "                if num_param==3:\n",
    "                    print(\"Trying \",(value1,param2,value2))\n",
    "                    usemodel=model(value1,param2,value2)\n",
    "                usemodel.fit(train, show_progress=False)\n",
    "                recall,ndcg = evaluate(usemodel,tune,data)\n",
    "                print(value1_index,value2_index)\n",
    "                ndcg_heatmap[value1_index][value2_index]=ndcg #update heatmap \n",
    "                #recall_list.append(recall)\n",
    "                #update maximum values\n",
    "                max_recall=max(max_recall,recall)\n",
    "                if ndcg>max_ndcg: \n",
    "                    max_ndcg=ndcg\n",
    "                    max_first_param=value1\n",
    "                    max_second_param=value2\n",
    "                value2_index=value2_index+1\n",
    "            value1_index=value1_index+1    \n",
    "        max_ndcg_list.append([max_ndcg,max_first_param,max_second_param,max_recall])\n",
    "        if max_ndcg>test_ndcg:\n",
    "            print(\"Fold \",fold,\" beat the record for ncdg!\")\n",
    "            print(\"New best ndcg is \",max_ndcg)\n",
    "            print(\"New best params are \",(max_first_param,max_second_param))\n",
    "            test_ndcg=max_ndcg\n",
    "            test_first_param=max_first_param\n",
    "            test_second_param=max_second_param\n",
    "        heatmap_list.append(ndcg_heatmap)\n",
    "        print(\"end of fold---------------------------\")\n",
    "\n",
    "    #Now, test_first_param and test_second_param should be optimized\n",
    "    if num_param==2:\n",
    "        usemodel=model(test_first_param,test_second_param)\n",
    "    if num_param==3:\n",
    "        usemodel=model(test_first_param,param2,test_second_param)\n",
    "    usemodel.fit(train_and_tune,show_progress=True)\n",
    "    final_recall,final_ndcg = evaluate(usemodel,test,data)\n",
    "    \n",
    "    print(\"The recall on the test set is \", final_recall,\", after hyperparameter optimization\")\n",
    "    print(\"The ndcg on the test set is \",final_ndcg,\", after hyperparameter optimization\")\n",
    "    \n",
    "    return max_ndcg_list,heatmap_list "
   ]
  },
  {
   "cell_type": "code",
   "execution_count": 12,
   "metadata": {
    "scrolled": false
   },
   "outputs": [
    {
     "data": {
      "application/vnd.jupyter.widget-view+json": {
       "model_id": "55ff85d11c574b59beb2d14dce63dc83",
       "version_major": 2,
       "version_minor": 0
      },
      "text/plain": [
       "HBox(children=(IntProgress(value=0, max=9000), HTML(value='')))"
      ]
     },
     "metadata": {},
     "output_type": "display_data"
    },
    {
     "name": "stdout",
     "output_type": "stream",
     "text": [
      "\n"
     ]
    },
    {
     "data": {
      "application/vnd.jupyter.widget-view+json": {
       "model_id": "947001db6bb842f0bc0092a47076f7b5",
       "version_major": 2,
       "version_minor": 0
      },
      "text/plain": [
       "HBox(children=(IntProgress(value=0, max=9000), HTML(value='')))"
      ]
     },
     "metadata": {},
     "output_type": "display_data"
    },
    {
     "name": "stdout",
     "output_type": "stream",
     "text": [
      "\n",
      "[[0, 0, 0], [0, 0, 0], [0, 0, 0], [0, 0, 0], [0, 0, 0]]\n",
      "Fitting fold number... 0\n",
      "Trying  (200, 1.2, 0)\n",
      "Evaluating model...\n"
     ]
    },
    {
     "data": {
      "application/vnd.jupyter.widget-view+json": {
       "model_id": "05b5161827d341eda4c8749ea7c7b543",
       "version_major": 2,
       "version_minor": 0
      },
      "text/plain": [
       "HBox(children=(IntProgress(value=0, max=8959), HTML(value='')))"
      ]
     },
     "metadata": {},
     "output_type": "display_data"
    },
    {
     "name": "stdout",
     "output_type": "stream",
     "text": [
      "\n",
      "0 0\n",
      "Trying  (200, 1.2, 0.5)\n",
      "Evaluating model...\n"
     ]
    },
    {
     "data": {
      "application/vnd.jupyter.widget-view+json": {
       "model_id": "4717ba36ce3a44f4aeda01a4d83f9aec",
       "version_major": 2,
       "version_minor": 0
      },
      "text/plain": [
       "HBox(children=(IntProgress(value=0, max=8959), HTML(value='')))"
      ]
     },
     "metadata": {},
     "output_type": "display_data"
    },
    {
     "name": "stdout",
     "output_type": "stream",
     "text": [
      "\n",
      "0 1\n",
      "Trying  (200, 1.2, 1)\n",
      "Evaluating model...\n"
     ]
    },
    {
     "data": {
      "application/vnd.jupyter.widget-view+json": {
       "model_id": "99b30144dc254c79b064dd5e3accf059",
       "version_major": 2,
       "version_minor": 0
      },
      "text/plain": [
       "HBox(children=(IntProgress(value=0, max=8959), HTML(value='')))"
      ]
     },
     "metadata": {},
     "output_type": "display_data"
    },
    {
     "name": "stdout",
     "output_type": "stream",
     "text": [
      "\n",
      "0 2\n",
      "Trying  (400, 1.2, 0)\n",
      "Evaluating model...\n"
     ]
    },
    {
     "data": {
      "application/vnd.jupyter.widget-view+json": {
       "model_id": "c3b9fa311516455aab517713a471f7ac",
       "version_major": 2,
       "version_minor": 0
      },
      "text/plain": [
       "HBox(children=(IntProgress(value=0, max=8959), HTML(value='')))"
      ]
     },
     "metadata": {},
     "output_type": "display_data"
    },
    {
     "name": "stdout",
     "output_type": "stream",
     "text": [
      "\n",
      "1 0\n",
      "Trying  (400, 1.2, 0.5)\n",
      "Evaluating model...\n"
     ]
    },
    {
     "data": {
      "application/vnd.jupyter.widget-view+json": {
       "model_id": "9c0d95be2a3a4b52a0c1515a3f9439a3",
       "version_major": 2,
       "version_minor": 0
      },
      "text/plain": [
       "HBox(children=(IntProgress(value=0, max=8959), HTML(value='')))"
      ]
     },
     "metadata": {},
     "output_type": "display_data"
    },
    {
     "name": "stdout",
     "output_type": "stream",
     "text": [
      "\n",
      "1 1\n",
      "Trying  (400, 1.2, 1)\n",
      "Evaluating model...\n"
     ]
    },
    {
     "data": {
      "application/vnd.jupyter.widget-view+json": {
       "model_id": "d78926c93d9f4d1984eea5904b7be3d8",
       "version_major": 2,
       "version_minor": 0
      },
      "text/plain": [
       "HBox(children=(IntProgress(value=0, max=8959), HTML(value='')))"
      ]
     },
     "metadata": {},
     "output_type": "display_data"
    },
    {
     "name": "stdout",
     "output_type": "stream",
     "text": [
      "\n",
      "1 2\n",
      "Trying  (600, 1.2, 0)\n",
      "Evaluating model...\n"
     ]
    },
    {
     "data": {
      "application/vnd.jupyter.widget-view+json": {
       "model_id": "3f217d00ec8f4389916c3cd09deb3d9d",
       "version_major": 2,
       "version_minor": 0
      },
      "text/plain": [
       "HBox(children=(IntProgress(value=0, max=8959), HTML(value='')))"
      ]
     },
     "metadata": {},
     "output_type": "display_data"
    },
    {
     "name": "stdout",
     "output_type": "stream",
     "text": [
      "\n",
      "2 0\n",
      "Trying  (600, 1.2, 0.5)\n",
      "Evaluating model...\n"
     ]
    },
    {
     "data": {
      "application/vnd.jupyter.widget-view+json": {
       "model_id": "7800132b5ded4be0b4c47917e070e31a",
       "version_major": 2,
       "version_minor": 0
      },
      "text/plain": [
       "HBox(children=(IntProgress(value=0, max=8959), HTML(value='')))"
      ]
     },
     "metadata": {},
     "output_type": "display_data"
    },
    {
     "name": "stdout",
     "output_type": "stream",
     "text": [
      "\n",
      "2 1\n",
      "Trying  (600, 1.2, 1)\n",
      "Evaluating model...\n"
     ]
    },
    {
     "data": {
      "application/vnd.jupyter.widget-view+json": {
       "model_id": "d7c44747404441cf89ec716c19564b89",
       "version_major": 2,
       "version_minor": 0
      },
      "text/plain": [
       "HBox(children=(IntProgress(value=0, max=8959), HTML(value='')))"
      ]
     },
     "metadata": {},
     "output_type": "display_data"
    },
    {
     "name": "stdout",
     "output_type": "stream",
     "text": [
      "\n",
      "2 2\n",
      "Trying  (800, 1.2, 0)\n",
      "Evaluating model...\n"
     ]
    },
    {
     "data": {
      "application/vnd.jupyter.widget-view+json": {
       "model_id": "d06a04f9ed824942b2759542d97467b9",
       "version_major": 2,
       "version_minor": 0
      },
      "text/plain": [
       "HBox(children=(IntProgress(value=0, max=8959), HTML(value='')))"
      ]
     },
     "metadata": {},
     "output_type": "display_data"
    },
    {
     "name": "stdout",
     "output_type": "stream",
     "text": [
      "\n",
      "3 0\n",
      "Trying  (800, 1.2, 0.5)\n",
      "Evaluating model...\n"
     ]
    },
    {
     "data": {
      "application/vnd.jupyter.widget-view+json": {
       "model_id": "9ca1704351a34ceea344c59d87ef02f5",
       "version_major": 2,
       "version_minor": 0
      },
      "text/plain": [
       "HBox(children=(IntProgress(value=0, max=8959), HTML(value='')))"
      ]
     },
     "metadata": {},
     "output_type": "display_data"
    },
    {
     "name": "stdout",
     "output_type": "stream",
     "text": [
      "\n",
      "3 1\n",
      "Trying  (800, 1.2, 1)\n",
      "Evaluating model...\n"
     ]
    },
    {
     "data": {
      "application/vnd.jupyter.widget-view+json": {
       "model_id": "cd7e51553bbe43bcb71f8818b1ae0086",
       "version_major": 2,
       "version_minor": 0
      },
      "text/plain": [
       "HBox(children=(IntProgress(value=0, max=8959), HTML(value='')))"
      ]
     },
     "metadata": {},
     "output_type": "display_data"
    },
    {
     "name": "stdout",
     "output_type": "stream",
     "text": [
      "\n",
      "3 2\n",
      "Trying  (1000, 1.2, 0)\n",
      "Evaluating model...\n"
     ]
    },
    {
     "data": {
      "application/vnd.jupyter.widget-view+json": {
       "model_id": "da6ee15076c84d5e9b8bb68b9b5ab6bc",
       "version_major": 2,
       "version_minor": 0
      },
      "text/plain": [
       "HBox(children=(IntProgress(value=0, max=8959), HTML(value='')))"
      ]
     },
     "metadata": {},
     "output_type": "display_data"
    },
    {
     "name": "stdout",
     "output_type": "stream",
     "text": [
      "\n",
      "4 0\n",
      "Trying  (1000, 1.2, 0.5)\n",
      "Evaluating model...\n"
     ]
    },
    {
     "data": {
      "application/vnd.jupyter.widget-view+json": {
       "model_id": "8d450d3eb8a34fdd8770a46eb3b60f2c",
       "version_major": 2,
       "version_minor": 0
      },
      "text/plain": [
       "HBox(children=(IntProgress(value=0, max=8959), HTML(value='')))"
      ]
     },
     "metadata": {},
     "output_type": "display_data"
    },
    {
     "name": "stdout",
     "output_type": "stream",
     "text": [
      "\n",
      "4 1\n",
      "Trying  (1000, 1.2, 1)\n",
      "Evaluating model...\n"
     ]
    },
    {
     "data": {
      "application/vnd.jupyter.widget-view+json": {
       "model_id": "670cb10e7f234e65913e2c67642bb1e7",
       "version_major": 2,
       "version_minor": 0
      },
      "text/plain": [
       "HBox(children=(IntProgress(value=0, max=8959), HTML(value='')))"
      ]
     },
     "metadata": {},
     "output_type": "display_data"
    },
    {
     "name": "stdout",
     "output_type": "stream",
     "text": [
      "\n",
      "4 2\n",
      "Fold  0  beat the record for ncdg!\n",
      "New best ndcg is  0.029138939329930905\n",
      "New best params are  (400, 0)\n",
      "end of fold---------------------------\n",
      "[[0, 0, 0], [0, 0, 0], [0, 0, 0], [0, 0, 0], [0, 0, 0]]\n",
      "Fitting fold number... 1\n",
      "Trying  (200, 1.2, 0)\n",
      "Evaluating model...\n"
     ]
    },
    {
     "data": {
      "application/vnd.jupyter.widget-view+json": {
       "model_id": "4c0629acb242428092e58a6da59f6c62",
       "version_major": 2,
       "version_minor": 0
      },
      "text/plain": [
       "HBox(children=(IntProgress(value=0, max=8959), HTML(value='')))"
      ]
     },
     "metadata": {},
     "output_type": "display_data"
    },
    {
     "name": "stdout",
     "output_type": "stream",
     "text": [
      "\n",
      "0 0\n",
      "Trying  (200, 1.2, 0.5)\n",
      "Evaluating model...\n"
     ]
    },
    {
     "data": {
      "application/vnd.jupyter.widget-view+json": {
       "model_id": "27f685cba27042e4a8f4a033dba85baa",
       "version_major": 2,
       "version_minor": 0
      },
      "text/plain": [
       "HBox(children=(IntProgress(value=0, max=8959), HTML(value='')))"
      ]
     },
     "metadata": {},
     "output_type": "display_data"
    },
    {
     "name": "stdout",
     "output_type": "stream",
     "text": [
      "\n",
      "0 1\n",
      "Trying  (200, 1.2, 1)\n",
      "Evaluating model...\n"
     ]
    },
    {
     "data": {
      "application/vnd.jupyter.widget-view+json": {
       "model_id": "209fac06526c46aabf9ba3d013770b25",
       "version_major": 2,
       "version_minor": 0
      },
      "text/plain": [
       "HBox(children=(IntProgress(value=0, max=8959), HTML(value='')))"
      ]
     },
     "metadata": {},
     "output_type": "display_data"
    },
    {
     "name": "stdout",
     "output_type": "stream",
     "text": [
      "\n",
      "0 2\n",
      "Trying  (400, 1.2, 0)\n",
      "Evaluating model...\n"
     ]
    },
    {
     "data": {
      "application/vnd.jupyter.widget-view+json": {
       "model_id": "71c6c7d1b5f0481c9a8ed1e098a41014",
       "version_major": 2,
       "version_minor": 0
      },
      "text/plain": [
       "HBox(children=(IntProgress(value=0, max=8959), HTML(value='')))"
      ]
     },
     "metadata": {},
     "output_type": "display_data"
    },
    {
     "name": "stdout",
     "output_type": "stream",
     "text": [
      "\n",
      "1 0\n",
      "Trying  (400, 1.2, 0.5)\n",
      "Evaluating model...\n"
     ]
    },
    {
     "data": {
      "application/vnd.jupyter.widget-view+json": {
       "model_id": "adb435008a874c95809b52b8959de528",
       "version_major": 2,
       "version_minor": 0
      },
      "text/plain": [
       "HBox(children=(IntProgress(value=0, max=8959), HTML(value='')))"
      ]
     },
     "metadata": {},
     "output_type": "display_data"
    },
    {
     "name": "stdout",
     "output_type": "stream",
     "text": [
      "\n",
      "1 1\n",
      "Trying  (400, 1.2, 1)\n",
      "Evaluating model...\n"
     ]
    },
    {
     "data": {
      "application/vnd.jupyter.widget-view+json": {
       "model_id": "01a80f02d5614a158221070c6502c5ba",
       "version_major": 2,
       "version_minor": 0
      },
      "text/plain": [
       "HBox(children=(IntProgress(value=0, max=8959), HTML(value='')))"
      ]
     },
     "metadata": {},
     "output_type": "display_data"
    },
    {
     "name": "stdout",
     "output_type": "stream",
     "text": [
      "\n",
      "1 2\n",
      "Trying  (600, 1.2, 0)\n",
      "Evaluating model...\n"
     ]
    },
    {
     "data": {
      "application/vnd.jupyter.widget-view+json": {
       "model_id": "e54047cc643b4bafb27805fd18eef703",
       "version_major": 2,
       "version_minor": 0
      },
      "text/plain": [
       "HBox(children=(IntProgress(value=0, max=8959), HTML(value='')))"
      ]
     },
     "metadata": {},
     "output_type": "display_data"
    },
    {
     "name": "stdout",
     "output_type": "stream",
     "text": [
      "\n",
      "2 0\n",
      "Trying  (600, 1.2, 0.5)\n",
      "Evaluating model...\n"
     ]
    },
    {
     "data": {
      "application/vnd.jupyter.widget-view+json": {
       "model_id": "cd6d52e99d3a426ea0c1ab9342736420",
       "version_major": 2,
       "version_minor": 0
      },
      "text/plain": [
       "HBox(children=(IntProgress(value=0, max=8959), HTML(value='')))"
      ]
     },
     "metadata": {},
     "output_type": "display_data"
    },
    {
     "name": "stdout",
     "output_type": "stream",
     "text": [
      "\n",
      "2 1\n",
      "Trying  (600, 1.2, 1)\n",
      "Evaluating model...\n"
     ]
    },
    {
     "data": {
      "application/vnd.jupyter.widget-view+json": {
       "model_id": "5ab6c8d784d7429789b91590045ea175",
       "version_major": 2,
       "version_minor": 0
      },
      "text/plain": [
       "HBox(children=(IntProgress(value=0, max=8959), HTML(value='')))"
      ]
     },
     "metadata": {},
     "output_type": "display_data"
    },
    {
     "name": "stdout",
     "output_type": "stream",
     "text": [
      "\n",
      "2 2\n",
      "Trying  (800, 1.2, 0)\n",
      "Evaluating model...\n"
     ]
    },
    {
     "data": {
      "application/vnd.jupyter.widget-view+json": {
       "model_id": "0339493843bc4e53b280c9c19815f9ba",
       "version_major": 2,
       "version_minor": 0
      },
      "text/plain": [
       "HBox(children=(IntProgress(value=0, max=8959), HTML(value='')))"
      ]
     },
     "metadata": {},
     "output_type": "display_data"
    },
    {
     "name": "stdout",
     "output_type": "stream",
     "text": [
      "\n",
      "3 0\n",
      "Trying  (800, 1.2, 0.5)\n",
      "Evaluating model...\n"
     ]
    },
    {
     "data": {
      "application/vnd.jupyter.widget-view+json": {
       "model_id": "64329622016c4739a033a7b53028e871",
       "version_major": 2,
       "version_minor": 0
      },
      "text/plain": [
       "HBox(children=(IntProgress(value=0, max=8959), HTML(value='')))"
      ]
     },
     "metadata": {},
     "output_type": "display_data"
    },
    {
     "name": "stdout",
     "output_type": "stream",
     "text": [
      "\n",
      "3 1\n",
      "Trying  (800, 1.2, 1)\n",
      "Evaluating model...\n"
     ]
    },
    {
     "data": {
      "application/vnd.jupyter.widget-view+json": {
       "model_id": "4f904bc20bd243848e561b61b325bd5a",
       "version_major": 2,
       "version_minor": 0
      },
      "text/plain": [
       "HBox(children=(IntProgress(value=0, max=8959), HTML(value='')))"
      ]
     },
     "metadata": {},
     "output_type": "display_data"
    },
    {
     "name": "stdout",
     "output_type": "stream",
     "text": [
      "\n",
      "3 2\n",
      "Trying  (1000, 1.2, 0)\n",
      "Evaluating model...\n"
     ]
    },
    {
     "data": {
      "application/vnd.jupyter.widget-view+json": {
       "model_id": "31bc84cb3f7a4bfea5d52fe7ccd2909d",
       "version_major": 2,
       "version_minor": 0
      },
      "text/plain": [
       "HBox(children=(IntProgress(value=0, max=8959), HTML(value='')))"
      ]
     },
     "metadata": {},
     "output_type": "display_data"
    },
    {
     "name": "stdout",
     "output_type": "stream",
     "text": [
      "\n",
      "4 0\n",
      "Trying  (1000, 1.2, 0.5)\n",
      "Evaluating model...\n"
     ]
    },
    {
     "data": {
      "application/vnd.jupyter.widget-view+json": {
       "model_id": "4233d258ebea42a1b9baa25f0c607c65",
       "version_major": 2,
       "version_minor": 0
      },
      "text/plain": [
       "HBox(children=(IntProgress(value=0, max=8959), HTML(value='')))"
      ]
     },
     "metadata": {},
     "output_type": "display_data"
    },
    {
     "name": "stdout",
     "output_type": "stream",
     "text": [
      "\n",
      "4 1\n",
      "Trying  (1000, 1.2, 1)\n",
      "Evaluating model...\n"
     ]
    },
    {
     "data": {
      "application/vnd.jupyter.widget-view+json": {
       "model_id": "1946ad09d0c9444b9d6dd67f3b3b9c66",
       "version_major": 2,
       "version_minor": 0
      },
      "text/plain": [
       "HBox(children=(IntProgress(value=0, max=8959), HTML(value='')))"
      ]
     },
     "metadata": {},
     "output_type": "display_data"
    },
    {
     "name": "stdout",
     "output_type": "stream",
     "text": [
      "\n",
      "4 2\n",
      "Fold  1  beat the record for ncdg!\n",
      "New best ndcg is  0.03039990425437948\n",
      "New best params are  (400, 0)\n",
      "end of fold---------------------------\n",
      "[[0, 0, 0], [0, 0, 0], [0, 0, 0], [0, 0, 0], [0, 0, 0]]\n",
      "Fitting fold number... 2\n",
      "Trying  (200, 1.2, 0)\n",
      "Evaluating model...\n"
     ]
    },
    {
     "data": {
      "application/vnd.jupyter.widget-view+json": {
       "model_id": "32956734fdbc4ba6af67e377661d6453",
       "version_major": 2,
       "version_minor": 0
      },
      "text/plain": [
       "HBox(children=(IntProgress(value=0, max=8959), HTML(value='')))"
      ]
     },
     "metadata": {},
     "output_type": "display_data"
    },
    {
     "name": "stdout",
     "output_type": "stream",
     "text": [
      "\n",
      "0 0\n",
      "Trying  (200, 1.2, 0.5)\n",
      "Evaluating model...\n"
     ]
    },
    {
     "data": {
      "application/vnd.jupyter.widget-view+json": {
       "model_id": "1e9fe1b75d9d42759de6104ac8084c9c",
       "version_major": 2,
       "version_minor": 0
      },
      "text/plain": [
       "HBox(children=(IntProgress(value=0, max=8959), HTML(value='')))"
      ]
     },
     "metadata": {},
     "output_type": "display_data"
    },
    {
     "name": "stdout",
     "output_type": "stream",
     "text": [
      "\n",
      "0 1\n",
      "Trying  (200, 1.2, 1)\n",
      "Evaluating model...\n"
     ]
    },
    {
     "data": {
      "application/vnd.jupyter.widget-view+json": {
       "model_id": "e522204f0e6545128d6b7b8235370876",
       "version_major": 2,
       "version_minor": 0
      },
      "text/plain": [
       "HBox(children=(IntProgress(value=0, max=8959), HTML(value='')))"
      ]
     },
     "metadata": {},
     "output_type": "display_data"
    },
    {
     "name": "stdout",
     "output_type": "stream",
     "text": [
      "\n",
      "0 2\n",
      "Trying  (400, 1.2, 0)\n",
      "Evaluating model...\n"
     ]
    },
    {
     "data": {
      "application/vnd.jupyter.widget-view+json": {
       "model_id": "2214054f349649c3a923be34788e767b",
       "version_major": 2,
       "version_minor": 0
      },
      "text/plain": [
       "HBox(children=(IntProgress(value=0, max=8959), HTML(value='')))"
      ]
     },
     "metadata": {},
     "output_type": "display_data"
    },
    {
     "name": "stdout",
     "output_type": "stream",
     "text": [
      "\n",
      "1 0\n",
      "Trying  (400, 1.2, 0.5)\n",
      "Evaluating model...\n"
     ]
    },
    {
     "data": {
      "application/vnd.jupyter.widget-view+json": {
       "model_id": "f8c5b347343841c99cf218e53223275c",
       "version_major": 2,
       "version_minor": 0
      },
      "text/plain": [
       "HBox(children=(IntProgress(value=0, max=8959), HTML(value='')))"
      ]
     },
     "metadata": {},
     "output_type": "display_data"
    },
    {
     "name": "stdout",
     "output_type": "stream",
     "text": [
      "\n",
      "1 1\n",
      "Trying  (400, 1.2, 1)\n",
      "Evaluating model...\n"
     ]
    },
    {
     "data": {
      "application/vnd.jupyter.widget-view+json": {
       "model_id": "48549e2624234cc28bf8dce4cf9ed7de",
       "version_major": 2,
       "version_minor": 0
      },
      "text/plain": [
       "HBox(children=(IntProgress(value=0, max=8959), HTML(value='')))"
      ]
     },
     "metadata": {},
     "output_type": "display_data"
    },
    {
     "name": "stdout",
     "output_type": "stream",
     "text": [
      "\n",
      "1 2\n",
      "Trying  (600, 1.2, 0)\n",
      "Evaluating model...\n"
     ]
    },
    {
     "data": {
      "application/vnd.jupyter.widget-view+json": {
       "model_id": "c3d7999126594fdb8da22a583fa342f8",
       "version_major": 2,
       "version_minor": 0
      },
      "text/plain": [
       "HBox(children=(IntProgress(value=0, max=8959), HTML(value='')))"
      ]
     },
     "metadata": {},
     "output_type": "display_data"
    },
    {
     "name": "stdout",
     "output_type": "stream",
     "text": [
      "\n",
      "2 0\n",
      "Trying  (600, 1.2, 0.5)\n",
      "Evaluating model...\n"
     ]
    },
    {
     "data": {
      "application/vnd.jupyter.widget-view+json": {
       "model_id": "d71645a2dbd2412b9ed18af51e949302",
       "version_major": 2,
       "version_minor": 0
      },
      "text/plain": [
       "HBox(children=(IntProgress(value=0, max=8959), HTML(value='')))"
      ]
     },
     "metadata": {},
     "output_type": "display_data"
    },
    {
     "name": "stdout",
     "output_type": "stream",
     "text": [
      "\n",
      "2 1\n",
      "Trying  (600, 1.2, 1)\n",
      "Evaluating model...\n"
     ]
    },
    {
     "data": {
      "application/vnd.jupyter.widget-view+json": {
       "model_id": "af1a1013a1894b5db19d04ba4284bbaf",
       "version_major": 2,
       "version_minor": 0
      },
      "text/plain": [
       "HBox(children=(IntProgress(value=0, max=8959), HTML(value='')))"
      ]
     },
     "metadata": {},
     "output_type": "display_data"
    },
    {
     "name": "stdout",
     "output_type": "stream",
     "text": [
      "\n",
      "2 2\n",
      "Trying  (800, 1.2, 0)\n",
      "Evaluating model...\n"
     ]
    },
    {
     "data": {
      "application/vnd.jupyter.widget-view+json": {
       "model_id": "d9321c5dc343482284a4eb34236789e8",
       "version_major": 2,
       "version_minor": 0
      },
      "text/plain": [
       "HBox(children=(IntProgress(value=0, max=8959), HTML(value='')))"
      ]
     },
     "metadata": {},
     "output_type": "display_data"
    },
    {
     "name": "stdout",
     "output_type": "stream",
     "text": [
      "\n",
      "3 0\n",
      "Trying  (800, 1.2, 0.5)\n",
      "Evaluating model...\n"
     ]
    },
    {
     "data": {
      "application/vnd.jupyter.widget-view+json": {
       "model_id": "17a2797ef5e34859b6dbfc5bdb592b62",
       "version_major": 2,
       "version_minor": 0
      },
      "text/plain": [
       "HBox(children=(IntProgress(value=0, max=8959), HTML(value='')))"
      ]
     },
     "metadata": {},
     "output_type": "display_data"
    },
    {
     "name": "stdout",
     "output_type": "stream",
     "text": [
      "\n",
      "3 1\n",
      "Trying  (800, 1.2, 1)\n",
      "Evaluating model...\n"
     ]
    },
    {
     "data": {
      "application/vnd.jupyter.widget-view+json": {
       "model_id": "573f948d62d34d0fb2e4c7f49ec0ce23",
       "version_major": 2,
       "version_minor": 0
      },
      "text/plain": [
       "HBox(children=(IntProgress(value=0, max=8959), HTML(value='')))"
      ]
     },
     "metadata": {},
     "output_type": "display_data"
    },
    {
     "name": "stdout",
     "output_type": "stream",
     "text": [
      "\n",
      "3 2\n",
      "Trying  (1000, 1.2, 0)\n",
      "Evaluating model...\n"
     ]
    },
    {
     "data": {
      "application/vnd.jupyter.widget-view+json": {
       "model_id": "62f7f9f9704b4ad1b3c9a51d640ee03f",
       "version_major": 2,
       "version_minor": 0
      },
      "text/plain": [
       "HBox(children=(IntProgress(value=0, max=8959), HTML(value='')))"
      ]
     },
     "metadata": {},
     "output_type": "display_data"
    },
    {
     "name": "stdout",
     "output_type": "stream",
     "text": [
      "\n",
      "4 0\n",
      "Trying  (1000, 1.2, 0.5)\n",
      "Evaluating model...\n"
     ]
    },
    {
     "data": {
      "application/vnd.jupyter.widget-view+json": {
       "model_id": "ebdfae27a91640c8b5ab10ad37b4a840",
       "version_major": 2,
       "version_minor": 0
      },
      "text/plain": [
       "HBox(children=(IntProgress(value=0, max=8959), HTML(value='')))"
      ]
     },
     "metadata": {},
     "output_type": "display_data"
    },
    {
     "name": "stdout",
     "output_type": "stream",
     "text": [
      "\n",
      "4 1\n",
      "Trying  (1000, 1.2, 1)\n",
      "Evaluating model...\n"
     ]
    },
    {
     "data": {
      "application/vnd.jupyter.widget-view+json": {
       "model_id": "e0f3b2d924684b9183607a33b2db5c24",
       "version_major": 2,
       "version_minor": 0
      },
      "text/plain": [
       "HBox(children=(IntProgress(value=0, max=8959), HTML(value='')))"
      ]
     },
     "metadata": {},
     "output_type": "display_data"
    },
    {
     "name": "stdout",
     "output_type": "stream",
     "text": [
      "\n",
      "4 2\n",
      "end of fold---------------------------\n",
      "[[0, 0, 0], [0, 0, 0], [0, 0, 0], [0, 0, 0], [0, 0, 0]]\n",
      "Fitting fold number... 3\n",
      "Trying  (200, 1.2, 0)\n",
      "Evaluating model...\n"
     ]
    },
    {
     "data": {
      "application/vnd.jupyter.widget-view+json": {
       "model_id": "5079cbc6889b46a1857331b66a882264",
       "version_major": 2,
       "version_minor": 0
      },
      "text/plain": [
       "HBox(children=(IntProgress(value=0, max=8959), HTML(value='')))"
      ]
     },
     "metadata": {},
     "output_type": "display_data"
    },
    {
     "name": "stdout",
     "output_type": "stream",
     "text": [
      "\n",
      "0 0\n",
      "Trying  (200, 1.2, 0.5)\n",
      "Evaluating model...\n"
     ]
    },
    {
     "data": {
      "application/vnd.jupyter.widget-view+json": {
       "model_id": "a8e8a5dda5a14c8891f71fe1c9796c8b",
       "version_major": 2,
       "version_minor": 0
      },
      "text/plain": [
       "HBox(children=(IntProgress(value=0, max=8959), HTML(value='')))"
      ]
     },
     "metadata": {},
     "output_type": "display_data"
    },
    {
     "name": "stdout",
     "output_type": "stream",
     "text": [
      "\n",
      "0 1\n",
      "Trying  (200, 1.2, 1)\n",
      "Evaluating model...\n"
     ]
    },
    {
     "data": {
      "application/vnd.jupyter.widget-view+json": {
       "model_id": "2ec3ef1a7083419fa5541969dc2b2b18",
       "version_major": 2,
       "version_minor": 0
      },
      "text/plain": [
       "HBox(children=(IntProgress(value=0, max=8959), HTML(value='')))"
      ]
     },
     "metadata": {},
     "output_type": "display_data"
    },
    {
     "name": "stdout",
     "output_type": "stream",
     "text": [
      "\n",
      "0 2\n",
      "Trying  (400, 1.2, 0)\n",
      "Evaluating model...\n"
     ]
    },
    {
     "data": {
      "application/vnd.jupyter.widget-view+json": {
       "model_id": "e5fb37b9a8964d2a8c74d0ac98163dae",
       "version_major": 2,
       "version_minor": 0
      },
      "text/plain": [
       "HBox(children=(IntProgress(value=0, max=8959), HTML(value='')))"
      ]
     },
     "metadata": {},
     "output_type": "display_data"
    },
    {
     "name": "stdout",
     "output_type": "stream",
     "text": [
      "\n",
      "1 0\n",
      "Trying  (400, 1.2, 0.5)\n",
      "Evaluating model...\n"
     ]
    },
    {
     "data": {
      "application/vnd.jupyter.widget-view+json": {
       "model_id": "142bdf80c7814a1b88dfe885941e699b",
       "version_major": 2,
       "version_minor": 0
      },
      "text/plain": [
       "HBox(children=(IntProgress(value=0, max=8959), HTML(value='')))"
      ]
     },
     "metadata": {},
     "output_type": "display_data"
    },
    {
     "name": "stdout",
     "output_type": "stream",
     "text": [
      "\n",
      "1 1\n",
      "Trying  (400, 1.2, 1)\n",
      "Evaluating model...\n"
     ]
    },
    {
     "data": {
      "application/vnd.jupyter.widget-view+json": {
       "model_id": "6384b091d67445219f30bb29935f57ab",
       "version_major": 2,
       "version_minor": 0
      },
      "text/plain": [
       "HBox(children=(IntProgress(value=0, max=8959), HTML(value='')))"
      ]
     },
     "metadata": {},
     "output_type": "display_data"
    },
    {
     "name": "stdout",
     "output_type": "stream",
     "text": [
      "\n",
      "1 2\n",
      "Trying  (600, 1.2, 0)\n",
      "Evaluating model...\n"
     ]
    },
    {
     "data": {
      "application/vnd.jupyter.widget-view+json": {
       "model_id": "18d283a776794015aadd0a6598b5164f",
       "version_major": 2,
       "version_minor": 0
      },
      "text/plain": [
       "HBox(children=(IntProgress(value=0, max=8959), HTML(value='')))"
      ]
     },
     "metadata": {},
     "output_type": "display_data"
    },
    {
     "name": "stdout",
     "output_type": "stream",
     "text": [
      "\n",
      "2 0\n",
      "Trying  (600, 1.2, 0.5)\n",
      "Evaluating model...\n"
     ]
    },
    {
     "data": {
      "application/vnd.jupyter.widget-view+json": {
       "model_id": "09d42566867d4a4bb8b3c1d4ba4bb990",
       "version_major": 2,
       "version_minor": 0
      },
      "text/plain": [
       "HBox(children=(IntProgress(value=0, max=8959), HTML(value='')))"
      ]
     },
     "metadata": {},
     "output_type": "display_data"
    },
    {
     "name": "stdout",
     "output_type": "stream",
     "text": [
      "\n",
      "2 1\n",
      "Trying  (600, 1.2, 1)\n",
      "Evaluating model...\n"
     ]
    },
    {
     "data": {
      "application/vnd.jupyter.widget-view+json": {
       "model_id": "21d32e4600e947939c07a883e7102dc4",
       "version_major": 2,
       "version_minor": 0
      },
      "text/plain": [
       "HBox(children=(IntProgress(value=0, max=8959), HTML(value='')))"
      ]
     },
     "metadata": {},
     "output_type": "display_data"
    },
    {
     "name": "stdout",
     "output_type": "stream",
     "text": [
      "\n",
      "2 2\n",
      "Trying  (800, 1.2, 0)\n",
      "Evaluating model...\n"
     ]
    },
    {
     "data": {
      "application/vnd.jupyter.widget-view+json": {
       "model_id": "53f47db7141a45918765ae9ac719e73d",
       "version_major": 2,
       "version_minor": 0
      },
      "text/plain": [
       "HBox(children=(IntProgress(value=0, max=8959), HTML(value='')))"
      ]
     },
     "metadata": {},
     "output_type": "display_data"
    },
    {
     "name": "stdout",
     "output_type": "stream",
     "text": [
      "\n",
      "3 0\n",
      "Trying  (800, 1.2, 0.5)\n",
      "Evaluating model...\n"
     ]
    },
    {
     "data": {
      "application/vnd.jupyter.widget-view+json": {
       "model_id": "ee36e26ffdbe4a3899038e8838366c2f",
       "version_major": 2,
       "version_minor": 0
      },
      "text/plain": [
       "HBox(children=(IntProgress(value=0, max=8959), HTML(value='')))"
      ]
     },
     "metadata": {},
     "output_type": "display_data"
    },
    {
     "name": "stdout",
     "output_type": "stream",
     "text": [
      "\n",
      "3 1\n",
      "Trying  (800, 1.2, 1)\n",
      "Evaluating model...\n"
     ]
    },
    {
     "data": {
      "application/vnd.jupyter.widget-view+json": {
       "model_id": "7f9f0046009545969e890e5793f761f7",
       "version_major": 2,
       "version_minor": 0
      },
      "text/plain": [
       "HBox(children=(IntProgress(value=0, max=8959), HTML(value='')))"
      ]
     },
     "metadata": {},
     "output_type": "display_data"
    },
    {
     "name": "stdout",
     "output_type": "stream",
     "text": [
      "\n",
      "3 2\n",
      "Trying  (1000, 1.2, 0)\n",
      "Evaluating model...\n"
     ]
    },
    {
     "data": {
      "application/vnd.jupyter.widget-view+json": {
       "model_id": "731d636aa842454caffeba7cb79c11ff",
       "version_major": 2,
       "version_minor": 0
      },
      "text/plain": [
       "HBox(children=(IntProgress(value=0, max=8959), HTML(value='')))"
      ]
     },
     "metadata": {},
     "output_type": "display_data"
    },
    {
     "name": "stdout",
     "output_type": "stream",
     "text": [
      "\n",
      "4 0\n",
      "Trying  (1000, 1.2, 0.5)\n",
      "Evaluating model...\n"
     ]
    },
    {
     "data": {
      "application/vnd.jupyter.widget-view+json": {
       "model_id": "3bc8365e946a4b54af7fc502cc7595c0",
       "version_major": 2,
       "version_minor": 0
      },
      "text/plain": [
       "HBox(children=(IntProgress(value=0, max=8959), HTML(value='')))"
      ]
     },
     "metadata": {},
     "output_type": "display_data"
    },
    {
     "name": "stdout",
     "output_type": "stream",
     "text": [
      "\n",
      "4 1\n",
      "Trying  (1000, 1.2, 1)\n",
      "Evaluating model...\n"
     ]
    },
    {
     "data": {
      "application/vnd.jupyter.widget-view+json": {
       "model_id": "936a78225dc84900a756420b526b3ef2",
       "version_major": 2,
       "version_minor": 0
      },
      "text/plain": [
       "HBox(children=(IntProgress(value=0, max=8959), HTML(value='')))"
      ]
     },
     "metadata": {},
     "output_type": "display_data"
    },
    {
     "name": "stderr",
     "output_type": "stream",
     "text": [
      " 15%|█▌        | 7185/47102 [00:00<00:00, 69961.47it/s]"
     ]
    },
    {
     "name": "stdout",
     "output_type": "stream",
     "text": [
      "\n",
      "4 2\n",
      "end of fold---------------------------\n"
     ]
    },
    {
     "name": "stderr",
     "output_type": "stream",
     "text": [
      "100%|██████████| 47102/47102 [00:00<00:00, 58076.36it/s]\n"
     ]
    },
    {
     "name": "stdout",
     "output_type": "stream",
     "text": [
      "Evaluating model...\n"
     ]
    },
    {
     "data": {
      "application/vnd.jupyter.widget-view+json": {
       "model_id": "0e58452739614fcf8f74b66f3f73f703",
       "version_major": 2,
       "version_minor": 0
      },
      "text/plain": [
       "HBox(children=(IntProgress(value=0, max=8921), HTML(value='')))"
      ]
     },
     "metadata": {},
     "output_type": "display_data"
    },
    {
     "name": "stdout",
     "output_type": "stream",
     "text": [
      "\n",
      "The recall on the test set is  0.0498542764264096 , after hyperparameter optimization\n",
      "The ndcg on the test set is  0.033290858366700406 , after hyperparameter optimization\n"
     ]
    }
   ],
   "source": [
    "model=implicit.nearest_neighbours.BM25Recommender\n",
    "max_ndcg_list, heatmap_list = auto_tune_parameter(4,20,model,plays_sparse,[200,400,600,800,1000],1.2,[0,0.5,1])"
   ]
  },
  {
   "cell_type": "code",
   "execution_count": 30,
   "metadata": {},
   "outputs": [
    {
     "data": {
      "text/plain": [
       "[0.03039990425437948, 400, 0, 0.04866614577519812]"
      ]
     },
     "execution_count": 30,
     "metadata": {},
     "output_type": "execute_result"
    }
   ],
   "source": [
    "max_ndcg_list[1]"
   ]
  },
  {
   "cell_type": "code",
   "execution_count": 31,
   "metadata": {},
   "outputs": [
    {
     "data": {
      "text/plain": [
       "[[0.030248412165424784, 0.020628543351635963, 0.015338590826452843],\n",
       " [0.03039990425437948, 0.021040444216330566, 0.01599971681479519],\n",
       " [0.030257073590380705, 0.02103328664718751, 0.01623323845397321],\n",
       " [0.030176824885165376, 0.021170293828766486, 0.01623664785219119],\n",
       " [0.03021486256129421, 0.02115203783681953, 0.016243085508627544]]"
      ]
     },
     "execution_count": 31,
     "metadata": {},
     "output_type": "execute_result"
    }
   ],
   "source": [
    "heatmap_list[1]"
   ]
  },
  {
   "cell_type": "code",
   "execution_count": 39,
   "metadata": {},
   "outputs": [
    {
     "data": {
      "image/png": "[encoded data removed]",
      "text/plain": [
       "<Figure size 432x288 with 2 Axes>"
      ]
     },
     "metadata": {},
     "output_type": "display_data"
    }
   ],
   "source": [
    "import seaborn as sns\n",
    "from matplotlib import pyplot as plt\n",
    "from pylab import savefig\n",
    "sns.heatmap(heatmap_list[1], yticklabels=['1000', '800', '600', '400', '200'], xticklabels=[0,0.5,1])\n",
    "savefig('knn_heatmap.png')"
   ]
  },
  {
   "cell_type": "code",
   "execution_count": 2,
   "metadata": {
    "scrolled": true
   },
   "outputs": [
    {
     "ename": "NameError",
     "evalue": "name 'heatmap_list' is not defined",
     "output_type": "error",
     "traceback": [
      "\u001b[0;31m---------------------------------------------------------------------------\u001b[0m",
      "\u001b[0;31mNameError\u001b[0m                                 Traceback (most recent call last)",
      "\u001b[0;32m<ipython-input-2-af268ae8651c>\u001b[0m in \u001b[0;36m<module>\u001b[0;34m()\u001b[0m\n\u001b[0;32m----> 1\u001b[0;31m \u001b[0mndcg_by_k\u001b[0m \u001b[0;34m=\u001b[0m \u001b[0;34m[\u001b[0m\u001b[0mheatmap_list\u001b[0m\u001b[0;34m[\u001b[0m\u001b[0;36m2\u001b[0m\u001b[0;34m]\u001b[0m\u001b[0;34m[\u001b[0m\u001b[0;36m0\u001b[0m\u001b[0;34m]\u001b[0m\u001b[0;34m[\u001b[0m\u001b[0;36m0\u001b[0m\u001b[0;34m]\u001b[0m\u001b[0;34m,\u001b[0m \u001b[0mheatmap_list\u001b[0m\u001b[0;34m[\u001b[0m\u001b[0;36m2\u001b[0m\u001b[0;34m]\u001b[0m\u001b[0;34m[\u001b[0m\u001b[0;36m1\u001b[0m\u001b[0;34m]\u001b[0m\u001b[0;34m[\u001b[0m\u001b[0;36m0\u001b[0m\u001b[0;34m]\u001b[0m\u001b[0;34m,\u001b[0m \u001b[0mheatmap_list\u001b[0m\u001b[0;34m[\u001b[0m\u001b[0;36m2\u001b[0m\u001b[0;34m]\u001b[0m\u001b[0;34m[\u001b[0m\u001b[0;36m2\u001b[0m\u001b[0;34m]\u001b[0m\u001b[0;34m[\u001b[0m\u001b[0;36m0\u001b[0m\u001b[0;34m]\u001b[0m\u001b[0;34m,\u001b[0m \u001b[0mheatmap_list\u001b[0m\u001b[0;34m[\u001b[0m\u001b[0;36m2\u001b[0m\u001b[0;34m]\u001b[0m\u001b[0;34m[\u001b[0m\u001b[0;36m3\u001b[0m\u001b[0;34m]\u001b[0m\u001b[0;34m[\u001b[0m\u001b[0;36m0\u001b[0m\u001b[0;34m]\u001b[0m\u001b[0;34m,\u001b[0m \u001b[0mheatmap_list\u001b[0m\u001b[0;34m[\u001b[0m\u001b[0;36m2\u001b[0m\u001b[0;34m]\u001b[0m\u001b[0;34m[\u001b[0m\u001b[0;36m4\u001b[0m\u001b[0;34m]\u001b[0m\u001b[0;34m[\u001b[0m\u001b[0;36m0\u001b[0m\u001b[0;34m]\u001b[0m\u001b[0;34m]\u001b[0m\u001b[0;34m\u001b[0m\u001b[0m\n\u001b[0m\u001b[1;32m      2\u001b[0m plot_df = pd.DataFrame({'K':[200,400,600,800,1000],\n\u001b[1;32m      3\u001b[0m                        'NDCG': ndcg_by_k})\n\u001b[1;32m      4\u001b[0m \u001b[0mg\u001b[0m \u001b[0;34m=\u001b[0m \u001b[0msns\u001b[0m\u001b[0;34m.\u001b[0m\u001b[0mpointplot\u001b[0m\u001b[0;34m(\u001b[0m\u001b[0mx\u001b[0m\u001b[0;34m=\u001b[0m\u001b[0;34m'K'\u001b[0m\u001b[0;34m,\u001b[0m \u001b[0my\u001b[0m\u001b[0;34m=\u001b[0m\u001b[0;34m'NDCG'\u001b[0m\u001b[0;34m,\u001b[0m \u001b[0mdata\u001b[0m\u001b[0;34m=\u001b[0m\u001b[0mplot_df\u001b[0m\u001b[0;34m)\u001b[0m\u001b[0;34m\u001b[0m\u001b[0m\n\u001b[1;32m      5\u001b[0m \u001b[0mplt\u001b[0m\u001b[0;34m.\u001b[0m\u001b[0mshow\u001b[0m\u001b[0;34m(\u001b[0m\u001b[0;34m)\u001b[0m\u001b[0;34m\u001b[0m\u001b[0m\n",
      "\u001b[0;31mNameError\u001b[0m: name 'heatmap_list' is not defined"
     ]
    }
   ],
   "source": [
    "ndcg_by_k = [heatmap_list[2][0][0], heatmap_list[2][1][0], heatmap_list[2][2][0], heatmap_list[2][3][0], heatmap_list[2][4][0]]\n",
    "plot_df = pd.DataFrame({'K':[200,400,600,800,1000],\n",
    "                       'NDCG': ndcg_by_k})\n",
    "g = sns.pointplot(x='K', y='NDCG', data=plot_df)\n",
    "plt.show()"
   ]
  },
  {
   "cell_type": "code",
   "execution_count": 12,
   "metadata": {},
   "outputs": [],
   "source": [
    "def get_users(df, n):\n",
    "    sample_userid = df[\"user_id\"].unique()\n",
    "    sample_userid = np.random.choice(sample_userid, size = n, replace = False)\n",
    "\n",
    "    #grab rows with sample user id\n",
    "    df_sample = df[df.user_id.isin(sample_userid)].reset_index(drop = True)\n",
    "\n",
    "    return df_sample"
   ]
  },
  {
   "cell_type": "code",
   "execution_count": 15,
   "metadata": {},
   "outputs": [],
   "source": [
    "files9k = pd.read_csv('lastfm_9000_users.csv', na_filter=False)\n",
    "files20k = pd.read_csv('lastfm_20k_users.csv', na_filter=False)\n",
    "files60k = pd.read_csv('lastfm_60k_users.csv', na_filter=False)\n",
    "\n",
    "files150k = pd.read_csv('lastfm_150k_users.csv', na_filter=False)\n",
    "files40k = get_users(files150k, 40000)\n",
    "files = [files9k, files20k, files40k, files60k]"
   ]
  },
  {
   "cell_type": "code",
   "execution_count": 30,
   "metadata": {},
   "outputs": [
    {
     "name": "stdout",
     "output_type": "stream",
     "text": [
      "Creating sparse matrix...\n"
     ]
    },
    {
     "name": "stderr",
     "output_type": "stream",
     "text": [
      "/home/tim_kartawijaya/anaconda3/lib/python3.6/site-packages/ipykernel_launcher.py:23: FutureWarning: specifying 'categories' or 'ordered' in .astype() is deprecated; pass a CategoricalDtype instead\n",
      "/home/tim_kartawijaya/anaconda3/lib/python3.6/site-packages/ipykernel_launcher.py:24: FutureWarning: specifying 'categories' or 'ordered' in .astype() is deprecated; pass a CategoricalDtype instead\n"
     ]
    },
    {
     "name": "stdout",
     "output_type": "stream",
     "text": [
      "Matrix Sparsity: 99.8965986346416\n"
     ]
    },
    {
     "data": {
      "application/vnd.jupyter.widget-view+json": {
       "model_id": "7d4fd0ea5a454b46a5533cea4b5d4bbb",
       "version_major": 2,
       "version_minor": 0
      },
      "text/plain": [
       "HBox(children=(IntProgress(value=0, max=9000), HTML(value='')))"
      ]
     },
     "metadata": {},
     "output_type": "display_data"
    },
    {
     "name": "stderr",
     "output_type": "stream",
     "text": [
      "  7%|▋         | 3304/47102 [00:00<00:01, 31839.68it/s]"
     ]
    },
    {
     "name": "stdout",
     "output_type": "stream",
     "text": [
      "\n",
      "Fitting model...\n"
     ]
    },
    {
     "name": "stderr",
     "output_type": "stream",
     "text": [
      "100%|██████████| 47102/47102 [00:01<00:00, 26845.77it/s]\n"
     ]
    },
    {
     "name": "stdout",
     "output_type": "stream",
     "text": [
      "Evaluating model...\n"
     ]
    },
    {
     "data": {
      "application/vnd.jupyter.widget-view+json": {
       "model_id": "f749d7bd14c7444d87d1487e2acffa03",
       "version_major": 2,
       "version_minor": 0
      },
      "text/plain": [
       "HBox(children=(IntProgress(value=0, max=8921), HTML(value='')))"
      ]
     },
     "metadata": {},
     "output_type": "display_data"
    },
    {
     "name": "stdout",
     "output_type": "stream",
     "text": [
      "\n",
      "Recall: 5.059970855285282 %\n",
      "Average NDCG: 3.5353047929842347 %\n",
      "Creating sparse matrix...\n",
      "Matrix Sparsity: 99.92562878672553\n"
     ]
    },
    {
     "data": {
      "application/vnd.jupyter.widget-view+json": {
       "model_id": "900732d9276f43a3bcc50d32192ca1af",
       "version_major": 2,
       "version_minor": 0
      },
      "text/plain": [
       "HBox(children=(IntProgress(value=0, max=20000), HTML(value='')))"
      ]
     },
     "metadata": {},
     "output_type": "display_data"
    },
    {
     "name": "stderr",
     "output_type": "stream",
     "text": [
      "  5%|▌         | 3601/65690 [00:00<00:01, 35158.75it/s]"
     ]
    },
    {
     "name": "stdout",
     "output_type": "stream",
     "text": [
      "\n",
      "Fitting model...\n"
     ]
    },
    {
     "name": "stderr",
     "output_type": "stream",
     "text": [
      "100%|██████████| 65690/65690 [00:02<00:00, 31395.45it/s]\n"
     ]
    },
    {
     "name": "stdout",
     "output_type": "stream",
     "text": [
      "Evaluating model...\n"
     ]
    },
    {
     "data": {
      "application/vnd.jupyter.widget-view+json": {
       "model_id": "86be447c75f9428ebac80ac7cc5e881c",
       "version_major": 2,
       "version_minor": 0
      },
      "text/plain": [
       "HBox(children=(IntProgress(value=0, max=19843), HTML(value='')))"
      ]
     },
     "metadata": {},
     "output_type": "display_data"
    },
    {
     "name": "stdout",
     "output_type": "stream",
     "text": [
      "\n",
      "Recall: 4.764400544272539 %\n",
      "Average NDCG: 3.4432338981312296 %\n",
      "Creating sparse matrix...\n",
      "Matrix Sparsity: 99.94292575297689\n"
     ]
    },
    {
     "data": {
      "application/vnd.jupyter.widget-view+json": {
       "model_id": "9102c372c9a24f32bca3f54cf4f5d519",
       "version_major": 2,
       "version_minor": 0
      },
      "text/plain": [
       "HBox(children=(IntProgress(value=0, max=40000), HTML(value='')))"
      ]
     },
     "metadata": {},
     "output_type": "display_data"
    },
    {
     "name": "stdout",
     "output_type": "stream",
     "text": [
      "\n",
      "Fitting model...\n"
     ]
    },
    {
     "name": "stderr",
     "output_type": "stream",
     "text": [
      "100%|██████████| 85660/85660 [00:02<00:00, 32221.70it/s]\n"
     ]
    },
    {
     "name": "stdout",
     "output_type": "stream",
     "text": [
      "Evaluating model...\n"
     ]
    },
    {
     "data": {
      "application/vnd.jupyter.widget-view+json": {
       "model_id": "8140c0b1cf224a1a8a3b7f91573da908",
       "version_major": 2,
       "version_minor": 0
      },
      "text/plain": [
       "HBox(children=(IntProgress(value=0, max=39665), HTML(value='')))"
      ]
     },
     "metadata": {},
     "output_type": "display_data"
    },
    {
     "name": "stdout",
     "output_type": "stream",
     "text": [
      "\n",
      "Recall: 4.410941636203202 %\n",
      "Average NDCG: 3.1275194734428404 %\n",
      "Creating sparse matrix...\n",
      "Matrix Sparsity: 99.95028412538602\n"
     ]
    },
    {
     "data": {
      "application/vnd.jupyter.widget-view+json": {
       "model_id": "01f2e1a0ad814cfa9887351b10f79a21",
       "version_major": 2,
       "version_minor": 0
      },
      "text/plain": [
       "HBox(children=(IntProgress(value=0, max=60000), HTML(value='')))"
      ]
     },
     "metadata": {},
     "output_type": "display_data"
    },
    {
     "name": "stdout",
     "output_type": "stream",
     "text": [
      "\n",
      "Fitting model...\n"
     ]
    },
    {
     "name": "stderr",
     "output_type": "stream",
     "text": [
      "100%|██████████| 98331/98331 [00:03<00:00, 32301.05it/s]\n"
     ]
    },
    {
     "name": "stdout",
     "output_type": "stream",
     "text": [
      "Evaluating model...\n"
     ]
    },
    {
     "data": {
      "application/vnd.jupyter.widget-view+json": {
       "model_id": "85ca0a3a70e24a769d0b157f6496fafa",
       "version_major": 2,
       "version_minor": 0
      },
      "text/plain": [
       "HBox(children=(IntProgress(value=0, max=59523), HTML(value='')))"
      ]
     },
     "metadata": {},
     "output_type": "display_data"
    },
    {
     "name": "stdout",
     "output_type": "stream",
     "text": [
      "\n",
      "Recall: 3.9567898123414476 %\n",
      "Average NDCG: 2.8576244525035714 %\n"
     ]
    }
   ],
   "source": [
    "size = [9000, 20000, 40000, 60000]\n",
    "ndcg_size = []\n",
    "recall_size = []\n",
    "for i in files:\n",
    "    model = implicit.nearest_neighbours.BM25Recommender(K=400, K1=1.2, B=0)\n",
    "\n",
    "    #create sparse matrix\n",
    "    plays_sparse = create_sparse_matrix(i).astype('float')\n",
    "\n",
    "    #filter out users with < 15 artists/reduce sparsity if needed\n",
    "    print('Matrix Sparsity:', calculate_sparsity(plays_sparse))\n",
    "\n",
    "    train, test, user_count = split_train_test_per_user(plays_sparse, 4, 20)\n",
    "\n",
    "    # train model \n",
    "    print(\"Fitting model...\")\n",
    "    model.fit(train, show_progress=True)\n",
    "\n",
    "    recall, ndcg = evaluate(model, test, plays_sparse)\n",
    "    print(\"Recall:\",recall*100,'%')\n",
    "    print(\"Average NDCG:\",ndcg*100,'%')\n",
    "    recall_size.append(recall)\n",
    "    ndcg_size.append(ndcg)"
   ]
  },
  {
   "cell_type": "code",
   "execution_count": 21,
   "metadata": {},
   "outputs": [
    {
     "data": {
      "text/plain": [
       "[0.11784209578327372,\n",
       " 0.12118716512830068,\n",
       " 0.1256849259129651,\n",
       " 0.1266403976533793]"
      ]
     },
     "execution_count": 21,
     "metadata": {},
     "output_type": "execute_result"
    }
   ],
   "source": [
    "ndcg_size"
   ]
  },
  {
   "cell_type": "code",
   "execution_count": 31,
   "metadata": {},
   "outputs": [
    {
     "data": {
      "image/png": "[encoded data removed]",
      "text/plain": [
       "<Figure size 432x288 with 1 Axes>"
      ]
     },
     "metadata": {},
     "output_type": "display_data"
    },
    {
     "data": {
      "text/plain": [
       "<Figure size 432x288 with 0 Axes>"
      ]
     },
     "metadata": {},
     "output_type": "display_data"
    }
   ],
   "source": [
    "import seaborn as sns\n",
    "from matplotlib import pyplot as plt\n",
    "from pylab import savefig\n",
    "ndcg_size_df = pd.DataFrame({'N':size,\n",
    "                       'NDCG': ndcg_size})\n",
    "g = sns.pointplot(x='N', y='NDCG', data=ndcg_size_df)\n",
    "plt.show()\n",
    "savefig('ndcg_size_knn.png')"
   ]
  },
  {
   "cell_type": "code",
   "execution_count": 28,
   "metadata": {},
   "outputs": [
    {
     "data": {
      "image/png": "[encoded data removed]",
      "text/plain": [
       "<Figure size 432x288 with 1 Axes>"
      ]
     },
     "metadata": {},
     "output_type": "display_data"
    }
   ],
   "source": [
    "recall_size_df = pd.DataFrame({'N':size,\n",
    "                       'Recall': recall_size})\n",
    "g = sns.pointplot(x='N', y='Recall', data=recall_size_df)\n",
    "plt.show()"
   ]
  },
  {
   "cell_type": "markdown",
   "metadata": {},
   "source": [
    "## Evaluate KNN "
   ]
  },
  {
   "cell_type": "code",
   "execution_count": 312,
   "metadata": {
    "scrolled": true
   },
   "outputs": [
    {
     "name": "stdout",
     "output_type": "stream",
     "text": [
      "Fitting model...\n",
      "Evaluating model...\n"
     ]
    },
    {
     "data": {
      "application/vnd.jupyter.widget-view+json": {
       "model_id": "4aae6d5986714e8483bbe5dceb308fd6"
      }
     },
     "metadata": {},
     "output_type": "display_data"
    },
    {
     "name": "stdout",
     "output_type": "stream",
     "text": [
      "2.5053245151888803 %\n",
      "1.4131626467165959 %\n",
      "---------------------------\n",
      "Fitting model...\n",
      "Evaluating model...\n"
     ]
    },
    {
     "data": {
      "application/vnd.jupyter.widget-view+json": {
       "model_id": "7a03d7dc03d64565b09318d94f8139fc"
      }
     },
     "metadata": {},
     "output_type": "display_data"
    },
    {
     "name": "stdout",
     "output_type": "stream",
     "text": [
      "2.3315771774464746 %\n",
      "1.2699540001385683 %\n",
      "---------------------------\n",
      "Fitting model...\n",
      "Evaluating model...\n"
     ]
    },
    {
     "data": {
      "application/vnd.jupyter.widget-view+json": {
       "model_id": "bb2d79a58ab24c5c806f8428f2436c7d"
      }
     },
     "metadata": {},
     "output_type": "display_data"
    },
    {
     "name": "stdout",
     "output_type": "stream",
     "text": [
      "2.3596009415984756 %\n",
      "1.247202248727995 %\n",
      "---------------------------\n",
      "Fitting model...\n",
      "Evaluating model...\n"
     ]
    },
    {
     "data": {
      "application/vnd.jupyter.widget-view+json": {
       "model_id": "90aaafeaba194f5188fec9b9d2c58cef"
      }
     },
     "metadata": {},
     "output_type": "display_data"
    },
    {
     "name": "stdout",
     "output_type": "stream",
     "text": [
      "2.4296603519784776 %\n",
      "1.3183555520732735 %\n",
      "---------------------------\n",
      "The mean recall is  0.02406540746553077\n",
      "The mean ndcg is  0.013121686119141081\n"
     ]
    }
   ],
   "source": [
    "#Evaluate KNN from Cross Validation \n",
    "\n",
    "# train model\n",
    "recall_list=[]\n",
    "ndcg_list=[]\n",
    "for i in range(k):\n",
    "    print(\"Fitting model...\")\n",
    "    train=train_list[i]\n",
    "    test=test_list[i]\n",
    "    model = implicit.nearest_neighbours.BM25Recommender()    \n",
    "    model.fit(train, show_progress=False)\n",
    "    recall,ndcg = evaluate(model,test,plays_sparse)\n",
    "    print(recall*100,'%')\n",
    "    print(ndcg*100,'%')\n",
    "    recall_list.append(recall)\n",
    "    ndcg_list.append(ndcg)\n",
    "    print(\"---------------------------\")\n",
    "print(\"The mean recall is \", np.mean(recall_list))\n",
    "print(\"The mean ndcg is \", np.mean(ndcg_list))"
   ]
  },
  {
   "cell_type": "markdown",
   "metadata": {},
   "source": [
    "# Evaluate Baseline"
   ]
  },
  {
   "cell_type": "code",
   "execution_count": 214,
   "metadata": {
    "scrolled": true
   },
   "outputs": [
    {
     "name": "stdout",
     "output_type": "stream",
     "text": [
      "Fitting model...\n",
      "Evaluating model...\n"
     ]
    },
    {
     "data": {
      "application/vnd.jupyter.widget-view+json": {
       "model_id": "f8a2b2c26c6146d1b594b99f51198558"
      }
     },
     "metadata": {},
     "output_type": "display_data"
    },
    {
     "name": "stdout",
     "output_type": "stream",
     "text": [
      "6.9414863804506215 %\n",
      "---------------------------\n",
      "Fitting model...\n",
      "Evaluating model...\n"
     ]
    },
    {
     "data": {
      "application/vnd.jupyter.widget-view+json": {
       "model_id": "dda344d62a7e44578953daf970014f90"
      }
     },
     "metadata": {},
     "output_type": "display_data"
    },
    {
     "name": "stdout",
     "output_type": "stream",
     "text": [
      "6.823786571012218 %\n",
      "---------------------------\n",
      "Fitting model...\n",
      "Evaluating model...\n"
     ]
    },
    {
     "data": {
      "application/vnd.jupyter.widget-view+json": {
       "model_id": "402e3c8575d24021bc80d1a837fa564b"
      }
     },
     "metadata": {},
     "output_type": "display_data"
    },
    {
     "name": "stdout",
     "output_type": "stream",
     "text": [
      "6.823786571012218 %\n",
      "---------------------------\n",
      "Fitting model...\n",
      "Evaluating model...\n"
     ]
    },
    {
     "data": {
      "application/vnd.jupyter.widget-view+json": {
       "model_id": "6ef4beeebe65481db1a9fea1ea78e158"
      }
     },
     "metadata": {},
     "output_type": "display_data"
    },
    {
     "name": "stdout",
     "output_type": "stream",
     "text": [
      "6.700482008743415 %\n",
      "---------------------------\n",
      "Fitting model...\n",
      "Evaluating model...\n"
     ]
    },
    {
     "data": {
      "application/vnd.jupyter.widget-view+json": {
       "model_id": "9c2fb9b4abb54643b9c1d73368d35130"
      }
     },
     "metadata": {},
     "output_type": "display_data"
    },
    {
     "name": "stdout",
     "output_type": "stream",
     "text": [
      "6.739715278556216 %\n",
      "---------------------------\n",
      "The mean recall is  0.06805851361954937\n",
      "The mean ndcg is  0.04428376367102882\n"
     ]
    }
   ],
   "source": [
    "#Evaluate Model-based from Baseline\n",
    "\n",
    "# train model\n",
    "recall_list=[]\n",
    "ndcg_list=[]\n",
    "rec_items=baseline(20,user_items)\n",
    "for i in range(k):\n",
    "    print(\"Fitting model...\")\n",
    "    train=train_list[i]\n",
    "    test=test_list[i]\n",
    "    user_items = plays_sparse.T.tocsr()\n",
    "    recall,ndcg = evaluate_base(rec_items,test,plays_sparse)\n",
    "    print(recall*100,'%')\n",
    "    recall_list.append(recall)\n",
    "    ndcg_list.append(ndcg)\n",
    "    print(\"---------------------------\")\n",
    "print(\"The mean recall is \", np.mean(recall_list))\n",
    "print(\"The mean ndcg is \", np.mean(ndcg_list))"
   ]
  },
  {
   "cell_type": "code",
   "execution_count": 32,
   "metadata": {},
   "outputs": [
    {
     "name": "stderr",
     "output_type": "stream",
     "text": [
      "100%|██████████| 15.0/15 [00:15<00:00,  1.04it/s]\n"
     ]
    },
    {
     "ename": "NameError",
     "evalue": "name 'artists' is not defined",
     "output_type": "error",
     "traceback": [
      "\u001b[0;31m---------------------------------------------------------------------------\u001b[0m",
      "\u001b[0;31mNameError\u001b[0m                                 Traceback (most recent call last)",
      "\u001b[0;32m<ipython-input-32-4c960fbebbf3>\u001b[0m in \u001b[0;36m<module>\u001b[0;34m()\u001b[0m\n\u001b[1;32m      7\u001b[0m         \u001b[0;32mif\u001b[0m \u001b[0mx\u001b[0m \u001b[0;32mnot\u001b[0m \u001b[0;32min\u001b[0m \u001b[0mcatalog\u001b[0m\u001b[0;34m:\u001b[0m\u001b[0;34m\u001b[0m\u001b[0m\n\u001b[1;32m      8\u001b[0m             \u001b[0mcatalog\u001b[0m\u001b[0;34m.\u001b[0m\u001b[0mappend\u001b[0m\u001b[0;34m(\u001b[0m\u001b[0mx\u001b[0m\u001b[0;34m)\u001b[0m\u001b[0;34m\u001b[0m\u001b[0m\n\u001b[0;32m----> 9\u001b[0;31m \u001b[0mprint\u001b[0m\u001b[0;34m(\u001b[0m\u001b[0;34m'Catalog Coverage is'\u001b[0m\u001b[0;34m,\u001b[0m \u001b[0mlen\u001b[0m\u001b[0;34m(\u001b[0m\u001b[0mcatalog\u001b[0m\u001b[0;34m)\u001b[0m\u001b[0;34m/\u001b[0m\u001b[0mlen\u001b[0m\u001b[0;34m(\u001b[0m\u001b[0martists\u001b[0m\u001b[0;34m)\u001b[0m\u001b[0;34m)\u001b[0m\u001b[0;34m\u001b[0m\u001b[0m\n\u001b[0m",
      "\u001b[0;31mNameError\u001b[0m: name 'artists' is not defined"
     ]
    }
   ],
   "source": [
    "model = implicit.als.AlternatingLeastSquares(factors=30, regularization=0.01)\n",
    "model.fit(plays_sparse)\n",
    "users = list(df.user_id.unique())\n",
    "catalog = []\n",
    "for i in range(0,len(users)):\n",
    "    for x,y in model.recommend(i,plays_sparse.T.tocsr(), N=20, filter_already_liked_items=True):\n",
    "        if x not in catalog:\n",
    "            catalog.append(x)\n",
    "print('Catalog Coverage is', len(catalog)/len(artists))"
   ]
  },
  {
   "cell_type": "code",
   "execution_count": null,
   "metadata": {},
   "outputs": [],
   "source": [
    "model = implicit.nearest_neighbours.BM25Recommender(K=400, K1=1.2, B=0)\n",
    "model.fit(plays_sparse)\n",
    "users = list(df.user_id.unique())\n",
    "catalog = []\n",
    "for i in range(0,len(users)):\n",
    "    for x,y in model.recommend(i,plays_sparse.T.tocsr(), N=20, filter_already_liked_items=True):\n",
    "        if x not in catalog:\n",
    "            catalog.append(x)\n",
    "print('Catalog Coverage is', len(catalog)/len(artists))"
   ]
  },
  {
   "cell_type": "code",
   "execution_count": null,
   "metadata": {
    "collapsed": true
   },
   "outputs": [],
   "source": [
    "#AUC https://developers.google.com/machine-learning/crash-course/classification/roc-and-auc\n",
    "#Primary metric: ROC-based\n",
    "#calculate Precision, Recall, TPr, FPr, AUC by comparing resulting matrix to test_data\n",
    "#Secondary metric: DCG\n",
    "\n",
    "#cross_validate(data, k)\n",
    "#get k-fold indices on train (mask again)\n",
    "#for each different k-fold, loop through the indices, masked as train, test as not\n",
    "#train model\n",
    "#calculate Precision, Recall, AUC, append result to list\n",
    "#return list of scores for each fold\n",
    "\n",
    "#calculate ATOP? DCG? "
   ]
  }
 ],
 "metadata": {
  "kernelspec": {
   "display_name": "Python 3",
   "language": "python",
   "name": "python3"
  },
  "language_info": {
   "codemirror_mode": {
    "name": "ipython",
    "version": 3
   },
   "file_extension": ".py",
   "mimetype": "text/x-python",
   "name": "python",
   "nbconvert_exporter": "python",
   "pygments_lexer": "ipython3",
   "version": "3.6.5"
  }
 },
 "nbformat": 4,
 "nbformat_minor": 2
}
