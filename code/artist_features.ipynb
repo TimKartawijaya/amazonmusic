{
 "cells": [
  {
   "cell_type": "code",
   "execution_count": 1,
   "metadata": {},
   "outputs": [],
   "source": [
    "import pandas as pd\n",
    "import numpy as np\n",
    "import pylast"
   ]
  },
  {
   "cell_type": "code",
   "execution_count": 2,
   "metadata": {},
   "outputs": [],
   "source": [
    "df = pd.read_csv('lastfm_9000_users.csv', na_filter=False)\n",
    "df = df.drop(['Unnamed: 0'], axis=1)\n",
    "\n",
    "#grab unique users/artist IDS\n",
    "users = list(np.sort(df.user_id.unique()))\n",
    "artists = list(df.artist_mbid.unique())\n",
    "plays = list(df.plays)"
   ]
  },
  {
   "cell_type": "code",
   "execution_count": 3,
   "metadata": {},
   "outputs": [],
   "source": [
    "API_KEY = \"27fe9fdbf9665fbdfcd9e77ecd42acae\"\n",
    "API_SECRET = \"1e4fe9ffa7a828f67d89dfee19977a48\"\n",
    "\n",
    "username = \"ftroeman\"\n",
    "password_hash = pylast.md5(\"Personalization!!!123\")"
   ]
  },
  {
   "cell_type": "code",
   "execution_count": 4,
   "metadata": {},
   "outputs": [],
   "source": [
    "network = pylast.LastFMNetwork(api_key = API_KEY, api_secret = API_SECRET, \n",
    "                               username = username, password_hash = password_hash)"
   ]
  },
  {
   "cell_type": "code",
   "execution_count": 5,
   "metadata": {},
   "outputs": [],
   "source": [
    "artist = network.get_artist_by_mbid(artists[0])  "
   ]
  },
  {
   "cell_type": "code",
   "execution_count": 12,
   "metadata": {},
   "outputs": [],
   "source": [
    "tag1 = {id:0 for id in artists}\n",
    "tag2 = {id:0 for id in artists}\n",
    "tag3 = {id:0 for id in artists}\n",
    "tag4 = {id:0 for id in artists}\n",
    "tag5 = {id:0 for id in artists}\n",
    "tags_dict = {id:[] for id in artists}"
   ]
  },
  {
   "cell_type": "code",
   "execution_count": 13,
   "metadata": {},
   "outputs": [],
   "source": [
    "for index in artists:\n",
    "    try:\n",
    "        artist = network.get_artist_by_mbid(index)    \n",
    "        toptags = artist.get_top_tags(limit=5)\n",
    "        for i in toptags:\n",
    "            tags_dict[index].append(i[0].get_name())\n",
    "    except:\n",
    "        tags_dict[index].append('')"
   ]
  },
  {
   "cell_type": "code",
   "execution_count": 14,
   "metadata": {},
   "outputs": [],
   "source": [
    "for key, item in tags_dict.items():\n",
    "    while len(item) < 5:\n",
    "        item.append('')"
   ]
  },
  {
   "cell_type": "code",
   "execution_count": 15,
   "metadata": {},
   "outputs": [],
   "source": [
    "artist_features=pd.DataFrame.from_dict(tags_dict, orient='index')"
   ]
  },
  {
   "cell_type": "code",
   "execution_count": 16,
   "metadata": {},
   "outputs": [],
   "source": [
    "artist_features = artist_features.stack().str.get_dummies().sum(level=0)"
   ]
  },
  {
   "cell_type": "code",
   "execution_count": 17,
   "metadata": {},
   "outputs": [],
   "source": [
    "artist_features.to_csv('artist_features_9000.csv')"
   ]
  }
 ],
 "metadata": {
  "kernelspec": {
   "display_name": "Python 3",
   "language": "python",
   "name": "python3"
  },
  "language_info": {
   "codemirror_mode": {
    "name": "ipython",
    "version": 3
   },
   "file_extension": ".py",
   "mimetype": "text/x-python",
   "name": "python",
   "nbconvert_exporter": "python",
   "pygments_lexer": "ipython3",
   "version": "3.7.1"
  }
 },
 "nbformat": 4,
 "nbformat_minor": 2
}
