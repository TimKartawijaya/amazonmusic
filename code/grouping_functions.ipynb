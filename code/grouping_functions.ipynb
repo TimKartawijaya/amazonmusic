{
 "cells": [
  {
   "cell_type": "code",
   "execution_count": 1,
   "metadata": {},
   "outputs": [],
   "source": [
    "run analysis_functions.ipynb #import all helper functions"
   ]
  },
  {
   "cell_type": "code",
   "execution_count": 70,
   "metadata": {},
   "outputs": [],
   "source": [
    "def active_users(data, threshold = 0.5):\n",
    "    \"\"\"\n",
    "    Identifies and returns CSR matrices representing the most/least active users,\n",
    "    determined by the number of plays they have logged\n",
    "    \n",
    "    Parameters:\n",
    "    - data: csr_matrix (no_users, no_items) with users as rows and items as columns\n",
    "    - threshold: a percentage threshold for 'activeness', e.g. threshold=0.1 identifies \n",
    "    top 10% (and bottom 90%) of the most active users\n",
    "    \n",
    "    Output:\n",
    "    - most_active: csr_matrix of the most active users as specified by threshold\n",
    "    - least_active: csr_matrix of the least active users as specified by threshold\n",
    "    \"\"\"\n",
    "    plays_sum = np.asarray(data.sum(axis=1))\n",
    "    min_plays = np.percentile(plays_sum, (1-threshold) * 100)\n",
    "    \n",
    "    most_active = []\n",
    "    least_active = []\n",
    "    for user in range(0,data.shape[0]):\n",
    "        if plays_sum[user] < min_plays:\n",
    "            least_active.append(data.getrow(user).toarray()[0])\n",
    "        else:\n",
    "            most_active.append(data.getrow(user).toarray()[0])\n",
    "            \n",
    "    return scipy.sparse.csr_matrix(most_active), scipy.sparse.csr_matrix(least_active)"
   ]
  },
  {
   "cell_type": "code",
   "execution_count": 71,
   "metadata": {},
   "outputs": [],
   "source": [
    "def diverse_users(data, threshold = 0.5):\n",
    "    \"\"\"\n",
    "    Identifies and returns CSR matrices representing the most/least diverse users,\n",
    "    determined by the diversity of artists listened to.\n",
    "    \n",
    "    Diversity of each user is calculated by the spread of listens across all artists played.\n",
    "    \n",
    "    Parameters:\n",
    "    - data: csr_matrix (no_users, no_items) with users as rows and items as columns\n",
    "    - threshold: a percentage threshold for diversity, e.g. threshold=0.1 identifies \n",
    "    top 10% (and bottom 90%) of users with the most diverse music taste\n",
    "    \n",
    "    Output:\n",
    "    - most_diverse: csr_matrix of the most 'diverse' users as specified by threshold\n",
    "    - least_diverse: csr_matrix of the least 'diverse' users as specified by threshold\n",
    "    \"\"\"\n",
    "    plays_norm = []\n",
    "    for user in range(0,plays_sparse.shape[0]):\n",
    "        row = plays_sparse.getrow(user).toarray()[0]\n",
    "        plays_norm.append(sum(np.interp(row, (row.min(), row.max()), (0, 1))))\n",
    "    min_score = np.percentile(plays_norm, (1-threshold) * 100)\n",
    "    \n",
    "    most_diverse = []\n",
    "    least_diverse = []\n",
    "    for user in range(0,plays_sparse.shape[0]):\n",
    "        if plays_norm[user] < min_score:\n",
    "            least_diverse.append(plays_sparse.getrow(user).toarray()[0])\n",
    "        else:\n",
    "            most_diverse.append(plays_sparse.getrow(user).toarray()[0])\n",
    "    \n",
    "    return scipy.sparse.csr_matrix(most_diverse), scipy.sparse.csr_matrix(least_diverse)"
   ]
  },
  {
   "cell_type": "code",
   "execution_count": null,
   "metadata": {},
   "outputs": [],
   "source": [
    "def mainstream_users(data, n = 20, threshold = 0.5):\n",
    "    \"\"\"\n",
    "    Identifies and returns CSR matrices representing the most/least mainstream users,\n",
    "    determined by the popularity of the artists they listened to.\n",
    "    \n",
    "    Popularity of each artist is calculated by the total plays across all users. Indicator for how\n",
    "    mainstream a user is is computed by the number of top n artists they listen to.\n",
    "    \n",
    "    Parameters:\n",
    "    - data: csr_matrix (no_users, no_items) with users as rows and items as columns\n",
    "    - threshold: a percentage threshold for diversity, e.g. threshold=0.1 identifies \n",
    "    top 10% (and bottom 90%) of users with the most diverse music taste\n",
    "    \n",
    "    Output:\n",
    "    - most_active: csr_matrix of the most 'diverse' users as specified by threshold\n",
    "    - least_active: csr_matrix of the least 'diverse' users as specified by threshold\n",
    "    \"\"\""
   ]
  }
 ],
 "metadata": {
  "kernelspec": {
   "display_name": "Python 3",
   "language": "python",
   "name": "python3"
  },
  "language_info": {
   "codemirror_mode": {
    "name": "ipython",
    "version": 3
   },
   "file_extension": ".py",
   "mimetype": "text/x-python",
   "name": "python",
   "nbconvert_exporter": "python",
   "pygments_lexer": "ipython3",
   "version": "3.7.1"
  }
 },
 "nbformat": 4,
 "nbformat_minor": 2
}
