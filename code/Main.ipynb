{
 "cells": [
  {
   "cell_type": "markdown",
   "metadata": {},
   "source": [
    "First we load the functions and libraries necessary for this report."
   ]
  },
  {
   "cell_type": "code",
   "execution_count": 18,
   "metadata": {},
   "outputs": [],
   "source": [
    "from __future__ import print_function\n",
    "from lightfm import LightFM\n",
    "\n",
    "import seaborn as sns\n",
    "import matplotlib.pyplot as plt"
   ]
  },
  {
   "cell_type": "code",
   "execution_count": 19,
   "metadata": {},
   "outputs": [],
   "source": [
    "run analysis_functions.ipynb #import all helper functions"
   ]
  },
  {
   "cell_type": "markdown",
   "metadata": {},
   "source": [
    "For initial analysis, we will explore and model data from only 9000 users. In future sections we will extend this model to more users. "
   ]
  },
  {
   "cell_type": "code",
   "execution_count": 20,
   "metadata": {},
   "outputs": [],
   "source": [
    "# Import main dataset\n",
    "df = pd.read_csv('lastfm_9000_users.csv', na_filter=False)\n",
    "df = df.drop(['Unnamed: 0'], axis=1)"
   ]
  },
  {
   "cell_type": "markdown",
   "metadata": {},
   "source": [
    "The structure of the analysis will be as such: \n",
    "0. Data Exploration\n",
    "1. Objective\n",
    "2. Prepare data\n",
    "3. Model Fitting, Tuning, and Evaluation\n",
    "    - Benchmarks\n",
    "        - Most Popular\n",
    "        - ALS Matrix Factorization (Implicit)\n",
    "        - Bayesian Personalized Ranking (Implicit)\n",
    "    - LightFM\n",
    "        - FM without Side Info (Vanilla)\n",
    "        - FM with User/Item Side Information\n",
    "        - Parameter Tuning\n",
    "    - Summary of Results between Models (Table)\n",
    "4. Model Exploration\n",
    "    - Metrics Used (Recall, Precision, Coverage)\n",
    "    - Metrics by User Segments \n",
    "        - Active/Non-Active\n",
    "        - Diverse/Non-Diverse \n",
    "        - Mainstream/Non-Mainstream \n",
    "    - Scale\n",
    "        - Metrics by Size\n",
    "        - Training Time / Predict Time by Size\n",
    "    - Qualitative Results (Serendipity/Novelty)\n",
    "6. Conclusion / Next Steps"
   ]
  },
  {
   "cell_type": "markdown",
   "metadata": {},
   "source": [
    "# 0. Data Exploration"
   ]
  },
  {
   "cell_type": "markdown",
   "metadata": {},
   "source": [
    "Before we dive into modeling, let's take a look at what data currently looks like. "
   ]
  },
  {
   "cell_type": "code",
   "execution_count": 21,
   "metadata": {},
   "outputs": [
    {
     "data": {
      "text/html": [
       "<div>\n",
       "<style scoped>\n",
       "    .dataframe tbody tr th:only-of-type {\n",
       "        vertical-align: middle;\n",
       "    }\n",
       "\n",
       "    .dataframe tbody tr th {\n",
       "        vertical-align: top;\n",
       "    }\n",
       "\n",
       "    .dataframe thead th {\n",
       "        text-align: right;\n",
       "    }\n",
       "</style>\n",
       "<table border=\"1\" class=\"dataframe\">\n",
       "  <thead>\n",
       "    <tr style=\"text-align: right;\">\n",
       "      <th></th>\n",
       "      <th>user_id</th>\n",
       "      <th>artist_mbid</th>\n",
       "      <th>artist_name</th>\n",
       "      <th>plays</th>\n",
       "    </tr>\n",
       "  </thead>\n",
       "  <tbody>\n",
       "    <tr>\n",
       "      <th>0</th>\n",
       "      <td>00029d80b8af94f2d5e3349ceb28b7304f80c1c4</td>\n",
       "      <td>b7ffd2af-418f-4be2-bdd1-22f8b48613da</td>\n",
       "      <td>nine inch nails</td>\n",
       "      <td>11092</td>\n",
       "    </tr>\n",
       "    <tr>\n",
       "      <th>1</th>\n",
       "      <td>00029d80b8af94f2d5e3349ceb28b7304f80c1c4</td>\n",
       "      <td>8ca01f46-53ac-4af2-8516-55a909c0905e</td>\n",
       "      <td>my bloody valentine</td>\n",
       "      <td>1671</td>\n",
       "    </tr>\n",
       "    <tr>\n",
       "      <th>2</th>\n",
       "      <td>00029d80b8af94f2d5e3349ceb28b7304f80c1c4</td>\n",
       "      <td>e795e03d-b5d5-4a5f-834d-162cfb308a2c</td>\n",
       "      <td>pj harvey</td>\n",
       "      <td>1603</td>\n",
       "    </tr>\n",
       "    <tr>\n",
       "      <th>3</th>\n",
       "      <td>00029d80b8af94f2d5e3349ceb28b7304f80c1c4</td>\n",
       "      <td>69ee3720-a7cb-4402-b48d-a02c366f2bcf</td>\n",
       "      <td>the cure</td>\n",
       "      <td>1588</td>\n",
       "    </tr>\n",
       "    <tr>\n",
       "      <th>4</th>\n",
       "      <td>00029d80b8af94f2d5e3349ceb28b7304f80c1c4</td>\n",
       "      <td>90cc2464-234e-4da0-b39b-576f36e633bc</td>\n",
       "      <td>antony and the johnsons</td>\n",
       "      <td>1039</td>\n",
       "    </tr>\n",
       "  </tbody>\n",
       "</table>\n",
       "</div>"
      ],
      "text/plain": [
       "                                    user_id  \\\n",
       "0  00029d80b8af94f2d5e3349ceb28b7304f80c1c4   \n",
       "1  00029d80b8af94f2d5e3349ceb28b7304f80c1c4   \n",
       "2  00029d80b8af94f2d5e3349ceb28b7304f80c1c4   \n",
       "3  00029d80b8af94f2d5e3349ceb28b7304f80c1c4   \n",
       "4  00029d80b8af94f2d5e3349ceb28b7304f80c1c4   \n",
       "\n",
       "                            artist_mbid              artist_name  plays  \n",
       "0  b7ffd2af-418f-4be2-bdd1-22f8b48613da          nine inch nails  11092  \n",
       "1  8ca01f46-53ac-4af2-8516-55a909c0905e      my bloody valentine   1671  \n",
       "2  e795e03d-b5d5-4a5f-834d-162cfb308a2c                pj harvey   1603  \n",
       "3  69ee3720-a7cb-4402-b48d-a02c366f2bcf                 the cure   1588  \n",
       "4  90cc2464-234e-4da0-b39b-576f36e633bc  antony and the johnsons   1039  "
      ]
     },
     "execution_count": 21,
     "metadata": {},
     "output_type": "execute_result"
    }
   ],
   "source": [
    "df.head()"
   ]
  },
  {
   "cell_type": "markdown",
   "metadata": {},
   "source": [
    "Next lets take a first, high-level look at the datset."
   ]
  },
  {
   "cell_type": "code",
   "execution_count": 22,
   "metadata": {},
   "outputs": [
    {
     "data": {
      "text/html": [
       "<div>\n",
       "<style scoped>\n",
       "    .dataframe tbody tr th:only-of-type {\n",
       "        vertical-align: middle;\n",
       "    }\n",
       "\n",
       "    .dataframe tbody tr th {\n",
       "        vertical-align: top;\n",
       "    }\n",
       "\n",
       "    .dataframe thead th {\n",
       "        text-align: right;\n",
       "    }\n",
       "</style>\n",
       "<table border=\"1\" class=\"dataframe\">\n",
       "  <thead>\n",
       "    <tr style=\"text-align: right;\">\n",
       "      <th></th>\n",
       "      <th>plays</th>\n",
       "    </tr>\n",
       "  </thead>\n",
       "  <tbody>\n",
       "    <tr>\n",
       "      <th>count</th>\n",
       "      <td>438346.000000</td>\n",
       "    </tr>\n",
       "    <tr>\n",
       "      <th>mean</th>\n",
       "      <td>216.435998</td>\n",
       "    </tr>\n",
       "    <tr>\n",
       "      <th>std</th>\n",
       "      <td>800.547832</td>\n",
       "    </tr>\n",
       "    <tr>\n",
       "      <th>min</th>\n",
       "      <td>1.000000</td>\n",
       "    </tr>\n",
       "    <tr>\n",
       "      <th>25%</th>\n",
       "      <td>34.000000</td>\n",
       "    </tr>\n",
       "    <tr>\n",
       "      <th>50%</th>\n",
       "      <td>94.000000</td>\n",
       "    </tr>\n",
       "    <tr>\n",
       "      <th>75%</th>\n",
       "      <td>225.000000</td>\n",
       "    </tr>\n",
       "    <tr>\n",
       "      <th>max</th>\n",
       "      <td>242328.000000</td>\n",
       "    </tr>\n",
       "  </tbody>\n",
       "</table>\n",
       "</div>"
      ],
      "text/plain": [
       "               plays\n",
       "count  438346.000000\n",
       "mean      216.435998\n",
       "std       800.547832\n",
       "min         1.000000\n",
       "25%        34.000000\n",
       "50%        94.000000\n",
       "75%       225.000000\n",
       "max    242328.000000"
      ]
     },
     "execution_count": 22,
     "metadata": {},
     "output_type": "execute_result"
    }
   ],
   "source": [
    "df.describe()"
   ]
  },
  {
   "cell_type": "code",
   "execution_count": 23,
   "metadata": {},
   "outputs": [
    {
     "data": {
      "text/html": [
       "<div>\n",
       "<style scoped>\n",
       "    .dataframe tbody tr th:only-of-type {\n",
       "        vertical-align: middle;\n",
       "    }\n",
       "\n",
       "    .dataframe tbody tr th {\n",
       "        vertical-align: top;\n",
       "    }\n",
       "\n",
       "    .dataframe thead th {\n",
       "        text-align: right;\n",
       "    }\n",
       "</style>\n",
       "<table border=\"1\" class=\"dataframe\">\n",
       "  <thead>\n",
       "    <tr style=\"text-align: right;\">\n",
       "      <th></th>\n",
       "      <th>user_id</th>\n",
       "      <th>artist_mbid</th>\n",
       "      <th>artist_name</th>\n",
       "    </tr>\n",
       "  </thead>\n",
       "  <tbody>\n",
       "    <tr>\n",
       "      <th>count</th>\n",
       "      <td>438346</td>\n",
       "      <td>438346</td>\n",
       "      <td>438346</td>\n",
       "    </tr>\n",
       "    <tr>\n",
       "      <th>unique</th>\n",
       "      <td>9000</td>\n",
       "      <td>47102</td>\n",
       "      <td>53577</td>\n",
       "    </tr>\n",
       "    <tr>\n",
       "      <th>top</th>\n",
       "      <td>1a0cefc82b7f7566d12b69697ea91a29b20f6554</td>\n",
       "      <td></td>\n",
       "      <td>radiohead</td>\n",
       "    </tr>\n",
       "    <tr>\n",
       "      <th>freq</th>\n",
       "      <td>107</td>\n",
       "      <td>5731</td>\n",
       "      <td>1926</td>\n",
       "    </tr>\n",
       "  </tbody>\n",
       "</table>\n",
       "</div>"
      ],
      "text/plain": [
       "                                         user_id artist_mbid artist_name\n",
       "count                                     438346      438346      438346\n",
       "unique                                      9000       47102       53577\n",
       "top     1a0cefc82b7f7566d12b69697ea91a29b20f6554               radiohead\n",
       "freq                                         107        5731        1926"
      ]
     },
     "execution_count": 23,
     "metadata": {},
     "output_type": "execute_result"
    }
   ],
   "source": [
    "df.describe(include = 'O')"
   ]
  },
  {
   "cell_type": "markdown",
   "metadata": {},
   "source": [
    "It's interesting to see that there are more artist names than artist mbid. This is probably because some artist names share the same mbid (seen below), due to both error and if the same artist have different names. **To distinguish between artists, we will then use artist_mbid.** FERNANDO NEED CODE HERE"
   ]
  },
  {
   "cell_type": "code",
   "execution_count": 24,
   "metadata": {},
   "outputs": [
    {
     "name": "stdout",
     "output_type": "stream",
     "text": [
      "<class 'pandas.core.frame.DataFrame'>\n",
      "RangeIndex: 438346 entries, 0 to 438345\n",
      "Data columns (total 4 columns):\n",
      "user_id        438346 non-null object\n",
      "artist_mbid    438346 non-null object\n",
      "artist_name    438346 non-null object\n",
      "plays          438346 non-null int64\n",
      "dtypes: int64(1), object(3)\n",
      "memory usage: 13.4+ MB\n"
     ]
    }
   ],
   "source": [
    "df.info()"
   ]
  },
  {
   "cell_type": "markdown",
   "metadata": {},
   "source": [
    "Let's see if there's any missing values within the dataset."
   ]
  },
  {
   "cell_type": "code",
   "execution_count": 25,
   "metadata": {},
   "outputs": [
    {
     "data": {
      "text/plain": [
       "user_id        0\n",
       "artist_mbid    0\n",
       "artist_name    0\n",
       "plays          0\n",
       "dtype: int64"
      ]
     },
     "execution_count": 25,
     "metadata": {},
     "output_type": "execute_result"
    }
   ],
   "source": [
    "df.isna().sum()"
   ]
  },
  {
   "cell_type": "markdown",
   "metadata": {},
   "source": [
    "Let's see if there's any wrong values in the datset."
   ]
  },
  {
   "cell_type": "code",
   "execution_count": 26,
   "metadata": {},
   "outputs": [
    {
     "name": "stdout",
     "output_type": "stream",
     "text": [
      "Wrong Values:\n",
      "=============\n",
      "User Id:  0\n",
      "Artist MBID:  5731\n",
      "Artist Name:  6\n",
      "Plays:  0\n"
     ]
    }
   ],
   "source": [
    "print('Wrong Values:\\n=============')\n",
    "print('User Id: ', df.loc[df.user_id == ''].shape[0])\n",
    "print('Artist MBID: ', df.loc[df.artist_mbid == ''].shape[0])\n",
    "print('Artist Name: ', df.loc[df.artist_name == ''].shape[0])\n",
    "print('Plays: ', df.loc[df.plays < 0].shape[0])"
   ]
  },
  {
   "cell_type": "markdown",
   "metadata": {},
   "source": [
    "It looks like there are some invalid values for mbid and name. Let's take a look at them:"
   ]
  },
  {
   "cell_type": "code",
   "execution_count": 27,
   "metadata": {},
   "outputs": [
    {
     "data": {
      "text/plain": [
       "0"
      ]
     },
     "execution_count": 27,
     "metadata": {},
     "output_type": "execute_result"
    }
   ],
   "source": [
    "len(df.loc[df.artist_mbid == ''])/len(df)"
   ]
  },
  {
   "cell_type": "markdown",
   "metadata": {},
   "source": [
    "These values are only 1% of the dataset, so for sake of simplicity let us just drop these values. "
   ]
  },
  {
   "cell_type": "code",
   "execution_count": 28,
   "metadata": {},
   "outputs": [],
   "source": [
    "df = df[df.artist_mbid != '']\n",
    "df = df[df.artist_name != '']"
   ]
  },
  {
   "cell_type": "code",
   "execution_count": 29,
   "metadata": {},
   "outputs": [
    {
     "name": "stdout",
     "output_type": "stream",
     "text": [
      "Wrong Values:\n",
      "=============\n",
      "User Id:  0\n",
      "Artist MBID:  0\n",
      "Artist Name:  0\n",
      "Plays:  0\n"
     ]
    }
   ],
   "source": [
    "#sanity check\n",
    "print('Wrong Values:\\n=============')\n",
    "print('User Id: ', df.loc[df.user_id == ''].shape[0])\n",
    "print('Artist MBID: ', df.loc[df.artist_mbid == ''].shape[0])\n",
    "print('Artist Name: ', df.loc[df.artist_name == ''].shape[0])\n",
    "print('Plays: ', df.loc[df.plays < 0].shape[0])"
   ]
  },
  {
   "cell_type": "markdown",
   "metadata": {},
   "source": [
    "Next, let's see how the number of plays are distributed within the data."
   ]
  },
  {
   "cell_type": "code",
   "execution_count": 30,
   "metadata": {},
   "outputs": [
    {
     "data": {
      "text/plain": [
       "<matplotlib.axes._subplots.AxesSubplot at 0x1a2a48b690>"
      ]
     },
     "execution_count": 30,
     "metadata": {},
     "output_type": "execute_result"
    },
    {
     "data": {
      "image/png": "[encoded data removed]",
      "text/plain": [
       "<Figure size 432x288 with 1 Axes>"
      ]
     },
     "metadata": {},
     "output_type": "display_data"
    }
   ],
   "source": [
    "sns.distplot(df.plays)"
   ]
  },
  {
   "cell_type": "code",
   "execution_count": 31,
   "metadata": {},
   "outputs": [
    {
     "data": {
      "text/plain": [
       "<matplotlib.axes._subplots.AxesSubplot at 0x1a29e9ba90>"
      ]
     },
     "execution_count": 31,
     "metadata": {},
     "output_type": "execute_result"
    },
    {
     "data": {
      "image/png": "[encoded data removed]",
      "text/plain": [
       "<Figure size 432x288 with 1 Axes>"
      ]
     },
     "metadata": {},
     "output_type": "display_data"
    }
   ],
   "source": [
    "sns.distplot(df[df.plays < 1000].plays)"
   ]
  },
  {
   "cell_type": "markdown",
   "metadata": {},
   "source": [
    "It's interesting to see how the data is exponentially distributed as shown above. The packages we use should have already accounted for such an imbalance, but in case they don't, let's scale these values."
   ]
  },
  {
   "cell_type": "code",
   "execution_count": 32,
   "metadata": {},
   "outputs": [],
   "source": [
    "from sklearn.preprocessing import MinMaxScaler \n",
    "\n",
    "df['log_plays'] = df.plays.apply(lambda x: log(x))\n",
    "\n",
    "df.log_plays *= (1.0/df.log_plays.max())"
   ]
  },
  {
   "cell_type": "code",
   "execution_count": 33,
   "metadata": {},
   "outputs": [
    {
     "data": {
      "text/plain": [
       "<matplotlib.axes._subplots.AxesSubplot at 0x1a1ad7bfd0>"
      ]
     },
     "execution_count": 33,
     "metadata": {},
     "output_type": "execute_result"
    },
    {
     "data": {
      "image/png": "[encoded data removed]",
      "text/plain": [
       "<Figure size 432x288 with 1 Axes>"
      ]
     },
     "metadata": {},
     "output_type": "display_data"
    }
   ],
   "source": [
    "sns.distplot(df.log_plays)"
   ]
  },
  {
   "cell_type": "markdown",
   "metadata": {},
   "source": [
    "# 1. Objective"
   ]
  },
  {
   "cell_type": "markdown",
   "metadata": {},
   "source": [
    "The objective for this project is similar as before: to build a reliable recommender system that generates new and relevant artist recommendations to Last.fm users. We will do this by recommending the top-k (e.g. top 20) artists for each user. Each recommendation is personalized to each user and is ‘learnt’ from his or her listening habits and history. The business objective of our recommender system is to increase user activity in Last.fm and user loyalty to the Last.fm brand by providing a service that allows users to discover new artists and have a more enjoyable listening experience. This model is similar to Spotify's \"Discover Weekly\", but on an artist basis"
   ]
  },
  {
   "cell_type": "markdown",
   "metadata": {},
   "source": [
    "# 2. Prepare Data"
   ]
  },
  {
   "cell_type": "markdown",
   "metadata": {},
   "source": [
    "Let's first transform the dataset above to a format that is consumable by the Implicit and LightFM model."
   ]
  },
  {
   "cell_type": "markdown",
   "metadata": {},
   "source": [
    "### 2a. Create Sparse Matrix from Dataset"
   ]
  },
  {
   "cell_type": "code",
   "execution_count": 34,
   "metadata": {
    "scrolled": true
   },
   "outputs": [
    {
     "name": "stdout",
     "output_type": "stream",
     "text": [
      "Creating sparse matrix...\n"
     ]
    },
    {
     "name": "stderr",
     "output_type": "stream",
     "text": [
      "/Users/TimGimi/anaconda2/lib/python2.7/site-packages/ipykernel_launcher.py:23: FutureWarning: specifying 'categories' or 'ordered' in .astype() is deprecated; pass a CategoricalDtype instead\n",
      "/Users/TimGimi/anaconda2/lib/python2.7/site-packages/ipykernel_launcher.py:24: FutureWarning: specifying 'categories' or 'ordered' in .astype() is deprecated; pass a CategoricalDtype instead\n"
     ]
    },
    {
     "name": "stdout",
     "output_type": "stream",
     "text": [
      "Matrix Sparsity: 99.8979362887\n"
     ]
    }
   ],
   "source": [
    "#create sparse matrix\n",
    "plays_sparse = create_sparse_matrix(df).astype('float')\n",
    "print('Matrix Sparsity:', calculate_sparsity(plays_sparse))"
   ]
  },
  {
   "cell_type": "markdown",
   "metadata": {},
   "source": [
    "### 2b. Split Data to Train/Test"
   ]
  },
  {
   "cell_type": "markdown",
   "metadata": {},
   "source": [
    "Split data into train test set, maintaining that each user still has some interactions intact. This custom split train test is only used for the **implicit** package. "
   ]
  },
  {
   "cell_type": "code",
   "execution_count": 35,
   "metadata": {},
   "outputs": [
    {
     "data": {
      "application/vnd.jupyter.widget-view+json": {
       "model_id": "5d92642d66944cb89e53d663d4b0db01",
       "version_major": 2,
       "version_minor": 0
      },
      "text/plain": [
       "HBox(children=(IntProgress(value=0, max=8999), HTML(value=u'')))"
      ]
     },
     "metadata": {},
     "output_type": "display_data"
    },
    {
     "name": "stdout",
     "output_type": "stream",
     "text": [
      "\n",
      "Percentage of original data masked: 0.0663708633759\n",
      "Users masked: 8975\n"
     ]
    }
   ],
   "source": [
    "# Split data into training and test sets\n",
    "train, test, user_count = split_train_test_per_user(plays_sparse, k = 3, interactions = 10)\n",
    "print(\"Percentage of original data masked:\", pct_masked(plays_sparse, train.T.tocsr()))\n",
    "print(\"Users masked:\", user_count)"
   ]
  },
  {
   "cell_type": "markdown",
   "metadata": {},
   "source": [
    "Note that the train is in the form of item by user, to accomodate the implicit and baseline models."
   ]
  },
  {
   "cell_type": "code",
   "execution_count": 36,
   "metadata": {},
   "outputs": [
    {
     "data": {
      "text/plain": [
       "<47100x8999 sparse matrix of type '<type 'numpy.float64'>'\n",
       "\twith 432600 stored elements in Compressed Sparse Row format>"
      ]
     },
     "execution_count": 36,
     "metadata": {},
     "output_type": "execute_result"
    }
   ],
   "source": [
    "train"
   ]
  },
  {
   "cell_type": "markdown",
   "metadata": {},
   "source": [
    "### 2c. Build Interactions for LightFM"
   ]
  },
  {
   "cell_type": "markdown",
   "metadata": {},
   "source": [
    "For lightFM, we would need a different kind of format for the datasets. We create them using LightFM's data builders below."
   ]
  },
  {
   "cell_type": "code",
   "execution_count": 37,
   "metadata": {},
   "outputs": [],
   "source": [
    "import lightfm\n",
    "from lightfm.data import Dataset\n",
    "from lightfm import cross_validation\n",
    "\n",
    "# Initialize lightfm Dataset()\n",
    "int_df = df.drop(['artist_name', 'log_plays'], axis=1)\n",
    "int_data = lightfm.data.Dataset(user_identity_features=True, item_identity_features=True)\n",
    "\n",
    "# Create tuples for int_df values, as well as separate tuples for user_id and artist_id\n",
    "tuples = [tuple(x) for x in int_df.values]\n",
    "user_id = [tuple(x) for x in df.user_id]\n",
    "artist_id = [tuple(x) for x in df.artist_mbid]\n",
    "\n",
    "# Fit int_data\n",
    "int_data.fit(df.user_id, df.artist_mbid)\n",
    "\n",
    "# Build interactions, weights\n",
    "interactions, weights = int_data.build_interactions(tuples)\n",
    "\n",
    "# Create training and test sets for lightFM\n",
    "train_light, test_light = lightfm.cross_validation.random_train_test_split(plays_sparse, test_percentage=0.6, random_state=None)"
   ]
  },
  {
   "cell_type": "code",
   "execution_count": 23,
   "metadata": {},
   "outputs": [
    {
     "data": {
      "text/plain": [
       "<8999x47100 sparse matrix of type '<class 'numpy.float64'>'\n",
       "\twith 259560 stored elements in COOrdinate format>"
      ]
     },
     "execution_count": 23,
     "metadata": {},
     "output_type": "execute_result"
    }
   ],
   "source": [
    "test_light"
   ]
  },
  {
   "cell_type": "code",
   "execution_count": 24,
   "metadata": {},
   "outputs": [
    {
     "data": {
      "text/plain": [
       "<8999x47100 sparse matrix of type '<class 'numpy.float64'>'\n",
       "\twith 173040 stored elements in COOrdinate format>"
      ]
     },
     "execution_count": 24,
     "metadata": {},
     "output_type": "execute_result"
    }
   ],
   "source": [
    "train_light"
   ]
  },
  {
   "cell_type": "markdown",
   "metadata": {},
   "source": [
    "# 3. Model Fitting, Tuning, and Evaluation"
   ]
  },
  {
   "cell_type": "markdown",
   "metadata": {},
   "source": [
    "Next, we set up our models to perform recommendations on the Lastfm datasets. Compared to our previous attempt, we will now use a more sophisticated take on building a recommendation engine: Factorization Machines (FM). Our motivation in using FMs is to utilize the side information we have on users (age, gender, etc.) to improve our metrics. We decided to use LightFM's implementation of FMs due to its known efficiency and good results. Our benchmarks to beat will be the \"most popular\" model and the ALS Implicit Matrix Factorization.\n",
    "\n",
    "For Baseline and Implicit models, we will be focusing on the following metrics:\n",
    "1. Recall at k \n",
    "2. Precision at k \n",
    "3. NDCG at k \n",
    "4. Coverage\n",
    "\n",
    "We define recall@k as: the number of positive items in the first k positions of the ranked list of results divided by the number of positive items in the test period.\n",
    "\n",
    "We define precision@k as: the fraction of known positives in the first k positions of the ranked list of results.\n",
    "\n",
    "For the LightFM models, we will be using:\n",
    "1. Recall at k \n",
    "2. Precision at k\n",
    "3. Coverage\n",
    "\n",
    "NDCG isn't covered in LightFM models since it is not supported within the LightFM package. Furthermore, our attempt at calculating NDCG on our own did not turn out as expected, as the results did not make sense (much lower than recall @ k). "
   ]
  },
  {
   "cell_type": "markdown",
   "metadata": {},
   "source": [
    "## 3a. Benchmarks"
   ]
  },
  {
   "cell_type": "markdown",
   "metadata": {},
   "source": [
    "### Baseline: Most Popular"
   ]
  },
  {
   "cell_type": "markdown",
   "metadata": {},
   "source": [
    "The \"baseline\" recommends the most-popular artists to everyone, regardless of their play history. Implementation of the baseline model can be found in analysis_functions.ipynb. (To do: refactor models to separate Python scripts)."
   ]
  },
  {
   "cell_type": "code",
   "execution_count": 42,
   "metadata": {},
   "outputs": [
    {
     "name": "stdout",
     "output_type": "stream",
     "text": [
      "Fitting baseline...\n"
     ]
    }
   ],
   "source": [
    "model_baseline = Baseline(n_recs = 20)\n",
    "model_baseline.fit(train)"
   ]
  },
  {
   "cell_type": "markdown",
   "metadata": {},
   "source": [
    "No tuning is necessary since there are no parameters. We then evaluate the test set below: "
   ]
  },
  {
   "cell_type": "code",
   "execution_count": 26,
   "metadata": {},
   "outputs": [
    {
     "name": "stdout",
     "output_type": "stream",
     "text": [
      "Evaluating model...\n"
     ]
    },
    {
     "data": {
      "application/vnd.jupyter.widget-view+json": {
       "model_id": "82d5e34eebdc4ba9bed071856b8849b7",
       "version_major": 2,
       "version_minor": 0
      },
      "text/plain": [
       "HBox(children=(IntProgress(value=0, max=8975), HTML(value='')))"
      ]
     },
     "metadata": {},
     "output_type": "display_data"
    },
    {
     "name": "stdout",
     "output_type": "stream",
     "text": [
      "\n",
      "Precision: 0.9961002785515319 %\n",
      "Recall: 6.64066852367688 %\n",
      "Coverage: 0.042462845010615716 %\n",
      "Average NDCG per User: 4.060053351196404 %\n"
     ]
    }
   ],
   "source": [
    "coverage, precision, recall, ndcg = evaluate(model_baseline, \"baseline\", test, plays_sparse)\n",
    "print(\"Precision:\",precision*100,'%')\n",
    "print(\"Recall:\",recall*100,'%')\n",
    "print(\"Coverage:\",coverage*100,'%')\n",
    "print(\"Average NDCG per User:\",ndcg*100,'%')\n",
    "\n",
    "final_results = {}\n",
    "final_results['model'] = ['baseline']\n",
    "final_results['precision (%)'] = [precision*100]\n",
    "final_results['recall (%)'] = [recall*100]\n",
    "final_results['coverage (%)'] = [coverage*100]\n",
    "final_results['ndcg (%)'] = [ndcg*100]\n"
   ]
  },
  {
   "cell_type": "markdown",
   "metadata": {},
   "source": [
    "### Model-Based (ALS)\n",
    "\n",
    "Here we fit the model-based ALS Matrix Factorization using the implicit package from our past assignment and use the parameters that were found to be optimized in the HW 2 report. "
   ]
  },
  {
   "cell_type": "code",
   "execution_count": 27,
   "metadata": {
    "scrolled": true
   },
   "outputs": [
    {
     "name": "stderr",
     "output_type": "stream",
     "text": [
      "WARNING:root:Intel MKL BLAS detected. Its highly recommend to set the environment variable 'export MKL_NUM_THREADS=1' to disable its internal multithreading\n",
      "  7%|▋         | 1.0/15 [00:00<00:01,  9.21it/s]"
     ]
    },
    {
     "name": "stdout",
     "output_type": "stream",
     "text": [
      "Fitting model...\n"
     ]
    },
    {
     "name": "stderr",
     "output_type": "stream",
     "text": [
      "100%|██████████| 15.0/15 [00:01<00:00, 10.20it/s]\n"
     ]
    }
   ],
   "source": [
    "model_als = implicit.als.AlternatingLeastSquares(factors = 30, regularization = 0.01)\n",
    "\n",
    "# Train model\n",
    "print(\"Fitting model...\")\n",
    "model_als.fit(train)"
   ]
  },
  {
   "cell_type": "code",
   "execution_count": 28,
   "metadata": {},
   "outputs": [
    {
     "name": "stdout",
     "output_type": "stream",
     "text": [
      "Evaluating model...\n"
     ]
    },
    {
     "data": {
      "application/vnd.jupyter.widget-view+json": {
       "model_id": "9a106cf90ecb43f4ab1d9957517743b5",
       "version_major": 2,
       "version_minor": 0
      },
      "text/plain": [
       "HBox(children=(IntProgress(value=0, max=8975), HTML(value='')))"
      ]
     },
     "metadata": {},
     "output_type": "display_data"
    },
    {
     "name": "stdout",
     "output_type": "stream",
     "text": [
      "\n",
      "Precision: 3.2930362116991643 %\n",
      "Recall: 21.953574744661093 %\n",
      "Coverage: 8.530785562632696 %\n",
      "Average NDCG per User: 0.0 %\n"
     ]
    }
   ],
   "source": [
    "coverage, precision, recall, ndcg = evaluate(model_als, \"implicit\", test, train.T.tocsr())\n",
    "print(\"Precision:\",precision*100,'%')\n",
    "print(\"Recall:\",recall*100,'%')\n",
    "print(\"Coverage:\",coverage*100,'%')\n",
    "print(\"Average NDCG per User:\",ndcg*100,'%')\n",
    "\n",
    "final_results['model'].append('als')\n",
    "final_results['precision (%)'].append(precision*100)\n",
    "final_results['recall (%)'].append(recall*100)\n",
    "final_results['coverage (%)'].append(coverage*100)\n",
    "final_results['ndcg (%)'].append(ndcg*100)\n"
   ]
  },
  {
   "cell_type": "markdown",
   "metadata": {},
   "source": [
    "### Bayesian Personalized Ranking (Implicit)"
   ]
  },
  {
   "cell_type": "markdown",
   "metadata": {},
   "source": [
    "Since in lightFM we will mainly be focused on using the bpr loss function, we will also implement Implicit's BPR model as a point of comparison. "
   ]
  },
  {
   "cell_type": "code",
   "execution_count": 29,
   "metadata": {},
   "outputs": [
    {
     "name": "stderr",
     "output_type": "stream",
     "text": [
      "  2%|▏         | 2/100 [00:00<00:04, 20.27it/s, correct=50.49%, skipped=2.17%]"
     ]
    },
    {
     "name": "stdout",
     "output_type": "stream",
     "text": [
      "Fitting model...\n"
     ]
    },
    {
     "name": "stderr",
     "output_type": "stream",
     "text": [
      "100%|██████████| 100/100 [00:05<00:00, 19.62it/s, correct=94.06%, skipped=2.14%]"
     ]
    },
    {
     "name": "stdout",
     "output_type": "stream",
     "text": [
      "Evaluating model...\n"
     ]
    },
    {
     "name": "stderr",
     "output_type": "stream",
     "text": [
      "\n"
     ]
    },
    {
     "data": {
      "application/vnd.jupyter.widget-view+json": {
       "model_id": "2aab994dfd6f43c08ecea7f77155cd26",
       "version_major": 2,
       "version_minor": 0
      },
      "text/plain": [
       "HBox(children=(IntProgress(value=0, max=8975), HTML(value='')))"
      ]
     },
     "metadata": {},
     "output_type": "display_data"
    },
    {
     "name": "stdout",
     "output_type": "stream",
     "text": [
      "\n",
      "Precision: 3.395543175487465 %\n",
      "Recall: 22.63695450324977 %\n",
      "Coverage: 12.265392781316347 %\n",
      "Average NDCG per User: 13.02686127201435 %\n"
     ]
    }
   ],
   "source": [
    "model_bpr = implicit.bpr.BayesianPersonalizedRanking(factors = 30, regularization = 0.01)\n",
    "\n",
    "# Train model\n",
    "print(\"Fitting model...\")\n",
    "model_bpr.fit(train)\n",
    "\n",
    "coverage, precision, recall, ndcg = evaluate(model_bpr, \"implicit\", test, plays_sparse)\n",
    "print(\"Precision:\",precision*100,'%')\n",
    "print(\"Recall:\",recall*100,'%')\n",
    "print(\"Coverage:\",coverage*100,'%')\n",
    "print(\"Average NDCG per User:\",ndcg*100,'%')\n",
    "\n",
    "final_results['model'].append('bpr')\n",
    "final_results['precision (%)'].append(precision*100)\n",
    "final_results['recall (%)'].append(recall*100)\n",
    "final_results['coverage (%)'].append(coverage*100)\n",
    "final_results['ndcg (%)'].append(ndcg*100)\n"
   ]
  },
  {
   "cell_type": "markdown",
   "metadata": {},
   "source": [
    "### LightFM (without side information)\n",
    "\n",
    "First, we fit the LightFM model without using side information, in the hopes of replicating the results of the MF models above. "
   ]
  },
  {
   "cell_type": "code",
   "execution_count": 30,
   "metadata": {},
   "outputs": [
    {
     "name": "stdout",
     "output_type": "stream",
     "text": [
      "Fitting model...\n",
      "Evaluating LightFM...\n",
      "Calculating Coverage...\n"
     ]
    },
    {
     "data": {
      "application/vnd.jupyter.widget-view+json": {
       "model_id": "d1421f92dd35412cbe78775604572c43",
       "version_major": 2,
       "version_minor": 0
      },
      "text/plain": [
       "HBox(children=(IntProgress(value=0, max=8999), HTML(value='')))"
      ]
     },
     "metadata": {},
     "output_type": "display_data"
    },
    {
     "name": "stdout",
     "output_type": "stream",
     "text": [
      "\n",
      "Calculating Recall at k...\n",
      "Calculating Precision at k...\n",
      "Precision: 0.7503334898501635 %\n",
      "Recall: 0.512035792205329 %\n",
      "Coverage: 0.09129511677282379 %\n"
     ]
    }
   ],
   "source": [
    "model_fm_vanilla = LightFM(learning_rate=0.05, loss='bpr')\n",
    "\n",
    "#train model\n",
    "print(\"Fitting model...\")\n",
    "model_fm_vanilla.fit(train_light)\n",
    "\n",
    "#evaluate model\n",
    "coverage, precision, recall = evaluate_lightfm(model_fm_vanilla, interactions, train_light, test_light)\n",
    "print(\"Precision:\",precision*100,'%')\n",
    "print(\"Recall:\",recall*100,'%')\n",
    "print(\"Coverage:\",coverage*100,'%')"
   ]
  },
  {
   "cell_type": "markdown",
   "metadata": {},
   "source": [
    "### Troubleshooting"
   ]
  },
  {
   "cell_type": "markdown",
   "metadata": {},
   "source": [
    "Shoot. It looks like our model does not replicate the results of the Implicit model. Assuming that those two results should've resulted in similar metrics, let's try a few approaches to try to improve the lightfm model."
   ]
  },
  {
   "cell_type": "markdown",
   "metadata": {},
   "source": [
    "#### Normalizing / Scaled Train-Test"
   ]
  },
  {
   "cell_type": "markdown",
   "metadata": {},
   "source": [
    "First, let's use the normalized dataset to train and predict instead. "
   ]
  },
  {
   "cell_type": "code",
   "execution_count": 31,
   "metadata": {},
   "outputs": [
    {
     "name": "stdout",
     "output_type": "stream",
     "text": [
      "Creating sparse matrix...\n"
     ]
    },
    {
     "name": "stderr",
     "output_type": "stream",
     "text": [
      "/home/tim_kartawijaya/anaconda3/lib/python3.6/site-packages/ipykernel_launcher.py:23: FutureWarning: specifying 'categories' or 'ordered' in .astype() is deprecated; pass a CategoricalDtype instead\n",
      "/home/tim_kartawijaya/anaconda3/lib/python3.6/site-packages/ipykernel_launcher.py:24: FutureWarning: specifying 'categories' or 'ordered' in .astype() is deprecated; pass a CategoricalDtype instead\n"
     ]
    },
    {
     "name": "stdout",
     "output_type": "stream",
     "text": [
      "Matrix Sparsity: 99.89885948639257\n",
      "Fitting model...\n",
      "Evaluating LightFM...\n",
      "Calculating Coverage...\n"
     ]
    },
    {
     "data": {
      "application/vnd.jupyter.widget-view+json": {
       "model_id": "ac96bab54f08431fbee4e84d5d5b10a2",
       "version_major": 2,
       "version_minor": 0
      },
      "text/plain": [
       "HBox(children=(IntProgress(value=0, max=8999), HTML(value='')))"
      ]
     },
     "metadata": {},
     "output_type": "display_data"
    },
    {
     "name": "stdout",
     "output_type": "stream",
     "text": [
      "\n",
      "Calculating Recall at k...\n",
      "Calculating Precision at k...\n",
      "Precision: 5.299022421240807 %\n",
      "Recall: 3.129300387887679 %\n",
      "Coverage: 0.7197452229299364 %\n"
     ]
    }
   ],
   "source": [
    "df_log = df.drop(columns = ['plays'], axis = 1)\n",
    "# plays_sparse = create_sparse_matrix(df).astype('float')\n",
    "\n",
    "df_log.columns = ['user_id','artist_mbid','artist_name','plays']\n",
    "\n",
    "#create sparse matrix\n",
    "plays_sparse_log = create_sparse_matrix(df_log).astype('float')\n",
    "print('Matrix Sparsity:', calculate_sparsity(plays_sparse_log))\n",
    "\n",
    "train_log, test_log = lightfm.cross_validation.random_train_test_split(plays_sparse_log, test_percentage=0.7)\n",
    "\n",
    "model_fm_vanilla = LightFM(learning_rate=0.05, loss='bpr')\n",
    "\n",
    "#train model\n",
    "print(\"Fitting model...\")\n",
    "model_fm_vanilla.fit(train_log, epochs=10)\n",
    "\n",
    "#evaluate model\n",
    "coverage, precision, recall = evaluate_lightfm(model_fm_vanilla, plays_sparse_log, train_log, test_log)\n",
    "print(\"Precision:\",precision*100,'%')\n",
    "print(\"Recall:\",recall*100,'%')\n",
    "print(\"Coverage:\",coverage*100,'%')"
   ]
  },
  {
   "cell_type": "markdown",
   "metadata": {},
   "source": [
    "### Checking Convergence\n",
    "\n",
    "Hmm.. that didn't fix much. Let's see if some of our metrics converge as its training and check if the training is what's the problem. Lets see if user embeddings change by epoch / recall converges by epoch. "
   ]
  },
  {
   "cell_type": "code",
   "execution_count": 32,
   "metadata": {},
   "outputs": [
    {
     "data": {
      "application/vnd.jupyter.widget-view+json": {
       "model_id": "dd42710eba50415a871b587f9d0f4550",
       "version_major": 2,
       "version_minor": 0
      },
      "text/plain": [
       "HBox(children=(IntProgress(value=0, max=30), HTML(value='')))"
      ]
     },
     "metadata": {},
     "output_type": "display_data"
    },
    {
     "name": "stdout",
     "output_type": "stream",
     "text": [
      "\n"
     ]
    }
   ],
   "source": [
    "from lightfm.evaluation import recall_at_k\n",
    "\n",
    "recall_epoch = []\n",
    "user_embeddings = []\n",
    "epochs = 30\n",
    "for epoch in tqdm(range(epochs)):\n",
    "    model_fm_vanilla.fit_partial(train_light, epochs = 1)\n",
    "    recall_epoch.append(recall_at_k(model_fm_vanilla, test_light, train_light, k = 20))\n",
    "    user_embeddings.append(model_fm_vanilla.get_user_representations())\n",
    "    "
   ]
  },
  {
   "cell_type": "code",
   "execution_count": 39,
   "metadata": {
    "collapsed": true
   },
   "outputs": [],
   "source": [
    "recall_avg_epoch = [np.mean(x) for x in recall_epoch]"
   ]
  },
  {
   "cell_type": "code",
   "execution_count": 40,
   "metadata": {},
   "outputs": [
    {
     "data": {
      "text/plain": [
       "Text(0,0.5,'Recall')"
      ]
     },
     "execution_count": 40,
     "metadata": {},
     "output_type": "execute_result"
    },
    {
     "data": {
      "image/png": "[encoded data removed]",
      "text/plain": [
       "<Figure size 432x288 with 1 Axes>"
      ]
     },
     "metadata": {},
     "output_type": "display_data"
    }
   ],
   "source": [
    "sns.pointplot(x = list(range(epochs)), y = recall_avg_epoch)\n",
    "plt.title('Recall by Epoch for Vanilla FM')\n",
    "plt.xlabel('Epoch')\n",
    "plt.ylabel('Recall')"
   ]
  },
  {
   "cell_type": "markdown",
   "metadata": {},
   "source": [
    "So from the results above we can see that recall eventually converges after 20 epochs. So this looks fine. "
   ]
  },
  {
   "cell_type": "code",
   "execution_count": 48,
   "metadata": {
    "collapsed": true
   },
   "outputs": [],
   "source": [
    "user_vectors = [x[1] for x in user_embeddings]"
   ]
  },
  {
   "cell_type": "code",
   "execution_count": 57,
   "metadata": {},
   "outputs": [
    {
     "data": {
      "text/plain": [
       "(8999, 10)"
      ]
     },
     "execution_count": 57,
     "metadata": {},
     "output_type": "execute_result"
    }
   ],
   "source": [
    "user_vectors[4].shape"
   ]
  },
  {
   "cell_type": "markdown",
   "metadata": {},
   "source": [
    "#### TODO: What behavior should user vectors do?"
   ]
  },
  {
   "cell_type": "code",
   "execution_count": 45,
   "metadata": {},
   "outputs": [
    {
     "data": {
      "text/plain": [
       "Text(0,0.5,'Recall')"
      ]
     },
     "execution_count": 45,
     "metadata": {},
     "output_type": "execute_result"
    },
    {
     "data": {
      "image/png": "[encoded data removed]",
      "text/plain": [
       "<Figure size 432x288 with 1 Axes>"
      ]
     },
     "metadata": {},
     "output_type": "display_data"
    }
   ],
   "source": [
    "sns.pointplot(x = list(range(epochs)), y = user_embedding_size)\n",
    "plt.title('Recall by Epoch for Vanilla FM')\n",
    "plt.xlabel('Epoch')\n",
    "plt.ylabel('Recall')"
   ]
  },
  {
   "cell_type": "markdown",
   "metadata": {},
   "source": [
    "### Hyperparameter"
   ]
  },
  {
   "cell_type": "markdown",
   "metadata": {},
   "source": [
    "Now we try to find the best hyperparameter for this model and use the model with the best hyperparameter to get our results. Maybe tuning our parameters would get us closer to the implicit ALS. "
   ]
  },
  {
   "cell_type": "markdown",
   "metadata": {},
   "source": [
    "We first try to tune the dimensionality of the feature embeddings to try to find the best recall, which we consider it important to have at least a few items that the user consider relevant within the top k results. Recall also relates directly to precision and NDCG. At the same time, we would need to consider coverage, as we want to expand the user's tastes as much as we could. "
   ]
  },
  {
   "cell_type": "code",
   "execution_count": null,
   "metadata": {
    "collapsed": true
   },
   "outputs": [],
   "source": [
    "test_model = LightFM\n",
    "params = [15,35,55,75,95]\n",
    "param_type = \"components\"\n",
    "k_fold = 4\n",
    "n_recs = 20\n",
    "ndcg_list, heatmap_list = auto_tune_parameter(k = k_fold, interactions = 20, model = test_model, data = plays_sparse, param1 = params, param_type = param_type)"
   ]
  },
  {
   "cell_type": "code",
   "execution_count": null,
   "metadata": {
    "collapsed": true
   },
   "outputs": [],
   "source": [
    "#Plot Recall by Number of Components\n",
    "recall_values = heatmap_list[0]\n",
    "\n",
    "recall_heatmap_components = pd.DataFrame({'N':params, 'Recall': recall_values})\n",
    "sns.pointplot(x='N',y='Recall',data=recall_heatmap_components)\n",
    "plt.title('Recall by Number of Components')\n",
    "plt.xlabel('Number of Components')\n",
    "plt.ylabel('Recall')\n",
    "\n",
    "plt.show()"
   ]
  },
  {
   "cell_type": "markdown",
   "metadata": {},
   "source": [
    "Next, let's tune the best learning rate."
   ]
  },
  {
   "cell_type": "code",
   "execution_count": null,
   "metadata": {},
   "outputs": [
    {
     "name": "stdout",
     "output_type": "stream",
     "text": [
      "Fitting fold number... 0\n",
      "Trying  0.005\n",
      "Evaluating LightFM...\n",
      "Calculating Coverage...\n"
     ]
    },
    {
     "data": {
      "application/vnd.jupyter.widget-view+json": {
       "model_id": "867e6c3ebd8e4a29bc9c28980b6ee5aa",
       "version_major": 2,
       "version_minor": 0
      },
      "text/plain": [
       "HBox(children=(IntProgress(value=0, max=8999), HTML(value='')))"
      ]
     },
     "metadata": {},
     "output_type": "display_data"
    },
    {
     "name": "stdout",
     "output_type": "stream",
     "text": [
      "\n",
      "Calculating Recall at k...\n",
      "Calculating Precision at k...\n",
      "0\n",
      "Trying  0.01\n",
      "Evaluating LightFM...\n",
      "Calculating Coverage...\n"
     ]
    },
    {
     "data": {
      "application/vnd.jupyter.widget-view+json": {
       "model_id": "17075aa22b84404b8c8cb402d785ad4b",
       "version_major": 2,
       "version_minor": 0
      },
      "text/plain": [
       "HBox(children=(IntProgress(value=0, max=8999), HTML(value='')))"
      ]
     },
     "metadata": {},
     "output_type": "display_data"
    },
    {
     "name": "stdout",
     "output_type": "stream",
     "text": [
      "\n",
      "Calculating Recall at k...\n",
      "Calculating Precision at k...\n",
      "1\n",
      "Trying  0.05\n",
      "Evaluating LightFM...\n",
      "Calculating Coverage...\n"
     ]
    },
    {
     "data": {
      "application/vnd.jupyter.widget-view+json": {
       "model_id": "4776f1232549460a8ce087ff507e84f2",
       "version_major": 2,
       "version_minor": 0
      },
      "text/plain": [
       "HBox(children=(IntProgress(value=0, max=8999), HTML(value='')))"
      ]
     },
     "metadata": {},
     "output_type": "display_data"
    },
    {
     "name": "stdout",
     "output_type": "stream",
     "text": [
      "\n",
      "Calculating Recall at k...\n",
      "Calculating Precision at k...\n",
      "2\n",
      "Trying  0.1\n",
      "Evaluating LightFM...\n",
      "Calculating Coverage...\n"
     ]
    },
    {
     "data": {
      "application/vnd.jupyter.widget-view+json": {
       "model_id": "2884295fe7aa4b9b976e00ec2598d483",
       "version_major": 2,
       "version_minor": 0
      },
      "text/plain": [
       "HBox(children=(IntProgress(value=0, max=8999), HTML(value='')))"
      ]
     },
     "metadata": {},
     "output_type": "display_data"
    },
    {
     "name": "stdout",
     "output_type": "stream",
     "text": [
      "\n",
      "Calculating Recall at k...\n",
      "Calculating Precision at k...\n"
     ]
    }
   ],
   "source": [
    "model_fm_vanilla = LightFM(learning_rate=0.05, loss='bpr')\n",
    "\n",
    "#train model\n",
    "print(\"Fitting model...\")\n",
    "model_fm_vanilla.fit(train_light)\n",
    "\n",
    "#evaluate model\n",
    "coverage, precision, recall = evaluate_lightfm(model_fm_vanilla, interactions, train_light, test_light)\n",
    "print(\"Precision:\",precision*100,'%')\n",
    "print(\"Recall:\",recall*100,'%')\n",
    "print(\"Coverage:\",coverage*100,'%')\n",
    "\n",
    "test_model = LightFM\n",
    "params = [0.005, 0.01, 0.05, 0.1, 0.2]\n",
    "param_type = \"learning_rate\"\n",
    "k_fold = 4\n",
    "n_recs = 20\n",
    "ndcg_list, heatmap_list = auto_tune_parameter(k = k_fold, interactions = 20, model = test_model, data = plays_sparse, param1 = params, param_type = param_type)"
   ]
  },
  {
   "cell_type": "code",
   "execution_count": null,
   "metadata": {
    "collapsed": true
   },
   "outputs": [],
   "source": [
    "#Plot Recall by Number of Components\n",
    "recall_values = heatmap_list[0]\n",
    "\n",
    "recall_heatmap_components = pd.DataFrame({'N':params, 'Recall': recall_values})\n",
    "sns.pointplot(x='N',y='Recall',data=recall_heatmap_components)\n",
    "plt.title('Recall by Learning Rate')\n",
    "plt.xlabel('Number of Components')\n",
    "plt.ylabel('Recall')\n",
    "\n",
    "plt.show()"
   ]
  },
  {
   "cell_type": "markdown",
   "metadata": {},
   "source": [
    "Finally, let's see which loss function is better for recall."
   ]
  },
  {
   "cell_type": "code",
   "execution_count": null,
   "metadata": {
    "collapsed": true
   },
   "outputs": [],
   "source": [
    "test_model = LightFM\n",
    "params = [\"logistic\",\"bpr\",\"warp\"]\n",
    "param_type = \"loss_function\"\n",
    "k_fold = 4\n",
    "n_recs = 20\n",
    "ndcg_list, heatmap_list = auto_tune_parameter(k = k_fold, interactions = 20, model = test_model, data = plays_sparse, param1 = params, param_type = param_type)"
   ]
  },
  {
   "cell_type": "code",
   "execution_count": null,
   "metadata": {
    "collapsed": true
   },
   "outputs": [],
   "source": [
    "#Plot Recall by Number of Components\n",
    "recall_values = heatmap_list[0]\n",
    "\n",
    "recall_heatmap_components = pd.DataFrame({'N':params, 'Recall': recall_values})\n",
    "sns.pointplot(x='N',y='R`ecall',data=recall_heatmap_components)\n",
    "plt.title('Recall by Number of Components')\n",
    "plt.xlabel('Loss Function')\n",
    "plt.ylabel('Recall')\n",
    "\n",
    "plt.show()"
   ]
  },
  {
   "cell_type": "markdown",
   "metadata": {},
   "source": [
    "With these hyperparameters above, we would have the final result below."
   ]
  },
  {
   "cell_type": "code",
   "execution_count": null,
   "metadata": {
    "collapsed": true
   },
   "outputs": [],
   "source": [
    "model_fm_vanilla = LightFM(learning_rate=0.05, no_components = 50, loss='warp')\n",
    "\n",
    "#train model\n",
    "print(\"Fitting model...\")\n",
    "model_fm_vanilla.fit(train_light, epochs = 25)\n",
    "\n",
    "#evaluate model\n",
    "coverage, precision, recall = evaluate_lightfm(model_fm_vanilla, interactions, train_light, test_light)\n",
    "print(\"Precision:\",precision*100,'%')\n",
    "print(\"Recall:\",recall*100,'%')\n",
    "print(\"Coverage:\",coverage*100,'%')\n",
    "\n",
    "final_results['model'].append('fm_vanilla')\n",
    "final_results['precision (%)'].append(precision*100)\n",
    "final_results['recall (%)'].append(recall*100)\n",
    "final_results['coverage (%)'].append(coverage*100)"
   ]
  },
  {
   "cell_type": "markdown",
   "metadata": {},
   "source": [
    "### LightFM (with side information)"
   ]
  },
  {
   "cell_type": "markdown",
   "metadata": {},
   "source": [
    "Next, we will try to fit LightFM with side information and see if it improves our model."
   ]
  },
  {
   "cell_type": "code",
   "execution_count": 46,
   "metadata": {
    "collapsed": true
   },
   "outputs": [],
   "source": [
    "user_feat = pd.read_csv(\"user_features_9000.csv\")\n",
    "user_feat = user_feat[user_feat.columns[1:]]\n",
    "user_features = scipy.sparse.csr_matrix(user_feat.values)"
   ]
  },
  {
   "cell_type": "code",
   "execution_count": 48,
   "metadata": {},
   "outputs": [
    {
     "name": "stdout",
     "output_type": "stream",
     "text": [
      "Fitting model...\n"
     ]
    },
    {
     "data": {
      "text/plain": [
       "<lightfm.lightfm.LightFM at 0x11ebb3be0>"
      ]
     },
     "execution_count": 48,
     "metadata": {},
     "output_type": "execute_result"
    }
   ],
   "source": [
    "model_fm_feat = LightFM(learning_rate=0.05, no_components = 50, loss='warp')\n",
    "\n",
    "# Train Model\n",
    "print(\"Fitting model...\")\n",
    "model_fm_feat.fit(train_light, user_features=user_features, epochs = 25)\n",
    "\n",
    "coverage, precision, recall = evaluate_lightfm(model_fm_feat, plays_sparse, train_light, test_light, user_features=user_features)\n",
    "print(\"Precision:\",precision*100,'%')\n",
    "print(\"Recall:\",recall*100,'%')\n",
    "print(\"Coverage:\",coverage*100,'%')\n",
    "\n",
    "final_results['model'].append('fm_with_features')\n",
    "final_results['precision (%)'].append(precision*100)\n",
    "final_results['recall (%)'].append(recall*100)\n",
    "final_results['coverage (%)'].append(coverage*100)"
   ]
  },
  {
   "cell_type": "markdown",
   "metadata": {},
   "source": [
    "### Troubleshooting"
   ]
  },
  {
   "cell_type": "markdown",
   "metadata": {},
   "source": [
    "Shoot. Adding user features doesn't help either. Let's take a look at our user_features and see if there's a problem with it inherently."
   ]
  },
  {
   "cell_type": "code",
   "execution_count": 4,
   "metadata": {},
   "outputs": [
    {
     "data": {
      "text/html": [
       "<div>\n",
       "<style scoped>\n",
       "    .dataframe tbody tr th:only-of-type {\n",
       "        vertical-align: middle;\n",
       "    }\n",
       "\n",
       "    .dataframe tbody tr th {\n",
       "        vertical-align: top;\n",
       "    }\n",
       "\n",
       "    .dataframe thead th {\n",
       "        text-align: right;\n",
       "    }\n",
       "</style>\n",
       "<table border=\"1\" class=\"dataframe\">\n",
       "  <thead>\n",
       "    <tr style=\"text-align: right;\">\n",
       "      <th></th>\n",
       "      <th>user_id</th>\n",
       "      <th>sex</th>\n",
       "      <th>age</th>\n",
       "      <th>country</th>\n",
       "      <th>dob</th>\n",
       "    </tr>\n",
       "  </thead>\n",
       "  <tbody>\n",
       "    <tr>\n",
       "      <th>0</th>\n",
       "      <td>00000c289a1829a808ac09c00daf10bc3c4e223b</td>\n",
       "      <td>f</td>\n",
       "      <td>22.0</td>\n",
       "      <td>Germany</td>\n",
       "      <td>Feb 1, 2007</td>\n",
       "    </tr>\n",
       "    <tr>\n",
       "      <th>1</th>\n",
       "      <td>00001411dc427966b17297bf4d69e7e193135d89</td>\n",
       "      <td>f</td>\n",
       "      <td>NaN</td>\n",
       "      <td>Canada</td>\n",
       "      <td>Dec 4, 2007</td>\n",
       "    </tr>\n",
       "    <tr>\n",
       "      <th>2</th>\n",
       "      <td>00004d2ac9316e22dc007ab2243d6fcb239e707d</td>\n",
       "      <td>NaN</td>\n",
       "      <td>NaN</td>\n",
       "      <td>Germany</td>\n",
       "      <td>Sep 1, 2006</td>\n",
       "    </tr>\n",
       "    <tr>\n",
       "      <th>3</th>\n",
       "      <td>000063d3fe1cf2ba248b9e3c3f0334845a27a6bf</td>\n",
       "      <td>m</td>\n",
       "      <td>19.0</td>\n",
       "      <td>Mexico</td>\n",
       "      <td>Apr 28, 2008</td>\n",
       "    </tr>\n",
       "    <tr>\n",
       "      <th>4</th>\n",
       "      <td>00007a47085b9aab8af55f52ec8846ac479ac4fe</td>\n",
       "      <td>m</td>\n",
       "      <td>28.0</td>\n",
       "      <td>United States</td>\n",
       "      <td>Jan 27, 2006</td>\n",
       "    </tr>\n",
       "  </tbody>\n",
       "</table>\n",
       "</div>"
      ],
      "text/plain": [
       "                                    user_id  sex   age        country  \\\n",
       "0  00000c289a1829a808ac09c00daf10bc3c4e223b    f  22.0        Germany   \n",
       "1  00001411dc427966b17297bf4d69e7e193135d89    f   NaN         Canada   \n",
       "2  00004d2ac9316e22dc007ab2243d6fcb239e707d  NaN   NaN        Germany   \n",
       "3  000063d3fe1cf2ba248b9e3c3f0334845a27a6bf    m  19.0         Mexico   \n",
       "4  00007a47085b9aab8af55f52ec8846ac479ac4fe    m  28.0  United States   \n",
       "\n",
       "            dob  \n",
       "0   Feb 1, 2007  \n",
       "1   Dec 4, 2007  \n",
       "2   Sep 1, 2006  \n",
       "3  Apr 28, 2008  \n",
       "4  Jan 27, 2006  "
      ]
     },
     "execution_count": 4,
     "metadata": {},
     "output_type": "execute_result"
    }
   ],
   "source": [
    "col_names = ['user_id','sex','age','country','dob']\n",
    "data_raw = pd.read_csv(\"user_side_data_raw.tsv\", sep = \"\\t\", header = None, names = col_names)\n",
    "data_raw.head()"
   ]
  },
  {
   "cell_type": "code",
   "execution_count": 5,
   "metadata": {},
   "outputs": [
    {
     "name": "stdout",
     "output_type": "stream",
     "text": [
      "<class 'pandas.core.frame.DataFrame'>\n",
      "RangeIndex: 359347 entries, 0 to 359346\n",
      "Data columns (total 5 columns):\n",
      "user_id    359347 non-null object\n",
      "sex        326572 non-null object\n",
      "age        284447 non-null float64\n",
      "country    359347 non-null object\n",
      "dob        359347 non-null object\n",
      "dtypes: float64(1), object(4)\n",
      "memory usage: 13.7+ MB\n"
     ]
    }
   ],
   "source": [
    "data_raw.info()"
   ]
  },
  {
   "cell_type": "code",
   "execution_count": 6,
   "metadata": {},
   "outputs": [
    {
     "data": {
      "text/plain": [
       "user_id        0\n",
       "sex        32775\n",
       "age        74900\n",
       "country        0\n",
       "dob            0\n",
       "dtype: int64"
      ]
     },
     "execution_count": 6,
     "metadata": {},
     "output_type": "execute_result"
    }
   ],
   "source": [
    "data_raw.isna().sum()"
   ]
  },
  {
   "cell_type": "markdown",
   "metadata": {},
   "source": [
    "~9% of sex is null"
   ]
  },
  {
   "cell_type": "code",
   "execution_count": 9,
   "metadata": {},
   "outputs": [
    {
     "data": {
      "text/plain": [
       "0.09120710622323269"
      ]
     },
     "execution_count": 9,
     "metadata": {},
     "output_type": "execute_result"
    }
   ],
   "source": [
    "data_raw.isna().sum().sex/float(data_raw.user_id.unique().shape[0])"
   ]
  },
  {
   "cell_type": "markdown",
   "metadata": {},
   "source": [
    "~21% of age is null/below 10"
   ]
  },
  {
   "cell_type": "code",
   "execution_count": 10,
   "metadata": {},
   "outputs": [
    {
     "data": {
      "text/plain": [
       "0.21171736510949027"
      ]
     },
     "execution_count": 10,
     "metadata": {},
     "output_type": "execute_result"
    }
   ],
   "source": [
    "(data_raw.isna().sum().age + data_raw[data_raw.age < 10].shape[0])/float(data_raw.user_id.unique().shape[0])\n"
   ]
  },
  {
   "cell_type": "code",
   "execution_count": 11,
   "metadata": {},
   "outputs": [
    {
     "data": {
      "text/html": [
       "<div>\n",
       "<style scoped>\n",
       "    .dataframe tbody tr th:only-of-type {\n",
       "        vertical-align: middle;\n",
       "    }\n",
       "\n",
       "    .dataframe tbody tr th {\n",
       "        vertical-align: top;\n",
       "    }\n",
       "\n",
       "    .dataframe thead th {\n",
       "        text-align: right;\n",
       "    }\n",
       "</style>\n",
       "<table border=\"1\" class=\"dataframe\">\n",
       "  <thead>\n",
       "    <tr style=\"text-align: right;\">\n",
       "      <th></th>\n",
       "      <th>age</th>\n",
       "    </tr>\n",
       "  </thead>\n",
       "  <tbody>\n",
       "    <tr>\n",
       "      <th>count</th>\n",
       "      <td>284447.000000</td>\n",
       "    </tr>\n",
       "    <tr>\n",
       "      <th>mean</th>\n",
       "      <td>25.098046</td>\n",
       "    </tr>\n",
       "    <tr>\n",
       "      <th>std</th>\n",
       "      <td>21.665742</td>\n",
       "    </tr>\n",
       "    <tr>\n",
       "      <th>min</th>\n",
       "      <td>-1337.000000</td>\n",
       "    </tr>\n",
       "    <tr>\n",
       "      <th>25%</th>\n",
       "      <td>20.000000</td>\n",
       "    </tr>\n",
       "    <tr>\n",
       "      <th>50%</th>\n",
       "      <td>23.000000</td>\n",
       "    </tr>\n",
       "    <tr>\n",
       "      <th>75%</th>\n",
       "      <td>28.000000</td>\n",
       "    </tr>\n",
       "    <tr>\n",
       "      <th>max</th>\n",
       "      <td>1002.000000</td>\n",
       "    </tr>\n",
       "  </tbody>\n",
       "</table>\n",
       "</div>"
      ],
      "text/plain": [
       "                 age\n",
       "count  284447.000000\n",
       "mean       25.098046\n",
       "std        21.665742\n",
       "min     -1337.000000\n",
       "25%        20.000000\n",
       "50%        23.000000\n",
       "75%        28.000000\n",
       "max      1002.000000"
      ]
     },
     "execution_count": 11,
     "metadata": {},
     "output_type": "execute_result"
    }
   ],
   "source": [
    "data_raw.describe()"
   ]
  },
  {
   "cell_type": "markdown",
   "metadata": {},
   "source": [
    "As we can see above, the user_data is not perfect and we have a significant null value for ages and also gender. Even if we combine these null values as \"other\" category, it does not improve the model. Let's see later if having more data would increase accuracy."
   ]
  },
  {
   "cell_type": "markdown",
   "metadata": {},
   "source": [
    "TO DO: if have enough time, find best hyperparameter for this FM model too."
   ]
  },
  {
   "cell_type": "code",
   "execution_count": 34,
   "metadata": {
    "collapsed": true
   },
   "outputs": [],
   "source": [
    "# testmodel=LightFM\n",
    "# tries=[9,10,11,12]\n",
    "# start = time.time()\n",
    "# ndcg_list,heatmap_list=auto_tune_parameter(4,20,testmodel,plays_sparse,tries,user_features=user_features,item_features=None)\n",
    "# stop = time.time()\n",
    "# total = stop-start"
   ]
  },
  {
   "cell_type": "code",
   "execution_count": null,
   "metadata": {
    "collapsed": true
   },
   "outputs": [],
   "source": [
    "# #Plot Recall by Number of Components\n",
    "# recall_values=heatmap_list[0]\n",
    "# # Plot NDCG by Activity Level\n",
    "# recall_heatmap_components = pd.DataFrame({'N':tries, 'Recall': recall_values})\n",
    "# sns.pointplot(x='N',y='Recall',data=recall_heatmap_components)\n",
    "# plt.title('Recall by Number of Components')\n",
    "# plt.xlabel('Number of Components')\n",
    "# plt.ylabel('Recall')\n",
    "\n",
    "# plt.show()"
   ]
  },
  {
   "cell_type": "markdown",
   "metadata": {},
   "source": [
    "### Summary of Performance Results (Table)"
   ]
  },
  {
   "cell_type": "markdown",
   "metadata": {},
   "source": [
    "We summarize the results below for both Implicit and LightFM models:"
   ]
  },
  {
   "cell_type": "code",
   "execution_count": null,
   "metadata": {
    "collapsed": true
   },
   "outputs": [],
   "source": [
    "pd.DataFrame.from_dict(final_results)"
   ]
  },
  {
   "cell_type": "markdown",
   "metadata": {},
   "source": [
    "# 4. Model Exploration"
   ]
  },
  {
   "cell_type": "markdown",
   "metadata": {},
   "source": [
    "Next, we explore these models even more. How do they perform in regards to size, different user population? In our exploration we will focus on three user segments:\n",
    "1. **Activity**: users that have a large number of plays vs those that do not.\n",
    "\n",
    "2. **Diversity**: users that listen to a large number of artists equally vs those that listen only to a specific set of artists. We measure diversity by attaching a diversity score to each user, which is calculated by the spread of listens across all artists played. The artist plays for each user is scaled to between 0 and 1, where 1 is attached to the artist with the most number of plays for that user. The score is then computed by taking the sum of these scaled values. This means that users who have listened to more artists generally have a higher diversity score. Furthermore, it also means that users whose artist plays are more evenly spread out have a higher diversity score as well. For example, a user with [500, 1, 1, 1] listens will have a lower score than a user with [200, 50, 150, 125] listens.\n",
    "\n",
    "3. **Mainstreamness**: users that listen only to popular artists at the time vs. none who do. We measure how ‘mainstream’ each user is by similarly attaching to them a score, which is determined by their weighted plays of popular artists. We first compute the popularity of each artist by calculating their respective total plays across all users. Following which, we assign an indicator for how mainstream a user is by computing the weighted total of listens to the top n artists. n is a parameter that we can tune to adjust which artists are considered ‘popular’.\n"
   ]
  },
  {
   "cell_type": "markdown",
   "metadata": {},
   "source": [
    "## 4a. Performance by User Type"
   ]
  },
  {
   "cell_type": "code",
   "execution_count": null,
   "metadata": {
    "collapsed": true
   },
   "outputs": [],
   "source": [
    "#import functions to group users by different segments."
   ]
  },
  {
   "cell_type": "code",
   "execution_count": 86,
   "metadata": {},
   "outputs": [],
   "source": [
    "run grouping_functions.ipynb"
   ]
  },
  {
   "cell_type": "markdown",
   "metadata": {},
   "source": [
    "### Active/Non-Active"
   ]
  },
  {
   "cell_type": "code",
   "execution_count": 87,
   "metadata": {
    "collapsed": true
   },
   "outputs": [],
   "source": [
    "import seaborn as sns"
   ]
  },
  {
   "cell_type": "code",
   "execution_count": 88,
   "metadata": {
    "scrolled": true
   },
   "outputs": [
    {
     "data": {
      "application/vnd.jupyter.widget-view+json": {
       "model_id": "be9b4e5fe04344dc9965b4563e1a134d"
      }
     },
     "metadata": {},
     "output_type": "display_data"
    },
    {
     "name": "stdout",
     "output_type": "stream",
     "text": [
      "Fitting model...\n",
      "Fitting baseline...\n",
      "Evaluating model...\n"
     ]
    },
    {
     "data": {
      "application/vnd.jupyter.widget-view+json": {
       "model_id": "e088a580aff348838c77a3f27a12ab06"
      }
     },
     "metadata": {},
     "output_type": "display_data"
    },
    {
     "name": "stderr",
     "output_type": "stream",
     "text": [
      "100%|██████████| 15.0/15 [00:02<00:00,  6.83it/s]"
     ]
    },
    {
     "name": "stdout",
     "output_type": "stream",
     "text": [
      "Evaluating model...\n"
     ]
    },
    {
     "name": "stderr",
     "output_type": "stream",
     "text": [
      "\n"
     ]
    },
    {
     "data": {
      "application/vnd.jupyter.widget-view+json": {
       "model_id": "a971bdb3c49f413db47f49c2293ea2dd"
      }
     },
     "metadata": {},
     "output_type": "display_data"
    },
    {
     "name": "stdout",
     "output_type": "stream",
     "text": [
      "Evaluating LightFM...\n",
      "Calculating Coverage...\n"
     ]
    },
    {
     "data": {
      "application/vnd.jupyter.widget-view+json": {
       "model_id": "f45f6595ed33405a8c30a97defd1107e"
      }
     },
     "metadata": {},
     "output_type": "display_data"
    },
    {
     "name": "stdout",
     "output_type": "stream",
     "text": [
      "Calculating Recall at k...\n",
      "Calculating Precision at k...\n"
     ]
    },
    {
     "data": {
      "application/vnd.jupyter.widget-view+json": {
       "model_id": "65eb4dbd7a0b48d9bdd6395fc534c8e3"
      }
     },
     "metadata": {},
     "output_type": "display_data"
    },
    {
     "name": "stdout",
     "output_type": "stream",
     "text": [
      "Fitting model...\n",
      "Fitting baseline...\n",
      "Evaluating model...\n"
     ]
    },
    {
     "data": {
      "application/vnd.jupyter.widget-view+json": {
       "model_id": "ad65c5e4dd474ffa95222bc2cf4ab250"
      }
     },
     "metadata": {},
     "output_type": "display_data"
    },
    {
     "name": "stderr",
     "output_type": "stream",
     "text": [
      "100%|██████████| 15.0/15 [00:02<00:00,  7.94it/s]"
     ]
    },
    {
     "name": "stdout",
     "output_type": "stream",
     "text": [
      "Evaluating model...\n"
     ]
    },
    {
     "name": "stderr",
     "output_type": "stream",
     "text": [
      "\n"
     ]
    },
    {
     "data": {
      "application/vnd.jupyter.widget-view+json": {
       "model_id": "d589de1a5f714a4eb988126150f32943"
      }
     },
     "metadata": {},
     "output_type": "display_data"
    },
    {
     "name": "stdout",
     "output_type": "stream",
     "text": [
      "Evaluating LightFM...\n",
      "Calculating Coverage...\n"
     ]
    },
    {
     "data": {
      "application/vnd.jupyter.widget-view+json": {
       "model_id": "8ab30f0f2e594d7ca231fc3d42911ee4"
      }
     },
     "metadata": {},
     "output_type": "display_data"
    },
    {
     "name": "stdout",
     "output_type": "stream",
     "text": [
      "Calculating Recall at k...\n",
      "Calculating Precision at k...\n"
     ]
    },
    {
     "data": {
      "application/vnd.jupyter.widget-view+json": {
       "model_id": "6961cd7c40f544b8ac25fce01b58151b"
      }
     },
     "metadata": {},
     "output_type": "display_data"
    },
    {
     "name": "stdout",
     "output_type": "stream",
     "text": [
      "Fitting model...\n",
      "Fitting baseline...\n",
      "Evaluating model...\n"
     ]
    },
    {
     "data": {
      "application/vnd.jupyter.widget-view+json": {
       "model_id": "a8263cc97ab84f6eaf7eb31f817d842c"
      }
     },
     "metadata": {},
     "output_type": "display_data"
    },
    {
     "name": "stderr",
     "output_type": "stream",
     "text": [
      "100%|██████████| 15.0/15 [00:01<00:00,  7.85it/s]"
     ]
    },
    {
     "name": "stdout",
     "output_type": "stream",
     "text": [
      "Evaluating model...\n"
     ]
    },
    {
     "name": "stderr",
     "output_type": "stream",
     "text": [
      "\n"
     ]
    },
    {
     "data": {
      "application/vnd.jupyter.widget-view+json": {
       "model_id": "44d57af0f0fb4d74a64cb4bf4f87f582"
      }
     },
     "metadata": {},
     "output_type": "display_data"
    },
    {
     "name": "stdout",
     "output_type": "stream",
     "text": [
      "Evaluating LightFM...\n",
      "Calculating Coverage...\n"
     ]
    },
    {
     "data": {
      "application/vnd.jupyter.widget-view+json": {
       "model_id": "2385bbcb533c41ada405c63d4928a27f"
      }
     },
     "metadata": {},
     "output_type": "display_data"
    },
    {
     "name": "stdout",
     "output_type": "stream",
     "text": [
      "Calculating Recall at k...\n",
      "Calculating Precision at k...\n"
     ]
    }
   ],
   "source": [
    "n=3\n",
    "activity_groups=active_users(plays_sparse, n)\n",
    "levels=[1,2,3]\n",
    "recall_activity_als = []\n",
    "precision_activity_als = []\n",
    "coverage_activity_als = []\n",
    "\n",
    "recall_activity_baseline = []\n",
    "precision_activity_baseline = []\n",
    "coverage_activity_baseline = []\n",
    "\n",
    "recall_activity_fm = []\n",
    "precision_activity_fm = []\n",
    "coverage_activity_fm = []\n",
    "\n",
    "for group in activity_groups:\n",
    "    #print('Matrix Sparsity:', calculate_sparsity(group))\n",
    "    # Compute the recall and ndcg using optimal parameters for the ALS model on different dataset sizes\n",
    "    train, test, user_count = split_train_test_per_user(group, 4, 20)\n",
    "    # train model \n",
    "    print(\"Fitting model...\")\n",
    "    #FIRST, BASELINE------------------------------\n",
    "    model=Baseline(20)\n",
    "    model.fit(train)\n",
    "    coverage, precision, recall, ndcg = evaluate(model,\"baseline\", test, group)\n",
    "\n",
    "    recall_activity_baseline.append(recall)\n",
    "    precision_activity_baseline.append(precision)\n",
    "    coverage_activity_baseline.append(coverage)\n",
    "    \n",
    "    #SECOND, ALS-------------------------------------\n",
    "    model = implicit.als.AlternatingLeastSquares(factors=30, regularization=0.01)\n",
    "    model.fit(train, show_progress=True)\n",
    "    \n",
    "    coverage, precision, recall, ndcg = evaluate(model,\"implicit\", test, group)\n",
    "\n",
    "    recall_activity_als.append(recall)\n",
    "    precision_activity_als.append(precision)\n",
    "    coverage_activity_als.append(coverage)\n",
    "    \n",
    "    #THIRD, LIGHTFM----------------------------------\n",
    "    train_light_plot, test_light_plot = lightfm.cross_validation.random_train_test_split(group, test_percentage=0.75, random_state=None)\n",
    "    model = LightFM(no_components=50, loss='warp')\n",
    "    model.fit(train_light_plot, user_features=user_features)\n",
    "    coverage, precision, recall = evaluate_lightfm(model, group, train_light_plot, test_light_plot, user_features=user_features)\n",
    "\n",
    "    recall_activity_fm.append(recall)\n",
    "    precision_activity_fm.append(precision)\n",
    "    coverage_activity_fm.append(coverage)"
   ]
  },
  {
   "cell_type": "code",
   "execution_count": 89,
   "metadata": {},
   "outputs": [
    {
     "name": "stderr",
     "output_type": "stream",
     "text": [
      "/anaconda/lib/python3.6/site-packages/seaborn/categorical.py:1468: FutureWarning: remove_na is deprecated and is a private function. Do not use.\n",
      "  stat_data = remove_na(group_data[hue_mask])\n"
     ]
    },
    {
     "data": {
      "image/png": "[encoded data removed]",
      "text/plain": [
       "<Figure size 576x396 with 1 Axes>"
      ]
     },
     "metadata": {},
     "output_type": "display_data"
    }
   ],
   "source": [
    "# Plot Recall by Activity Level\n",
    "recall_activity_als_df = pd.DataFrame({'N':levels, 'Recall': recall_activity_als})\n",
    "recall_activity_baseline_df = pd.DataFrame({'N':levels, 'Recall': recall_activity_baseline})\n",
    "recall_activity_fm_df = pd.DataFrame({'N':levels, 'Recall': recall_activity_fm})\n",
    "\n",
    "f, ax = plt.subplots(1, 1)\n",
    "\n",
    "recall_activity_als_df['Model'] = 'Implicit ALS'\n",
    "recall_activity_baseline_df['Model'] = 'Baseline'\n",
    "recall_activity_fm_df['Model'] = 'LightFM'\n",
    "\n",
    "df = pd.concat([recall_activity_als_df,recall_activity_baseline_df,recall_activity_fm_df])\n",
    "sns.pointplot(ax=ax,x='N',y='Recall',data=df,hue='Model')\n",
    "plt.title('Recall by Activity Level')\n",
    "plt.xlabel('Activity Level')\n",
    "plt.ylabel('Recall')\n",
    "\n",
    "plt.show()"
   ]
  },
  {
   "cell_type": "code",
   "execution_count": 90,
   "metadata": {},
   "outputs": [
    {
     "name": "stderr",
     "output_type": "stream",
     "text": [
      "/anaconda/lib/python3.6/site-packages/seaborn/categorical.py:1468: FutureWarning: remove_na is deprecated and is a private function. Do not use.\n",
      "  stat_data = remove_na(group_data[hue_mask])\n"
     ]
    },
    {
     "data": {
      "image/png": "[encoded data removed]",
      "text/plain": [
       "<Figure size 576x396 with 1 Axes>"
      ]
     },
     "metadata": {},
     "output_type": "display_data"
    }
   ],
   "source": [
    "# Plot Precision by Activity Level\n",
    "precision_activity_als_df = pd.DataFrame({'N':levels, 'Precision': precision_activity_als})\n",
    "precision_activity_baseline_df = pd.DataFrame({'N':levels, 'Precision': precision_activity_baseline})\n",
    "precision_activity_fm_df = pd.DataFrame({'N':levels, 'Precision': precision_activity_fm})\n",
    "f, ax = plt.subplots(1, 1)\n",
    "\n",
    "precision_activity_als_df['Model'] = 'Implicit ALS'\n",
    "precision_activity_fm_df['Model'] = 'LightFM'\n",
    "precision_activity_baseline_df['Model'] = 'Baseline'\n",
    "df = pd.concat([precision_activity_als_df,precision_activity_baseline_df,precision_activity_fm_df])\n",
    "sns.pointplot(ax=ax,x='N',y='Precision',data=df,hue='Model')\n",
    "plt.title('Precision by Activity Level')\n",
    "plt.xlabel('Activity Level')\n",
    "plt.ylabel('Precision')\n",
    "\n",
    "plt.show()"
   ]
  },
  {
   "cell_type": "code",
   "execution_count": 91,
   "metadata": {},
   "outputs": [
    {
     "name": "stderr",
     "output_type": "stream",
     "text": [
      "/anaconda/lib/python3.6/site-packages/seaborn/categorical.py:1468: FutureWarning: remove_na is deprecated and is a private function. Do not use.\n",
      "  stat_data = remove_na(group_data[hue_mask])\n"
     ]
    },
    {
     "data": {
      "image/png": "[encoded data removed]",
      "text/plain": [
       "<Figure size 576x396 with 1 Axes>"
      ]
     },
     "metadata": {},
     "output_type": "display_data"
    }
   ],
   "source": [
    "# Plot Coverage by Activity Level\n",
    "coverage_activity_als_df = pd.DataFrame({'N':levels, 'Coverage': coverage_activity_als})\n",
    "coverage_activity_baseline_df = pd.DataFrame({'N':levels, 'Coverage': coverage_activity_baseline})\n",
    "coverage_activity_fm_df = pd.DataFrame({'N':levels, 'Coverage': coverage_activity_fm})\n",
    "\n",
    "f, ax = plt.subplots(1, 1)\n",
    "\n",
    "coverage_activity_als_df['Model'] = 'Implicit ALS'\n",
    "coverage_activity_baseline_df['Model'] = 'Baseline'\n",
    "coverage_activity_fm_df['Model'] = 'LightFM'\n",
    "df = pd.concat([coverage_activity_als_df,coverage_activity_baseline_df,coverage_activity_fm_df])\n",
    "sns.pointplot(ax=ax,x='N',y='Coverage',data=df,hue='Model')\n",
    "plt.title('Coverage by Activity Level')\n",
    "plt.xlabel('Activity Level')\n",
    "plt.ylabel('Coverage')\n",
    "\n",
    "plt.show()"
   ]
  },
  {
   "cell_type": "markdown",
   "metadata": {},
   "source": [
    "### Diverse/Non-Diverse"
   ]
  },
  {
   "cell_type": "code",
   "execution_count": 72,
   "metadata": {
    "scrolled": true
   },
   "outputs": [
    {
     "data": {
      "application/vnd.jupyter.widget-view+json": {
       "model_id": "1335bca50c114ba6b5fc18778991e096"
      }
     },
     "metadata": {},
     "output_type": "display_data"
    },
    {
     "name": "stdout",
     "output_type": "stream",
     "text": [
      "\n",
      "Fitting model...\n",
      "Fitting baseline...\n",
      "[1.04349e+05 9.22100e+03 1.56230e+04 ... 2.80000e+01 2.70000e+01\n",
      " 2.40000e+01]\n",
      "Evaluating model...\n"
     ]
    },
    {
     "data": {
      "application/vnd.jupyter.widget-view+json": {
       "model_id": "dc2b66de537c4e73bd771f5f06bb2181"
      }
     },
     "metadata": {},
     "output_type": "display_data"
    },
    {
     "name": "stderr",
     "output_type": "stream",
     "text": [
      "\r",
      "  0%|          | 0/15 [00:00<?, ?it/s]"
     ]
    },
    {
     "name": "stdout",
     "output_type": "stream",
     "text": [
      "\n",
      "Recall: 7.006500171057133 %\n",
      "Average NDCG: 4.426799197570511 %\n",
      "Coverage: 0.04246104199397053 %\n",
      "Precision: 1.7516250427642832 %\n"
     ]
    },
    {
     "name": "stderr",
     "output_type": "stream",
     "text": [
      "100%|██████████| 15.0/15 [00:02<00:00,  5.45it/s]"
     ]
    },
    {
     "name": "stdout",
     "output_type": "stream",
     "text": [
      "Evaluating model...\n"
     ]
    },
    {
     "name": "stderr",
     "output_type": "stream",
     "text": [
      "\n"
     ]
    },
    {
     "data": {
      "application/vnd.jupyter.widget-view+json": {
       "model_id": "1ddba5cb15bd4942ad1f542f9e9385c4"
      }
     },
     "metadata": {},
     "output_type": "display_data"
    },
    {
     "name": "stdout",
     "output_type": "stream",
     "text": [
      "\n",
      "Recall: 16.161477933629833 %\n",
      "Average NDCG: 10.992684674944448 %\n",
      "Coverage: 5.9318075665576835 %\n",
      "Precision: 4.040369483407458 %\n"
     ]
    },
    {
     "data": {
      "application/vnd.jupyter.widget-view+json": {
       "model_id": "30c4901d99a949b3ad56c886d54d1e48"
      }
     },
     "metadata": {},
     "output_type": "display_data"
    },
    {
     "name": "stdout",
     "output_type": "stream",
     "text": [
      "\n",
      "Fitting model...\n",
      "Fitting baseline...\n",
      "[92344.  8570. 26077. ...     0.     0.     0.]\n",
      "Evaluating model...\n"
     ]
    },
    {
     "data": {
      "application/vnd.jupyter.widget-view+json": {
       "model_id": "3a995df7c16249b0b6b68099e5afb5e8"
      }
     },
     "metadata": {},
     "output_type": "display_data"
    },
    {
     "name": "stderr",
     "output_type": "stream",
     "text": [
      "  7%|▋         | 1.0/15 [00:00<00:01,  7.14it/s]"
     ]
    },
    {
     "name": "stdout",
     "output_type": "stream",
     "text": [
      "\n",
      "Recall: 7.5050033355570385 %\n",
      "Average NDCG: 5.2637730179707 %\n",
      "Coverage: 0.04246104199397053 %\n",
      "Precision: 1.8762508338892596 %\n"
     ]
    },
    {
     "name": "stderr",
     "output_type": "stream",
     "text": [
      "100%|██████████| 15.0/15 [00:01<00:00,  8.24it/s]"
     ]
    },
    {
     "name": "stdout",
     "output_type": "stream",
     "text": [
      "Evaluating model...\n"
     ]
    },
    {
     "name": "stderr",
     "output_type": "stream",
     "text": [
      "\n"
     ]
    },
    {
     "data": {
      "application/vnd.jupyter.widget-view+json": {
       "model_id": "e8d7195b0bf047e5b824ad62950b4156"
      }
     },
     "metadata": {},
     "output_type": "display_data"
    },
    {
     "name": "stdout",
     "output_type": "stream",
     "text": [
      "\n",
      "Recall: 16.110740493662444 %\n",
      "Average NDCG: 10.65406927764402 %\n",
      "Coverage: 5.8023013884760735 %\n",
      "Precision: 4.027685123415611 %\n"
     ]
    },
    {
     "data": {
      "application/vnd.jupyter.widget-view+json": {
       "model_id": "57cd3e93e5024167b00152b95ef42e5a"
      }
     },
     "metadata": {},
     "output_type": "display_data"
    },
    {
     "name": "stdout",
     "output_type": "stream",
     "text": [
      "\n",
      "Fitting model...\n",
      "Fitting baseline...\n",
      "[75484. 16468. 24400. ...     0.     0.     0.]\n",
      "Evaluating model...\n"
     ]
    },
    {
     "data": {
      "application/vnd.jupyter.widget-view+json": {
       "model_id": "bf3c828f88694efa889ecdb1eea2ed87"
      }
     },
     "metadata": {},
     "output_type": "display_data"
    },
    {
     "name": "stderr",
     "output_type": "stream",
     "text": [
      "  7%|▋         | 1.0/15 [00:00<00:02,  6.80it/s]"
     ]
    },
    {
     "name": "stdout",
     "output_type": "stream",
     "text": [
      "\n",
      "Recall: 6.3133333333333335 %\n",
      "Average NDCG: 4.518626024119206 %\n",
      "Coverage: 0.04246104199397053 %\n",
      "Precision: 1.5783333333333334 %\n"
     ]
    },
    {
     "name": "stderr",
     "output_type": "stream",
     "text": [
      "100%|██████████| 15.0/15 [00:02<00:00,  7.92it/s]"
     ]
    },
    {
     "name": "stdout",
     "output_type": "stream",
     "text": [
      "Evaluating model...\n"
     ]
    },
    {
     "name": "stderr",
     "output_type": "stream",
     "text": [
      "\n"
     ]
    },
    {
     "data": {
      "application/vnd.jupyter.widget-view+json": {
       "model_id": "64e7ec90de5743b4a88edb8df1246eda"
      }
     },
     "metadata": {},
     "output_type": "display_data"
    },
    {
     "name": "stdout",
     "output_type": "stream",
     "text": [
      "\n",
      "Recall: 16.813333333333333 %\n",
      "Average NDCG: 11.054940021194678 %\n",
      "Coverage: 6.394632924291963 %\n",
      "Precision: 4.203333333333333 %\n"
     ]
    }
   ],
   "source": [
    "n=3\n",
    "diversity_groups=diverse_users(plays_sparse, n)\n",
    "levels=[1,2,3]\n",
    "recall_div_als = []\n",
    "precision_div_als = []\n",
    "coverage_div_als = []\n",
    "\n",
    "recall_div_baseline = []\n",
    "precision_div_baseline = []\n",
    "coverage_div_baseline = []\n",
    "\n",
    "recall_div_fm = []\n",
    "precision_div_fm = []\n",
    "coverage_div_fm = []\n",
    "\n",
    "for group in diversity_groups:\n",
    "    #print('Matrix Sparsity:', calculate_sparsity(group))\n",
    "    # Compute the recall and ndcg using optimal parameters for the ALS model on different dataset sizes\n",
    "    train, test, user_count = split_train_test_per_user(group, 4, 20)\n",
    "    # train model \n",
    "    print(\"Fitting model...\")\n",
    "    #FIRST, BASELINE------------------------------\n",
    "    model=Baseline(20)\n",
    "    model.fit(train)\n",
    "    coverage, precision, recall, ndcg = evaluate(model,\"baseline\", test, group)\n",
    "\n",
    "    ndcg_div_baseline.append(ndcg)\n",
    "    precision_div_baseline.append(precision)\n",
    "    coverage_div_baseline.append(coverage)\n",
    "    \n",
    "    #SECOND, ALS-------------------------------------\n",
    "    model = implicit.als.AlternatingLeastSquares(factors=30, regularization=0.01)\n",
    "    model.fit(train, show_progress=True)\n",
    "    \n",
    "    coverage, precision, recall, ndcg = evaluate(model,\"implicit\", test, group)\n",
    "\n",
    "    recall_div_als.append(recall)\n",
    "    ndcg_div_als.append(ndcg)\n",
    "    precision_div_als.append(precision)\n",
    "    coverage_div_als.append(coverage)\n",
    "    \n",
    "    #THIRD, LIGHTFM-----------------------------------\n",
    "    train_light_plot, test_light_plot = lightfm.cross_validation.random_train_test_split(group, test_percentage=0.75, random_state=None)\n",
    "    model = LightFM(no_components=50, loss='warp')\n",
    "    model.fit(train_light_plot, user_features=user_features)\n",
    "    coverage, precision, recall = evaluate_lightfm(model, group, train_light_plot, test_light_plot, user_features=user_features)\n",
    "\n",
    "    recall_activity_fm.append(recall)\n",
    "    precision_activity_fm.append(precision)\n",
    "    coverage_activity_fm.append(coverage)"
   ]
  },
  {
   "cell_type": "code",
   "execution_count": 74,
   "metadata": {},
   "outputs": [
    {
     "name": "stderr",
     "output_type": "stream",
     "text": [
      "/anaconda/lib/python3.6/site-packages/seaborn/categorical.py:1468: FutureWarning: remove_na is deprecated and is a private function. Do not use.\n",
      "  stat_data = remove_na(group_data[hue_mask])\n"
     ]
    },
    {
     "data": {
      "image/png": "[encoded data removed]",
      "text/plain": [
       "<Figure size 576x396 with 1 Axes>"
      ]
     },
     "metadata": {},
     "output_type": "display_data"
    }
   ],
   "source": [
    "# Plot NDCG by Diversity Level\n",
    "ndcg_div_als_df = pd.DataFrame({'N':levels, 'NDCG': ndcg_div_als})\n",
    "ndcg_div_baseline_df = pd.DataFrame({'N':levels, 'NDCG': ndcg_div_baseline})\n",
    "f, ax = plt.subplots(1, 1)\n",
    "\n",
    "ndcg_div_als_df['Model'] = 'Implicit ALS'\n",
    "ndcg_div_baseline_df['Model'] = 'Baseline'\n",
    "df = pd.concat([ndcg_div_als_df,ndcg_div_baseline_df])\n",
    "sns.pointplot(ax=ax,x='N',y='NDCG',data=df,hue='Model')\n",
    "plt.title('NDCG by Diversity Level')\n",
    "plt.xlabel('Diversity Level')\n",
    "plt.ylabel('NDCG')\n",
    "\n",
    "plt.show()"
   ]
  },
  {
   "cell_type": "code",
   "execution_count": 60,
   "metadata": {},
   "outputs": [
    {
     "name": "stderr",
     "output_type": "stream",
     "text": [
      "/anaconda/lib/python3.6/site-packages/seaborn/categorical.py:1468: FutureWarning: remove_na is deprecated and is a private function. Do not use.\n",
      "  stat_data = remove_na(group_data[hue_mask])\n"
     ]
    },
    {
     "data": {
      "image/png": "[encoded data removed]",
      "text/plain": [
       "<Figure size 576x396 with 1 Axes>"
      ]
     },
     "metadata": {},
     "output_type": "display_data"
    }
   ],
   "source": [
    "# Plot Recall by Diversity Level\n",
    "recall_div_als_df = pd.DataFrame({'N':levels, 'Recall': recall_div_als})\n",
    "recall_div_baseline_df = pd.DataFrame({'N':levels, 'Recall': recall_div_baseline})\n",
    "f, ax = plt.subplots(1, 1)\n",
    "\n",
    "recall_div_als_df['Model'] = 'Implicit ALS'\n",
    "recall_div_baseline_df['Model'] = 'Baseline'\n",
    "df = pd.concat([recall_div_als_df,recall_div_baseline_df])\n",
    "sns.pointplot(ax=ax,x='N',y='Recall',data=df,hue='Model')\n",
    "plt.title('Recall by Diversity Level')\n",
    "plt.xlabel('Diversity Level')\n",
    "plt.ylabel('Recall')\n",
    "\n",
    "plt.show()"
   ]
  },
  {
   "cell_type": "code",
   "execution_count": 62,
   "metadata": {},
   "outputs": [
    {
     "name": "stderr",
     "output_type": "stream",
     "text": [
      "/anaconda/lib/python3.6/site-packages/seaborn/categorical.py:1468: FutureWarning: remove_na is deprecated and is a private function. Do not use.\n",
      "  stat_data = remove_na(group_data[hue_mask])\n"
     ]
    },
    {
     "data": {
      "image/png": "[encoded data removed]",
      "text/plain": [
       "<Figure size 576x396 with 1 Axes>"
      ]
     },
     "metadata": {},
     "output_type": "display_data"
    }
   ],
   "source": [
    "# Plot Precision by Diversity Level\n",
    "precision_div_als_df = pd.DataFrame({'N':levels, 'Precision': precision_div_als})\n",
    "precision_div_baseline_df = pd.DataFrame({'N':levels, 'Precision': precision_div_baseline})\n",
    "f, ax = plt.subplots(1, 1)\n",
    "\n",
    "precision_div_als_df['Model'] = 'Implicit ALS'\n",
    "precision_div_baseline_df['Model'] = 'Baseline'\n",
    "df = pd.concat([precision_div_als_df,precision_div_baseline_df])\n",
    "sns.pointplot(ax=ax,x='N',y='Precision',data=df,hue='Model')\n",
    "plt.title('Precision by Diversity Level')\n",
    "plt.xlabel('Diversity Level')\n",
    "plt.ylabel('Precision')\n",
    "\n",
    "plt.show()"
   ]
  },
  {
   "cell_type": "code",
   "execution_count": 63,
   "metadata": {},
   "outputs": [
    {
     "name": "stderr",
     "output_type": "stream",
     "text": [
      "/anaconda/lib/python3.6/site-packages/seaborn/categorical.py:1468: FutureWarning: remove_na is deprecated and is a private function. Do not use.\n",
      "  stat_data = remove_na(group_data[hue_mask])\n"
     ]
    },
    {
     "data": {
      "image/png": "[encoded data removed]",
      "text/plain": [
       "<Figure size 576x396 with 1 Axes>"
      ]
     },
     "metadata": {},
     "output_type": "display_data"
    }
   ],
   "source": [
    "# Plot Coverage by Diversity Level\n",
    "coverage_div_als_df = pd.DataFrame({'N':levels, 'Coverage': coverage_div_als})\n",
    "coverage_div_baseline_df = pd.DataFrame({'N':levels, 'Coverage': coverage_div_baseline})\n",
    "f, ax = plt.subplots(1, 1)\n",
    "\n",
    "coverage_div_als_df['Model'] = 'Implicit ALS'\n",
    "coverage_div_baseline_df['Model'] = 'Baseline'\n",
    "df = pd.concat([coverage_div_als_df,coverage_div_baseline_df])\n",
    "sns.pointplot(ax=ax,x='N',y='Coverage',data=df,hue='Model')\n",
    "plt.title('Coverage by Diversity Level')\n",
    "plt.xlabel('Diversity Level')\n",
    "plt.ylabel('Coverage')\n",
    "\n",
    "plt.show()"
   ]
  },
  {
   "cell_type": "markdown",
   "metadata": {},
   "source": [
    "### Mainstream / Non-Mainstream"
   ]
  },
  {
   "cell_type": "code",
   "execution_count": 87,
   "metadata": {
    "scrolled": true
   },
   "outputs": [
    {
     "data": {
      "application/vnd.jupyter.widget-view+json": {
       "model_id": "fdb6f7273c7844a5b7ced18694990e67"
      }
     },
     "metadata": {},
     "output_type": "display_data"
    },
    {
     "name": "stdout",
     "output_type": "stream",
     "text": [
      "\n",
      "Fitting model...\n",
      "Fitting baseline...\n",
      "[ 7392.  9617. 19081. ...     0.     0.     0.]\n",
      "Evaluating model...\n"
     ]
    },
    {
     "data": {
      "application/vnd.jupyter.widget-view+json": {
       "model_id": "b1cda553c5d94de0a5fb88ef94fb4b97"
      }
     },
     "metadata": {},
     "output_type": "display_data"
    },
    {
     "name": "stdout",
     "output_type": "stream",
     "text": [
      "\n"
     ]
    },
    {
     "name": "stderr",
     "output_type": "stream",
     "text": [
      "\r",
      "  0%|          | 0/15 [00:00<?, ?it/s]"
     ]
    },
    {
     "name": "stdout",
     "output_type": "stream",
     "text": [
      "Recall: 2.46704967894559 %\n",
      "Average NDCG: 1.1848020638967913 %\n",
      "Coverage: 0.04246104199397053 %\n",
      "Precision: 0.6167624197363974 %\n"
     ]
    },
    {
     "name": "stderr",
     "output_type": "stream",
     "text": [
      "100%|██████████| 15.0/15 [00:02<00:00,  7.68it/s]"
     ]
    },
    {
     "name": "stdout",
     "output_type": "stream",
     "text": [
      "Evaluating model...\n"
     ]
    },
    {
     "name": "stderr",
     "output_type": "stream",
     "text": [
      "\n"
     ]
    },
    {
     "data": {
      "application/vnd.jupyter.widget-view+json": {
       "model_id": "9716223a81564ec48cb391409e1c6dc1"
      }
     },
     "metadata": {},
     "output_type": "display_data"
    },
    {
     "name": "stdout",
     "output_type": "stream",
     "text": [
      "\n",
      "Recall: 15.417370733355865 %\n",
      "Average NDCG: 10.138706403826662 %\n",
      "Coverage: 7.600526516920725 %\n",
      "Precision: 3.8543426833389662 %\n"
     ]
    },
    {
     "data": {
      "application/vnd.jupyter.widget-view+json": {
       "model_id": "8b22709dcf844e569fc7c36184e9a885"
      }
     },
     "metadata": {},
     "output_type": "display_data"
    },
    {
     "name": "stdout",
     "output_type": "stream",
     "text": [
      "\n",
      "Fitting model...\n",
      "Fitting baseline...\n",
      "[3.7673e+04 1.2332e+04 1.7039e+04 ... 2.8000e+01 2.7000e+01 2.4000e+01]\n",
      "Evaluating model...\n"
     ]
    },
    {
     "data": {
      "application/vnd.jupyter.widget-view+json": {
       "model_id": "5d9be3bb56bc4930b799d79b28040deb"
      }
     },
     "metadata": {},
     "output_type": "display_data"
    },
    {
     "name": "stderr",
     "output_type": "stream",
     "text": [
      "  7%|▋         | 1.0/15 [00:00<00:01,  7.23it/s]"
     ]
    },
    {
     "name": "stdout",
     "output_type": "stream",
     "text": [
      "\n",
      "Recall: 5.693135935397039 %\n",
      "Average NDCG: 3.3300714657079413 %\n",
      "Coverage: 0.04246104199397053 %\n",
      "Precision: 1.4232839838492597 %\n"
     ]
    },
    {
     "name": "stderr",
     "output_type": "stream",
     "text": [
      "100%|██████████| 15.0/15 [00:01<00:00,  8.43it/s]"
     ]
    },
    {
     "name": "stdout",
     "output_type": "stream",
     "text": [
      "Evaluating model...\n"
     ]
    },
    {
     "name": "stderr",
     "output_type": "stream",
     "text": [
      "\n"
     ]
    },
    {
     "data": {
      "application/vnd.jupyter.widget-view+json": {
       "model_id": "d46f34ed535340f29ad47d37fa99bf77"
      }
     },
     "metadata": {},
     "output_type": "display_data"
    },
    {
     "name": "stdout",
     "output_type": "stream",
     "text": [
      "\n",
      "Recall: 15.0 %\n",
      "Average NDCG: 10.01600382016395 %\n",
      "Coverage: 5.961530295953462 %\n",
      "Precision: 3.75 %\n"
     ]
    },
    {
     "data": {
      "application/vnd.jupyter.widget-view+json": {
       "model_id": "24f3fe08c6c748af874cbe8d3914aeea"
      }
     },
     "metadata": {},
     "output_type": "display_data"
    },
    {
     "name": "stdout",
     "output_type": "stream",
     "text": [
      "\n",
      "Fitting model...\n",
      "Fitting baseline...\n",
      "[271820.  12408.  31613. ...      0.      0.      0.]\n",
      "Evaluating model...\n"
     ]
    },
    {
     "data": {
      "application/vnd.jupyter.widget-view+json": {
       "model_id": "9b32228d3fbf4022964d6bcbd6eca49c"
      }
     },
     "metadata": {},
     "output_type": "display_data"
    },
    {
     "name": "stderr",
     "output_type": "stream",
     "text": [
      "  7%|▋         | 1.0/15 [00:00<00:01,  7.54it/s]"
     ]
    },
    {
     "name": "stdout",
     "output_type": "stream",
     "text": [
      "\n",
      "Recall: 12.40133779264214 %\n",
      "Average NDCG: 9.70676309374585 %\n",
      "Coverage: 0.04246104199397053 %\n",
      "Precision: 3.100334448160535 %\n"
     ]
    },
    {
     "name": "stderr",
     "output_type": "stream",
     "text": [
      "100%|██████████| 15.0/15 [00:02<00:00,  7.86it/s]"
     ]
    },
    {
     "name": "stdout",
     "output_type": "stream",
     "text": [
      "Evaluating model...\n"
     ]
    },
    {
     "name": "stderr",
     "output_type": "stream",
     "text": [
      "\n"
     ]
    },
    {
     "data": {
      "application/vnd.jupyter.widget-view+json": {
       "model_id": "566fb85daa4f44bbb3ad5f0019914ab2"
      }
     },
     "metadata": {},
     "output_type": "display_data"
    },
    {
     "name": "stdout",
     "output_type": "stream",
     "text": [
      "\n",
      "Recall: 17.270903010033443 %\n",
      "Average NDCG: 10.589528010532689 %\n",
      "Coverage: 4.110228865016348 %\n",
      "Precision: 4.317725752508361 %\n"
     ]
    }
   ],
   "source": [
    "n=3\n",
    "ms_groups=mainstream_users(plays_sparse, top_artists=20, n=3)\n",
    "levels=[1,2,3]\n",
    "ndcg_ms_als = []\n",
    "recall_ms_als = []\n",
    "precision_ms_als = []\n",
    "coverage_ms_als = []\n",
    "\n",
    "ndcg_ms_baseline = []\n",
    "recall_ms_baseline = []\n",
    "precision_ms_baseline = []\n",
    "coverage_ms_baseline = []\n",
    "\n",
    "for group in ms_groups:\n",
    "    #print('Matrix Sparsity:', calculate_sparsity(group))\n",
    "    # Compute the recall and ndcg using optimal parameters for the ALS model on different dataset sizes\n",
    "    train, test, user_count = split_train_test_per_user(group, 4, 20)\n",
    "    # train model \n",
    "    print(\"Fitting model...\")\n",
    "    #FIRST, BASELINE------------------------------\n",
    "    model=Baseline(20)\n",
    "    model.fit(train)\n",
    "    coverage, precision, recall, ndcg = evaluate(model,\"baseline\", test, group)\n",
    "\n",
    "    print(\"Recall:\",recall*100,'%')\n",
    "    print(\"Average NDCG:\",ndcg*100,'%')\n",
    "    print(\"Coverage:\",coverage*100,'%')\n",
    "    print(\"Precision:\",precision*100,'%')\n",
    "\n",
    "    recall_ms_baseline.append(recall)\n",
    "    ndcg_ms_baseline.append(ndcg)\n",
    "    precision_ms_baseline.append(precision)\n",
    "    coverage_ms_baseline.append(coverage)\n",
    "    \n",
    "    #SECOND, ALS-------------------------------------\n",
    "    model = implicit.als.AlternatingLeastSquares(factors=30, regularization=0.01)\n",
    "    model.fit(train, show_progress=True)\n",
    "    \n",
    "    coverage, precision, recall, ndcg = evaluate(model,\"implicit\", test, group)\n",
    "    print(\"Recall:\",recall*100,'%')\n",
    "    print(\"Average NDCG:\",ndcg*100,'%')\n",
    "    print(\"Coverage:\",coverage*100,'%')\n",
    "    print(\"Precision:\",precision*100,'%')\n",
    "\n",
    "    recall_ms_als.append(recall)\n",
    "    ndcg_ms_als.append(ndcg)\n",
    "    precision_ms_als.append(precision)\n",
    "    coverage_ms_als.append(coverage)"
   ]
  },
  {
   "cell_type": "code",
   "execution_count": 88,
   "metadata": {},
   "outputs": [
    {
     "name": "stderr",
     "output_type": "stream",
     "text": [
      "/anaconda/lib/python3.6/site-packages/seaborn/categorical.py:1468: FutureWarning: remove_na is deprecated and is a private function. Do not use.\n",
      "  stat_data = remove_na(group_data[hue_mask])\n"
     ]
    },
    {
     "data": {
      "image/png": "[encoded data removed]",
      "text/plain": [
       "<Figure size 576x396 with 1 Axes>"
      ]
     },
     "metadata": {},
     "output_type": "display_data"
    }
   ],
   "source": [
    "# Plot NDCG by Mainstreamness Level\n",
    "ndcg_ms_als_df = pd.DataFrame({'N':levels, 'NDCG': ndcg_ms_als})\n",
    "ndcg_ms_baseline_df = pd.DataFrame({'N':levels, 'NDCG': ndcg_ms_baseline})\n",
    "f, ax = plt.subplots(1, 1)\n",
    "\n",
    "ndcg_ms_als_df['Model'] = 'Implicit ALS'\n",
    "ndcg_ms_baseline_df['Model'] = 'Baseline'\n",
    "df = pd.concat([ndcg_ms_als_df,ndcg_ms_baseline_df])\n",
    "sns.pointplot(ax=ax,x='N',y='NDCG',data=df,hue='Model')\n",
    "plt.title('NDCG by Mainstreamness Level')\n",
    "plt.xlabel('Mainstreamness Level')\n",
    "plt.ylabel('NDCG')\n",
    "\n",
    "plt.show()"
   ]
  },
  {
   "cell_type": "code",
   "execution_count": 89,
   "metadata": {},
   "outputs": [
    {
     "name": "stderr",
     "output_type": "stream",
     "text": [
      "/anaconda/lib/python3.6/site-packages/seaborn/categorical.py:1468: FutureWarning: remove_na is deprecated and is a private function. Do not use.\n",
      "  stat_data = remove_na(group_data[hue_mask])\n"
     ]
    },
    {
     "data": {
      "image/png": "[encoded data removed]",
      "text/plain": [
       "<Figure size 576x396 with 1 Axes>"
      ]
     },
     "metadata": {},
     "output_type": "display_data"
    }
   ],
   "source": [
    "# Plot Recall by Mainstreamness Level\n",
    "recall_ms_als_df = pd.DataFrame({'N':levels, 'Recall': recall_ms_als})\n",
    "recall_ms_baseline_df = pd.DataFrame({'N':levels, 'Recall': recall_ms_baseline})\n",
    "f, ax = plt.subplots(1, 1)\n",
    "\n",
    "recall_ms_als_df['Model'] = 'Implicit ALS'\n",
    "recall_ms_baseline_df['Model'] = 'Baseline'\n",
    "df = pd.concat([recall_ms_als_df,recall_ms_baseline_df])\n",
    "sns.pointplot(ax=ax,x='N',y='Recall',data=df,hue='Model')\n",
    "plt.title('Recall by Mainstreamness Level')\n",
    "plt.xlabel('Mainstreamness Level')\n",
    "plt.ylabel('Recall')\n",
    "\n",
    "plt.show()"
   ]
  },
  {
   "cell_type": "code",
   "execution_count": 90,
   "metadata": {
    "scrolled": false
   },
   "outputs": [
    {
     "name": "stderr",
     "output_type": "stream",
     "text": [
      "/anaconda/lib/python3.6/site-packages/seaborn/categorical.py:1468: FutureWarning: remove_na is deprecated and is a private function. Do not use.\n",
      "  stat_data = remove_na(group_data[hue_mask])\n"
     ]
    },
    {
     "data": {
      "image/png": "[encoded data removed]",
      "text/plain": [
       "<Figure size 576x396 with 1 Axes>"
      ]
     },
     "metadata": {},
     "output_type": "display_data"
    }
   ],
   "source": [
    "# Plot Precision by Mainstreamness Level\n",
    "precision_ms_als_df = pd.DataFrame({'N':levels, 'Precision': precision_ms_als})\n",
    "precision_ms_baseline_df = pd.DataFrame({'N':levels, 'Precision': precision_ms_baseline})\n",
    "f, ax = plt.subplots(1, 1)\n",
    "\n",
    "precision_ms_als_df['Model'] = 'Implicit ALS'\n",
    "precision_ms_baseline_df['Model'] = 'Baseline'\n",
    "df = pd.concat([precision_ms_als_df,precision_ms_baseline_df])\n",
    "sns.pointplot(ax=ax,x='N',y='Precision',data=df,hue='Model')\n",
    "plt.title('Precision by Mainstreamness Level')\n",
    "plt.xlabel('Mainstreamness Level')\n",
    "plt.ylabel('Precision')\n",
    "\n",
    "plt.show()"
   ]
  },
  {
   "cell_type": "code",
   "execution_count": 91,
   "metadata": {},
   "outputs": [
    {
     "name": "stderr",
     "output_type": "stream",
     "text": [
      "/anaconda/lib/python3.6/site-packages/seaborn/categorical.py:1468: FutureWarning: remove_na is deprecated and is a private function. Do not use.\n",
      "  stat_data = remove_na(group_data[hue_mask])\n"
     ]
    },
    {
     "data": {
      "image/png": "[encoded data removed]",
      "text/plain": [
       "<Figure size 576x396 with 1 Axes>"
      ]
     },
     "metadata": {},
     "output_type": "display_data"
    }
   ],
   "source": [
    "# Plot Coverage by Mainstreamness Level\n",
    "coverage_ms_als_df = pd.DataFrame({'N':levels, 'Coverage': coverage_ms_als})\n",
    "coverage_ms_baseline_df = pd.DataFrame({'N':levels, 'Coverage': coverage_ms_baseline})\n",
    "f, ax = plt.subplots(1, 1)\n",
    "\n",
    "coverage_ms_als_df['Model'] = 'Implicit ALS'\n",
    "coverage_ms_baseline_df['Model'] = 'Baseline'\n",
    "df = pd.concat([coverage_ms_als_df,coverage_ms_baseline_df])\n",
    "sns.pointplot(ax=ax,x='N',y='Coverage',data=df,hue='Model')\n",
    "plt.title('Coverage by Mainstreamness Level')\n",
    "plt.xlabel('Mainstreamness Level')\n",
    "plt.ylabel('Coverage')\n",
    "\n",
    "plt.show()"
   ]
  },
  {
   "cell_type": "markdown",
   "metadata": {},
   "source": [
    "## 4b. Performance by Input Size "
   ]
  },
  {
   "cell_type": "markdown",
   "metadata": {},
   "source": [
    "Next, we will see how our model scales, in regards to accuracy and running time. "
   ]
  },
  {
   "cell_type": "code",
   "execution_count": null,
   "metadata": {
    "collapsed": true
   },
   "outputs": [],
   "source": [
    "#import full dataset: you can find data in \n",
    "#https://www.dropbox.com/s/nbdeiujmsi9l7ny/lastfm_150k_users.csv.zip?dl=0\n",
    "df_all = pd.read_csv(\"lastfm_150k_users.csv\")"
   ]
  },
  {
   "cell_type": "code",
   "execution_count": null,
   "metadata": {
    "collapsed": true
   },
   "outputs": [],
   "source": [
    "#Helper function to sample full dataset\n",
    "def get_users(df, n):\n",
    "    sample_userid = df[\"user_id\"].unique()\n",
    "    sample_userid = np.random.choice(sample_userid, size = n, replace = False)\n",
    "\n",
    "    #grab rows with sample user id\n",
    "    df_sample = df[df.user_id.isin(sample_userid)].reset_index(drop = True)\n",
    "\n",
    "    return df_sample"
   ]
  },
  {
   "cell_type": "code",
   "execution_count": null,
   "metadata": {
    "collapsed": true
   },
   "outputs": [],
   "source": [
    "sizes = [9000]\n",
    "\n",
    "precision_all = []\n",
    "recall_all = []\n",
    "coverage_all = []\n",
    "train_time = []\n",
    "recommend_time = []\n",
    "\n",
    "for size in sizes: \n",
    "    print(\"Modeling \", size, \" users...\")\n",
    "    \n",
    "    df_sample = get_users(df_all, size)\n",
    "    df_sample = df_sample.drop(['Unnamed: 0'], axis=1)\n",
    "    \n",
    "    #create FM model with tuned parameters\n",
    "    model_fm = LightFM(learning_rate=0.05, loss='warp')\n",
    "    \n",
    "    #create sparse matrix\n",
    "    plays_sparse = create_sparse_matrix(df_sample)\n",
    "    print('Matrix Sparsity:', calculate_sparsity(plays_sparse))\n",
    "    \n",
    "    #split train test\n",
    "    train, test = random_train_test_split(plays_sparse)\n",
    "    \n",
    "    start = timeit.timeit()\n",
    "    \n",
    "    #train model\n",
    "    print(\"Fitting model...\")\n",
    "    model_fm.fit(train, epochs = 30)\n",
    "    \n",
    "    end = timeit.timeit()\n",
    "    train_t = end-start\n",
    "    \n",
    "    #evaluate model \n",
    "    print(\"Evaluating model...\")\n",
    "    coverage, precision, recall = evaluate_lightfm(model_fm, plays_sparse, train, test)\n",
    "    print(\"Precision:\",precision*100,'%')\n",
    "    print(\"Recall:\",recall*100,'%')\n",
    "    print(\"Coverage:\",coverage*100,'%')\n",
    "    \n",
    "    #time recommend time\n",
    "    start = timeit.timeit()\n",
    "    \n",
    "    print(\"Recommending item...\")\n",
    "    (-model.predict(0,np.arange(original.shape[1]))).argsort()[:20]\n",
    "    \n",
    "    end = timeit.timeit()\n",
    "    \n",
    "    recommend_t = end-start\n",
    "    \n",
    "    precision_all.append(precision)\n",
    "    recall_all.append(recall)\n",
    "    coverage_all.append(coverage)\n",
    "    train_time.append(train_t)\n",
    "    recommend_time.append(recommend_t)\n",
    "    \n",
    "    print(\"Finish! \\n ========================\")"
   ]
  },
  {
   "cell_type": "code",
   "execution_count": null,
   "metadata": {
    "collapsed": true
   },
   "outputs": [],
   "source": [
    "# Plot Training Time by Input Size\n",
    "als_train_time_df = pd.DataFrame({'N':size, 'NDCG': als_train_time})\n",
    "base_train_time_df = pd.DataFrame({'N':size, 'NDCG': base_train_time})\n",
    "fm_train_time_df = pd.DataFrame({'N':size, 'NDCG': fm_train_time})\n",
    "\n",
    "f, ax = plt.subplots(1, 1)\n",
    "als_train_time_df['Model'] = 'Implicit ALS'\n",
    "base_train_time_df['Model'] = 'Baseline'\n",
    "fm_train_time_df['Model'] = 'Factorization Machine'\n",
    "df = pd.concat([als_train_time_df,base_train_time_df,fm_train_time_df])\n",
    "sns.pointplot(ax=ax,x='N',y='NDCG',data=df,hue='Model')\n",
    "plt.title('Training Time by Input Size for Factorization Machine')\n",
    "plt.xlabel('Number of Users')\n",
    "plt.ylabel('Time (s)')\n",
    "\n",
    "plt.show()"
   ]
  },
  {
   "cell_type": "markdown",
   "metadata": {},
   "source": [
    "## 4c. Qualitative Results"
   ]
  },
  {
   "cell_type": "markdown",
   "metadata": {},
   "source": [
    "On top of accuracy metrics, let's see how the recommender system works qualitatively. Since its difficult to quantify serendipity, we also can use this qualitative method to determine serendipity of our model. Below are some \"new users\" that we create to qualitatively see how our models do. Since we don't have any idea how our data values relates to time, we are won't be able to determine novelty."
   ]
  },
  {
   "cell_type": "code",
   "execution_count": 14,
   "metadata": {},
   "outputs": [],
   "source": [
    "#Helper functions to definition\n",
    "def add_user(data, new_user, value = 1000):\n",
    "    col_names = ['user_id','artist_mbid','artist_name','plays']\n",
    "    mbid_dict = pd.Series(data.artist_mbid.values, index = data.artist_name).to_dict()\n",
    "    final = []\n",
    "    \n",
    "    user_name = new_user[0]\n",
    "    user_artists = new_user[1]\n",
    "    \n",
    "    for artist in user_artists:\n",
    "        final.append([user_name, mbid_dict[artist], artist, value])\n",
    "    return pd.concat([data, pd.DataFrame(final, columns = col_names)])\n",
    "\n",
    "def create_artist_mapping(data):\n",
    "    artists = list(data.artist_mbid.unique())\n",
    "    artist_categories = data.artist_mbid.astype('category', categories=artists).cat.categories\n",
    "    name_dict = pd.Series(data.artist_name.values, index = data.artist_mbid).to_dict()\n",
    "    artist_map = dict((i, name_dict[x]) for (i, x) in enumerate(artist_categories))\n",
    "    return artist_map\n",
    "\n",
    "def create_user_mapping(data):\n",
    "    users = list(data.user_id.unique())\n",
    "    user_categories = data.user_id.astype('category', categories=users).cat.categories\n",
    "    user_map = dict((x, i) for (i, x) in enumerate(user_categories))\n",
    "    return user_map\n",
    "\n",
    "def get_artist_name(list_idx, artist_mapping):\n",
    "    return [artist_mapping[idx] for idx in list_idx]"
   ]
  },
  {
   "cell_type": "markdown",
   "metadata": {},
   "source": [
    "### What is mainstream/popular in this dataset?"
   ]
  },
  {
   "cell_type": "markdown",
   "metadata": {},
   "source": [
    "First, let's determine qualitatively what artists are most popular at this time in lastFM. It's interesting to note how the most popular artists are mainly rock/alternative rock for this dataset."
   ]
  },
  {
   "cell_type": "code",
   "execution_count": 43,
   "metadata": {},
   "outputs": [
    {
     "name": "stderr",
     "output_type": "stream",
     "text": [
      "/Users/TimGimi/anaconda2/lib/python2.7/site-packages/ipykernel_launcher.py:16: FutureWarning: specifying 'categories' or 'ordered' in .astype() is deprecated; pass a CategoricalDtype instead\n",
      "  app.launch_new_instance()\n"
     ]
    },
    {
     "data": {
      "text/plain": [
       "['endless blue',\n",
       " 'miriam stockley',\n",
       " 'bumblebeez',\n",
       " 'freak kitchen',\n",
       " 'new bomb turks',\n",
       " 'mark isham',\n",
       " 'mikroboy',\n",
       " 'tarja',\n",
       " 'ceremony',\n",
       " 'joe cocker',\n",
       " 'clair de lune',\n",
       " 'the prophet',\n",
       " 'tacere',\n",
       " 'junior kelly',\n",
       " 'the maccabees',\n",
       " 'julian cope',\n",
       " 'leniwiec',\n",
       " 'giuseppe verdi',\n",
       " 'dj smash',\n",
       " 'mix master mike']"
      ]
     },
     "execution_count": 43,
     "metadata": {},
     "output_type": "execute_result"
    }
   ],
   "source": [
    "artist_mapping = create_artist_mapping(df)\n",
    "get_artist_name(model_baseline.predict(), artist_mapping)"
   ]
  },
  {
   "cell_type": "markdown",
   "metadata": {},
   "source": [
    "### New Users"
   ]
  },
  {
   "cell_type": "markdown",
   "metadata": {},
   "source": [
    "Next, let's create \"new users\" to see how our model predicts artists for them. Below are some users that are in the different segments above, as well as our own team members to test a sense of serendipity."
   ]
  },
  {
   "cell_type": "code",
   "execution_count": 12,
   "metadata": {},
   "outputs": [],
   "source": [
    "#list of artists\n",
    "\n",
    "#not diverse, mainstream\n",
    "artists_rock = [\n",
    "    'the beatles',\n",
    "    'the rolling stones',\n",
    "    'led zeppelin',\n",
    "    'queen',\n",
    "    'pink floyd',\n",
    "    'ac/dc',\n",
    "    'guns n\\' roses',\n",
    "    'aerosmith'\n",
    "]\n",
    "\n",
    "artists_rap = [\n",
    "    'kanye west',\n",
    "    '2pac',\n",
    "    'lil wayne',\n",
    "    'eminem',\n",
    "    'young jeezy',\n",
    "    'jay-z',\n",
    "    'drake'\n",
    "]\n",
    "\n",
    "artists_tim = [\n",
    "    'daft punk',\n",
    "    'deadmau5',\n",
    "    'john mayer',\n",
    "    'hans zimmer',\n",
    "    'coldplay'\n",
    "]\n",
    "\n",
    "# tim's brother\n",
    "# artists_deus = [\n",
    "#     'coldplay',\n",
    "#     'john mayer',\n",
    "#     'justin timberlake'\n",
    "# ]\n",
    "\n",
    "artists_char = [\n",
    "           'solange', \n",
    "           'sufjan stevens',  \n",
    "           'beirut', \n",
    "           'yo la tengo', \n",
    "           'little dragon', \n",
    "           'crystal castles', \n",
    "           'a tribe called quest', \n",
    "           'radiohead', \n",
    "           'faye wong',\n",
    "           'the beach boys',\n",
    "           'van morrison',\n",
    "           'marvin gaye',\n",
    "           'whitney houston',\n",
    "           'kanye west',\n",
    "           'curtis mayfield',\n",
    "           '2pac',\n",
    "           'eagles',\n",
    "           'david bowie',\n",
    "           'prince'\n",
    "]\n",
    "\n",
    "new_users = [('rap', artists_rap),('rock', artists_rock), ('tim', artists_tim), ('char', artists_char)]"
   ]
  },
  {
   "cell_type": "markdown",
   "metadata": {},
   "source": [
    "### Implicit"
   ]
  },
  {
   "cell_type": "markdown",
   "metadata": {},
   "source": [
    "First, let's see how our Implicit ALS model performs in predicting these new users. "
   ]
  },
  {
   "cell_type": "code",
   "execution_count": 38,
   "metadata": {},
   "outputs": [
    {
     "name": "stderr",
     "output_type": "stream",
     "text": [
      "/Users/TimGimi/anaconda2/lib/python2.7/site-packages/ipykernel_launcher.py:12: FutureWarning: Sorting because non-concatenation axis is not aligned. A future version\n",
      "of pandas will change to not sort by default.\n",
      "\n",
      "To accept the future behavior, pass 'sort=True'.\n",
      "\n",
      "To retain the current behavior and silence the warning, pass sort=False\n",
      "\n",
      "  if sys.path[0] == '':\n",
      "/Users/TimGimi/anaconda2/lib/python2.7/site-packages/ipykernel_launcher.py:16: FutureWarning: specifying 'categories' or 'ordered' in .astype() is deprecated; pass a CategoricalDtype instead\n",
      "  app.launch_new_instance()\n",
      "/Users/TimGimi/anaconda2/lib/python2.7/site-packages/ipykernel_launcher.py:23: FutureWarning: specifying 'categories' or 'ordered' in .astype() is deprecated; pass a CategoricalDtype instead\n"
     ]
    },
    {
     "name": "stdout",
     "output_type": "stream",
     "text": [
      "Creating sparse matrix...\n"
     ]
    },
    {
     "name": "stderr",
     "output_type": "stream",
     "text": [
      "/Users/TimGimi/anaconda2/lib/python2.7/site-packages/ipykernel_launcher.py:24: FutureWarning: specifying 'categories' or 'ordered' in .astype() is deprecated; pass a CategoricalDtype instead\n"
     ]
    },
    {
     "data": {
      "application/vnd.jupyter.widget-view+json": {
       "model_id": "607bfeaad3ae4ee3a122710413e6b215",
       "version_major": 2,
       "version_minor": 0
      },
      "text/plain": [
       "HBox(children=(IntProgress(value=0, max=9000), HTML(value=u'')))"
      ]
     },
     "metadata": {},
     "output_type": "display_data"
    },
    {
     "name": "stderr",
     "output_type": "stream",
     "text": [
      "\r",
      "  0%|          | 0/15 [00:00<?, ?it/s]"
     ]
    },
    {
     "name": "stdout",
     "output_type": "stream",
     "text": [
      "\n",
      "Fitting model...\n"
     ]
    },
    {
     "name": "stderr",
     "output_type": "stream",
     "text": [
      "100%|██████████| 15.0/15 [00:07<00:00,  2.33it/s]\n"
     ]
    },
    {
     "name": "stdout",
     "output_type": "stream",
     "text": [
      "User  rap  :\n",
      " ['t.i.', '50 cent', 'ludacris', 'lupe fiasco', 'akon', 'snoop dogg', 'the game', 'nas', 'notorious b.i.g.', 'chamillionaire', 'timbaland', 'nelly', 'bone thugs-n-harmony', 'dmx', 'dr. dre', 'justin timberlake', 't-pain', 'flo rida', 'usher', 'ice cube']\n",
      "Creating sparse matrix...\n"
     ]
    },
    {
     "data": {
      "application/vnd.jupyter.widget-view+json": {
       "model_id": "d5b8c6711c9549d3b79cf7cff49468c4",
       "version_major": 2,
       "version_minor": 0
      },
      "text/plain": [
       "HBox(children=(IntProgress(value=0, max=9000), HTML(value=u'')))"
      ]
     },
     "metadata": {},
     "output_type": "display_data"
    },
    {
     "name": "stderr",
     "output_type": "stream",
     "text": [
      "\r",
      "  0%|          | 0/15 [00:00<?, ?it/s]"
     ]
    },
    {
     "name": "stdout",
     "output_type": "stream",
     "text": [
      "\n",
      "Fitting model...\n"
     ]
    },
    {
     "name": "stderr",
     "output_type": "stream",
     "text": [
      "100%|██████████| 15.0/15 [00:08<00:00,  1.98it/s]\n"
     ]
    },
    {
     "name": "stdout",
     "output_type": "stream",
     "text": [
      "User  rock  :\n",
      " ['red hot chili peppers', 'nirvana', 'the doors', 'u2', 'muse', 'r.e.m.', 'radiohead', 'bob dylan', 'metallica', 'coldplay', 'the who', 'the white stripes', 'deep purple', 'foo fighters', 'jimi hendrix', 'green day', 'the killers', 'johnny cash', 'the cure', 'david bowie']\n",
      "Creating sparse matrix...\n"
     ]
    },
    {
     "data": {
      "application/vnd.jupyter.widget-view+json": {
       "model_id": "3793432d65df41c1ac46444723635342",
       "version_major": 2,
       "version_minor": 0
      },
      "text/plain": [
       "HBox(children=(IntProgress(value=0, max=9000), HTML(value=u'')))"
      ]
     },
     "metadata": {},
     "output_type": "display_data"
    },
    {
     "name": "stderr",
     "output_type": "stream",
     "text": [
      "\r",
      "  0%|          | 0/15 [00:00<?, ?it/s]"
     ]
    },
    {
     "name": "stdout",
     "output_type": "stream",
     "text": [
      "\n",
      "Fitting model...\n"
     ]
    },
    {
     "name": "stderr",
     "output_type": "stream",
     "text": [
      "100%|██████████| 15.0/15 [00:07<00:00,  2.13it/s]\n"
     ]
    },
    {
     "name": "stdout",
     "output_type": "stream",
     "text": [
      "User  tim  :\n",
      " ['soundtrack', 'linkin park', 'kanye west', 'keane', 'black eyed peas', 'the killers', 'the prodigy', 'jack johnson', 'red hot chili peppers', 'blink-182', 'foo fighters', 'the beatles', 'david guetta', 'oasis', 'frank sinatra', 'u2', 'enya', 'dj ti\\xc3\\xabsto', 'muse', 'michael jackson']\n",
      "Creating sparse matrix...\n"
     ]
    },
    {
     "data": {
      "application/vnd.jupyter.widget-view+json": {
       "model_id": "04a8e45701514a52aba1411f5ed3dbe3",
       "version_major": 2,
       "version_minor": 0
      },
      "text/plain": [
       "HBox(children=(IntProgress(value=0, max=9000), HTML(value=u'')))"
      ]
     },
     "metadata": {},
     "output_type": "display_data"
    },
    {
     "name": "stderr",
     "output_type": "stream",
     "text": [
      "\r",
      "  0%|          | 0/15 [00:00<?, ?it/s]"
     ]
    },
    {
     "name": "stdout",
     "output_type": "stream",
     "text": [
      "\n",
      "Fitting model...\n"
     ]
    },
    {
     "name": "stderr",
     "output_type": "stream",
     "text": [
      "100%|██████████| 15.0/15 [00:06<00:00,  2.32it/s]"
     ]
    },
    {
     "name": "stdout",
     "output_type": "stream",
     "text": [
      "User  char  :\n",
      " ['peter fox', 'mando diao', 'clueso', 'beatsteaks', 'deichkind', 'the beatles', 'die fantastischen vier', 'b\\xc3\\xb6hse onkelz', 'coldplay', 'tocotronic', 'k.i.z.', 'jan delay', 'blumentopf', 'arctic monkeys', 'the killers', 'radiohead', 'the kooks', 'the white stripes', 'pink floyd', 'prinz pi']\n"
     ]
    },
    {
     "name": "stderr",
     "output_type": "stream",
     "text": [
      "\n"
     ]
    }
   ],
   "source": [
    "#use implicit to get recommended for users\n",
    "model_als = implicit.als.AlternatingLeastSquares(factors = 30, regularization = 0.01)\n",
    "\n",
    "for new in new_users: \n",
    "    new_users_df = add_user(df, new, 1000)\n",
    "\n",
    "    #create mappings\n",
    "    artist_mapping = create_artist_mapping(new_users_df)\n",
    "    user_mapping = create_user_mapping(new_users_df)\n",
    "\n",
    "    plays_sparse = create_sparse_matrix(new_users_df)\n",
    "    train, test, user_count = split_train_test_per_user(plays_sparse, 3, 10)\n",
    "\n",
    "    # Train model\n",
    "    print(\"Fitting model...\")\n",
    "    model_als.fit(train)\n",
    "\n",
    "    recs = model_als.recommend(user_mapping[new[0]], train.T.tocsr(), N=20, filter_already_liked_items=True)#, artist_mapping) #returns (item_id, score)\n",
    "    recs = [x[0] for x in recs]\n",
    "    \n",
    "    print(\"User \", new[0], \" :\\n\", get_artist_name(recs, artist_mapping))\n",
    "\n",
    "    "
   ]
  },
  {
   "cell_type": "markdown",
   "metadata": {},
   "source": [
    "### LightFM"
   ]
  },
  {
   "cell_type": "markdown",
   "metadata": {},
   "source": [
    "Next, let's see how lightFM with user features performs. "
   ]
  },
  {
   "cell_type": "code",
   "execution_count": 40,
   "metadata": {},
   "outputs": [
    {
     "name": "stderr",
     "output_type": "stream",
     "text": [
      "/Users/TimGimi/anaconda2/lib/python2.7/site-packages/ipykernel_launcher.py:12: FutureWarning: Sorting because non-concatenation axis is not aligned. A future version\n",
      "of pandas will change to not sort by default.\n",
      "\n",
      "To accept the future behavior, pass 'sort=True'.\n",
      "\n",
      "To retain the current behavior and silence the warning, pass sort=False\n",
      "\n",
      "  if sys.path[0] == '':\n",
      "/Users/TimGimi/anaconda2/lib/python2.7/site-packages/ipykernel_launcher.py:16: FutureWarning: specifying 'categories' or 'ordered' in .astype() is deprecated; pass a CategoricalDtype instead\n",
      "  app.launch_new_instance()\n",
      "/Users/TimGimi/anaconda2/lib/python2.7/site-packages/ipykernel_launcher.py:23: FutureWarning: specifying 'categories' or 'ordered' in .astype() is deprecated; pass a CategoricalDtype instead\n"
     ]
    },
    {
     "name": "stdout",
     "output_type": "stream",
     "text": [
      "Creating sparse matrix...\n"
     ]
    },
    {
     "name": "stderr",
     "output_type": "stream",
     "text": [
      "/Users/TimGimi/anaconda2/lib/python2.7/site-packages/ipykernel_launcher.py:24: FutureWarning: specifying 'categories' or 'ordered' in .astype() is deprecated; pass a CategoricalDtype instead\n"
     ]
    },
    {
     "name": "stdout",
     "output_type": "stream",
     "text": [
      "training...\n",
      "recommending...\n",
      "User  rap  :\n",
      " ['the beatles', 'coldplay', 'bloc party', 'jack johnson', 'jay lumen', 'radiohead', 'the grand silent system', 'cat power', 'incubus', 'the smashing pumpkins', 'the strokes', 'linkin park', 'vampire weekend', 'red hot chili peppers', 'sigur r\\xc3\\xb3s', 'the promise ring', 'hot chip', 'feist', 'the white stripes', 'air']\n",
      "Creating sparse matrix...\n",
      "training...\n",
      "recommending...\n",
      "User  rock  :\n",
      " ['radiohead', 'the beatles', 'coldplay', 'red hot chili peppers', 'led zeppelin', 'bob dylan', 'linkin park', 'muse', 'bebel gilberto', 'the cure', 'the rolling stones', 'daft punk', 'the grand silent system', 'johnny cash', 'the shins', 'rancid', 'the killers', 'bloc party', 'kings of leon', 'justice']\n",
      "Creating sparse matrix...\n",
      "training...\n",
      "recommending...\n",
      "User  tim  :\n",
      " ['the beatles', 'the notwist', 'red hot chili peppers', 'death cab for cutie', 'coldplay', 'radiohead', 'broken social scene', 'the smashing pumpkins', 'air', 'daft punk', 'zombie girl', 'manu chao', 'jack johnson', 'placebo', 'the grand silent system', 'fair to midland', 'queens of the stone age', 'adele', 'fall out boy', 'regina spektor']\n",
      "Creating sparse matrix...\n",
      "training...\n",
      "recommending...\n",
      "User  char  :\n",
      " ['the grand silent system', 'radiohead', 'the presets', 'kings of leon', 'the beatles', 'regurgitator', 'u2', 'boards of canada', 'the knife', 'bloc party', 'bob dylan', 'daft punk', 'jack johnson', 'the beautiful girls', 'coldplay', 'muse', 'beck', 'arctic monkeys', 'nirvana', 'portishead']\n"
     ]
    }
   ],
   "source": [
    "#use implicit to get recommended for users\n",
    "from lightfm.cross_validation import random_train_test_split\n",
    "\n",
    "user_feat = pd.read_csv(\"user_features_9000.csv\")\n",
    "user_feat = user_feat[user_feat.columns[1:]]\n",
    "user_features = scipy.sparse.csr_matrix(user_feat.values)\n",
    "\n",
    "#create FM model with tuned parameters\n",
    "model_fm = LightFM(learning_rate=0.05, no_components = 50, loss='warp')\n",
    "\n",
    "for new in new_users: \n",
    "    new_users_df = add_user(df, new, 1000)\n",
    "\n",
    "    #create mappings\n",
    "    artist_mapping = create_artist_mapping(new_users_df)\n",
    "    user_mapping = create_user_mapping(new_users_df)\n",
    "    \n",
    "    #create sparse matrix\n",
    "    plays_sparse = create_sparse_matrix(new_users_df)\n",
    "    \n",
    "    #split train test\n",
    "    train,test = random_train_test_split(plays_sparse)\n",
    "\n",
    "    print(\"training...\")\n",
    "    #train model\n",
    "    model_fm.fit(train, epochs = 25, user_features = user_features)\n",
    "    \n",
    "    print(\"recommending...\")\n",
    "    #get recommendation from model\n",
    "    recs = (-model_fm.predict(0,np.arange(plays_sparse.shape[1]),user_features = user_features)).argsort()[:20]\n",
    "    \n",
    "    print(\"User \", new[0], \" :\\n\", get_artist_name(recs, artist_mapping))"
   ]
  },
  {
   "cell_type": "markdown",
   "metadata": {},
   "source": [
    "# 5. Conclusion / Next Steps"
   ]
  }
 ],
 "metadata": {
  "kernelspec": {
   "display_name": "Python 3",
   "language": "python",
   "name": "python3"
  },
  "language_info": {
   "codemirror_mode": {
    "name": "ipython",
    "version": 2
   },
   "file_extension": ".py",
   "mimetype": "text/x-python",
   "name": "python",
   "nbconvert_exporter": "python",
   "pygments_lexer": "ipython2",
   "version": "2.7.15"
  }
 },
 "nbformat": 4,
 "nbformat_minor": 2
}
