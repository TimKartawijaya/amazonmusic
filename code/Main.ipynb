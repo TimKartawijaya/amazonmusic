{
 "cells": [
  {
   "cell_type": "code",
   "execution_count": 1,
   "metadata": {
    "collapsed": true
   },
   "outputs": [],
   "source": [
    "from __future__ import print_function"
   ]
  },
  {
   "cell_type": "markdown",
   "metadata": {},
   "source": [
    "First we load the functions and libraries necessary for this report."
   ]
  },
  {
   "cell_type": "code",
   "execution_count": 2,
   "metadata": {
    "collapsed": true
   },
   "outputs": [],
   "source": [
    "run analysis_functions.ipynb #import all helper functions"
   ]
  },
  {
   "cell_type": "code",
   "execution_count": 3,
   "metadata": {
    "collapsed": true
   },
   "outputs": [],
   "source": [
    "# Import main dataset\n",
    "df = pd.read_csv('lastfm_9000_users.csv', na_filter=False)\n",
    "df = df.drop(['Unnamed: 0'], axis=1)"
   ]
  },
  {
   "cell_type": "markdown",
   "metadata": {},
   "source": [
    "The structure of the analysis will be as such: \n",
    "1. Objective\n",
    "2. Prepare data\n",
    "3. Model Fitting, Tuning, and Evaluation\n",
    "    - Benchmarks\n",
    "        - Most Popular\n",
    "        - ALS Matrix Factorization\n",
    "    - LightFM\n",
    "        - Vanilla FM / BPR\n",
    "        - FM with User/Item Side Information\n",
    "        - Parameter Tuning\n",
    "4. Model Exploration\n",
    "    - Metrics Used (NDCG, Recall, Precision, Coverage)\n",
    "    - Performance of each Model (Table)\n",
    "    - NDCG Metric by User Type \n",
    "        - Active/Non-Active (Aggregate Plays)\n",
    "        - Diverse/Non-Diverse (Top 1000 Artists)\n",
    "        - \"Basic\"/Non-\"Basic\" (Popular)\n",
    "    - Scale:\n",
    "        - NDCG by Size\n",
    "        - Training Time / Predict Time\n",
    "6. Conclusion / Next Steps"
   ]
  },
  {
   "cell_type": "markdown",
   "metadata": {},
   "source": [
    "# 0. Data Exploration"
   ]
  },
  {
   "cell_type": "markdown",
   "metadata": {},
   "source": [
    "Let's see how the plays are distributed. "
   ]
  },
  {
   "cell_type": "code",
   "execution_count": 4,
   "metadata": {
    "collapsed": true
   },
   "outputs": [],
   "source": [
    "import seaborn as sns\n",
    "import matplotlib.pyplot as plt"
   ]
  },
  {
   "cell_type": "code",
   "execution_count": 5,
   "metadata": {},
   "outputs": [
    {
     "name": "stderr",
     "output_type": "stream",
     "text": [
      "/anaconda/lib/python3.6/site-packages/matplotlib/axes/_axes.py:6571: UserWarning: The 'normed' kwarg is deprecated, and has been replaced by the 'density' kwarg.\n",
      "  warnings.warn(\"The 'normed' kwarg is deprecated, and has been \"\n"
     ]
    },
    {
     "data": {
      "text/plain": [
       "<matplotlib.axes._subplots.AxesSubplot at 0x11c294048>"
      ]
     },
     "execution_count": 5,
     "metadata": {},
     "output_type": "execute_result"
    }
   ],
   "source": [
    "sns.distplot(df.plays)"
   ]
  },
  {
   "cell_type": "code",
   "execution_count": 6,
   "metadata": {},
   "outputs": [
    {
     "name": "stderr",
     "output_type": "stream",
     "text": [
      "/anaconda/lib/python3.6/site-packages/matplotlib/axes/_axes.py:6571: UserWarning: The 'normed' kwarg is deprecated, and has been replaced by the 'density' kwarg.\n",
      "  warnings.warn(\"The 'normed' kwarg is deprecated, and has been \"\n"
     ]
    },
    {
     "data": {
      "text/plain": [
       "<matplotlib.axes._subplots.AxesSubplot at 0x11c294048>"
      ]
     },
     "execution_count": 6,
     "metadata": {},
     "output_type": "execute_result"
    }
   ],
   "source": [
    "sns.distplot(df[df.plays < 1000].plays)"
   ]
  },
  {
   "cell_type": "code",
   "execution_count": 7,
   "metadata": {
    "collapsed": true
   },
   "outputs": [],
   "source": [
    "from sklearn.preprocessing import MinMaxScaler \n",
    "\n",
    "df['log_plays'] = df.plays.apply(lambda x: log(x))\n",
    "\n",
    "df.log_plays *= (1.0/df.log_plays.max())"
   ]
  },
  {
   "cell_type": "code",
   "execution_count": 8,
   "metadata": {},
   "outputs": [
    {
     "name": "stderr",
     "output_type": "stream",
     "text": [
      "/anaconda/lib/python3.6/site-packages/matplotlib/axes/_axes.py:6571: UserWarning: The 'normed' kwarg is deprecated, and has been replaced by the 'density' kwarg.\n",
      "  warnings.warn(\"The 'normed' kwarg is deprecated, and has been \"\n"
     ]
    },
    {
     "data": {
      "text/plain": [
       "<matplotlib.axes._subplots.AxesSubplot at 0x11c294048>"
      ]
     },
     "execution_count": 8,
     "metadata": {},
     "output_type": "execute_result"
    }
   ],
   "source": [
    "sns.distplot(df.log_plays)"
   ]
  },
  {
   "cell_type": "markdown",
   "metadata": {},
   "source": [
    "# 1. Objective"
   ]
  },
  {
   "cell_type": "markdown",
   "metadata": {},
   "source": [
    "BLALBALBALBLA"
   ]
  },
  {
   "cell_type": "markdown",
   "metadata": {},
   "source": [
    "# 2. Prepare Data"
   ]
  },
  {
   "cell_type": "markdown",
   "metadata": {},
   "source": [
    "### 2a. Create Sparse Matrix from Dataset"
   ]
  },
  {
   "cell_type": "code",
   "execution_count": 9,
   "metadata": {
    "scrolled": true
   },
   "outputs": [
    {
     "name": "stdout",
     "output_type": "stream",
     "text": [
      "Creating sparse matrix...\n"
     ]
    },
    {
     "name": "stderr",
     "output_type": "stream",
     "text": [
      "/anaconda/lib/python3.6/site-packages/ipykernel_launcher.py:23: FutureWarning: specifying 'categories' or 'ordered' in .astype() is deprecated; pass a CategoricalDtype instead\n",
      "/anaconda/lib/python3.6/site-packages/ipykernel_launcher.py:24: FutureWarning: specifying 'categories' or 'ordered' in .astype() is deprecated; pass a CategoricalDtype instead\n"
     ]
    },
    {
     "name": "stdout",
     "output_type": "stream",
     "text": [
      "Matrix Sparsity: 99.8965986346416\n"
     ]
    }
   ],
   "source": [
    "#create sparse matrix\n",
    "plays_sparse = create_sparse_matrix(df).astype('float')\n",
    "print('Matrix Sparsity:', calculate_sparsity(plays_sparse))"
   ]
  },
  {
   "cell_type": "markdown",
   "metadata": {},
   "source": [
    "### 2b. Split Data to Train/Test"
   ]
  },
  {
   "cell_type": "markdown",
   "metadata": {},
   "source": [
    "Split data into train test set, maintaining that each user still has some interactions intact."
   ]
  },
  {
   "cell_type": "code",
   "execution_count": null,
   "metadata": {},
   "outputs": [],
   "source": [
    "# Split data into training and test sets\n",
    "train, test, user_count = split_train_test_per_user(plays_sparse, 3, 10)\n",
    "print(\"Percentage of original data masked:\", pct_masked(plays_sparse, train.T.tocsr()))\n",
    "print(\"Users masked:\", user_count)"
   ]
  },
  {
   "cell_type": "code",
   "execution_count": null,
   "metadata": {},
   "outputs": [],
   "source": [
    "#train is item by user to accomodate implicit and baseline training\n",
    "train"
   ]
  },
  {
   "cell_type": "markdown",
   "metadata": {},
   "source": [
    "#### Scaled Train/Test"
   ]
  },
  {
   "cell_type": "code",
   "execution_count": null,
   "metadata": {
    "collapsed": true
   },
   "outputs": [],
   "source": [
    "df_log = df.drop(columns = ['plays'], axis = 1)\n",
    "# plays_sparse = create_sparse_matrix(df).astype('float')"
   ]
  },
  {
   "cell_type": "code",
   "execution_count": null,
   "metadata": {
    "collapsed": true
   },
   "outputs": [],
   "source": [
    "df_log.columns = ['user_id','artist_mbid','artist_name','plays']"
   ]
  },
  {
   "cell_type": "code",
   "execution_count": null,
   "metadata": {},
   "outputs": [],
   "source": [
    "#create sparse matrix\n",
    "plays_sparse_log = create_sparse_matrix(df_log).astype('float')\n",
    "print('Matrix Sparsity:', calculate_sparsity(plays_sparse_log))\n",
    "\n",
    "# Split data into training and test sets\n",
    "train_log, test_log, user_count_log = split_train_test_per_user(plays_sparse_log, 3, 10)\n",
    "print(\"Percentage of original data masked:\", pct_masked(plays_sparse_log, train_log.T.tocsr()))\n",
    "print(\"Users masked:\", user_count_log)"
   ]
  },
  {
   "cell_type": "markdown",
   "metadata": {},
   "source": [
    "# 3. Model Fitting, Tuning, and Evaluation"
   ]
  },
  {
   "cell_type": "markdown",
   "metadata": {},
   "source": [
    "- Note on evaluation: use metrics\n",
    "- what autotune does"
   ]
  },
  {
   "cell_type": "markdown",
   "metadata": {},
   "source": [
    "## 3a. Benchmarks"
   ]
  },
  {
   "cell_type": "markdown",
   "metadata": {},
   "source": [
    "### Baseline"
   ]
  },
  {
   "cell_type": "markdown",
   "metadata": {},
   "source": [
    "Baseline recommends the most-popular artists to everyone."
   ]
  },
  {
   "cell_type": "code",
   "execution_count": null,
   "metadata": {},
   "outputs": [],
   "source": [
    "model_baseline = Baseline(n_recs = 20)\n",
    "model_baseline.fit(train)"
   ]
  },
  {
   "cell_type": "markdown",
   "metadata": {},
   "source": [
    "No tuning is necessary since there are no parameters. We then evaluate the test set below: "
   ]
  },
  {
   "cell_type": "code",
   "execution_count": null,
   "metadata": {},
   "outputs": [],
   "source": [
    "coverage, precision, recall, ndcg = evaluate(model_baseline, \"baseline\", test, plays_sparse)\n",
    "print(\"Precision:\",precision*100,'%')\n",
    "print(\"Recall:\",recall*100,'%')\n",
    "print(\"Coverage:\",coverage*100,'%')\n",
    "print(\"Average NDCG per User:\",ndcg*100,'%')"
   ]
  },
  {
   "cell_type": "markdown",
   "metadata": {},
   "source": [
    "### Model-Based (ALS)\n",
    "\n",
    "Here we fit the model-based ALS Matrix Factorization using the implicit package from Homework 2 and use the parameters that were found to be optimized in the HW 2 report. "
   ]
  },
  {
   "cell_type": "code",
   "execution_count": null,
   "metadata": {
    "scrolled": true
   },
   "outputs": [],
   "source": [
    "model_als = implicit.als.AlternatingLeastSquares(factors = 30, regularization = 0.01)\n",
    "\n",
    "# Train model\n",
    "print(\"Fitting model...\")\n",
    "model_als.fit(train)"
   ]
  },
  {
   "cell_type": "code",
   "execution_count": null,
   "metadata": {},
   "outputs": [],
   "source": [
    "coverage, precision, recall, ndcg = evaluate(model_als, \"implicit\", test, train.T.tocsr())\n",
    "print(\"Precision:\",precision*100,'%')\n",
    "print(\"Recall:\",recall*100,'%')\n",
    "print(\"Coverage:\",coverage*100,'%')\n",
    "print(\"Average NDCG per User:\",ndcg*100,'%')"
   ]
  },
  {
   "cell_type": "markdown",
   "metadata": {},
   "source": [
    "### LightFM (without side information)\n",
    "\n",
    "Here we fit the LightFM model."
   ]
  },
  {
   "cell_type": "code",
   "execution_count": null,
   "metadata": {},
   "outputs": [],
   "source": [
    "from lightfm import LightFM\n",
    "\n",
    "model_fm_vanilla = LightFM(learning_rate = .05, loss='warp')\n",
    "\n",
    "# Train Model\n",
    "print(\"Fitting model...\")\n",
    "model_fm_vanilla.fit(train_log.T.tocsr(),user_features = None, item_features = None)\n"
   ]
  },
  {
   "cell_type": "markdown",
   "metadata": {},
   "source": [
    "Now we try to find the best hyperparameter for this model and use the model with the best hyperparameter to get our results."
   ]
  },
  {
   "cell_type": "code",
   "execution_count": null,
   "metadata": {},
   "outputs": [],
   "source": [
    "#coverage, precision, recall, ndcg = evaluate(model_fm_vanilla, \"lightfm\", test, plays_sparse,liked=train.T.tocsr())\n",
    "coverage, precision, recall, ndcg = evaluate(model_fm_vanilla, \"lightfm\", test_log, plays_sparse_log, liked = train_log)\n",
    "print(\"Precision:\",precision*100,'%')\n",
    "print(\"Recall:\",recall*100,'%')\n",
    "print(\"Coverage:\",coverage*100,'%')\n",
    "print(\"Average NDCG per User:\",ndcg*100,'%')"
   ]
  },
  {
   "cell_type": "code",
   "execution_count": null,
   "metadata": {},
   "outputs": [],
   "source": [
    "# from lightfm.cross_validation import random_train_test_split\n",
    "# from lightfm.evaluation import precision_at_k\n",
    "# from lightfm.evaluation import recall_at_k\n",
    "\n",
    "# train, test = random_train_test_split(plays_sparse_log)\n",
    "# recall_at_k(model_fm_vanilla, test, k = 20).mean()"
   ]
  },
  {
   "cell_type": "markdown",
   "metadata": {},
   "source": [
    "### LightFM (with side information)"
   ]
  },
  {
   "cell_type": "code",
   "execution_count": null,
   "metadata": {
    "collapsed": true
   },
   "outputs": [],
   "source": [
    "run artist_features.ipynb"
   ]
  },
  {
   "cell_type": "code",
   "execution_count": null,
   "metadata": {
    "collapsed": true
   },
   "outputs": [],
   "source": [
    "#insert side info here\n",
    "user_features = None\n",
    "item_features = None\n",
    "\n",
    "model_fm_features = LightFM(no_components=30, loss='warp')\n",
    "\n",
    "# Train Model\n",
    "print(\"Fitting model...\")\n",
    "model_fm_features.fit(train.T.tocsr(),user_features, item_features)"
   ]
  },
  {
   "cell_type": "markdown",
   "metadata": {},
   "source": [
    "Now we try to find the best hyperparameter for thi smodel with the best hyperparameter to get our results."
   ]
  },
  {
   "cell_type": "markdown",
   "metadata": {},
   "source": [
    "### Summary of Performance Results (Table)"
   ]
  },
  {
   "cell_type": "markdown",
   "metadata": {},
   "source": [
    "# 4. Model Exploration"
   ]
  },
  {
   "cell_type": "markdown",
   "metadata": {},
   "source": [
    "Next, we explore these models even more. How do they perform in regards to size, different user population?"
   ]
  },
  {
   "cell_type": "markdown",
   "metadata": {},
   "source": [
    "## 4a. Performance by User Type"
   ]
  },
  {
   "cell_type": "code",
   "execution_count": 33,
   "metadata": {},
   "outputs": [],
   "source": [
    "run grouping_functions.ipynb"
   ]
  },
  {
   "cell_type": "markdown",
   "metadata": {},
   "source": [
    "### Active/Non-Active"
   ]
  },
  {
   "cell_type": "code",
   "execution_count": 21,
   "metadata": {},
   "outputs": [],
   "source": [
    "import seaborn as sns"
   ]
  },
  {
   "cell_type": "code",
   "execution_count": 16,
   "metadata": {},
   "outputs": [
    {
     "name": "stdout",
     "output_type": "stream",
     "text": [
      "Matrix Sparsity: 99.90294184252615\n"
     ]
    },
    {
     "data": {
      "application/vnd.jupyter.widget-view+json": {
       "model_id": "913ce0133dc94f51a1cbeca68ef7d010"
      }
     },
     "metadata": {},
     "output_type": "display_data"
    },
    {
     "name": "stderr",
     "output_type": "stream",
     "text": [
      "\r",
      "  0%|          | 0/15 [00:00<?, ?it/s]"
     ]
    },
    {
     "name": "stdout",
     "output_type": "stream",
     "text": [
      "\n",
      "Fitting model...\n"
     ]
    },
    {
     "name": "stderr",
     "output_type": "stream",
     "text": [
      "100%|██████████| 15.0/15 [00:02<00:00,  7.66it/s]"
     ]
    },
    {
     "name": "stdout",
     "output_type": "stream",
     "text": [
      "Evaluating model...\n"
     ]
    },
    {
     "name": "stderr",
     "output_type": "stream",
     "text": [
      "\n"
     ]
    },
    {
     "data": {
      "application/vnd.jupyter.widget-view+json": {
       "model_id": "51f930fe436a4917a0bc42cd1e6fda80"
      }
     },
     "metadata": {},
     "output_type": "display_data"
    },
    {
     "name": "stdout",
     "output_type": "stream",
     "text": [
      "\n",
      "Recall: 16.39344262295082 %\n",
      "NDCG: 4.654980807741279 %\n",
      "Coverage: 5.084709778777971 %\n",
      "Precision: 4.098360655737705 %\n",
      "Matrix Sparsity: 99.89389834826547\n"
     ]
    },
    {
     "data": {
      "application/vnd.jupyter.widget-view+json": {
       "model_id": "e6a427ecfed14c04a61663d25d8d6977"
      }
     },
     "metadata": {},
     "output_type": "display_data"
    },
    {
     "name": "stderr",
     "output_type": "stream",
     "text": [
      "\r",
      "  0%|          | 0/15 [00:00<?, ?it/s]"
     ]
    },
    {
     "name": "stdout",
     "output_type": "stream",
     "text": [
      "\n",
      "Fitting model...\n"
     ]
    },
    {
     "name": "stderr",
     "output_type": "stream",
     "text": [
      "100%|██████████| 15.0/15 [00:02<00:00,  8.18it/s]"
     ]
    },
    {
     "name": "stdout",
     "output_type": "stream",
     "text": [
      "Evaluating model...\n"
     ]
    },
    {
     "name": "stderr",
     "output_type": "stream",
     "text": [
      "\n"
     ]
    },
    {
     "data": {
      "application/vnd.jupyter.widget-view+json": {
       "model_id": "ca7f9e46158249e58ba5cc78277a07ea"
      }
     },
     "metadata": {},
     "output_type": "display_data"
    },
    {
     "name": "stdout",
     "output_type": "stream",
     "text": [
      "\n",
      "Recall: 18.28495161828495 %\n",
      "NDCG: 2.6159223259830293 %\n",
      "Coverage: 6.22478875631608 %\n",
      "Precision: 4.5712379045712375 %\n",
      "Matrix Sparsity: 99.8929557131332\n"
     ]
    },
    {
     "data": {
      "application/vnd.jupyter.widget-view+json": {
       "model_id": "b2bb6bce351f4a0596770a55f94b3023"
      }
     },
     "metadata": {},
     "output_type": "display_data"
    },
    {
     "name": "stderr",
     "output_type": "stream",
     "text": [
      "  7%|▋         | 1.0/15 [00:00<00:02,  6.44it/s]"
     ]
    },
    {
     "name": "stdout",
     "output_type": "stream",
     "text": [
      "\n",
      "Fitting model...\n"
     ]
    },
    {
     "name": "stderr",
     "output_type": "stream",
     "text": [
      "100%|██████████| 15.0/15 [00:02<00:00,  6.41it/s]\n"
     ]
    },
    {
     "name": "stdout",
     "output_type": "stream",
     "text": [
      "Evaluating model...\n"
     ]
    },
    {
     "data": {
      "application/vnd.jupyter.widget-view+json": {
       "model_id": "3404ec8f4f4d487cbb7cfc53dab0d950"
      }
     },
     "metadata": {},
     "output_type": "display_data"
    },
    {
     "name": "stdout",
     "output_type": "stream",
     "text": [
      "\n",
      "Recall: 18.618157543391188 %\n",
      "NDCG: 1.758190020694908 %\n",
      "Coverage: 7.154685575984035 %\n",
      "Precision: 4.654539385847797 %\n"
     ]
    }
   ],
   "source": [
    "n=3\n",
    "activity_groups=active_users(plays_sparse, n)\n",
    "levels=[1,2,3]\n",
    "ndcg_activity = []\n",
    "recall_activity = []\n",
    "coverage_activity = []\n",
    "precision_activity = []\n",
    "model = implicit.als.AlternatingLeastSquares(factors=30, regularization=0.01)\n",
    "for group in activity_groups:\n",
    "    #print('Matrix Sparsity:', calculate_sparsity(group))\n",
    "    # Compute the recall and ndcg using optimal parameters for the ALS model on different dataset sizes\n",
    "    train, test, user_count = split_train_test_per_user(group, 4, 20)\n",
    "    # train model \n",
    "    print(\"Fitting model...\")\n",
    "    \n",
    "    model.fit(train, show_progress=True)\n",
    "    \n",
    "    coverage, precision, recall, ndcg = evaluate(model,\"implicit\", test, plays_sparse)\n",
    "    print(\"Recall:\",recall*100,'%')\n",
    "    print(\"Average NDCG:\",ndcg*100,'%')\n",
    "    print(\"Coverage:\",coverage*100,'%')\n",
    "    print(\"Precision:\",precision*100,'%')\n",
    "\n",
    "    recall_activity.append(recall)\n",
    "    ndcg_activity.append(ndcg)\n",
    "    precision_activity.append(precision)\n",
    "    coverage_activity.append(coverage)"
   ]
  },
  {
   "cell_type": "code",
   "execution_count": 26,
   "metadata": {},
   "outputs": [
    {
     "name": "stderr",
     "output_type": "stream",
     "text": [
      "/anaconda/lib/python3.6/site-packages/seaborn/categorical.py:1428: FutureWarning: remove_na is deprecated and is a private function. Do not use.\n",
      "  stat_data = remove_na(group_data)\n"
     ]
    },
    {
     "data": {
      "image/png": "[encoded data removed]",
      "text/plain": [
       "<Figure size 576x396 with 1 Axes>"
      ]
     },
     "metadata": {},
     "output_type": "display_data"
    }
   ],
   "source": [
    "# Plot NDCG of by Activity Level\n",
    "ndcg_activity_df = pd.DataFrame({'N':levels, 'NDCG': ndcg_activity})\n",
    "g = sns.pointplot(x='N', y='NDCG', data=ndcg_activity_df)\n",
    "plt.title('NDCG by Activity Level for ALS')\n",
    "plt.xlabel('Activity Level')\n",
    "plt.ylabel('NDCG')\n",
    "plt.show()"
   ]
  },
  {
   "cell_type": "code",
   "execution_count": 27,
   "metadata": {},
   "outputs": [
    {
     "name": "stderr",
     "output_type": "stream",
     "text": [
      "/anaconda/lib/python3.6/site-packages/seaborn/categorical.py:1428: FutureWarning: remove_na is deprecated and is a private function. Do not use.\n",
      "  stat_data = remove_na(group_data)\n"
     ]
    },
    {
     "data": {
      "image/png": "[encoded data removed]",
      "text/plain": [
       "<Figure size 576x396 with 1 Axes>"
      ]
     },
     "metadata": {},
     "output_type": "display_data"
    }
   ],
   "source": [
    "# Plot Recall of by Activity Level\n",
    "recall_activity_df = pd.DataFrame({'N':levels, 'Recall': recall_activity})\n",
    "g = sns.pointplot(x='N', y='Recall', data=recall_activity_df)\n",
    "plt.title('Recall by Activity Level for ALS')\n",
    "plt.xlabel('Activity Level')\n",
    "plt.ylabel('Recall')\n",
    "plt.show()"
   ]
  },
  {
   "cell_type": "code",
   "execution_count": 28,
   "metadata": {},
   "outputs": [
    {
     "name": "stderr",
     "output_type": "stream",
     "text": [
      "/anaconda/lib/python3.6/site-packages/seaborn/categorical.py:1428: FutureWarning: remove_na is deprecated and is a private function. Do not use.\n",
      "  stat_data = remove_na(group_data)\n"
     ]
    },
    {
     "data": {
      "image/png": "[encoded data removed]",
      "text/plain": [
       "<Figure size 576x396 with 1 Axes>"
      ]
     },
     "metadata": {},
     "output_type": "display_data"
    }
   ],
   "source": [
    "# Plot Precision of by Activity Level\n",
    "precision_activity_df = pd.DataFrame({'N':levels, 'Recall': precision_activity})\n",
    "g = sns.pointplot(x='N', y='Recall', data=precision_activity_df)\n",
    "plt.title('Precision by Activity Level for ALS')\n",
    "plt.xlabel('Activity Level')\n",
    "plt.ylabel('Precision')\n",
    "plt.show()"
   ]
  },
  {
   "cell_type": "code",
   "execution_count": 29,
   "metadata": {},
   "outputs": [
    {
     "name": "stderr",
     "output_type": "stream",
     "text": [
      "/anaconda/lib/python3.6/site-packages/seaborn/categorical.py:1428: FutureWarning: remove_na is deprecated and is a private function. Do not use.\n",
      "  stat_data = remove_na(group_data)\n"
     ]
    },
    {
     "data": {
      "image/png": "[encoded data removed]",
      "text/plain": [
       "<Figure size 576x396 with 1 Axes>"
      ]
     },
     "metadata": {},
     "output_type": "display_data"
    }
   ],
   "source": [
    "# Plot Coverage of by Activity Level\n",
    "coverage_activity_df = pd.DataFrame({'N':levels, 'Recall': coverage_activity})\n",
    "g = sns.pointplot(x='N', y='Recall', data=coverage_activity_df)\n",
    "plt.title('Coverage by Activity Level for ALS')\n",
    "plt.xlabel('Activity Level')\n",
    "plt.ylabel('Coverage')\n",
    "plt.show()"
   ]
  },
  {
   "cell_type": "markdown",
   "metadata": {},
   "source": [
    "### Diverse/Non-Diverse"
   ]
  },
  {
   "cell_type": "code",
   "execution_count": 34,
   "metadata": {},
   "outputs": [
    {
     "data": {
      "application/vnd.jupyter.widget-view+json": {
       "model_id": "81504ed0989f437a916e2d3308d8869e"
      }
     },
     "metadata": {},
     "output_type": "display_data"
    },
    {
     "name": "stderr",
     "output_type": "stream",
     "text": [
      "\r",
      "  0%|          | 0/15 [00:00<?, ?it/s]"
     ]
    },
    {
     "name": "stdout",
     "output_type": "stream",
     "text": [
      "\n",
      "Fitting model...\n"
     ]
    },
    {
     "name": "stderr",
     "output_type": "stream",
     "text": [
      "100%|██████████| 15.0/15 [00:02<00:00,  7.35it/s]"
     ]
    },
    {
     "name": "stdout",
     "output_type": "stream",
     "text": [
      "Evaluating model...\n"
     ]
    },
    {
     "name": "stderr",
     "output_type": "stream",
     "text": [
      "\n"
     ]
    },
    {
     "data": {
      "application/vnd.jupyter.widget-view+json": {
       "model_id": "52f1f6ab5dff4510bf02cdef153008bc"
      }
     },
     "metadata": {},
     "output_type": "display_data"
    },
    {
     "name": "stdout",
     "output_type": "stream",
     "text": [
      "\n",
      "Recall: 16.010947656517278 %\n",
      "Average NDCG: 3.035758352579103 %\n",
      "Coverage: 5.923315358158889 %\n",
      "Precision: 4.002736914129319 %\n"
     ]
    },
    {
     "data": {
      "application/vnd.jupyter.widget-view+json": {
       "model_id": "dea0484e5f924638ab3b3a565cc91e33"
      }
     },
     "metadata": {},
     "output_type": "display_data"
    },
    {
     "name": "stderr",
     "output_type": "stream",
     "text": [
      "  7%|▋         | 1.0/15 [00:00<00:02,  6.97it/s]"
     ]
    },
    {
     "name": "stdout",
     "output_type": "stream",
     "text": [
      "\n",
      "Fitting model...\n"
     ]
    },
    {
     "name": "stderr",
     "output_type": "stream",
     "text": [
      "100%|██████████| 15.0/15 [00:02<00:00,  7.92it/s]"
     ]
    },
    {
     "name": "stdout",
     "output_type": "stream",
     "text": [
      "Evaluating model...\n"
     ]
    },
    {
     "name": "stderr",
     "output_type": "stream",
     "text": [
      "\n"
     ]
    },
    {
     "data": {
      "application/vnd.jupyter.widget-view+json": {
       "model_id": "dc1e60142b0f4c6785cefb31df61d65c"
      }
     },
     "metadata": {},
     "output_type": "display_data"
    },
    {
     "name": "stdout",
     "output_type": "stream",
     "text": [
      "\n",
      "Recall: 16.984656437625084 %\n",
      "Average NDCG: 2.692637616821371 %\n",
      "Coverage: 5.715256252388434 %\n",
      "Precision: 4.246164109406271 %\n"
     ]
    },
    {
     "data": {
      "application/vnd.jupyter.widget-view+json": {
       "model_id": "2b7a80ba88ef4320b5a0a18031a5fade"
      }
     },
     "metadata": {},
     "output_type": "display_data"
    },
    {
     "name": "stderr",
     "output_type": "stream",
     "text": [
      "\r",
      "  0%|          | 0/15 [00:00<?, ?it/s]"
     ]
    },
    {
     "name": "stdout",
     "output_type": "stream",
     "text": [
      "\n",
      "Fitting model...\n"
     ]
    },
    {
     "name": "stderr",
     "output_type": "stream",
     "text": [
      "100%|██████████| 15.0/15 [00:02<00:00,  5.59it/s]\n"
     ]
    },
    {
     "name": "stdout",
     "output_type": "stream",
     "text": [
      "Evaluating model...\n"
     ]
    },
    {
     "data": {
      "application/vnd.jupyter.widget-view+json": {
       "model_id": "42ad1e1bfde2492f9115e87752bd91af"
      }
     },
     "metadata": {},
     "output_type": "display_data"
    },
    {
     "name": "stdout",
     "output_type": "stream",
     "text": [
      "\n",
      "Recall: 18.34 %\n",
      "Average NDCG: 2.3254677164267386 %\n",
      "Coverage: 6.439217018385632 %\n",
      "Precision: 4.585 %\n"
     ]
    }
   ],
   "source": [
    "n=3\n",
    "diversity_groups=diverse_users(plays_sparse, n)\n",
    "levels=[1,2,3]\n",
    "ndcg_div_als = []\n",
    "recall_div_als = []\n",
    "precision_div_als = []\n",
    "coverage_div_als = []\n",
    "for group in diversity_groups:\n",
    "    #print('Matrix Sparsity:', calculate_sparsity(group))\n",
    "    # Compute the recall and ndcg using optimal parameters for the ALS model on different dataset sizes\n",
    "    train, test, user_count = split_train_test_per_user(group, 4, 20)\n",
    "    # train model \n",
    "    print(\"Fitting model...\")\n",
    "    #FIRST, BASELINE------------------------------\n",
    "    model=baseline(20)\n",
    "    model.fit(train)\n",
    "    coverage, precision, recall, ndcg = evaluate(model,\"baseline\", test, plays_sparse)\n",
    "    \n",
    "    coverage, precision, recall, ndcg = evaluate(model,\"implicit\", test, plays_sparse)\n",
    "    print(\"Recall:\",recall*100,'%')\n",
    "    print(\"Average NDCG:\",ndcg*100,'%')\n",
    "    print(\"Coverage:\",coverage*100,'%')\n",
    "    print(\"Precision:\",precision*100,'%')\n",
    "\n",
    "    recall_div_baseline.append(recall)\n",
    "    ndcg_div_baseline.append(ndcg)\n",
    "    precision_div_baseline.append(precision)\n",
    "    coverage_div_baseline.append(coverage)\n",
    "    \n",
    "    #SECOND, ALS-------------------------------------\n",
    "    model = implicit.als.AlternatingLeastSquares(factors=30, regularization=0.01)\n",
    "    model.fit(train, show_progress=True)\n",
    "    \n",
    "    coverage, precision, recall, ndcg = evaluate(model,\"implicit\", test, plays_sparse)\n",
    "    print(\"Recall:\",recall*100,'%')\n",
    "    print(\"Average NDCG:\",ndcg*100,'%')\n",
    "    print(\"Coverage:\",coverage*100,'%')\n",
    "    print(\"Precision:\",precision*100,'%')\n",
    "\n",
    "    recall_div_als.append(recall)\n",
    "    ndcg_div_als.append(ndcg)\n",
    "    precision_div_als.append(precision)\n",
    "    coverage_div_als.append(coverage)\n",
    "    "
   ]
  },
  {
   "cell_type": "code",
   "execution_count": 43,
   "metadata": {},
   "outputs": [
    {
     "name": "stderr",
     "output_type": "stream",
     "text": [
      "/anaconda/lib/python3.6/site-packages/seaborn/categorical.py:1428: FutureWarning: remove_na is deprecated and is a private function. Do not use.\n",
      "  stat_data = remove_na(group_data)\n"
     ]
    },
    {
     "data": {
      "image/png": "[encoded data removed]",
      "text/plain": [
       "<Figure size 576x396 with 1 Axes>"
      ]
     },
     "metadata": {},
     "output_type": "display_data"
    }
   ],
   "source": [
    "# Plot NDCG by Diversity Level\n",
    "ndcg_div_df = pd.DataFrame({'N':levels, 'NDCG': ndcg_div})\n",
    "g = sns.pointplot(x='N', y='NDCG', data=ndcg_div_df,color='red')\n",
    "f = sns.pointplot(x='N', y='Precision', data=precision_div_df,color='blue')\n",
    "plt.title('NDCG by Diversity Level for ALS')\n",
    "plt.xlabel('Diversity Level')\n",
    "plt.ylabel('NDCG')\n",
    "plt.show()"
   ]
  },
  {
   "cell_type": "code",
   "execution_count": 36,
   "metadata": {},
   "outputs": [
    {
     "name": "stderr",
     "output_type": "stream",
     "text": [
      "/anaconda/lib/python3.6/site-packages/seaborn/categorical.py:1428: FutureWarning: remove_na is deprecated and is a private function. Do not use.\n",
      "  stat_data = remove_na(group_data)\n"
     ]
    },
    {
     "data": {
      "image/png": "[encoded data removed]",
      "text/plain": [
       "<Figure size 576x396 with 1 Axes>"
      ]
     },
     "metadata": {},
     "output_type": "display_data"
    }
   ],
   "source": [
    "# Plot Recall of by Diversity Level\n",
    "recall_div_df = pd.DataFrame({'N':levels, 'Recall': recall_div})\n",
    "g = sns.pointplot(x='N', y='Recall', data=recall_div_df)\n",
    "plt.title('Recall by Diversity Level for ALS')\n",
    "plt.xlabel('Activity Level')\n",
    "plt.ylabel('Recall')\n",
    "plt.show()"
   ]
  },
  {
   "cell_type": "code",
   "execution_count": 41,
   "metadata": {},
   "outputs": [
    {
     "name": "stderr",
     "output_type": "stream",
     "text": [
      "/anaconda/lib/python3.6/site-packages/seaborn/categorical.py:1428: FutureWarning: remove_na is deprecated and is a private function. Do not use.\n",
      "  stat_data = remove_na(group_data)\n"
     ]
    },
    {
     "data": {
      "image/png": "[encoded data removed]",
      "text/plain": [
       "<Figure size 576x396 with 1 Axes>"
      ]
     },
     "metadata": {},
     "output_type": "display_data"
    }
   ],
   "source": [
    "# Plot Precision of by Diversity Level\n",
    "precision_div_df = pd.DataFrame({'N':levels, 'Precision': precision_div})\n",
    "g = sns.pointplot(x='N', y='Precision', data=precision_div_df)\n",
    "plt.title('Precision by Diversity Level for ALS')\n",
    "plt.xlabel('Diversity Level')\n",
    "plt.ylabel('Precision')\n",
    "plt.show()"
   ]
  },
  {
   "cell_type": "code",
   "execution_count": 38,
   "metadata": {},
   "outputs": [
    {
     "name": "stderr",
     "output_type": "stream",
     "text": [
      "/anaconda/lib/python3.6/site-packages/seaborn/categorical.py:1428: FutureWarning: remove_na is deprecated and is a private function. Do not use.\n",
      "  stat_data = remove_na(group_data)\n"
     ]
    },
    {
     "data": {
      "image/png": "[encoded data removed]",
      "text/plain": [
       "<Figure size 576x396 with 1 Axes>"
      ]
     },
     "metadata": {},
     "output_type": "display_data"
    }
   ],
   "source": [
    "# Plot Coverage of by Diversity Level\n",
    "coverage_div_df = pd.DataFrame({'N':levels, 'Recall': coverage_div})\n",
    "g = sns.pointplot(x='N', y='Recall', data=coverage_div_df)\n",
    "plt.title('Coverage by Diversity Level for ALS')\n",
    "plt.xlabel('Diversity Level')\n",
    "plt.ylabel('Coverage')\n",
    "plt.show()"
   ]
  },
  {
   "cell_type": "markdown",
   "metadata": {},
   "source": [
    "### Basic/Non-Basic"
   ]
  },
  {
   "cell_type": "code",
   "execution_count": null,
   "metadata": {
    "collapsed": true
   },
   "outputs": [],
   "source": [
    "n=3\n",
    "mainstream_groups=mainstream_users(plays_sparse,20, n)\n",
    "levels=[1,2,3]\n",
    "ndcg_main = []\n",
    "recall_main = []\n",
    "precision_main = []\n",
    "coverage_main = []\n",
    "model = implicit.als.AlternatingLeastSquares(factors=30, regularization=0.01)\n",
    "for group in mainstream_groups:\n",
    "    #print('Matrix Sparsity:', calculate_sparsity(group))\n",
    "    # Compute the recall and ndcg using optimal parameters for the ALS model on different dataset sizes\n",
    "    train, test, user_count = split_train_test_per_user(group, 4, 20)\n",
    "    # train model \n",
    "    print(\"Fitting model...\")\n",
    "    \n",
    "    model.fit(train, show_progress=True)\n",
    "    \n",
    "    coverage, precision, recall, ndcg = evaluate(model,\"implicit\", test, plays_sparse)\n",
    "    print(\"Recall:\",recall*100,'%')\n",
    "    print(\"Average NDCG:\",ndcg*100,'%')\n",
    "    print(\"Coverage:\",coverage*100,'%')\n",
    "    print(\"Precision:\",precision*100,'%')\n",
    "\n",
    "    recall_main.append(recall)\n",
    "    ndcg_main.append(ndcg)\n",
    "    precision_main.append(precision)\n",
    "    coverage_main.append(coverage)"
   ]
  },
  {
   "cell_type": "code",
   "execution_count": null,
   "metadata": {
    "collapsed": true
   },
   "outputs": [],
   "source": [
    "# Plot NDCG by Diversity Level\n",
    "ndcg_div_df = pd.DataFrame({'N':levels, 'NDCG': ndcg_div})\n",
    "g = sns.pointplot(x='N', y='NDCG', data=ndcg_div_df)\n",
    "plt.title('NDCG by Diversity Level for ALS')\n",
    "plt.xlabel('Diversity Level')\n",
    "plt.ylabel('NDCG')\n",
    "plt.show()"
   ]
  },
  {
   "cell_type": "code",
   "execution_count": null,
   "metadata": {
    "collapsed": true
   },
   "outputs": [],
   "source": [
    "# Plot Recall of by Diversity Level\n",
    "recall_div_df = pd.DataFrame({'N':levels, 'Recall': recall_div})\n",
    "g = sns.pointplot(x='N', y='Recall', data=recall_div_df)\n",
    "plt.title('Recall by Diversity Level for ALS')\n",
    "plt.xlabel('Activity Level')\n",
    "plt.ylabel('Recall')\n",
    "plt.show()"
   ]
  },
  {
   "cell_type": "code",
   "execution_count": null,
   "metadata": {
    "collapsed": true
   },
   "outputs": [],
   "source": [
    "# Plot Precision of by Diversity Level\n",
    "precision_div_df = pd.DataFrame({'N':levels, 'Recall': precision_div})\n",
    "g = sns.pointplot(x='N', y='Recall', data=precision_div_df)\n",
    "plt.title('Precision by Diversity Level for ALS')\n",
    "plt.xlabel('Diversity Level')\n",
    "plt.ylabel('Precision')\n",
    "plt.show()"
   ]
  },
  {
   "cell_type": "code",
   "execution_count": null,
   "metadata": {
    "collapsed": true
   },
   "outputs": [],
   "source": [
    "# Plot Coverage of by Diversity Level\n",
    "coverage_div_df = pd.DataFrame({'N':levels, 'Recall': coverage_div})\n",
    "g = sns.pointplot(x='N', y='Recall', data=coverage_div_df)\n",
    "plt.title('Coverage by Diversity Level for ALS')\n",
    "plt.xlabel('Diversity Level')\n",
    "plt.ylabel('Coverage')\n",
    "plt.show()"
   ]
  },
  {
   "cell_type": "markdown",
   "metadata": {},
   "source": [
    "## 4b. Performance by Input Size "
   ]
  },
  {
   "cell_type": "markdown",
   "metadata": {},
   "source": [
    "### Accuracy/NDCG"
   ]
  },
  {
   "cell_type": "code",
   "execution_count": null,
   "metadata": {
    "collapsed": true
   },
   "outputs": [],
   "source": [
    "size = [9000,20000,40000,60000,80000]\n",
    "import time\n",
    "train_time = list()\n",
    "ndcg_size = []\n",
    "recall_size = []\n",
    "#get train data for each input size\n",
    "for users in size:\n",
    "    df = get_users(df_150, users)\n",
    "    plays_sparse = create_sparse_matrix(df)\n",
    "\n",
    "    # K-Nearest Neighbors\n",
    "    model_fm_features = LightFM(no_components=30, loss='warp')\n",
    "    \n",
    "    start = time.time()\n",
    "    # train model \n",
    "    print(\"Fitting model...\")\n",
    "    model_fm_features.fit(plays_sparse.T.tocsr(),user_features = None, item_features = None)    \n",
    "    stop = time.time()\n",
    "    total = stop-start\n",
    "    train_time.append(total)\n",
    "    coverage, precision, recall, ndcg = evaluate(model_fm_feature,\"lightfm\", test, plays_sparse)\n",
    "    print(\"Recall:\",recall*100,'%')\n",
    "    print(\"Average NDCG:\",ndcg*100,'%')\n",
    "    print(\"Coverage:\",coverage*100,'%')\n",
    "    print(\"Precision:\",precision*100,'%')\n",
    "    recall_size.append(recall)\n",
    "    ndcg_size.append(ndcg)\n",
    "\n",
    "#plot\n",
    "df = pd.DataFrame({'n':size,'ndcg':ndcg_size})\n",
    "sns.pointplot(x=\"n\",y=\"ndcg\",data=df)\n",
    "plt.title('NDCG by Input Size for Factorization Machine')\n",
    "plt.xlabel('Number of Users')\n",
    "plt.ylabel('Time (s)')"
   ]
  },
  {
   "cell_type": "markdown",
   "metadata": {},
   "source": [
    "### Training/Predict Time"
   ]
  },
  {
   "cell_type": "code",
   "execution_count": null,
   "metadata": {
    "collapsed": true
   },
   "outputs": [],
   "source": [
    "#plot LightFM training time vs input size\n",
    "#plot\n",
    "df = pd.DataFrame({'n':size,'time':train_time})\n",
    "sns.pointplot(x=\"n\",y=\"time\",data=df)\n",
    "plt.title('Training Time by Input Size for Factorization Machine')\n",
    "plt.xlabel('Number of Users')\n",
    "plt.ylabel('Time (s)')"
   ]
  },
  {
   "cell_type": "markdown",
   "metadata": {},
   "source": [
    "# 5. Conclusion / Next Steps"
   ]
  },
  {
   "cell_type": "markdown",
   "metadata": {},
   "source": [
    "# OLD STUFF: "
   ]
  },
  {
   "cell_type": "markdown",
   "metadata": {},
   "source": [
    "# Cross Validation and Parameter Tuning (k-fold)\n",
    "\n",
    "In this section, we use k-fold cross validation to tune hyperparameters and evaluate our models."
   ]
  },
  {
   "cell_type": "markdown",
   "metadata": {},
   "source": [
    "### Splitting into test and training sets"
   ]
  },
  {
   "cell_type": "code",
   "execution_count": null,
   "metadata": {},
   "outputs": [],
   "source": [
    "# Cross Validation test\n",
    "k=5\n",
    "train_list, test_list, user_count = split_train_test_per_user(plays_sparse,k,20,cross_valid=True)"
   ]
  },
  {
   "cell_type": "markdown",
   "metadata": {},
   "source": [
    "## Evaluate and tune ALS\n",
    "\n",
    "Tuning two parameters: number of latent factors and the regularization factor. \n",
    "\n",
    "For latent factors, we try values [10,20,30,40,50,60]\n",
    "\n",
    "For regularization factors, we try [.01,.03,.05,.07]"
   ]
  },
  {
   "cell_type": "code",
   "execution_count": null,
   "metadata": {
    "collapsed": true
   },
   "outputs": [],
   "source": [
    "start = time.time()\n",
    "model=implicit.als.AlternatingLeastSquares\n",
    "ndcg_list,heatmap_list=auto_tune_parameter(4,20,model,plays_sparse,[10,20,30,40,50,60],[.01,.03,.05,.07],param3=None)\n",
    "stop = time.time()\n",
    "total = stop-start"
   ]
  },
  {
   "cell_type": "code",
   "execution_count": null,
   "metadata": {
    "collapsed": true
   },
   "outputs": [],
   "source": [
    "# Plot heatmap of parameter tuning results\n",
    "sns.set_style(\"whitegrid\")\n",
    "sns.heatmap(heatmap_list[2], \n",
    "            xticklabels=['0.01','0.03','0.05','0.07'], \n",
    "            yticklabels=['10','20','30','40','50','60'], \n",
    "            cbar_kws={'label':'NDCG Score'})\n",
    "plt.ylabel(\"Number of Latent Factors\")\n",
    "plt.xlabel(\"Regularization Factor\")\n",
    "plt.title(\"ALS NDCG scores according to Model Parameters\")\n",
    "plt.show()"
   ]
  },
  {
   "cell_type": "markdown",
   "metadata": {},
   "source": [
    "Here we analyze the scalability of ALS by looking at datasets with 9k, 20k, 60k, and 150k users:"
   ]
  },
  {
   "cell_type": "code",
   "execution_count": null,
   "metadata": {
    "collapsed": true
   },
   "outputs": [],
   "source": [
    "# The following block imports larger datasets for scaling tests, these expanded CSVs are not available in the repo\n",
    "files9k = pd.read_csv('lastfm_9000_users.csv', na_filter=False)\n",
    "files20k = pd.read_csv('lastfm_20k_users.csv', na_filter=False)\n",
    "files60k = pd.read_csv('lastfm_60k_users.csv', na_filter=False)\n",
    "files150k = pd.read_csv('lastfm_150k_users.csv', na_filter=False)\n",
    "files40k = get_users(files150k, 40000)\n",
    "files = [files9k, files20k, files40k, files60k]"
   ]
  },
  {
   "cell_type": "code",
   "execution_count": null,
   "metadata": {
    "collapsed": true
   },
   "outputs": [],
   "source": [
    "# Compute the recall and ndcg using optimal parameters for the ALS model on different dataset sizes\n",
    "size = [9000, 20000, 40000, 60000]\n",
    "ndcg_size = []\n",
    "recall_size = []\n",
    "for i in files:\n",
    "    model = implicit.als.AlternatingLeastSquares(factors=30, regularization=0.01)\n",
    "\n",
    "    #create sparse matrix\n",
    "    plays_sparse = create_sparse_matrix(i).astype('float')\n",
    "    print('Matrix Sparsity:', calculate_sparsity(plays_sparse))\n",
    "\n",
    "    train, test, user_count = split_train_test_per_user(plays_sparse, 4, 20)\n",
    "\n",
    "    # train model \n",
    "    print(\"Fitting model...\")\n",
    "    model.fit(train, show_progress=True)\n",
    "\n",
    "    recall, ndcg = evaluate(model, test, plays_sparse)\n",
    "    print(\"Recall:\",recall*100,'%')\n",
    "    print(\"Average NDCG:\",ndcg*100,'%')\n",
    "    recall_size.append(recall)\n",
    "    ndcg_size.append(ndcg)"
   ]
  },
  {
   "cell_type": "code",
   "execution_count": null,
   "metadata": {
    "collapsed": true
   },
   "outputs": [],
   "source": [
    "# Plot scalability of ALS model\n",
    "ndcg_size_df = pd.DataFrame({'N':size,\n",
    "                       'NDCG': ndcg_size})\n",
    "g = sns.pointplot(x='N', y='NDCG', data=ndcg_size_df)\n",
    "plt.title('NDCG by Input Size for ALS')\n",
    "plt.xlabel('Number Of Users')\n",
    "plt.show()"
   ]
  },
  {
   "cell_type": "markdown",
   "metadata": {},
   "source": [
    "Here we analyze the catalog coverage of the ALS model:"
   ]
  },
  {
   "cell_type": "code",
   "execution_count": null,
   "metadata": {
    "collapsed": true
   },
   "outputs": [],
   "source": [
    "# Calculate catalog coverage of ALS model with optimal parameters\n",
    "model = implicit.als.AlternatingLeastSquares(factors=30, regularization=0.01)\n",
    "model.fit(plays_sparse)\n",
    "users = list(df.user_id.unique())\n",
    "catalog = []\n",
    "for i in range(0,len(users)):\n",
    "    for x,y in model.recommend(i,plays_sparse.T.tocsr(), N=20, filter_already_liked_items=True):\n",
    "        if x not in catalog:\n",
    "            catalog.append(x)\n",
    "print('Catalog Coverage is', len(catalog)/plays_sparse.shape[1])"
   ]
  },
  {
   "cell_type": "markdown",
   "metadata": {},
   "source": [
    "# Tune ALS\n",
    "\n",
    "Below we will tune the hyperparameters of ALS from a given range of hyperparameters."
   ]
  },
  {
   "cell_type": "code",
   "execution_count": null,
   "metadata": {
    "collapsed": true
   },
   "outputs": [],
   "source": [
    "model=implicit.als.AlternatingLeastSquares\n",
    "ndcg_list,heatmap_list=auto_tune_parameter(4,20,model,plays_sparse,[10,20,30,40,50,60],[.01,.03,.05,.07],param3=None)\n",
    "\n",
    "sns.set_style(\"whitegrid\")\n",
    "sns.heatmap(heatmap_list[2], xticklabels=['0.01','0.03','0.05','0.07'], yticklabels=['10','20','30','40','50','60'], cbar_kws={'label':'NDCG Score'})\n",
    "plt.ylabel(\"Number of Latent Factors\")\n",
    "plt.xlabel(\"Regularization Factor\")\n",
    "plt.title(\"ALS NDCG scores according to Model Parameters\")\n",
    "plt.show()"
   ]
  },
  {
   "cell_type": "markdown",
   "metadata": {},
   "source": [
    "# Input Size vs Training Time\n",
    "\n",
    "Below you can run the code using a larger dataset to evaluate performance tiem compared with input tiem"
   ]
  },
  {
   "cell_type": "code",
   "execution_count": null,
   "metadata": {
    "collapsed": true
   },
   "outputs": [],
   "source": [
    "#helper function to grab needed users\n",
    "def get_users(df, n):\n",
    "    sample_userid = df[\"user_id\"].unique()\n",
    "    sample_userid = np.random.choice(sample_userid, size = n, replace = False)\n",
    "\n",
    "    #grab rows with sample user id\n",
    "    df_sample = df[df.user_id.isin(sample_userid)].reset_index(drop = True)\n",
    "\n",
    "    return df_sample\n",
    "\n",
    "#in order to run this analysis, you need to download the 150k data at: \n",
    "#https://www.dropbox.com/s/qd8rnlxsuq0rjll/last_fm_bigger_data.zip?dl=0\n",
    "\n",
    "#read in large dataset\n",
    "df_150 = pd.read_csv('lastfm_150k_users.csv', na_filter=False)\n",
    "df_150 = df_150.drop(['Unnamed: 0'], axis=1)"
   ]
  },
  {
   "cell_type": "markdown",
   "metadata": {},
   "source": [
    "# ALS"
   ]
  },
  {
   "cell_type": "code",
   "execution_count": null,
   "metadata": {
    "collapsed": true
   },
   "outputs": [],
   "source": [
    "#plot ALS training time vs input size\n",
    "#calculate training time for different input sizes for ALS\n",
    "import sns\n",
    "import time\n",
    "\n",
    "size = [9000,20000,40000,60000,80000]\n",
    "train_time = list()\n",
    "\n",
    "#get train data for each input size\n",
    "for users in size:\n",
    "    df = get_users(df_150, users)\n",
    "    plays_sparse = create_sparse_matrix(df)\n",
    "\n",
    "    # K-Nearest Neighbors\n",
    "    model = implicit.als.AlternatingLeastSquares(50)\n",
    "    \n",
    "    start = time.time()\n",
    "    # train model \n",
    "    print(\"Fitting model...\")\n",
    "    model.fit(plays_sparse, show_progress=True)\n",
    "    stop = time.time()\n",
    "    total = stop-start\n",
    "    train_time.append(total)\n",
    "\n",
    "#plot\n",
    "df = pd.DataFrame({'n':size,'time':train_time})\n",
    "sns.pointplot(x=\"n\",y=\"time\",data=df)\n",
    "plt.title('Training Time by Input Size for KNN')\n",
    "plt.xlabel('Number of Users')\n",
    "plt.ylabel('Time (s)')"
   ]
  }
 ],
 "metadata": {
  "kernelspec": {
   "display_name": "Python 3",
   "language": "python",
   "name": "python3"
  },
  "language_info": {
   "codemirror_mode": {
    "name": "ipython",
    "version": 3
   },
   "file_extension": ".py",
   "mimetype": "text/x-python",
   "name": "python",
   "nbconvert_exporter": "python",
   "pygments_lexer": "ipython3",
   "version": "3.6.6"
  }
 },
 "nbformat": 4,
 "nbformat_minor": 2
}
