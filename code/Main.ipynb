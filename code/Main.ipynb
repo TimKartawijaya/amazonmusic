{
 "cells": [
  {
   "cell_type": "code",
   "execution_count": 5,
   "metadata": {},
   "outputs": [
    {
     "name": "stderr",
     "output_type": "stream",
     "text": [
      "/anaconda/lib/python3.6/site-packages/lightfm/_lightfm_fast.py:9: UserWarning: LightFM was compiled without OpenMP support. Only a single thread will be used.\n",
      "  warnings.warn('LightFM was compiled without OpenMP support. '\n"
     ]
    }
   ],
   "source": [
    "from __future__ import print_function\n",
    "from lightfm import LightFM"
   ]
  },
  {
   "cell_type": "markdown",
   "metadata": {},
   "source": [
    "First we load the functions and libraries necessary for this report."
   ]
  },
  {
   "cell_type": "code",
   "execution_count": 2,
   "metadata": {
    "collapsed": true
   },
   "outputs": [],
   "source": [
    "run analysis_functions.ipynb #import all helper functions"
   ]
  },
  {
   "cell_type": "code",
   "execution_count": 11,
   "metadata": {
    "collapsed": true
   },
   "outputs": [],
   "source": [
    "# Import main dataset\n",
    "df = pd.read_csv('lastfm_9000_users.csv', na_filter=False)\n",
    "df = df.drop(['Unnamed: 0'], axis=1)"
   ]
  },
  {
   "cell_type": "markdown",
   "metadata": {},
   "source": [
    "The structure of the analysis will be as such: \n",
    "1. Objective\n",
    "2. Prepare data\n",
    "3. Model Fitting, Tuning, and Evaluation\n",
    "    - Benchmarks\n",
    "        - Most Popular\n",
    "        - ALS Matrix Factorization\n",
    "    - LightFM\n",
    "        - Vanilla FM / BPR\n",
    "        - FM with User/Item Side Information\n",
    "        - Parameter Tuning\n",
    "4. Model Exploration\n",
    "    - Metrics Used (NDCG, Recall, Precision, Coverage)\n",
    "    - Performance of each Model (Table)\n",
    "    - NDCG Metric by User Type \n",
    "        - Active/Non-Active (Aggregate Plays)\n",
    "        - Diverse/Non-Diverse (Top 1000 Artists)\n",
    "        - \"Basic\"/Non-\"Basic\" (Popular)\n",
    "    - Scale:\n",
    "        - NDCG by Size\n",
    "        - Training Time / Predict Time\n",
    "6. Conclusion / Next Steps"
   ]
  },
  {
   "cell_type": "markdown",
   "metadata": {},
   "source": [
    "# 0. Data Exploration"
   ]
  },
  {
   "cell_type": "markdown",
   "metadata": {},
   "source": [
    "Let's see how the plays are distributed. "
   ]
  },
  {
   "cell_type": "code",
   "execution_count": 12,
   "metadata": {
    "collapsed": true
   },
   "outputs": [],
   "source": [
    "import seaborn as sns\n",
    "import matplotlib.pyplot as plt"
   ]
  },
  {
   "cell_type": "code",
   "execution_count": 13,
   "metadata": {},
   "outputs": [
    {
     "name": "stderr",
     "output_type": "stream",
     "text": [
      "/anaconda/lib/python3.6/site-packages/matplotlib/axes/_axes.py:6571: UserWarning: The 'normed' kwarg is deprecated, and has been replaced by the 'density' kwarg.\n",
      "  warnings.warn(\"The 'normed' kwarg is deprecated, and has been \"\n"
     ]
    },
    {
     "data": {
      "text/plain": [
       "<matplotlib.axes._subplots.AxesSubplot at 0x113eaf0b8>"
      ]
     },
     "execution_count": 13,
     "metadata": {},
     "output_type": "execute_result"
    }
   ],
   "source": [
    "sns.distplot(df.plays)"
   ]
  },
  {
   "cell_type": "code",
   "execution_count": 14,
   "metadata": {},
   "outputs": [
    {
     "name": "stderr",
     "output_type": "stream",
     "text": [
      "/anaconda/lib/python3.6/site-packages/matplotlib/axes/_axes.py:6571: UserWarning: The 'normed' kwarg is deprecated, and has been replaced by the 'density' kwarg.\n",
      "  warnings.warn(\"The 'normed' kwarg is deprecated, and has been \"\n"
     ]
    },
    {
     "data": {
      "text/plain": [
       "<matplotlib.axes._subplots.AxesSubplot at 0x113eaf0b8>"
      ]
     },
     "execution_count": 14,
     "metadata": {},
     "output_type": "execute_result"
    }
   ],
   "source": [
    "sns.distplot(df[df.plays < 1000].plays)"
   ]
  },
  {
   "cell_type": "code",
   "execution_count": 15,
   "metadata": {
    "collapsed": true
   },
   "outputs": [],
   "source": [
    "from sklearn.preprocessing import MinMaxScaler \n",
    "\n",
    "df['log_plays'] = df.plays.apply(lambda x: log(x))\n",
    "\n",
    "df.log_plays *= (1.0/df.log_plays.max())"
   ]
  },
  {
   "cell_type": "code",
   "execution_count": 16,
   "metadata": {},
   "outputs": [
    {
     "name": "stderr",
     "output_type": "stream",
     "text": [
      "/anaconda/lib/python3.6/site-packages/matplotlib/axes/_axes.py:6571: UserWarning: The 'normed' kwarg is deprecated, and has been replaced by the 'density' kwarg.\n",
      "  warnings.warn(\"The 'normed' kwarg is deprecated, and has been \"\n"
     ]
    },
    {
     "data": {
      "text/plain": [
       "<matplotlib.axes._subplots.AxesSubplot at 0x113eaf0b8>"
      ]
     },
     "execution_count": 16,
     "metadata": {},
     "output_type": "execute_result"
    }
   ],
   "source": [
    "sns.distplot(df.log_plays)"
   ]
  },
  {
   "cell_type": "markdown",
   "metadata": {},
   "source": [
    "# 1. Objective"
   ]
  },
  {
   "cell_type": "markdown",
   "metadata": {},
   "source": [
    "BLALBALBALBLA"
   ]
  },
  {
   "cell_type": "markdown",
   "metadata": {},
   "source": [
    "# 2. Prepare Data"
   ]
  },
  {
   "cell_type": "markdown",
   "metadata": {},
   "source": [
    "### 2a. Create Sparse Matrix from Dataset"
   ]
  },
  {
   "cell_type": "code",
   "execution_count": 17,
   "metadata": {
    "scrolled": true
   },
   "outputs": [
    {
     "name": "stdout",
     "output_type": "stream",
     "text": [
      "Creating sparse matrix...\n"
     ]
    },
    {
     "name": "stderr",
     "output_type": "stream",
     "text": [
      "/anaconda/lib/python3.6/site-packages/ipykernel_launcher.py:23: FutureWarning: specifying 'categories' or 'ordered' in .astype() is deprecated; pass a CategoricalDtype instead\n",
      "/anaconda/lib/python3.6/site-packages/ipykernel_launcher.py:24: FutureWarning: specifying 'categories' or 'ordered' in .astype() is deprecated; pass a CategoricalDtype instead\n"
     ]
    },
    {
     "name": "stdout",
     "output_type": "stream",
     "text": [
      "Matrix Sparsity: 99.8965986346416\n"
     ]
    }
   ],
   "source": [
    "#create sparse matrix\n",
    "plays_sparse = create_sparse_matrix(df).astype('float')\n",
    "print('Matrix Sparsity:', calculate_sparsity(plays_sparse))"
   ]
  },
  {
   "cell_type": "markdown",
   "metadata": {},
   "source": [
    "### 2b. Split Data to Train/Test"
   ]
  },
  {
   "cell_type": "markdown",
   "metadata": {},
   "source": [
    "Split data into train test set, maintaining that each user still has some interactions intact."
   ]
  },
  {
   "cell_type": "code",
   "execution_count": 18,
   "metadata": {},
   "outputs": [
    {
     "data": {
      "application/vnd.jupyter.widget-view+json": {
       "model_id": "04c61b251dd44be5b1a3ad9bb1134d5b"
      }
     },
     "metadata": {},
     "output_type": "display_data"
    },
    {
     "name": "stdout",
     "output_type": "stream",
     "text": [
      "\n",
      "Percentage of original data masked: 0.06548419166887459\n",
      "Users masked: 8980\n"
     ]
    }
   ],
   "source": [
    "# Split data into training and test sets\n",
    "train, test, user_count = split_train_test_per_user(plays_sparse, 3, 10)\n",
    "print(\"Percentage of original data masked:\", pct_masked(plays_sparse, train.T.tocsr()))\n",
    "print(\"Users masked:\", user_count)"
   ]
  },
  {
   "cell_type": "code",
   "execution_count": null,
   "metadata": {
    "collapsed": true
   },
   "outputs": [],
   "source": [
    "#train is item by user to accomodate implicit and baseline training\n",
    "train"
   ]
  },
  {
   "cell_type": "markdown",
   "metadata": {},
   "source": [
    "#### Scaled Train/Test"
   ]
  },
  {
   "cell_type": "code",
   "execution_count": null,
   "metadata": {
    "collapsed": true
   },
   "outputs": [],
   "source": [
    "df_log = df.drop(columns = ['plays'], axis = 1)\n",
    "# plays_sparse = create_sparse_matrix(df).astype('float')"
   ]
  },
  {
   "cell_type": "code",
   "execution_count": null,
   "metadata": {
    "collapsed": true
   },
   "outputs": [],
   "source": [
    "df_log.columns = ['user_id','artist_mbid','artist_name','plays']"
   ]
  },
  {
   "cell_type": "code",
   "execution_count": null,
   "metadata": {
    "collapsed": true
   },
   "outputs": [],
   "source": [
    "#create sparse matrix\n",
    "plays_sparse_log = create_sparse_matrix(df_log).astype('float')\n",
    "print('Matrix Sparsity:', calculate_sparsity(plays_sparse_log))\n",
    "\n",
    "# Split data into training and test sets\n",
    "train_log, test_log, user_count_log = split_train_test_per_user(plays_sparse_log, 3, 10)\n",
    "print(\"Percentage of original data masked:\", pct_masked(plays_sparse_log, train_log.T.tocsr()))\n",
    "print(\"Users masked:\", user_count_log)"
   ]
  },
  {
   "cell_type": "markdown",
   "metadata": {},
   "source": [
    "# 3. Model Fitting, Tuning, and Evaluation"
   ]
  },
  {
   "cell_type": "markdown",
   "metadata": {},
   "source": [
    "- Note on evaluation: use metrics\n",
    "- what autotune does"
   ]
  },
  {
   "cell_type": "markdown",
   "metadata": {},
   "source": [
    "## 3a. Benchmarks"
   ]
  },
  {
   "cell_type": "markdown",
   "metadata": {},
   "source": [
    "### Baseline"
   ]
  },
  {
   "cell_type": "markdown",
   "metadata": {},
   "source": [
    "Baseline recommends the most-popular artists to everyone."
   ]
  },
  {
   "cell_type": "code",
   "execution_count": null,
   "metadata": {
    "collapsed": true
   },
   "outputs": [],
   "source": [
    "model_baseline = Baseline(n_recs = 20)\n",
    "model_baseline.fit(train)"
   ]
  },
  {
   "cell_type": "markdown",
   "metadata": {},
   "source": [
    "No tuning is necessary since there are no parameters. We then evaluate the test set below: "
   ]
  },
  {
   "cell_type": "code",
   "execution_count": null,
   "metadata": {
    "collapsed": true
   },
   "outputs": [],
   "source": [
    "coverage, precision, recall, ndcg = evaluate(model_baseline, \"baseline\", test, plays_sparse)\n",
    "print(\"Precision:\",precision*100,'%')\n",
    "print(\"Recall:\",recall*100,'%')\n",
    "print(\"Coverage:\",coverage*100,'%')\n",
    "print(\"Average NDCG per User:\",ndcg*100,'%')"
   ]
  },
  {
   "cell_type": "markdown",
   "metadata": {},
   "source": [
    "### Model-Based (ALS)\n",
    "\n",
    "Here we fit the model-based ALS Matrix Factorization using the implicit package from Homework 2 and use the parameters that were found to be optimized in the HW 2 report. "
   ]
  },
  {
   "cell_type": "code",
   "execution_count": null,
   "metadata": {
    "collapsed": true,
    "scrolled": true
   },
   "outputs": [],
   "source": [
    "model_als = implicit.als.AlternatingLeastSquares(factors = 30, regularization = 0.01)\n",
    "\n",
    "# Train model\n",
    "print(\"Fitting model...\")\n",
    "model_als.fit(train)"
   ]
  },
  {
   "cell_type": "code",
   "execution_count": null,
   "metadata": {
    "collapsed": true
   },
   "outputs": [],
   "source": [
    "coverage, precision, recall, ndcg = evaluate(model_als, \"implicit\", test, train.T.tocsr())\n",
    "print(\"Precision:\",precision*100,'%')\n",
    "print(\"Recall:\",recall*100,'%')\n",
    "print(\"Coverage:\",coverage*100,'%')\n",
    "print(\"Average NDCG per User:\",ndcg*100,'%')"
   ]
  },
  {
   "cell_type": "markdown",
   "metadata": {},
   "source": [
    "### LightFM (without side information)\n",
    "\n",
    "Here we fit the LightFM model."
   ]
  },
  {
   "cell_type": "code",
   "execution_count": null,
   "metadata": {
    "collapsed": true
   },
   "outputs": [],
   "source": [
    "from lightfm import LightFM\n",
    "\n",
    "model_fm_vanilla = LightFM(learning_rate = .05, loss='warp')\n",
    "\n",
    "# Train Model\n",
    "print(\"Fitting model...\")\n",
    "model_fm_vanilla.fit(train_log.T.tocsr(),user_features = None, item_features = None)\n"
   ]
  },
  {
   "cell_type": "markdown",
   "metadata": {},
   "source": [
    "Now we try to find the best hyperparameter for this model and use the model with the best hyperparameter to get our results."
   ]
  },
  {
   "cell_type": "code",
   "execution_count": null,
   "metadata": {
    "collapsed": true
   },
   "outputs": [],
   "source": [
    "#coverage, precision, recall, ndcg = evaluate(model_fm_vanilla, \"lightfm\", test, plays_sparse,liked=train.T.tocsr())\n",
    "coverage, precision, recall, ndcg = evaluate(model_fm_vanilla, \"lightfm\", test_log, plays_sparse_log, liked = train_log)\n",
    "print(\"Precision:\",precision*100,'%')\n",
    "print(\"Recall:\",recall*100,'%')\n",
    "print(\"Coverage:\",coverage*100,'%')\n",
    "print(\"Average NDCG per User:\",ndcg*100,'%')"
   ]
  },
  {
   "cell_type": "code",
   "execution_count": null,
   "metadata": {
    "collapsed": true
   },
   "outputs": [],
   "source": [
    "# from lightfm.cross_validation import random_train_test_split\n",
    "# from lightfm.evaluation import precision_at_k\n",
    "# from lightfm.evaluation import recall_at_k\n",
    "\n",
    "# train, test = random_train_test_split(plays_sparse_log)\n",
    "# recall_at_k(model_fm_vanilla, test, k = 20).mean()"
   ]
  },
  {
   "cell_type": "markdown",
   "metadata": {},
   "source": [
    "### LightFM (with side information)"
   ]
  },
  {
   "cell_type": "code",
   "execution_count": null,
   "metadata": {
    "collapsed": true
   },
   "outputs": [],
   "source": [
    "run artist_features.ipynb"
   ]
  },
  {
   "cell_type": "code",
   "execution_count": 25,
   "metadata": {
    "collapsed": true
   },
   "outputs": [],
   "source": [
    "run analysis_functions.ipynb"
   ]
  },
  {
   "cell_type": "code",
   "execution_count": 26,
   "metadata": {},
   "outputs": [],
   "source": [
    "#insert side info here\n",
    "import time\n",
    "user_features = None\n",
    "item_features = None\n",
    "model_fm_features = LightFM\n",
    "# Train Model\n",
    "#print(\"Fitting model...\")\n",
    "#model_fm_features.fit(train.T.tocsr(),user_features, item_features)"
   ]
  },
  {
   "cell_type": "markdown",
   "metadata": {},
   "source": [
    "Now we try to find the best hyperparameter for this model with the best hyperparameter to get our results."
   ]
  },
  {
   "cell_type": "markdown",
   "metadata": {},
   "source": [
    "Tuning one parameter: number components. We try values [5,10,15,20]"
   ]
  },
  {
   "cell_type": "code",
   "execution_count": 27,
   "metadata": {},
   "outputs": [
    {
     "data": {
      "application/vnd.jupyter.widget-view+json": {
       "model_id": "40d32ecfb4f5400bbffc22ad54ef9ac7"
      }
     },
     "metadata": {},
     "output_type": "display_data"
    },
    {
     "name": "stdout",
     "output_type": "stream",
     "text": [
      "\n"
     ]
    },
    {
     "data": {
      "application/vnd.jupyter.widget-view+json": {
       "model_id": "c603a646c3e64ed391b5aebbc5d818e3"
      }
     },
     "metadata": {},
     "output_type": "display_data"
    },
    {
     "name": "stdout",
     "output_type": "stream",
     "text": [
      "\n",
      "Fitting fold number... 0\n",
      "Trying  5\n",
      "Evaluating model...\n"
     ]
    },
    {
     "data": {
      "application/vnd.jupyter.widget-view+json": {
       "model_id": "9de18e9676184fb5bdf134fde7a98b6f"
      }
     },
     "metadata": {},
     "output_type": "display_data"
    },
    {
     "name": "stdout",
     "output_type": "stream",
     "text": [
      "\n"
     ]
    },
    {
     "ename": "TypeError",
     "evalue": "'NoneType' object is not subscriptable",
     "output_type": "error",
     "traceback": [
      "\u001b[0;31m---------------------------------------------------------------------------\u001b[0m",
      "\u001b[0;31mTypeError\u001b[0m                                 Traceback (most recent call last)",
      "\u001b[0;32m<ipython-input-27-534cd7d686f3>\u001b[0m in \u001b[0;36m<module>\u001b[0;34m()\u001b[0m\n\u001b[1;32m      1\u001b[0m \u001b[0mtries\u001b[0m\u001b[0;34m=\u001b[0m\u001b[0;34m[\u001b[0m\u001b[0;36m5\u001b[0m\u001b[0;34m,\u001b[0m\u001b[0;36m10\u001b[0m\u001b[0;34m,\u001b[0m\u001b[0;36m15\u001b[0m\u001b[0;34m,\u001b[0m\u001b[0;36m20\u001b[0m\u001b[0;34m]\u001b[0m\u001b[0;34m\u001b[0m\u001b[0m\n\u001b[1;32m      2\u001b[0m \u001b[0mstart\u001b[0m \u001b[0;34m=\u001b[0m \u001b[0mtime\u001b[0m\u001b[0;34m.\u001b[0m\u001b[0mtime\u001b[0m\u001b[0;34m(\u001b[0m\u001b[0;34m)\u001b[0m\u001b[0;34m\u001b[0m\u001b[0m\n\u001b[0;32m----> 3\u001b[0;31m \u001b[0mndcg_list\u001b[0m\u001b[0;34m,\u001b[0m\u001b[0mheatmap_list\u001b[0m\u001b[0;34m=\u001b[0m\u001b[0mauto_tune_parameter\u001b[0m\u001b[0;34m(\u001b[0m\u001b[0;36m4\u001b[0m\u001b[0;34m,\u001b[0m\u001b[0;36m20\u001b[0m\u001b[0;34m,\u001b[0m\u001b[0mmodel_fm_features\u001b[0m\u001b[0;34m,\u001b[0m\u001b[0mplays_sparse\u001b[0m\u001b[0;34m,\u001b[0m\u001b[0mtries\u001b[0m\u001b[0;34m,\u001b[0m\u001b[0muser_features\u001b[0m\u001b[0;34m,\u001b[0m\u001b[0mitem_features\u001b[0m\u001b[0;34m)\u001b[0m\u001b[0;34m\u001b[0m\u001b[0m\n\u001b[0m\u001b[1;32m      4\u001b[0m \u001b[0;34m\u001b[0m\u001b[0m\n\u001b[1;32m      5\u001b[0m \u001b[0mstop\u001b[0m \u001b[0;34m=\u001b[0m \u001b[0mtime\u001b[0m\u001b[0;34m.\u001b[0m\u001b[0mtime\u001b[0m\u001b[0;34m(\u001b[0m\u001b[0;34m)\u001b[0m\u001b[0;34m\u001b[0m\u001b[0m\n",
      "\u001b[0;32m<ipython-input-25-9f4bdfba632d>\u001b[0m in \u001b[0;36mauto_tune_parameter\u001b[0;34m(k, interactions, model, data, param1, user_features, artist_features)\u001b[0m\n\u001b[1;32m     44\u001b[0m             \u001b[0musemodel\u001b[0m\u001b[0;34m=\u001b[0m\u001b[0mmodel\u001b[0m\u001b[0;34m(\u001b[0m\u001b[0mno_components\u001b[0m\u001b[0;34m=\u001b[0m\u001b[0mvalue1\u001b[0m\u001b[0;34m,\u001b[0m\u001b[0mloss\u001b[0m\u001b[0;34m=\u001b[0m\u001b[0;34m'warp'\u001b[0m\u001b[0;34m)\u001b[0m\u001b[0;34m\u001b[0m\u001b[0m\n\u001b[1;32m     45\u001b[0m             \u001b[0musemodel\u001b[0m\u001b[0;34m.\u001b[0m\u001b[0mfit\u001b[0m\u001b[0;34m(\u001b[0m\u001b[0mtrain\u001b[0m\u001b[0;34m.\u001b[0m\u001b[0mT\u001b[0m\u001b[0;34m.\u001b[0m\u001b[0mtocsr\u001b[0m\u001b[0;34m(\u001b[0m\u001b[0;34m)\u001b[0m\u001b[0;34m,\u001b[0m\u001b[0muser_features\u001b[0m\u001b[0;34m=\u001b[0m\u001b[0muser_features\u001b[0m\u001b[0;34m,\u001b[0m\u001b[0mitem_features\u001b[0m\u001b[0;34m=\u001b[0m\u001b[0martist_features\u001b[0m\u001b[0;34m,\u001b[0m\u001b[0mnum_threads\u001b[0m\u001b[0;34m=\u001b[0m\u001b[0;36m4\u001b[0m\u001b[0;34m)\u001b[0m\u001b[0;34m\u001b[0m\u001b[0m\n\u001b[0;32m---> 46\u001b[0;31m             \u001b[0mcoverage\u001b[0m\u001b[0;34m,\u001b[0m \u001b[0mprecision\u001b[0m\u001b[0;34m,\u001b[0m\u001b[0mrecall\u001b[0m\u001b[0;34m,\u001b[0m\u001b[0mndcg\u001b[0m \u001b[0;34m=\u001b[0m \u001b[0mevaluate\u001b[0m\u001b[0;34m(\u001b[0m\u001b[0musemodel\u001b[0m\u001b[0;34m,\u001b[0m\u001b[0;34m'lightfm'\u001b[0m\u001b[0;34m,\u001b[0m\u001b[0mtune\u001b[0m\u001b[0;34m,\u001b[0m\u001b[0mdata\u001b[0m\u001b[0;34m)\u001b[0m\u001b[0;34m\u001b[0m\u001b[0m\n\u001b[0m\u001b[1;32m     47\u001b[0m             \u001b[0mprint\u001b[0m\u001b[0;34m(\u001b[0m\u001b[0mvalue1_index\u001b[0m\u001b[0;34m)\u001b[0m\u001b[0;34m\u001b[0m\u001b[0m\n\u001b[1;32m     48\u001b[0m             \u001b[0mndcg_heatmap\u001b[0m\u001b[0;34m[\u001b[0m\u001b[0mvalue1_index\u001b[0m\u001b[0;34m]\u001b[0m\u001b[0;34m=\u001b[0m\u001b[0mndcg\u001b[0m \u001b[0;31m#update heatmap\u001b[0m\u001b[0;34m\u001b[0m\u001b[0m\n",
      "\u001b[0;32m<ipython-input-25-b6b3af06f150>\u001b[0m in \u001b[0;36mevaluate\u001b[0;34m(model, model_name, test, M_train, n_rec, liked)\u001b[0m\n\u001b[1;32m     66\u001b[0m \u001b[0;34m\u001b[0m\u001b[0m\n\u001b[1;32m     67\u001b[0m             \u001b[0;31m#remove already liked items\u001b[0m\u001b[0;34m\u001b[0m\u001b[0;34m\u001b[0m\u001b[0m\n\u001b[0;32m---> 68\u001b[0;31m             \u001b[0mliked_idx\u001b[0m \u001b[0;34m=\u001b[0m \u001b[0mliked\u001b[0m\u001b[0;34m[\u001b[0m\u001b[0muser\u001b[0m\u001b[0;34m]\u001b[0m\u001b[0;34m.\u001b[0m\u001b[0mnonzero\u001b[0m\u001b[0;34m(\u001b[0m\u001b[0;34m)\u001b[0m\u001b[0;34m[\u001b[0m\u001b[0;36m1\u001b[0m\u001b[0;34m]\u001b[0m\u001b[0;34m\u001b[0m\u001b[0m\n\u001b[0m\u001b[1;32m     69\u001b[0m \u001b[0;34m\u001b[0m\u001b[0m\n\u001b[1;32m     70\u001b[0m             \u001b[0mrec_scores\u001b[0m\u001b[0;34m[\u001b[0m\u001b[0mliked_idx\u001b[0m\u001b[0;34m]\u001b[0m \u001b[0;34m=\u001b[0m \u001b[0;34m-\u001b[0m\u001b[0mfloat\u001b[0m\u001b[0;34m(\u001b[0m\u001b[0;34m\"Inf\"\u001b[0m\u001b[0;34m)\u001b[0m\u001b[0;34m\u001b[0m\u001b[0m\n",
      "\u001b[0;31mTypeError\u001b[0m: 'NoneType' object is not subscriptable"
     ]
    }
   ],
   "source": [
    "tries=[5,10,15,20]\n",
    "start = time.time()\n",
    "ndcg_list,heatmap_list=auto_tune_parameter(4,20,model_fm_features,plays_sparse,tries,user_features,item_features)\n",
    "stop = time.time()\n",
    "total = stop-start"
   ]
  },
  {
   "cell_type": "code",
   "execution_count": null,
   "metadata": {
    "collapsed": true
   },
   "outputs": [],
   "source": [
    "#Plot ndcg by parameter values"
   ]
  },
  {
   "cell_type": "code",
   "execution_count": null,
   "metadata": {
    "collapsed": true
   },
   "outputs": [],
   "source": []
  },
  {
   "cell_type": "markdown",
   "metadata": {},
   "source": [
    "### Summary of Performance Results (Table)"
   ]
  },
  {
   "cell_type": "markdown",
   "metadata": {},
   "source": [
    "# 4. Model Exploration"
   ]
  },
  {
   "cell_type": "markdown",
   "metadata": {},
   "source": [
    "Next, we explore these models even more. How do they perform in regards to size, different user population?"
   ]
  },
  {
   "cell_type": "markdown",
   "metadata": {},
   "source": [
    "## 4a. Performance by User Type"
   ]
  },
  {
   "cell_type": "code",
   "execution_count": 33,
   "metadata": {
    "collapsed": true
   },
   "outputs": [],
   "source": [
    "run grouping_functions.ipynb"
   ]
  },
  {
   "cell_type": "markdown",
   "metadata": {},
   "source": [
    "### Active/Non-Active"
   ]
  },
  {
   "cell_type": "code",
   "execution_count": 21,
   "metadata": {
    "collapsed": true
   },
   "outputs": [],
   "source": [
    "import seaborn as sns"
   ]
  },
  {
   "cell_type": "code",
   "execution_count": 78,
   "metadata": {
    "scrolled": true
   },
   "outputs": [
    {
     "data": {
      "application/vnd.jupyter.widget-view+json": {
       "model_id": "0ab08411a11548599dcc69a501588289"
      }
     },
     "metadata": {},
     "output_type": "display_data"
    },
    {
     "name": "stdout",
     "output_type": "stream",
     "text": [
      "\n",
      "Fitting model...\n",
      "Fitting baseline...\n",
      "[6194. 1352. 3513. ...   28.   27.   24.]\n",
      "Evaluating model...\n"
     ]
    },
    {
     "data": {
      "application/vnd.jupyter.widget-view+json": {
       "model_id": "92c36f16c4d5426f9832f33c1543f255"
      }
     },
     "metadata": {},
     "output_type": "display_data"
    },
    {
     "name": "stderr",
     "output_type": "stream",
     "text": [
      "  7%|▋         | 1.0/15 [00:00<00:01,  9.12it/s]"
     ]
    },
    {
     "name": "stdout",
     "output_type": "stream",
     "text": [
      "\n",
      "Recall: 6.775956284153005 %\n",
      "Average NDCG: 4.786805185772901 %\n",
      "Coverage: 0.04246104199397053 %\n",
      "Precision: 1.6939890710382512 %\n"
     ]
    },
    {
     "name": "stderr",
     "output_type": "stream",
     "text": [
      "100%|██████████| 15.0/15 [00:01<00:00,  8.08it/s]"
     ]
    },
    {
     "name": "stdout",
     "output_type": "stream",
     "text": [
      "Evaluating model...\n"
     ]
    },
    {
     "name": "stderr",
     "output_type": "stream",
     "text": [
      "\n"
     ]
    },
    {
     "data": {
      "application/vnd.jupyter.widget-view+json": {
       "model_id": "08717fa533be48e2a25c8d89e5ebbf97"
      }
     },
     "metadata": {},
     "output_type": "display_data"
    },
    {
     "name": "stdout",
     "output_type": "stream",
     "text": [
      "\n",
      "Recall: 16.612021857923498 %\n",
      "Average NDCG: 10.995741640367491 %\n",
      "Coverage: 5.161139654367118 %\n",
      "Precision: 4.1530054644808745 %\n"
     ]
    },
    {
     "data": {
      "application/vnd.jupyter.widget-view+json": {
       "model_id": "3f1e6bfa59f3499594830794caf471a2"
      }
     },
     "metadata": {},
     "output_type": "display_data"
    },
    {
     "name": "stdout",
     "output_type": "stream",
     "text": [
      "\n",
      "Fitting model...\n",
      "Fitting baseline...\n",
      "[37800.  6650. 11395. ...     0.     0.     0.]\n",
      "Evaluating model...\n"
     ]
    },
    {
     "data": {
      "application/vnd.jupyter.widget-view+json": {
       "model_id": "b46a83b707944dca999a969dfb5afc2e"
      }
     },
     "metadata": {},
     "output_type": "display_data"
    },
    {
     "name": "stderr",
     "output_type": "stream",
     "text": [
      "\r",
      "  0%|          | 0/15 [00:00<?, ?it/s]"
     ]
    },
    {
     "name": "stdout",
     "output_type": "stream",
     "text": [
      "\n",
      "Recall: 6.980313646980314 %\n",
      "Average NDCG: 4.854039254270085 %\n",
      "Coverage: 0.04246104199397053 %\n",
      "Precision: 1.7450784117450786 %\n"
     ]
    },
    {
     "name": "stderr",
     "output_type": "stream",
     "text": [
      "100%|██████████| 15.0/15 [00:02<00:00,  6.48it/s]"
     ]
    },
    {
     "name": "stdout",
     "output_type": "stream",
     "text": [
      "Evaluating model...\n"
     ]
    },
    {
     "name": "stderr",
     "output_type": "stream",
     "text": [
      "\n"
     ]
    },
    {
     "data": {
      "application/vnd.jupyter.widget-view+json": {
       "model_id": "dd1b1edef1ca4d95be67c9a2f6dd9582"
      }
     },
     "metadata": {},
     "output_type": "display_data"
    },
    {
     "name": "stdout",
     "output_type": "stream",
     "text": [
      "\n",
      "Recall: 17.31731731731732 %\n",
      "Average NDCG: 12.098077565521345 %\n",
      "Coverage: 6.250265381512462 %\n",
      "Precision: 4.32932932932933 %\n"
     ]
    },
    {
     "data": {
      "application/vnd.jupyter.widget-view+json": {
       "model_id": "2439765f8aa747daa1fb2be13d02909c"
      }
     },
     "metadata": {},
     "output_type": "display_data"
    },
    {
     "name": "stdout",
     "output_type": "stream",
     "text": [
      "\n",
      "Fitting model...\n",
      "Fitting baseline...\n",
      "[230791.  23444.  45401. ...      0.      0.      0.]\n",
      "Evaluating model...\n"
     ]
    },
    {
     "data": {
      "application/vnd.jupyter.widget-view+json": {
       "model_id": "3bc8e10df5c841adbdd8a1819fb57664"
      }
     },
     "metadata": {},
     "output_type": "display_data"
    },
    {
     "name": "stderr",
     "output_type": "stream",
     "text": [
      "\r",
      "  0%|          | 0/15 [00:00<?, ?it/s]"
     ]
    },
    {
     "name": "stdout",
     "output_type": "stream",
     "text": [
      "\n",
      "Recall: 7.636849132176235 %\n",
      "Average NDCG: 5.261193931189853 %\n",
      "Coverage: 0.04246104199397053 %\n",
      "Precision: 1.9092122830440588 %\n"
     ]
    },
    {
     "name": "stderr",
     "output_type": "stream",
     "text": [
      "100%|██████████| 15.0/15 [00:02<00:00,  5.72it/s]"
     ]
    },
    {
     "name": "stdout",
     "output_type": "stream",
     "text": [
      "Evaluating model...\n"
     ]
    },
    {
     "name": "stderr",
     "output_type": "stream",
     "text": [
      "\n"
     ]
    },
    {
     "data": {
      "application/vnd.jupyter.widget-view+json": {
       "model_id": "960cd5d0713240d3af937709f6577bc1"
      }
     },
     "metadata": {},
     "output_type": "display_data"
    },
    {
     "name": "stdout",
     "output_type": "stream",
     "text": [
      "\n",
      "Recall: 16.79572763684913 %\n",
      "Average NDCG: 10.91549543986731 %\n",
      "Coverage: 6.946626470213579 %\n",
      "Precision: 4.198931909212282 %\n"
     ]
    }
   ],
   "source": [
    "n=3\n",
    "activity_groups=active_users(plays_sparse, n)\n",
    "levels=[1,2,3]\n",
    "ndcg_activity_als = []\n",
    "recall_activity_als = []\n",
    "precision_activity_als = []\n",
    "coverage_activity_als = []\n",
    "\n",
    "ndcg_activity_baseline = []\n",
    "recall_activity_baseline = []\n",
    "precision_activity_baseline = []\n",
    "coverage_activity_baseline = []\n",
    "\n",
    "for group in activity_groups:\n",
    "    #print('Matrix Sparsity:', calculate_sparsity(group))\n",
    "    # Compute the recall and ndcg using optimal parameters for the ALS model on different dataset sizes\n",
    "    train, test, user_count = split_train_test_per_user(group, 4, 20)\n",
    "    # train model \n",
    "    print(\"Fitting model...\")\n",
    "    #FIRST, BASELINE------------------------------\n",
    "    model=Baseline(20)\n",
    "    model.fit(train)\n",
    "    coverage, precision, recall, ndcg = evaluate(model,\"baseline\", test, group)\n",
    "\n",
    "    recall_activity_baseline.append(recall)\n",
    "    ndcg_activity_baseline.append(ndcg)\n",
    "    precision_activity_baseline.append(precision)\n",
    "    coverage_activity_baseline.append(coverage)\n",
    "    \n",
    "    #SECOND, ALS-------------------------------------\n",
    "    model = implicit.als.AlternatingLeastSquares(factors=30, regularization=0.01)\n",
    "    model.fit(train, show_progress=True)\n",
    "    \n",
    "    coverage, precision, recall, ndcg = evaluate(model,\"implicit\", test, group)\n",
    "\n",
    "    recall_activity_als.append(recall)\n",
    "    ndcg_activity_als.append(ndcg)\n",
    "    precision_activity_als.append(precision)\n",
    "    coverage_activity_als.append(coverage)"
   ]
  },
  {
   "cell_type": "code",
   "execution_count": 79,
   "metadata": {},
   "outputs": [
    {
     "name": "stderr",
     "output_type": "stream",
     "text": [
      "/anaconda/lib/python3.6/site-packages/seaborn/categorical.py:1468: FutureWarning: remove_na is deprecated and is a private function. Do not use.\n",
      "  stat_data = remove_na(group_data[hue_mask])\n"
     ]
    },
    {
     "data": {
      "image/png": "[encoded data removed]",
      "text/plain": [
       "<Figure size 576x396 with 1 Axes>"
      ]
     },
     "metadata": {},
     "output_type": "display_data"
    }
   ],
   "source": [
    "# Plot NDCG by Activity Level\n",
    "ndcg_activity_als_df = pd.DataFrame({'N':levels, 'NDCG': ndcg_activity_als})\n",
    "ndcg_activity_baseline_df = pd.DataFrame({'N':levels, 'NDCG': ndcg_activity_baseline})\n",
    "f, ax = plt.subplots(1, 1)\n",
    "\n",
    "ndcg_activity_als_df['Model'] = 'Implicit ALS'\n",
    "ndcg_activity_baseline_df['Model'] = 'Baseline'\n",
    "df = pd.concat([ndcg_activity_als_df,ndcg_activity_baseline_df])\n",
    "sns.pointplot(ax=ax,x='N',y='NDCG',data=df,hue='Model')\n",
    "plt.title('NDCG by Activity Level')\n",
    "plt.xlabel('Activity Level')\n",
    "plt.ylabel('NDCG')\n",
    "\n",
    "plt.show()"
   ]
  },
  {
   "cell_type": "code",
   "execution_count": 80,
   "metadata": {},
   "outputs": [
    {
     "name": "stderr",
     "output_type": "stream",
     "text": [
      "/anaconda/lib/python3.6/site-packages/seaborn/categorical.py:1468: FutureWarning: remove_na is deprecated and is a private function. Do not use.\n",
      "  stat_data = remove_na(group_data[hue_mask])\n"
     ]
    },
    {
     "data": {
      "image/png": "[encoded data removed]",
      "text/plain": [
       "<Figure size 576x396 with 1 Axes>"
      ]
     },
     "metadata": {},
     "output_type": "display_data"
    }
   ],
   "source": [
    "# Plot Recall by Activity Level\n",
    "recall_activity_als_df = pd.DataFrame({'N':levels, 'Recall': recall_activity_als})\n",
    "recall_activity_baseline_df = pd.DataFrame({'N':levels, 'Recall': recall_activity_baseline})\n",
    "f, ax = plt.subplots(1, 1)\n",
    "\n",
    "recall_activity_als_df['Model'] = 'Implicit ALS'\n",
    "recall_activity_baseline_df['Model'] = 'Baseline'\n",
    "df = pd.concat([recall_activity_als_df,recall_activity_baseline_df])\n",
    "sns.pointplot(ax=ax,x='N',y='Recall',data=df,hue='Model')\n",
    "plt.title('Recall by Activity Level')\n",
    "plt.xlabel('Activity Level')\n",
    "plt.ylabel('Recall')\n",
    "\n",
    "plt.show()"
   ]
  },
  {
   "cell_type": "code",
   "execution_count": 83,
   "metadata": {},
   "outputs": [
    {
     "name": "stderr",
     "output_type": "stream",
     "text": [
      "/anaconda/lib/python3.6/site-packages/seaborn/categorical.py:1468: FutureWarning: remove_na is deprecated and is a private function. Do not use.\n",
      "  stat_data = remove_na(group_data[hue_mask])\n"
     ]
    },
    {
     "data": {
      "image/png": "[encoded data removed]",
      "text/plain": [
       "<Figure size 576x396 with 1 Axes>"
      ]
     },
     "metadata": {},
     "output_type": "display_data"
    }
   ],
   "source": [
    "# Plot Precision by Activity Level\n",
    "precision_activity_als_df = pd.DataFrame({'N':levels, 'Precision': precision_activity_als})\n",
    "precision_activity_baseline_df = pd.DataFrame({'N':levels, 'Precision': precision_activity_baseline})\n",
    "f, ax = plt.subplots(1, 1)\n",
    "\n",
    "precision_activity_als_df['Model'] = 'Implicit ALS'\n",
    "precision_activity_baseline_df['Model'] = 'Baseline'\n",
    "df = pd.concat([precision_activity_als_df,precision_activity_baseline_df])\n",
    "sns.pointplot(ax=ax,x='N',y='Precision',data=df,hue='Model')\n",
    "plt.title('Precision by Activity Level')\n",
    "plt.xlabel('Activity Level')\n",
    "plt.ylabel('Precision')\n",
    "\n",
    "plt.show()"
   ]
  },
  {
   "cell_type": "code",
   "execution_count": 84,
   "metadata": {},
   "outputs": [
    {
     "name": "stderr",
     "output_type": "stream",
     "text": [
      "/anaconda/lib/python3.6/site-packages/seaborn/categorical.py:1468: FutureWarning: remove_na is deprecated and is a private function. Do not use.\n",
      "  stat_data = remove_na(group_data[hue_mask])\n"
     ]
    },
    {
     "data": {
      "image/png": "[encoded data removed]",
      "text/plain": [
       "<Figure size 576x396 with 1 Axes>"
      ]
     },
     "metadata": {},
     "output_type": "display_data"
    }
   ],
   "source": [
    "# Plot Coverage by Diversity Level\n",
    "coverage_activity_als_df = pd.DataFrame({'N':levels, 'Coverage': coverage_activity_als})\n",
    "coverage_activity_baseline_df = pd.DataFrame({'N':levels, 'Coverage': coverage_activity_baseline})\n",
    "f, ax = plt.subplots(1, 1)\n",
    "\n",
    "coverage_activity_als_df['Model'] = 'Implicit ALS'\n",
    "coverage_activity_baseline_df['Model'] = 'Baseline'\n",
    "df = pd.concat([coverage_activity_als_df,coverage_activity_baseline_df])\n",
    "sns.pointplot(ax=ax,x='N',y='Coverage',data=df,hue='Model')\n",
    "plt.title('Coverage by Activity Level')\n",
    "plt.xlabel('Activity Level')\n",
    "plt.ylabel('Coverage')\n",
    "\n",
    "plt.show()"
   ]
  },
  {
   "cell_type": "markdown",
   "metadata": {},
   "source": [
    "### Diverse/Non-Diverse"
   ]
  },
  {
   "cell_type": "code",
   "execution_count": 66,
   "metadata": {
    "collapsed": true
   },
   "outputs": [],
   "source": [
    "def old_evaluate(model, test, M, n_rec = 20):\n",
    "    \"\"\"\n",
    "    Calculate precision/recall\n",
    "    \n",
    "    parameters:\n",
    "    - model: fitted implicit model that will perform recommendations\n",
    "    - test: list containing tuples that are heldout for each user\n",
    "    - M: csr_matrix of item-users, used in fit\n",
    "    - n_rec: how many recommendations the system outputs\n",
    "    \n",
    "    returns:\n",
    "    - two numpy arrays containing precision and recall\n",
    "    \"\"\"\n",
    "    #TODO: Refactor NDCG and Recall, less dependent on each other\n",
    "    \n",
    "    # Transpose matrix to use for implicit's recommend() function\n",
    "    M_rec = M.T.tocsr() \n",
    "    \n",
    "    tp = float(0)\n",
    "    test_n = float(0)\n",
    "    print('Evaluating model...')\n",
    "    \n",
    "    ndcg = list()\n",
    "    \n",
    "    # Calculate true positives for each user, append results to list\n",
    "    for user, holdout_items in tqdm(test.items()):\n",
    "        \n",
    "        # Get list of item recs for each user\n",
    "        rec = model.recommend(user, M_rec, N=n_rec, filter_already_liked_items=True) #returns (item_id, score)\n",
    "        rec_items = [pair[0] for pair in rec] #get only item_id\n",
    "        test_n += len(holdout_items) #total number of heldout items\n",
    "        \n",
    "        # For NDCG\n",
    "        predicted_scores = zeros_list(n_rec)\n",
    "        user_scores = zeros_list(n_rec)\n",
    "        i = 0\n",
    "            \n",
    "        # Count true positives in recommended items\n",
    "        for item in holdout_items: \n",
    "            value = M[user,item]\n",
    "            user_scores[i] = value\n",
    "            i += 1\n",
    "            if item in rec_items:\n",
    "                predicted_scores[rec_items.index(item)] = value #if holdout items is in recommended\n",
    "                tp += 1\n",
    "        # Calculate NDCG\n",
    "        ndcg.append(ndcg_at_k(predicted_scores, user_scores))\n",
    "\n",
    "    recall = tp/test_n\n",
    "    return recall, np.mean(ndcg)"
   ]
  },
  {
   "cell_type": "code",
   "execution_count": 67,
   "metadata": {
    "collapsed": true
   },
   "outputs": [],
   "source": [
    "# Create a baseline model\n",
    "def baseline(k,user_items):\n",
    "    plays=user_items.toarray()\n",
    "    totalplays=np.sum(plays,axis=1)    \n",
    "    idx = (-totalplays).argsort()[:k]\n",
    "    return idx\n",
    "\n",
    "def old_evaluate_base(rec_items, test, M, n_rec = 20):\n",
    "    \"\"\"\n",
    "    Calculate recall\n",
    "    \n",
    "    parameters:\n",
    "    - model: fitted implicit model that will perform recommendations\n",
    "    - test: list containing tuples that are heldout for each user\n",
    "    - M: csr_matrix of item-users, used in fit\n",
    "    - n_rec: how many recommendations the system outputs\n",
    "    returns:\n",
    "    - numpy array containing recall\n",
    "    \"\"\"\n",
    "    # Transpose matrix to use for implicit's recommend() function\n",
    "    M_rec = M.T.tocsr()\n",
    "    \n",
    "    tp = float(0)\n",
    "    test_n = float(0)\n",
    "    rec_items = list(rec_items)\n",
    "    ndcg = list()\n",
    "\n",
    "    print('Evaluating model...')\n",
    "    # Calculate true positives for each user, append results to list\n",
    "\n",
    "    for user, holdout_items in tqdm(test.items()):\n",
    "        test_n += len(holdout_items)\n",
    "        # Count true positives in recommended items\n",
    "        predicted_scores = zeros_list(n_rec)\n",
    "        user_scores = zeros_list(n_rec)\n",
    "        i = 0\n",
    "        for item in holdout_items:\n",
    "            value = M[user,item]\n",
    "            user_scores[i] = value\n",
    "            i += 1\n",
    "            if item in rec_items:\n",
    "                predicted_scores[rec_items.index(item)] = value #if holdout items is in recommended\n",
    "                tp += 1\n",
    "\n",
    "        ndcg.append(ndcg_at_k(predicted_scores, user_scores))\n",
    "        \n",
    "    recall = tp/test_n\n",
    "    return recall,np.mean(ndcg)"
   ]
  },
  {
   "cell_type": "markdown",
   "metadata": {},
   "source": [
    "## Using old evaluate methods:\n"
   ]
  },
  {
   "cell_type": "code",
   "execution_count": 96,
   "metadata": {
    "scrolled": true
   },
   "outputs": [
    {
     "data": {
      "application/vnd.jupyter.widget-view+json": {
       "model_id": "6e563735d12e42bda5f16ecaa7214e4d"
      }
     },
     "metadata": {},
     "output_type": "display_data"
    },
    {
     "name": "stdout",
     "output_type": "stream",
     "text": [
      "\n",
      "Fitting model...\n",
      "Evaluating model...\n"
     ]
    },
    {
     "data": {
      "application/vnd.jupyter.widget-view+json": {
       "model_id": "52600afff027465b91c8309644779e43"
      }
     },
     "metadata": {},
     "output_type": "display_data"
    },
    {
     "name": "stderr",
     "output_type": "stream",
     "text": [
      "  7%|▋         | 1.0/15 [00:00<00:01,  8.12it/s]"
     ]
    },
    {
     "name": "stdout",
     "output_type": "stream",
     "text": [
      "\n",
      "Recall: 7.211768730756073 %\n",
      "Average NDCG: 4.5105459152320675 %\n"
     ]
    },
    {
     "name": "stderr",
     "output_type": "stream",
     "text": [
      "100%|██████████| 15.0/15 [00:02<00:00,  6.68it/s]"
     ]
    },
    {
     "name": "stdout",
     "output_type": "stream",
     "text": [
      "Evaluating model...\n"
     ]
    },
    {
     "name": "stderr",
     "output_type": "stream",
     "text": [
      "\n"
     ]
    },
    {
     "data": {
      "application/vnd.jupyter.widget-view+json": {
       "model_id": "581d46a8850248d08b1976b00b263728"
      }
     },
     "metadata": {},
     "output_type": "display_data"
    },
    {
     "name": "stdout",
     "output_type": "stream",
     "text": [
      "\n",
      "Recall: 16.20253164556962 %\n",
      "Average NDCG: 10.715855641284882 %\n"
     ]
    },
    {
     "data": {
      "application/vnd.jupyter.widget-view+json": {
       "model_id": "bafeafda1b0846b18f2621d502d38d52"
      }
     },
     "metadata": {},
     "output_type": "display_data"
    },
    {
     "name": "stdout",
     "output_type": "stream",
     "text": [
      "\n",
      "Fitting model...\n",
      "Evaluating model...\n"
     ]
    },
    {
     "data": {
      "application/vnd.jupyter.widget-view+json": {
       "model_id": "8e2633ca788a4b00aa08840a9d26a532"
      }
     },
     "metadata": {},
     "output_type": "display_data"
    },
    {
     "name": "stderr",
     "output_type": "stream",
     "text": [
      "  7%|▋         | 1.0/15 [00:00<00:01,  8.57it/s]"
     ]
    },
    {
     "name": "stdout",
     "output_type": "stream",
     "text": [
      "\n",
      "Recall: 7.5050033355570385 %\n",
      "Average NDCG: 5.2601828256953365 %\n"
     ]
    },
    {
     "name": "stderr",
     "output_type": "stream",
     "text": [
      "100%|██████████| 15.0/15 [00:01<00:00,  7.74it/s]"
     ]
    },
    {
     "name": "stdout",
     "output_type": "stream",
     "text": [
      "Evaluating model...\n"
     ]
    },
    {
     "name": "stderr",
     "output_type": "stream",
     "text": [
      "\n"
     ]
    },
    {
     "data": {
      "application/vnd.jupyter.widget-view+json": {
       "model_id": "7f84bc9ff11644eb905236a52fa425e0"
      }
     },
     "metadata": {},
     "output_type": "display_data"
    },
    {
     "name": "stdout",
     "output_type": "stream",
     "text": [
      "\n",
      "Recall: 15.883922615076717 %\n",
      "Average NDCG: 10.498880014369638 %\n"
     ]
    },
    {
     "data": {
      "application/vnd.jupyter.widget-view+json": {
       "model_id": "a824985b5e094790b0edd1f69e04e077"
      }
     },
     "metadata": {},
     "output_type": "display_data"
    },
    {
     "name": "stdout",
     "output_type": "stream",
     "text": [
      "\n",
      "Fitting model...\n",
      "Evaluating model...\n"
     ]
    },
    {
     "data": {
      "application/vnd.jupyter.widget-view+json": {
       "model_id": "c6dd171192c9486cba839f4f1ca66eac"
      }
     },
     "metadata": {},
     "output_type": "display_data"
    },
    {
     "name": "stderr",
     "output_type": "stream",
     "text": [
      "  7%|▋         | 1.0/15 [00:00<00:01,  7.48it/s]"
     ]
    },
    {
     "name": "stdout",
     "output_type": "stream",
     "text": [
      "\n",
      "Recall: 6.3133333333333335 %\n",
      "Average NDCG: 4.523840037032049 %\n"
     ]
    },
    {
     "name": "stderr",
     "output_type": "stream",
     "text": [
      "100%|██████████| 15.0/15 [00:01<00:00,  8.22it/s]"
     ]
    },
    {
     "name": "stdout",
     "output_type": "stream",
     "text": [
      "Evaluating model...\n"
     ]
    },
    {
     "name": "stderr",
     "output_type": "stream",
     "text": [
      "\n"
     ]
    },
    {
     "data": {
      "application/vnd.jupyter.widget-view+json": {
       "model_id": "ec792e66a5684b84acd28aa8721a995a"
      }
     },
     "metadata": {},
     "output_type": "display_data"
    },
    {
     "name": "stdout",
     "output_type": "stream",
     "text": [
      "\n",
      "Recall: 17.186666666666667 %\n",
      "Average NDCG: 11.368026679257884 %\n"
     ]
    }
   ],
   "source": [
    "n=3\n",
    "#diversity_groups=diverse_users(plays_sparse, n)\n",
    "levels=[1,2,3]\n",
    "ndcg_div_als = []\n",
    "recall_div_als = []\n",
    "precision_div_als = []\n",
    "coverage_div_als = []\n",
    "\n",
    "ndcg_div_baseline = []\n",
    "recall_div_baseline = []\n",
    "precision_div_baseline = []\n",
    "coverage_div_baseline = []\n",
    "\n",
    "for group in diversity_groups:\n",
    "    #print('Matrix Sparsity:', calculate_sparsity(group))\n",
    "    # Compute the recall and ndcg using optimal parameters for the ALS model on different dataset sizes\n",
    "    train, test, user_count = split_train_test_per_user(group, 4, 20)\n",
    "    # train model \n",
    "    #FIRST, BASELINE------------------------------\n",
    "    rec_items=baseline(20,group.T.tocsr())\n",
    "    recall,ndcg = old_evaluate_base(rec_items,test,group)\n",
    "\n",
    "    recall_div_baseline.append(recall)\n",
    "    ndcg_div_baseline.append(ndcg)\n",
    "    \n",
    "    #SECOND, ALS-------------------------------------\n",
    "    model = implicit.als.AlternatingLeastSquares(factors=30, regularization=0.01)\n",
    "    model.fit(train, show_progress=True)\n",
    "    \n",
    "    recall, ndcg = old_evaluate(model, test, group)\n",
    "    recall_div_als.append(recall)\n",
    "    ndcg_div_als.append(ndcg)"
   ]
  },
  {
   "cell_type": "code",
   "execution_count": 70,
   "metadata": {},
   "outputs": [
    {
     "name": "stderr",
     "output_type": "stream",
     "text": [
      "/anaconda/lib/python3.6/site-packages/seaborn/categorical.py:1468: FutureWarning: remove_na is deprecated and is a private function. Do not use.\n",
      "  stat_data = remove_na(group_data[hue_mask])\n"
     ]
    },
    {
     "data": {
      "image/png": "[encoded data removed]",
      "text/plain": [
       "<Figure size 576x396 with 1 Axes>"
      ]
     },
     "metadata": {},
     "output_type": "display_data"
    }
   ],
   "source": [
    "# Plot NDCG by Diversity Level\n",
    "ndcg_div_als_df = pd.DataFrame({'N':levels, 'NDCG': ndcg_div_als})\n",
    "ndcg_div_baseline_df = pd.DataFrame({'N':levels, 'NDCG': ndcg_div_baseline})\n",
    "f, ax = plt.subplots(1, 1)\n",
    "\n",
    "ndcg_div_als_df['Model'] = 'Implicit ALS'\n",
    "ndcg_div_baseline_df['Model'] = 'Baseline'\n",
    "df = pd.concat([ndcg_div_als_df,ndcg_div_baseline_df])\n",
    "sns.pointplot(ax=ax,x='N',y='NDCG',data=df,hue='Model')\n",
    "plt.title('NDCG by Diversity Level')\n",
    "plt.xlabel('Diversity Level')\n",
    "plt.ylabel('NDCG')\n",
    "\n",
    "plt.show()"
   ]
  },
  {
   "cell_type": "markdown",
   "metadata": {},
   "source": [
    "## Using new evaluate methods:"
   ]
  },
  {
   "cell_type": "code",
   "execution_count": 72,
   "metadata": {
    "scrolled": true
   },
   "outputs": [
    {
     "data": {
      "application/vnd.jupyter.widget-view+json": {
       "model_id": "1335bca50c114ba6b5fc18778991e096"
      }
     },
     "metadata": {},
     "output_type": "display_data"
    },
    {
     "name": "stdout",
     "output_type": "stream",
     "text": [
      "\n",
      "Fitting model...\n",
      "Fitting baseline...\n",
      "[1.04349e+05 9.22100e+03 1.56230e+04 ... 2.80000e+01 2.70000e+01\n",
      " 2.40000e+01]\n",
      "Evaluating model...\n"
     ]
    },
    {
     "data": {
      "application/vnd.jupyter.widget-view+json": {
       "model_id": "dc2b66de537c4e73bd771f5f06bb2181"
      }
     },
     "metadata": {},
     "output_type": "display_data"
    },
    {
     "name": "stderr",
     "output_type": "stream",
     "text": [
      "\r",
      "  0%|          | 0/15 [00:00<?, ?it/s]"
     ]
    },
    {
     "name": "stdout",
     "output_type": "stream",
     "text": [
      "\n",
      "Recall: 7.006500171057133 %\n",
      "Average NDCG: 4.426799197570511 %\n",
      "Coverage: 0.04246104199397053 %\n",
      "Precision: 1.7516250427642832 %\n"
     ]
    },
    {
     "name": "stderr",
     "output_type": "stream",
     "text": [
      "100%|██████████| 15.0/15 [00:02<00:00,  5.45it/s]"
     ]
    },
    {
     "name": "stdout",
     "output_type": "stream",
     "text": [
      "Evaluating model...\n"
     ]
    },
    {
     "name": "stderr",
     "output_type": "stream",
     "text": [
      "\n"
     ]
    },
    {
     "data": {
      "application/vnd.jupyter.widget-view+json": {
       "model_id": "1ddba5cb15bd4942ad1f542f9e9385c4"
      }
     },
     "metadata": {},
     "output_type": "display_data"
    },
    {
     "name": "stdout",
     "output_type": "stream",
     "text": [
      "\n",
      "Recall: 16.161477933629833 %\n",
      "Average NDCG: 10.992684674944448 %\n",
      "Coverage: 5.9318075665576835 %\n",
      "Precision: 4.040369483407458 %\n"
     ]
    },
    {
     "data": {
      "application/vnd.jupyter.widget-view+json": {
       "model_id": "30c4901d99a949b3ad56c886d54d1e48"
      }
     },
     "metadata": {},
     "output_type": "display_data"
    },
    {
     "name": "stdout",
     "output_type": "stream",
     "text": [
      "\n",
      "Fitting model...\n",
      "Fitting baseline...\n",
      "[92344.  8570. 26077. ...     0.     0.     0.]\n",
      "Evaluating model...\n"
     ]
    },
    {
     "data": {
      "application/vnd.jupyter.widget-view+json": {
       "model_id": "3a995df7c16249b0b6b68099e5afb5e8"
      }
     },
     "metadata": {},
     "output_type": "display_data"
    },
    {
     "name": "stderr",
     "output_type": "stream",
     "text": [
      "  7%|▋         | 1.0/15 [00:00<00:01,  7.14it/s]"
     ]
    },
    {
     "name": "stdout",
     "output_type": "stream",
     "text": [
      "\n",
      "Recall: 7.5050033355570385 %\n",
      "Average NDCG: 5.2637730179707 %\n",
      "Coverage: 0.04246104199397053 %\n",
      "Precision: 1.8762508338892596 %\n"
     ]
    },
    {
     "name": "stderr",
     "output_type": "stream",
     "text": [
      "100%|██████████| 15.0/15 [00:01<00:00,  8.24it/s]"
     ]
    },
    {
     "name": "stdout",
     "output_type": "stream",
     "text": [
      "Evaluating model...\n"
     ]
    },
    {
     "name": "stderr",
     "output_type": "stream",
     "text": [
      "\n"
     ]
    },
    {
     "data": {
      "application/vnd.jupyter.widget-view+json": {
       "model_id": "e8d7195b0bf047e5b824ad62950b4156"
      }
     },
     "metadata": {},
     "output_type": "display_data"
    },
    {
     "name": "stdout",
     "output_type": "stream",
     "text": [
      "\n",
      "Recall: 16.110740493662444 %\n",
      "Average NDCG: 10.65406927764402 %\n",
      "Coverage: 5.8023013884760735 %\n",
      "Precision: 4.027685123415611 %\n"
     ]
    },
    {
     "data": {
      "application/vnd.jupyter.widget-view+json": {
       "model_id": "57cd3e93e5024167b00152b95ef42e5a"
      }
     },
     "metadata": {},
     "output_type": "display_data"
    },
    {
     "name": "stdout",
     "output_type": "stream",
     "text": [
      "\n",
      "Fitting model...\n",
      "Fitting baseline...\n",
      "[75484. 16468. 24400. ...     0.     0.     0.]\n",
      "Evaluating model...\n"
     ]
    },
    {
     "data": {
      "application/vnd.jupyter.widget-view+json": {
       "model_id": "bf3c828f88694efa889ecdb1eea2ed87"
      }
     },
     "metadata": {},
     "output_type": "display_data"
    },
    {
     "name": "stderr",
     "output_type": "stream",
     "text": [
      "  7%|▋         | 1.0/15 [00:00<00:02,  6.80it/s]"
     ]
    },
    {
     "name": "stdout",
     "output_type": "stream",
     "text": [
      "\n",
      "Recall: 6.3133333333333335 %\n",
      "Average NDCG: 4.518626024119206 %\n",
      "Coverage: 0.04246104199397053 %\n",
      "Precision: 1.5783333333333334 %\n"
     ]
    },
    {
     "name": "stderr",
     "output_type": "stream",
     "text": [
      "100%|██████████| 15.0/15 [00:02<00:00,  7.92it/s]"
     ]
    },
    {
     "name": "stdout",
     "output_type": "stream",
     "text": [
      "Evaluating model...\n"
     ]
    },
    {
     "name": "stderr",
     "output_type": "stream",
     "text": [
      "\n"
     ]
    },
    {
     "data": {
      "application/vnd.jupyter.widget-view+json": {
       "model_id": "64e7ec90de5743b4a88edb8df1246eda"
      }
     },
     "metadata": {},
     "output_type": "display_data"
    },
    {
     "name": "stdout",
     "output_type": "stream",
     "text": [
      "\n",
      "Recall: 16.813333333333333 %\n",
      "Average NDCG: 11.054940021194678 %\n",
      "Coverage: 6.394632924291963 %\n",
      "Precision: 4.203333333333333 %\n"
     ]
    }
   ],
   "source": [
    "n=3\n",
    "diversity_groups=diverse_users(plays_sparse, n)\n",
    "levels=[1,2,3]\n",
    "ndcg_div_als = []\n",
    "recall_div_als = []\n",
    "precision_div_als = []\n",
    "coverage_div_als = []\n",
    "\n",
    "ndcg_div_baseline = []\n",
    "recall_div_baseline = []\n",
    "precision_div_baseline = []\n",
    "coverage_div_baseline = []\n",
    "\n",
    "for group in diversity_groups:\n",
    "    #print('Matrix Sparsity:', calculate_sparsity(group))\n",
    "    # Compute the recall and ndcg using optimal parameters for the ALS model on different dataset sizes\n",
    "    train, test, user_count = split_train_test_per_user(group, 4, 20)\n",
    "    # train model \n",
    "    print(\"Fitting model...\")\n",
    "    #FIRST, BASELINE------------------------------\n",
    "    model=Baseline(20)\n",
    "    model.fit(train)\n",
    "    coverage, precision, recall, ndcg = evaluate(model,\"baseline\", test, group)\n",
    "\n",
    "    recall_div_baseline.append(recall)\n",
    "    ndcg_div_baseline.append(ndcg)\n",
    "    precision_div_baseline.append(precision)\n",
    "    coverage_div_baseline.append(coverage)\n",
    "    \n",
    "    #SECOND, ALS-------------------------------------\n",
    "    model = implicit.als.AlternatingLeastSquares(factors=30, regularization=0.01)\n",
    "    model.fit(train, show_progress=True)\n",
    "    \n",
    "    coverage, precision, recall, ndcg = evaluate(model,\"implicit\", test, group)\n",
    "\n",
    "    recall_div_als.append(recall)\n",
    "    ndcg_div_als.append(ndcg)\n",
    "    precision_div_als.append(precision)\n",
    "    coverage_div_als.append(coverage)"
   ]
  },
  {
   "cell_type": "code",
   "execution_count": 74,
   "metadata": {},
   "outputs": [
    {
     "name": "stderr",
     "output_type": "stream",
     "text": [
      "/anaconda/lib/python3.6/site-packages/seaborn/categorical.py:1468: FutureWarning: remove_na is deprecated and is a private function. Do not use.\n",
      "  stat_data = remove_na(group_data[hue_mask])\n"
     ]
    },
    {
     "data": {
      "image/png": "[encoded data removed]",
      "text/plain": [
       "<Figure size 576x396 with 1 Axes>"
      ]
     },
     "metadata": {},
     "output_type": "display_data"
    }
   ],
   "source": [
    "# Plot NDCG by Diversity Level\n",
    "ndcg_div_als_df = pd.DataFrame({'N':levels, 'NDCG': ndcg_div_als})\n",
    "ndcg_div_baseline_df = pd.DataFrame({'N':levels, 'NDCG': ndcg_div_baseline})\n",
    "f, ax = plt.subplots(1, 1)\n",
    "\n",
    "ndcg_div_als_df['Model'] = 'Implicit ALS'\n",
    "ndcg_div_baseline_df['Model'] = 'Baseline'\n",
    "df = pd.concat([ndcg_div_als_df,ndcg_div_baseline_df])\n",
    "sns.pointplot(ax=ax,x='N',y='NDCG',data=df,hue='Model')\n",
    "plt.title('NDCG by Diversity Level')\n",
    "plt.xlabel('Diversity Level')\n",
    "plt.ylabel('NDCG')\n",
    "\n",
    "plt.show()"
   ]
  },
  {
   "cell_type": "code",
   "execution_count": 60,
   "metadata": {},
   "outputs": [
    {
     "name": "stderr",
     "output_type": "stream",
     "text": [
      "/anaconda/lib/python3.6/site-packages/seaborn/categorical.py:1468: FutureWarning: remove_na is deprecated and is a private function. Do not use.\n",
      "  stat_data = remove_na(group_data[hue_mask])\n"
     ]
    },
    {
     "data": {
      "image/png": "[encoded data removed]",
      "text/plain": [
       "<Figure size 576x396 with 1 Axes>"
      ]
     },
     "metadata": {},
     "output_type": "display_data"
    }
   ],
   "source": [
    "# Plot Recall by Diversity Level\n",
    "recall_div_als_df = pd.DataFrame({'N':levels, 'Recall': recall_div_als})\n",
    "recall_div_baseline_df = pd.DataFrame({'N':levels, 'Recall': recall_div_baseline})\n",
    "f, ax = plt.subplots(1, 1)\n",
    "\n",
    "recall_div_als_df['Model'] = 'Implicit ALS'\n",
    "recall_div_baseline_df['Model'] = 'Baseline'\n",
    "df = pd.concat([recall_div_als_df,recall_div_baseline_df])\n",
    "sns.pointplot(ax=ax,x='N',y='Recall',data=df,hue='Model')\n",
    "plt.title('Recall by Diversity Level')\n",
    "plt.xlabel('Diversity Level')\n",
    "plt.ylabel('Recall')\n",
    "\n",
    "plt.show()"
   ]
  },
  {
   "cell_type": "code",
   "execution_count": 62,
   "metadata": {},
   "outputs": [
    {
     "name": "stderr",
     "output_type": "stream",
     "text": [
      "/anaconda/lib/python3.6/site-packages/seaborn/categorical.py:1468: FutureWarning: remove_na is deprecated and is a private function. Do not use.\n",
      "  stat_data = remove_na(group_data[hue_mask])\n"
     ]
    },
    {
     "data": {
      "image/png": "[encoded data removed]",
      "text/plain": [
       "<Figure size 576x396 with 1 Axes>"
      ]
     },
     "metadata": {},
     "output_type": "display_data"
    }
   ],
   "source": [
    "# Plot Precision by Diversity Level\n",
    "precision_div_als_df = pd.DataFrame({'N':levels, 'Precision': precision_div_als})\n",
    "precision_div_baseline_df = pd.DataFrame({'N':levels, 'Precision': precision_div_baseline})\n",
    "f, ax = plt.subplots(1, 1)\n",
    "\n",
    "precision_div_als_df['Model'] = 'Implicit ALS'\n",
    "precision_div_baseline_df['Model'] = 'Baseline'\n",
    "df = pd.concat([precision_div_als_df,precision_div_baseline_df])\n",
    "sns.pointplot(ax=ax,x='N',y='Precision',data=df,hue='Model')\n",
    "plt.title('Precision by Diversity Level')\n",
    "plt.xlabel('Diversity Level')\n",
    "plt.ylabel('Precision')\n",
    "\n",
    "plt.show()"
   ]
  },
  {
   "cell_type": "code",
   "execution_count": 63,
   "metadata": {},
   "outputs": [
    {
     "name": "stderr",
     "output_type": "stream",
     "text": [
      "/anaconda/lib/python3.6/site-packages/seaborn/categorical.py:1468: FutureWarning: remove_na is deprecated and is a private function. Do not use.\n",
      "  stat_data = remove_na(group_data[hue_mask])\n"
     ]
    },
    {
     "data": {
      "image/png": "[encoded data removed]",
      "text/plain": [
       "<Figure size 576x396 with 1 Axes>"
      ]
     },
     "metadata": {},
     "output_type": "display_data"
    }
   ],
   "source": [
    "# Plot Coverage by Diversity Level\n",
    "coverage_div_als_df = pd.DataFrame({'N':levels, 'Coverage': coverage_div_als})\n",
    "coverage_div_baseline_df = pd.DataFrame({'N':levels, 'Coverage': coverage_div_baseline})\n",
    "f, ax = plt.subplots(1, 1)\n",
    "\n",
    "coverage_div_als_df['Model'] = 'Implicit ALS'\n",
    "coverage_div_baseline_df['Model'] = 'Baseline'\n",
    "df = pd.concat([coverage_div_als_df,coverage_div_baseline_df])\n",
    "sns.pointplot(ax=ax,x='N',y='Coverage',data=df,hue='Model')\n",
    "plt.title('Coverage by Diversity Level')\n",
    "plt.xlabel('Diversity Level')\n",
    "plt.ylabel('Coverage')\n",
    "\n",
    "plt.show()"
   ]
  },
  {
   "cell_type": "markdown",
   "metadata": {},
   "source": [
    "### Basic/Non-Basic"
   ]
  },
  {
   "cell_type": "code",
   "execution_count": 87,
   "metadata": {
    "scrolled": true
   },
   "outputs": [
    {
     "data": {
      "application/vnd.jupyter.widget-view+json": {
       "model_id": "fdb6f7273c7844a5b7ced18694990e67"
      }
     },
     "metadata": {},
     "output_type": "display_data"
    },
    {
     "name": "stdout",
     "output_type": "stream",
     "text": [
      "\n",
      "Fitting model...\n",
      "Fitting baseline...\n",
      "[ 7392.  9617. 19081. ...     0.     0.     0.]\n",
      "Evaluating model...\n"
     ]
    },
    {
     "data": {
      "application/vnd.jupyter.widget-view+json": {
       "model_id": "b1cda553c5d94de0a5fb88ef94fb4b97"
      }
     },
     "metadata": {},
     "output_type": "display_data"
    },
    {
     "name": "stdout",
     "output_type": "stream",
     "text": [
      "\n"
     ]
    },
    {
     "name": "stderr",
     "output_type": "stream",
     "text": [
      "\r",
      "  0%|          | 0/15 [00:00<?, ?it/s]"
     ]
    },
    {
     "name": "stdout",
     "output_type": "stream",
     "text": [
      "Recall: 2.46704967894559 %\n",
      "Average NDCG: 1.1848020638967913 %\n",
      "Coverage: 0.04246104199397053 %\n",
      "Precision: 0.6167624197363974 %\n"
     ]
    },
    {
     "name": "stderr",
     "output_type": "stream",
     "text": [
      "100%|██████████| 15.0/15 [00:02<00:00,  7.68it/s]"
     ]
    },
    {
     "name": "stdout",
     "output_type": "stream",
     "text": [
      "Evaluating model...\n"
     ]
    },
    {
     "name": "stderr",
     "output_type": "stream",
     "text": [
      "\n"
     ]
    },
    {
     "data": {
      "application/vnd.jupyter.widget-view+json": {
       "model_id": "9716223a81564ec48cb391409e1c6dc1"
      }
     },
     "metadata": {},
     "output_type": "display_data"
    },
    {
     "name": "stdout",
     "output_type": "stream",
     "text": [
      "\n",
      "Recall: 15.417370733355865 %\n",
      "Average NDCG: 10.138706403826662 %\n",
      "Coverage: 7.600526516920725 %\n",
      "Precision: 3.8543426833389662 %\n"
     ]
    },
    {
     "data": {
      "application/vnd.jupyter.widget-view+json": {
       "model_id": "8b22709dcf844e569fc7c36184e9a885"
      }
     },
     "metadata": {},
     "output_type": "display_data"
    },
    {
     "name": "stdout",
     "output_type": "stream",
     "text": [
      "\n",
      "Fitting model...\n",
      "Fitting baseline...\n",
      "[3.7673e+04 1.2332e+04 1.7039e+04 ... 2.8000e+01 2.7000e+01 2.4000e+01]\n",
      "Evaluating model...\n"
     ]
    },
    {
     "data": {
      "application/vnd.jupyter.widget-view+json": {
       "model_id": "5d9be3bb56bc4930b799d79b28040deb"
      }
     },
     "metadata": {},
     "output_type": "display_data"
    },
    {
     "name": "stderr",
     "output_type": "stream",
     "text": [
      "  7%|▋         | 1.0/15 [00:00<00:01,  7.23it/s]"
     ]
    },
    {
     "name": "stdout",
     "output_type": "stream",
     "text": [
      "\n",
      "Recall: 5.693135935397039 %\n",
      "Average NDCG: 3.3300714657079413 %\n",
      "Coverage: 0.04246104199397053 %\n",
      "Precision: 1.4232839838492597 %\n"
     ]
    },
    {
     "name": "stderr",
     "output_type": "stream",
     "text": [
      "100%|██████████| 15.0/15 [00:01<00:00,  8.43it/s]"
     ]
    },
    {
     "name": "stdout",
     "output_type": "stream",
     "text": [
      "Evaluating model...\n"
     ]
    },
    {
     "name": "stderr",
     "output_type": "stream",
     "text": [
      "\n"
     ]
    },
    {
     "data": {
      "application/vnd.jupyter.widget-view+json": {
       "model_id": "d46f34ed535340f29ad47d37fa99bf77"
      }
     },
     "metadata": {},
     "output_type": "display_data"
    },
    {
     "name": "stdout",
     "output_type": "stream",
     "text": [
      "\n",
      "Recall: 15.0 %\n",
      "Average NDCG: 10.01600382016395 %\n",
      "Coverage: 5.961530295953462 %\n",
      "Precision: 3.75 %\n"
     ]
    },
    {
     "data": {
      "application/vnd.jupyter.widget-view+json": {
       "model_id": "24f3fe08c6c748af874cbe8d3914aeea"
      }
     },
     "metadata": {},
     "output_type": "display_data"
    },
    {
     "name": "stdout",
     "output_type": "stream",
     "text": [
      "\n",
      "Fitting model...\n",
      "Fitting baseline...\n",
      "[271820.  12408.  31613. ...      0.      0.      0.]\n",
      "Evaluating model...\n"
     ]
    },
    {
     "data": {
      "application/vnd.jupyter.widget-view+json": {
       "model_id": "9b32228d3fbf4022964d6bcbd6eca49c"
      }
     },
     "metadata": {},
     "output_type": "display_data"
    },
    {
     "name": "stderr",
     "output_type": "stream",
     "text": [
      "  7%|▋         | 1.0/15 [00:00<00:01,  7.54it/s]"
     ]
    },
    {
     "name": "stdout",
     "output_type": "stream",
     "text": [
      "\n",
      "Recall: 12.40133779264214 %\n",
      "Average NDCG: 9.70676309374585 %\n",
      "Coverage: 0.04246104199397053 %\n",
      "Precision: 3.100334448160535 %\n"
     ]
    },
    {
     "name": "stderr",
     "output_type": "stream",
     "text": [
      "100%|██████████| 15.0/15 [00:02<00:00,  7.86it/s]"
     ]
    },
    {
     "name": "stdout",
     "output_type": "stream",
     "text": [
      "Evaluating model...\n"
     ]
    },
    {
     "name": "stderr",
     "output_type": "stream",
     "text": [
      "\n"
     ]
    },
    {
     "data": {
      "application/vnd.jupyter.widget-view+json": {
       "model_id": "566fb85daa4f44bbb3ad5f0019914ab2"
      }
     },
     "metadata": {},
     "output_type": "display_data"
    },
    {
     "name": "stdout",
     "output_type": "stream",
     "text": [
      "\n",
      "Recall: 17.270903010033443 %\n",
      "Average NDCG: 10.589528010532689 %\n",
      "Coverage: 4.110228865016348 %\n",
      "Precision: 4.317725752508361 %\n"
     ]
    }
   ],
   "source": [
    "n=3\n",
    "ms_groups=mainstream_users(plays_sparse, top_artists=20, n=3)\n",
    "levels=[1,2,3]\n",
    "ndcg_ms_als = []\n",
    "recall_ms_als = []\n",
    "precision_ms_als = []\n",
    "coverage_ms_als = []\n",
    "\n",
    "ndcg_ms_baseline = []\n",
    "recall_ms_baseline = []\n",
    "precision_ms_baseline = []\n",
    "coverage_ms_baseline = []\n",
    "\n",
    "for group in ms_groups:\n",
    "    #print('Matrix Sparsity:', calculate_sparsity(group))\n",
    "    # Compute the recall and ndcg using optimal parameters for the ALS model on different dataset sizes\n",
    "    train, test, user_count = split_train_test_per_user(group, 4, 20)\n",
    "    # train model \n",
    "    print(\"Fitting model...\")\n",
    "    #FIRST, BASELINE------------------------------\n",
    "    model=Baseline(20)\n",
    "    model.fit(train)\n",
    "    coverage, precision, recall, ndcg = evaluate(model,\"baseline\", test, group)\n",
    "\n",
    "    print(\"Recall:\",recall*100,'%')\n",
    "    print(\"Average NDCG:\",ndcg*100,'%')\n",
    "    print(\"Coverage:\",coverage*100,'%')\n",
    "    print(\"Precision:\",precision*100,'%')\n",
    "\n",
    "    recall_ms_baseline.append(recall)\n",
    "    ndcg_ms_baseline.append(ndcg)\n",
    "    precision_ms_baseline.append(precision)\n",
    "    coverage_ms_baseline.append(coverage)\n",
    "    \n",
    "    #SECOND, ALS-------------------------------------\n",
    "    model = implicit.als.AlternatingLeastSquares(factors=30, regularization=0.01)\n",
    "    model.fit(train, show_progress=True)\n",
    "    \n",
    "    coverage, precision, recall, ndcg = evaluate(model,\"implicit\", test, group)\n",
    "    print(\"Recall:\",recall*100,'%')\n",
    "    print(\"Average NDCG:\",ndcg*100,'%')\n",
    "    print(\"Coverage:\",coverage*100,'%')\n",
    "    print(\"Precision:\",precision*100,'%')\n",
    "\n",
    "    recall_ms_als.append(recall)\n",
    "    ndcg_ms_als.append(ndcg)\n",
    "    precision_ms_als.append(precision)\n",
    "    coverage_ms_als.append(coverage)"
   ]
  },
  {
   "cell_type": "code",
   "execution_count": 88,
   "metadata": {},
   "outputs": [
    {
     "name": "stderr",
     "output_type": "stream",
     "text": [
      "/anaconda/lib/python3.6/site-packages/seaborn/categorical.py:1468: FutureWarning: remove_na is deprecated and is a private function. Do not use.\n",
      "  stat_data = remove_na(group_data[hue_mask])\n"
     ]
    },
    {
     "data": {
      "image/png": "[encoded data removed]",
      "text/plain": [
       "<Figure size 576x396 with 1 Axes>"
      ]
     },
     "metadata": {},
     "output_type": "display_data"
    }
   ],
   "source": [
    "# Plot NDCG by Mainstreamness Level\n",
    "ndcg_ms_als_df = pd.DataFrame({'N':levels, 'NDCG': ndcg_ms_als})\n",
    "ndcg_ms_baseline_df = pd.DataFrame({'N':levels, 'NDCG': ndcg_ms_baseline})\n",
    "f, ax = plt.subplots(1, 1)\n",
    "\n",
    "ndcg_ms_als_df['Model'] = 'Implicit ALS'\n",
    "ndcg_ms_baseline_df['Model'] = 'Baseline'\n",
    "df = pd.concat([ndcg_ms_als_df,ndcg_ms_baseline_df])\n",
    "sns.pointplot(ax=ax,x='N',y='NDCG',data=df,hue='Model')\n",
    "plt.title('NDCG by Mainstreamness Level')\n",
    "plt.xlabel('Mainstreamness Level')\n",
    "plt.ylabel('NDCG')\n",
    "\n",
    "plt.show()"
   ]
  },
  {
   "cell_type": "code",
   "execution_count": 89,
   "metadata": {},
   "outputs": [
    {
     "name": "stderr",
     "output_type": "stream",
     "text": [
      "/anaconda/lib/python3.6/site-packages/seaborn/categorical.py:1468: FutureWarning: remove_na is deprecated and is a private function. Do not use.\n",
      "  stat_data = remove_na(group_data[hue_mask])\n"
     ]
    },
    {
     "data": {
      "image/png": "[encoded data removed]",
      "text/plain": [
       "<Figure size 576x396 with 1 Axes>"
      ]
     },
     "metadata": {},
     "output_type": "display_data"
    }
   ],
   "source": [
    "# Plot Recall by Mainstreamness Level\n",
    "recall_ms_als_df = pd.DataFrame({'N':levels, 'Recall': recall_ms_als})\n",
    "recall_ms_baseline_df = pd.DataFrame({'N':levels, 'Recall': recall_ms_baseline})\n",
    "f, ax = plt.subplots(1, 1)\n",
    "\n",
    "recall_ms_als_df['Model'] = 'Implicit ALS'\n",
    "recall_ms_baseline_df['Model'] = 'Baseline'\n",
    "df = pd.concat([recall_ms_als_df,recall_ms_baseline_df])\n",
    "sns.pointplot(ax=ax,x='N',y='Recall',data=df,hue='Model')\n",
    "plt.title('Recall by Mainstreamness Level')\n",
    "plt.xlabel('Mainstreamness Level')\n",
    "plt.ylabel('Recall')\n",
    "\n",
    "plt.show()"
   ]
  },
  {
   "cell_type": "code",
   "execution_count": 90,
   "metadata": {
    "scrolled": false
   },
   "outputs": [
    {
     "name": "stderr",
     "output_type": "stream",
     "text": [
      "/anaconda/lib/python3.6/site-packages/seaborn/categorical.py:1468: FutureWarning: remove_na is deprecated and is a private function. Do not use.\n",
      "  stat_data = remove_na(group_data[hue_mask])\n"
     ]
    },
    {
     "data": {
      "image/png": "[encoded data removed]",
      "text/plain": [
       "<Figure size 576x396 with 1 Axes>"
      ]
     },
     "metadata": {},
     "output_type": "display_data"
    }
   ],
   "source": [
    "# Plot Precision by Mainstreamness Level\n",
    "precision_ms_als_df = pd.DataFrame({'N':levels, 'Precision': precision_ms_als})\n",
    "precision_ms_baseline_df = pd.DataFrame({'N':levels, 'Precision': precision_ms_baseline})\n",
    "f, ax = plt.subplots(1, 1)\n",
    "\n",
    "precision_ms_als_df['Model'] = 'Implicit ALS'\n",
    "precision_ms_baseline_df['Model'] = 'Baseline'\n",
    "df = pd.concat([precision_ms_als_df,precision_ms_baseline_df])\n",
    "sns.pointplot(ax=ax,x='N',y='Precision',data=df,hue='Model')\n",
    "plt.title('Precision by Mainstreamness Level')\n",
    "plt.xlabel('Mainstreamness Level')\n",
    "plt.ylabel('Precision')\n",
    "\n",
    "plt.show()"
   ]
  },
  {
   "cell_type": "code",
   "execution_count": 91,
   "metadata": {},
   "outputs": [
    {
     "name": "stderr",
     "output_type": "stream",
     "text": [
      "/anaconda/lib/python3.6/site-packages/seaborn/categorical.py:1468: FutureWarning: remove_na is deprecated and is a private function. Do not use.\n",
      "  stat_data = remove_na(group_data[hue_mask])\n"
     ]
    },
    {
     "data": {
      "image/png": "[encoded data removed]",
      "text/plain": [
       "<Figure size 576x396 with 1 Axes>"
      ]
     },
     "metadata": {},
     "output_type": "display_data"
    }
   ],
   "source": [
    "# Plot Coverage by Mainstreamness Level\n",
    "coverage_ms_als_df = pd.DataFrame({'N':levels, 'Coverage': coverage_ms_als})\n",
    "coverage_ms_baseline_df = pd.DataFrame({'N':levels, 'Coverage': coverage_ms_baseline})\n",
    "f, ax = plt.subplots(1, 1)\n",
    "\n",
    "coverage_ms_als_df['Model'] = 'Implicit ALS'\n",
    "coverage_ms_baseline_df['Model'] = 'Baseline'\n",
    "df = pd.concat([coverage_ms_als_df,coverage_ms_baseline_df])\n",
    "sns.pointplot(ax=ax,x='N',y='Coverage',data=df,hue='Model')\n",
    "plt.title('Coverage by Mainstreamness Level')\n",
    "plt.xlabel('Mainstreamness Level')\n",
    "plt.ylabel('Coverage')\n",
    "\n",
    "plt.show()"
   ]
  },
  {
   "cell_type": "markdown",
   "metadata": {},
   "source": [
    "## 4b. Performance by Input Size "
   ]
  },
  {
   "cell_type": "code",
   "execution_count": null,
   "metadata": {
    "collapsed": true
   },
   "outputs": [],
   "source": [
    "#helper function to grab needed users\n",
    "def get_users(df, n):\n",
    "    sample_userid = df[\"user_id\"].unique()\n",
    "    sample_userid = np.random.choice(sample_userid, size = n, replace = False)\n",
    "\n",
    "    #grab rows with sample user id\n",
    "    df_sample = df[df.user_id.isin(sample_userid)].reset_index(drop = True)\n",
    "\n",
    "    return df_sample\n",
    "\n",
    "#in order to run this analysis, you need to download the 150k data at: \n",
    "#https://www.dropbox.com/s/qd8rnlxsuq0rjll/last_fm_bigger_data.zip?dl=0\n",
    "\n",
    "#read in large dataset\n",
    "df_150 = pd.read_csv('lastfm_150k_users.csv', na_filter=False)\n",
    "df_150 = df_150.drop(['Unnamed: 0'], axis=1)"
   ]
  },
  {
   "cell_type": "code",
   "execution_count": 94,
   "metadata": {},
   "outputs": [
    {
     "ename": "FileNotFoundError",
     "evalue": "File b'lastfm_20k_users.csv' does not exist",
     "output_type": "error",
     "traceback": [
      "\u001b[0;31m---------------------------------------------------------------------------\u001b[0m",
      "\u001b[0;31mFileNotFoundError\u001b[0m                         Traceback (most recent call last)",
      "\u001b[0;32m<ipython-input-94-873690743e0a>\u001b[0m in \u001b[0;36m<module>\u001b[0;34m()\u001b[0m\n\u001b[1;32m      1\u001b[0m \u001b[0;31m# The following block imports larger datasets for scaling tests, these expanded CSVs are not available in the repo\u001b[0m\u001b[0;34m\u001b[0m\u001b[0;34m\u001b[0m\u001b[0m\n\u001b[1;32m      2\u001b[0m \u001b[0mfiles9k\u001b[0m \u001b[0;34m=\u001b[0m \u001b[0mpd\u001b[0m\u001b[0;34m.\u001b[0m\u001b[0mread_csv\u001b[0m\u001b[0;34m(\u001b[0m\u001b[0;34m'lastfm_9000_users.csv'\u001b[0m\u001b[0;34m,\u001b[0m \u001b[0mna_filter\u001b[0m\u001b[0;34m=\u001b[0m\u001b[0;32mFalse\u001b[0m\u001b[0;34m)\u001b[0m\u001b[0;34m\u001b[0m\u001b[0m\n\u001b[0;32m----> 3\u001b[0;31m \u001b[0mfiles20k\u001b[0m \u001b[0;34m=\u001b[0m \u001b[0mpd\u001b[0m\u001b[0;34m.\u001b[0m\u001b[0mread_csv\u001b[0m\u001b[0;34m(\u001b[0m\u001b[0;34m'lastfm_20k_users.csv'\u001b[0m\u001b[0;34m,\u001b[0m \u001b[0mna_filter\u001b[0m\u001b[0;34m=\u001b[0m\u001b[0;32mFalse\u001b[0m\u001b[0;34m)\u001b[0m\u001b[0;34m\u001b[0m\u001b[0m\n\u001b[0m\u001b[1;32m      4\u001b[0m \u001b[0mfiles60k\u001b[0m \u001b[0;34m=\u001b[0m \u001b[0mpd\u001b[0m\u001b[0;34m.\u001b[0m\u001b[0mread_csv\u001b[0m\u001b[0;34m(\u001b[0m\u001b[0;34m'lastfm_60k_users.csv'\u001b[0m\u001b[0;34m,\u001b[0m \u001b[0mna_filter\u001b[0m\u001b[0;34m=\u001b[0m\u001b[0;32mFalse\u001b[0m\u001b[0;34m)\u001b[0m\u001b[0;34m\u001b[0m\u001b[0m\n\u001b[1;32m      5\u001b[0m \u001b[0mfiles150k\u001b[0m \u001b[0;34m=\u001b[0m \u001b[0mpd\u001b[0m\u001b[0;34m.\u001b[0m\u001b[0mread_csv\u001b[0m\u001b[0;34m(\u001b[0m\u001b[0;34m'lastfm_150k_users.csv'\u001b[0m\u001b[0;34m,\u001b[0m \u001b[0mna_filter\u001b[0m\u001b[0;34m=\u001b[0m\u001b[0;32mFalse\u001b[0m\u001b[0;34m)\u001b[0m\u001b[0;34m\u001b[0m\u001b[0m\n",
      "\u001b[0;32m/anaconda/lib/python3.6/site-packages/pandas/io/parsers.py\u001b[0m in \u001b[0;36mparser_f\u001b[0;34m(filepath_or_buffer, sep, delimiter, header, names, index_col, usecols, squeeze, prefix, mangle_dupe_cols, dtype, engine, converters, true_values, false_values, skipinitialspace, skiprows, nrows, na_values, keep_default_na, na_filter, verbose, skip_blank_lines, parse_dates, infer_datetime_format, keep_date_col, date_parser, dayfirst, iterator, chunksize, compression, thousands, decimal, lineterminator, quotechar, quoting, escapechar, comment, encoding, dialect, tupleize_cols, error_bad_lines, warn_bad_lines, skipfooter, doublequote, delim_whitespace, low_memory, memory_map, float_precision)\u001b[0m\n\u001b[1;32m    676\u001b[0m                     skip_blank_lines=skip_blank_lines)\n\u001b[1;32m    677\u001b[0m \u001b[0;34m\u001b[0m\u001b[0m\n\u001b[0;32m--> 678\u001b[0;31m         \u001b[0;32mreturn\u001b[0m \u001b[0m_read\u001b[0m\u001b[0;34m(\u001b[0m\u001b[0mfilepath_or_buffer\u001b[0m\u001b[0;34m,\u001b[0m \u001b[0mkwds\u001b[0m\u001b[0;34m)\u001b[0m\u001b[0;34m\u001b[0m\u001b[0m\n\u001b[0m\u001b[1;32m    679\u001b[0m \u001b[0;34m\u001b[0m\u001b[0m\n\u001b[1;32m    680\u001b[0m     \u001b[0mparser_f\u001b[0m\u001b[0;34m.\u001b[0m\u001b[0m__name__\u001b[0m \u001b[0;34m=\u001b[0m \u001b[0mname\u001b[0m\u001b[0;34m\u001b[0m\u001b[0m\n",
      "\u001b[0;32m/anaconda/lib/python3.6/site-packages/pandas/io/parsers.py\u001b[0m in \u001b[0;36m_read\u001b[0;34m(filepath_or_buffer, kwds)\u001b[0m\n\u001b[1;32m    438\u001b[0m \u001b[0;34m\u001b[0m\u001b[0m\n\u001b[1;32m    439\u001b[0m     \u001b[0;31m# Create the parser.\u001b[0m\u001b[0;34m\u001b[0m\u001b[0;34m\u001b[0m\u001b[0m\n\u001b[0;32m--> 440\u001b[0;31m     \u001b[0mparser\u001b[0m \u001b[0;34m=\u001b[0m \u001b[0mTextFileReader\u001b[0m\u001b[0;34m(\u001b[0m\u001b[0mfilepath_or_buffer\u001b[0m\u001b[0;34m,\u001b[0m \u001b[0;34m**\u001b[0m\u001b[0mkwds\u001b[0m\u001b[0;34m)\u001b[0m\u001b[0;34m\u001b[0m\u001b[0m\n\u001b[0m\u001b[1;32m    441\u001b[0m \u001b[0;34m\u001b[0m\u001b[0m\n\u001b[1;32m    442\u001b[0m     \u001b[0;32mif\u001b[0m \u001b[0mchunksize\u001b[0m \u001b[0;32mor\u001b[0m \u001b[0miterator\u001b[0m\u001b[0;34m:\u001b[0m\u001b[0;34m\u001b[0m\u001b[0m\n",
      "\u001b[0;32m/anaconda/lib/python3.6/site-packages/pandas/io/parsers.py\u001b[0m in \u001b[0;36m__init__\u001b[0;34m(self, f, engine, **kwds)\u001b[0m\n\u001b[1;32m    785\u001b[0m             \u001b[0mself\u001b[0m\u001b[0;34m.\u001b[0m\u001b[0moptions\u001b[0m\u001b[0;34m[\u001b[0m\u001b[0;34m'has_index_names'\u001b[0m\u001b[0;34m]\u001b[0m \u001b[0;34m=\u001b[0m \u001b[0mkwds\u001b[0m\u001b[0;34m[\u001b[0m\u001b[0;34m'has_index_names'\u001b[0m\u001b[0;34m]\u001b[0m\u001b[0;34m\u001b[0m\u001b[0m\n\u001b[1;32m    786\u001b[0m \u001b[0;34m\u001b[0m\u001b[0m\n\u001b[0;32m--> 787\u001b[0;31m         \u001b[0mself\u001b[0m\u001b[0;34m.\u001b[0m\u001b[0m_make_engine\u001b[0m\u001b[0;34m(\u001b[0m\u001b[0mself\u001b[0m\u001b[0;34m.\u001b[0m\u001b[0mengine\u001b[0m\u001b[0;34m)\u001b[0m\u001b[0;34m\u001b[0m\u001b[0m\n\u001b[0m\u001b[1;32m    788\u001b[0m \u001b[0;34m\u001b[0m\u001b[0m\n\u001b[1;32m    789\u001b[0m     \u001b[0;32mdef\u001b[0m \u001b[0mclose\u001b[0m\u001b[0;34m(\u001b[0m\u001b[0mself\u001b[0m\u001b[0;34m)\u001b[0m\u001b[0;34m:\u001b[0m\u001b[0;34m\u001b[0m\u001b[0m\n",
      "\u001b[0;32m/anaconda/lib/python3.6/site-packages/pandas/io/parsers.py\u001b[0m in \u001b[0;36m_make_engine\u001b[0;34m(self, engine)\u001b[0m\n\u001b[1;32m   1012\u001b[0m     \u001b[0;32mdef\u001b[0m \u001b[0m_make_engine\u001b[0m\u001b[0;34m(\u001b[0m\u001b[0mself\u001b[0m\u001b[0;34m,\u001b[0m \u001b[0mengine\u001b[0m\u001b[0;34m=\u001b[0m\u001b[0;34m'c'\u001b[0m\u001b[0;34m)\u001b[0m\u001b[0;34m:\u001b[0m\u001b[0;34m\u001b[0m\u001b[0m\n\u001b[1;32m   1013\u001b[0m         \u001b[0;32mif\u001b[0m \u001b[0mengine\u001b[0m \u001b[0;34m==\u001b[0m \u001b[0;34m'c'\u001b[0m\u001b[0;34m:\u001b[0m\u001b[0;34m\u001b[0m\u001b[0m\n\u001b[0;32m-> 1014\u001b[0;31m             \u001b[0mself\u001b[0m\u001b[0;34m.\u001b[0m\u001b[0m_engine\u001b[0m \u001b[0;34m=\u001b[0m \u001b[0mCParserWrapper\u001b[0m\u001b[0;34m(\u001b[0m\u001b[0mself\u001b[0m\u001b[0;34m.\u001b[0m\u001b[0mf\u001b[0m\u001b[0;34m,\u001b[0m \u001b[0;34m**\u001b[0m\u001b[0mself\u001b[0m\u001b[0;34m.\u001b[0m\u001b[0moptions\u001b[0m\u001b[0;34m)\u001b[0m\u001b[0;34m\u001b[0m\u001b[0m\n\u001b[0m\u001b[1;32m   1015\u001b[0m         \u001b[0;32melse\u001b[0m\u001b[0;34m:\u001b[0m\u001b[0;34m\u001b[0m\u001b[0m\n\u001b[1;32m   1016\u001b[0m             \u001b[0;32mif\u001b[0m \u001b[0mengine\u001b[0m \u001b[0;34m==\u001b[0m \u001b[0;34m'python'\u001b[0m\u001b[0;34m:\u001b[0m\u001b[0;34m\u001b[0m\u001b[0m\n",
      "\u001b[0;32m/anaconda/lib/python3.6/site-packages/pandas/io/parsers.py\u001b[0m in \u001b[0;36m__init__\u001b[0;34m(self, src, **kwds)\u001b[0m\n\u001b[1;32m   1706\u001b[0m         \u001b[0mkwds\u001b[0m\u001b[0;34m[\u001b[0m\u001b[0;34m'usecols'\u001b[0m\u001b[0;34m]\u001b[0m \u001b[0;34m=\u001b[0m \u001b[0mself\u001b[0m\u001b[0;34m.\u001b[0m\u001b[0musecols\u001b[0m\u001b[0;34m\u001b[0m\u001b[0m\n\u001b[1;32m   1707\u001b[0m \u001b[0;34m\u001b[0m\u001b[0m\n\u001b[0;32m-> 1708\u001b[0;31m         \u001b[0mself\u001b[0m\u001b[0;34m.\u001b[0m\u001b[0m_reader\u001b[0m \u001b[0;34m=\u001b[0m \u001b[0mparsers\u001b[0m\u001b[0;34m.\u001b[0m\u001b[0mTextReader\u001b[0m\u001b[0;34m(\u001b[0m\u001b[0msrc\u001b[0m\u001b[0;34m,\u001b[0m \u001b[0;34m**\u001b[0m\u001b[0mkwds\u001b[0m\u001b[0;34m)\u001b[0m\u001b[0;34m\u001b[0m\u001b[0m\n\u001b[0m\u001b[1;32m   1709\u001b[0m \u001b[0;34m\u001b[0m\u001b[0m\n\u001b[1;32m   1710\u001b[0m         \u001b[0mpassed_names\u001b[0m \u001b[0;34m=\u001b[0m \u001b[0mself\u001b[0m\u001b[0;34m.\u001b[0m\u001b[0mnames\u001b[0m \u001b[0;32mis\u001b[0m \u001b[0;32mNone\u001b[0m\u001b[0;34m\u001b[0m\u001b[0m\n",
      "\u001b[0;32mpandas/_libs/parsers.pyx\u001b[0m in \u001b[0;36mpandas._libs.parsers.TextReader.__cinit__\u001b[0;34m()\u001b[0m\n",
      "\u001b[0;32mpandas/_libs/parsers.pyx\u001b[0m in \u001b[0;36mpandas._libs.parsers.TextReader._setup_parser_source\u001b[0;34m()\u001b[0m\n",
      "\u001b[0;31mFileNotFoundError\u001b[0m: File b'lastfm_20k_users.csv' does not exist"
     ]
    }
   ],
   "source": [
    "# The following block imports larger datasets for scaling tests, these expanded CSVs are not available in the repo\n",
    "files9k = pd.read_csv('lastfm_9000_users.csv', na_filter=False)\n",
    "files20k = pd.read_csv('lastfm_20k_users.csv', na_filter=False)\n",
    "files60k = pd.read_csv('lastfm_60k_users.csv', na_filter=False)\n",
    "files150k = pd.read_csv('lastfm_150k_users.csv', na_filter=False)\n",
    "files40k = get_users(files150k, 40000)\n",
    "files = [files9k, files20k, files40k, files60k]"
   ]
  },
  {
   "cell_type": "markdown",
   "metadata": {},
   "source": [
    "### Accuracy/NDCG"
   ]
  },
  {
   "cell_type": "code",
   "execution_count": 93,
   "metadata": {},
   "outputs": [
    {
     "ename": "NameError",
     "evalue": "name 'get_users' is not defined",
     "output_type": "error",
     "traceback": [
      "\u001b[0;31m---------------------------------------------------------------------------\u001b[0m",
      "\u001b[0;31mNameError\u001b[0m                                 Traceback (most recent call last)",
      "\u001b[0;32m<ipython-input-93-520fa328dc77>\u001b[0m in \u001b[0;36m<module>\u001b[0;34m()\u001b[0m\n\u001b[1;32m     17\u001b[0m \u001b[0;31m#get train data for each input size\u001b[0m\u001b[0;34m\u001b[0m\u001b[0;34m\u001b[0m\u001b[0m\n\u001b[1;32m     18\u001b[0m \u001b[0;32mfor\u001b[0m \u001b[0musers\u001b[0m \u001b[0;32min\u001b[0m \u001b[0msize\u001b[0m\u001b[0;34m:\u001b[0m\u001b[0;34m\u001b[0m\u001b[0m\n\u001b[0;32m---> 19\u001b[0;31m     \u001b[0mdf\u001b[0m \u001b[0;34m=\u001b[0m \u001b[0mget_users\u001b[0m\u001b[0;34m(\u001b[0m\u001b[0mdf_150\u001b[0m\u001b[0;34m,\u001b[0m \u001b[0musers\u001b[0m\u001b[0;34m)\u001b[0m\u001b[0;34m\u001b[0m\u001b[0m\n\u001b[0m\u001b[1;32m     20\u001b[0m     \u001b[0mplays_sparse\u001b[0m \u001b[0;34m=\u001b[0m \u001b[0mcreate_sparse_matrix\u001b[0m\u001b[0;34m(\u001b[0m\u001b[0mdf\u001b[0m\u001b[0;34m)\u001b[0m\u001b[0;34m\u001b[0m\u001b[0m\n\u001b[1;32m     21\u001b[0m     \u001b[0;31m#Baseline----------------------------------------------\u001b[0m\u001b[0;34m\u001b[0m\u001b[0;34m\u001b[0m\u001b[0m\n",
      "\u001b[0;31mNameError\u001b[0m: name 'get_users' is not defined"
     ]
    }
   ],
   "source": [
    "import time\n",
    "size = [9000,20000,40000,60000,80000]\n",
    "\n",
    "fm_train_time = list()\n",
    "als_train_time = list()\n",
    "base_train_time = list()\n",
    "\n",
    "ndcg_size_fm = []\n",
    "recall_size_fm = []\n",
    "\n",
    "ndcg_size_als = []\n",
    "recall_size_als = []\n",
    "\n",
    "ndcg_size_baseline = []\n",
    "recall_size_baseline = []\n",
    "\n",
    "#get train data for each input size\n",
    "for users in size:\n",
    "    df = get_users(df_150, users)\n",
    "    plays_sparse = create_sparse_matrix(df)\n",
    "    #Baseline----------------------------------------------\n",
    "    model=Baseline(20)\n",
    "    start = time.time()\n",
    "    model.fit(train)\n",
    "    stop = time.time()\n",
    "    total = stop-start\n",
    "    baseline_train_time.append(total)\n",
    "    coverage, precision, recall, ndcg = evaluate(model,\"baseline\", test, group)\n",
    "    recall_size_baseline.append(recall)\n",
    "    ndcg_size_baseline.append(ndcg)\n",
    "    \n",
    "    #Implicit ALS------------------------------------------\n",
    "    model = implicit.als.AlternatingLeastSquares(factors=30, regularization=0.01)\n",
    "    start = time.time()\n",
    "    model.fit(train, show_progress=True)\n",
    "    stop = time.time()\n",
    "    total = stop-start\n",
    "    als_train_time.append(total)\n",
    "    coverage, precision, recall, ndcg = evaluate(model,\"implicit\", test, group)\n",
    "    recall_size_als.append(recall)\n",
    "    ndcg_size_als.append(ndcg)\n",
    "    \n",
    "    #LIGHTFM-----------------------------------------------\n",
    "    model_fm_features = LightFM(no_components=30, loss='warp')\n",
    "    start = time.time()\n",
    "    model_fm_features.fit(plays_sparse.T.tocsr(),user_features = None, item_features = None)    \n",
    "    stop = time.time()\n",
    "    total = stop-start\n",
    "    fm_train_time.append(total)\n",
    "    coverage, precision, recall, ndcg = evaluate(model_fm_feature,\"lightfm\", test, plays_sparse)\n",
    "    recall_size_fm.append(recall)\n",
    "    ndcg_size_fm.append(ndcg)"
   ]
  },
  {
   "cell_type": "code",
   "execution_count": 92,
   "metadata": {},
   "outputs": [
    {
     "ename": "NameError",
     "evalue": "name 'size' is not defined",
     "output_type": "error",
     "traceback": [
      "\u001b[0;31m---------------------------------------------------------------------------\u001b[0m",
      "\u001b[0;31mNameError\u001b[0m                                 Traceback (most recent call last)",
      "\u001b[0;32m<ipython-input-92-af51b7bb808b>\u001b[0m in \u001b[0;36m<module>\u001b[0;34m()\u001b[0m\n\u001b[1;32m      1\u001b[0m \u001b[0;31m# Plot NDCG by Input Size\u001b[0m\u001b[0;34m\u001b[0m\u001b[0;34m\u001b[0m\u001b[0m\n\u001b[0;32m----> 2\u001b[0;31m \u001b[0mndcg_size_als_df\u001b[0m \u001b[0;34m=\u001b[0m \u001b[0mpd\u001b[0m\u001b[0;34m.\u001b[0m\u001b[0mDataFrame\u001b[0m\u001b[0;34m(\u001b[0m\u001b[0;34m{\u001b[0m\u001b[0;34m'N'\u001b[0m\u001b[0;34m:\u001b[0m\u001b[0msize\u001b[0m\u001b[0;34m,\u001b[0m \u001b[0;34m'NDCG'\u001b[0m\u001b[0;34m:\u001b[0m \u001b[0mndcg_size_als\u001b[0m\u001b[0;34m}\u001b[0m\u001b[0;34m)\u001b[0m\u001b[0;34m\u001b[0m\u001b[0m\n\u001b[0m\u001b[1;32m      3\u001b[0m \u001b[0mndcg_size_baseline_df\u001b[0m \u001b[0;34m=\u001b[0m \u001b[0mpd\u001b[0m\u001b[0;34m.\u001b[0m\u001b[0mDataFrame\u001b[0m\u001b[0;34m(\u001b[0m\u001b[0;34m{\u001b[0m\u001b[0;34m'N'\u001b[0m\u001b[0;34m:\u001b[0m\u001b[0msize\u001b[0m\u001b[0;34m,\u001b[0m \u001b[0;34m'NDCG'\u001b[0m\u001b[0;34m:\u001b[0m \u001b[0mndcg_size_baseline\u001b[0m\u001b[0;34m}\u001b[0m\u001b[0;34m)\u001b[0m\u001b[0;34m\u001b[0m\u001b[0m\n\u001b[1;32m      4\u001b[0m \u001b[0mndcg_size_fm_df\u001b[0m \u001b[0;34m=\u001b[0m \u001b[0mpd\u001b[0m\u001b[0;34m.\u001b[0m\u001b[0mDataFrame\u001b[0m\u001b[0;34m(\u001b[0m\u001b[0;34m{\u001b[0m\u001b[0;34m'N'\u001b[0m\u001b[0;34m:\u001b[0m\u001b[0msize\u001b[0m\u001b[0;34m,\u001b[0m \u001b[0;34m'NDCG'\u001b[0m\u001b[0;34m:\u001b[0m \u001b[0mndcg_size_fm\u001b[0m\u001b[0;34m}\u001b[0m\u001b[0;34m)\u001b[0m\u001b[0;34m\u001b[0m\u001b[0m\n\u001b[1;32m      5\u001b[0m \u001b[0;34m\u001b[0m\u001b[0m\n",
      "\u001b[0;31mNameError\u001b[0m: name 'size' is not defined"
     ]
    }
   ],
   "source": [
    "#plot NDCG vs input size\n",
    "ndcg_size_als_df = pd.DataFrame({'N':size, 'NDCG': ndcg_size_als})\n",
    "ndcg_size_baseline_df = pd.DataFrame({'N':size, 'NDCG': ndcg_size_baseline})\n",
    "ndcg_size_fm_df = pd.DataFrame({'N':size, 'NDCG': ndcg_size_fm})\n",
    "\n",
    "f, ax = plt.subplots(1, 1)\n",
    "\n",
    "ndcg_size_als_df['Model'] = 'Implicit ALS'\n",
    "ndcg_size_baseline_df['Model'] = 'Baseline'\n",
    "ndcg_size_fm_df['Model'] = 'Factorization Machine'\n",
    "df = pd.concat([ndcg_size_als_df,ndcg_size_baseline_df,ndcg_size_fm_df])\n",
    "sns.pointplot(ax=ax,x='N',y='NDCG',data=df,hue='Model')\n",
    "plt.title('NDCG by Input Size')\n",
    "plt.xlabel('Input Size')\n",
    "plt.ylabel('NDCG')"
   ]
  },
  {
   "cell_type": "markdown",
   "metadata": {},
   "source": [
    "### Training/Predict Time"
   ]
  },
  {
   "cell_type": "code",
   "execution_count": null,
   "metadata": {
    "collapsed": true
   },
   "outputs": [],
   "source": [
    "# Plot Training Time by Input Size\n",
    "als_train_time_df = pd.DataFrame({'N':size, 'NDCG': als_train_time})\n",
    "base_train_time_df = pd.DataFrame({'N':size, 'NDCG': base_train_time})\n",
    "fm_train_time_df = pd.DataFrame({'N':size, 'NDCG': fm_train_time})\n",
    "\n",
    "f, ax = plt.subplots(1, 1)\n",
    "als_train_time_df['Model'] = 'Implicit ALS'\n",
    "base_train_time_df['Model'] = 'Baseline'\n",
    "fm_train_time_df['Model'] = 'Factorization Machine'\n",
    "df = pd.concat([als_train_time_df,base_train_time_df,fm_train_time_df])\n",
    "sns.pointplot(ax=ax,x='N',y='NDCG',data=df,hue='Model')\n",
    "plt.title('Training Time by Input Size for Factorization Machine')\n",
    "plt.xlabel('Number of Users')\n",
    "plt.ylabel('Time (s)')\n",
    "\n",
    "plt.show()"
   ]
  },
  {
   "cell_type": "markdown",
   "metadata": {},
   "source": [
    "# 5. Conclusion / Next Steps"
   ]
  },
  {
   "cell_type": "markdown",
   "metadata": {},
   "source": [
    "# OLD STUFF: "
   ]
  },
  {
   "cell_type": "markdown",
   "metadata": {},
   "source": [
    "# Cross Validation and Parameter Tuning (k-fold)\n",
    "\n",
    "In this section, we use k-fold cross validation to tune hyperparameters and evaluate our models."
   ]
  },
  {
   "cell_type": "markdown",
   "metadata": {},
   "source": [
    "### Splitting into test and training sets"
   ]
  },
  {
   "cell_type": "code",
   "execution_count": null,
   "metadata": {
    "collapsed": true
   },
   "outputs": [],
   "source": [
    "# Cross Validation test\n",
    "k=5\n",
    "train_list, test_list, user_count = split_train_test_per_user(plays_sparse,k,20,cross_valid=True)"
   ]
  },
  {
   "cell_type": "markdown",
   "metadata": {},
   "source": [
    "## Evaluate and tune ALS\n",
    "\n",
    "Tuning two parameters: number of latent factors and the regularization factor. \n",
    "\n",
    "For latent factors, we try values [10,20,30,40,50,60]\n",
    "\n",
    "For regularization factors, we try [.01,.03,.05,.07]"
   ]
  },
  {
   "cell_type": "code",
   "execution_count": null,
   "metadata": {
    "collapsed": true
   },
   "outputs": [],
   "source": [
    "start = time.time()\n",
    "model=implicit.als.AlternatingLeastSquares\n",
    "ndcg_list,heatmap_list=auto_tune_parameter(4,20,model,plays_sparse,[10,20,30,40,50,60],[.01,.03,.05,.07],param3=None)\n",
    "stop = time.time()\n",
    "total = stop-start"
   ]
  },
  {
   "cell_type": "code",
   "execution_count": null,
   "metadata": {
    "collapsed": true
   },
   "outputs": [],
   "source": [
    "# Plot heatmap of parameter tuning results\n",
    "sns.set_style(\"whitegrid\")\n",
    "sns.heatmap(heatmap_list[2], \n",
    "            xticklabels=['0.01','0.03','0.05','0.07'], \n",
    "            yticklabels=['10','20','30','40','50','60'], \n",
    "            cbar_kws={'label':'NDCG Score'})\n",
    "plt.ylabel(\"Number of Latent Factors\")\n",
    "plt.xlabel(\"Regularization Factor\")\n",
    "plt.title(\"ALS NDCG scores according to Model Parameters\")\n",
    "plt.show()"
   ]
  },
  {
   "cell_type": "markdown",
   "metadata": {},
   "source": [
    "Here we analyze the scalability of ALS by looking at datasets with 9k, 20k, 60k, and 150k users:"
   ]
  },
  {
   "cell_type": "code",
   "execution_count": null,
   "metadata": {
    "collapsed": true
   },
   "outputs": [],
   "source": [
    "# The following block imports larger datasets for scaling tests, these expanded CSVs are not available in the repo\n",
    "files9k = pd.read_csv('lastfm_9000_users.csv', na_filter=False)\n",
    "files20k = pd.read_csv('lastfm_20k_users.csv', na_filter=False)\n",
    "files60k = pd.read_csv('lastfm_60k_users.csv', na_filter=False)\n",
    "files150k = pd.read_csv('lastfm_150k_users.csv', na_filter=False)\n",
    "files40k = get_users(files150k, 40000)\n",
    "files = [files9k, files20k, files40k, files60k]"
   ]
  },
  {
   "cell_type": "code",
   "execution_count": null,
   "metadata": {
    "collapsed": true
   },
   "outputs": [],
   "source": [
    "# Compute the recall and ndcg using optimal parameters for the ALS model on different dataset sizes\n",
    "size = [9000, 20000, 40000, 60000]\n",
    "ndcg_size = []\n",
    "recall_size = []\n",
    "for i in files:\n",
    "    model = implicit.als.AlternatingLeastSquares(factors=30, regularization=0.01)\n",
    "\n",
    "    #create sparse matrix\n",
    "    plays_sparse = create_sparse_matrix(i).astype('float')\n",
    "    print('Matrix Sparsity:', calculate_sparsity(plays_sparse))\n",
    "\n",
    "    train, test, user_count = split_train_test_per_user(plays_sparse, 4, 20)\n",
    "\n",
    "    # train model \n",
    "    print(\"Fitting model...\")\n",
    "    model.fit(train, show_progress=True)\n",
    "\n",
    "    recall, ndcg = evaluate(model, test, plays_sparse)\n",
    "    print(\"Recall:\",recall*100,'%')\n",
    "    print(\"Average NDCG:\",ndcg*100,'%')\n",
    "    recall_size.append(recall)\n",
    "    ndcg_size.append(ndcg)"
   ]
  },
  {
   "cell_type": "code",
   "execution_count": null,
   "metadata": {
    "collapsed": true
   },
   "outputs": [],
   "source": [
    "# Plot scalability of ALS model\n",
    "ndcg_size_df = pd.DataFrame({'N':size,\n",
    "                       'NDCG': ndcg_size})\n",
    "g = sns.pointplot(x='N', y='NDCG', data=ndcg_size_df)\n",
    "plt.title('NDCG by Input Size for ALS')\n",
    "plt.xlabel('Number Of Users')\n",
    "plt.show()"
   ]
  },
  {
   "cell_type": "markdown",
   "metadata": {},
   "source": [
    "Here we analyze the catalog coverage of the ALS model:"
   ]
  },
  {
   "cell_type": "code",
   "execution_count": null,
   "metadata": {
    "collapsed": true
   },
   "outputs": [],
   "source": [
    "# Calculate catalog coverage of ALS model with optimal parameters\n",
    "model = implicit.als.AlternatingLeastSquares(factors=30, regularization=0.01)\n",
    "model.fit(plays_sparse)\n",
    "users = list(df.user_id.unique())\n",
    "catalog = []\n",
    "for i in range(0,len(users)):\n",
    "    for x,y in model.recommend(i,plays_sparse.T.tocsr(), N=20, filter_already_liked_items=True):\n",
    "        if x not in catalog:\n",
    "            catalog.append(x)\n",
    "print('Catalog Coverage is', len(catalog)/plays_sparse.shape[1])"
   ]
  },
  {
   "cell_type": "markdown",
   "metadata": {},
   "source": [
    "# Tune ALS\n",
    "\n",
    "Below we will tune the hyperparameters of ALS from a given range of hyperparameters."
   ]
  },
  {
   "cell_type": "code",
   "execution_count": null,
   "metadata": {
    "collapsed": true
   },
   "outputs": [],
   "source": [
    "model=implicit.als.AlternatingLeastSquares\n",
    "ndcg_list,heatmap_list=auto_tune_parameter(4,20,model,plays_sparse,[10,20,30,40,50,60],[.01,.03,.05,.07],param3=None)\n",
    "\n",
    "sns.set_style(\"whitegrid\")\n",
    "sns.heatmap(heatmap_list[2], xticklabels=['0.01','0.03','0.05','0.07'], yticklabels=['10','20','30','40','50','60'], cbar_kws={'label':'NDCG Score'})\n",
    "plt.ylabel(\"Number of Latent Factors\")\n",
    "plt.xlabel(\"Regularization Factor\")\n",
    "plt.title(\"ALS NDCG scores according to Model Parameters\")\n",
    "plt.show()"
   ]
  },
  {
   "cell_type": "markdown",
   "metadata": {},
   "source": [
    "# Input Size vs Training Time\n",
    "\n",
    "Below you can run the code using a larger dataset to evaluate performance tiem compared with input tiem"
   ]
  },
  {
   "cell_type": "code",
   "execution_count": null,
   "metadata": {
    "collapsed": true
   },
   "outputs": [],
   "source": [
    "#helper function to grab needed users\n",
    "def get_users(df, n):\n",
    "    sample_userid = df[\"user_id\"].unique()\n",
    "    sample_userid = np.random.choice(sample_userid, size = n, replace = False)\n",
    "\n",
    "    #grab rows with sample user id\n",
    "    df_sample = df[df.user_id.isin(sample_userid)].reset_index(drop = True)\n",
    "\n",
    "    return df_sample\n",
    "\n",
    "#in order to run this analysis, you need to download the 150k data at: \n",
    "#https://www.dropbox.com/s/qd8rnlxsuq0rjll/last_fm_bigger_data.zip?dl=0\n",
    "\n",
    "#read in large dataset\n",
    "df_150 = pd.read_csv('lastfm_150k_users.csv', na_filter=False)\n",
    "df_150 = df_150.drop(['Unnamed: 0'], axis=1)"
   ]
  },
  {
   "cell_type": "markdown",
   "metadata": {},
   "source": [
    "# ALS"
   ]
  },
  {
   "cell_type": "code",
   "execution_count": null,
   "metadata": {
    "collapsed": true
   },
   "outputs": [],
   "source": [
    "#plot ALS training time vs input size\n",
    "#calculate training time for different input sizes for ALS\n",
    "import sns\n",
    "import time\n",
    "\n",
    "size = [9000,20000,40000,60000,80000]\n",
    "train_time = list()\n",
    "\n",
    "#get train data for each input size\n",
    "for users in size:\n",
    "    df = get_users(df_150, users)\n",
    "    plays_sparse = create_sparse_matrix(df)\n",
    "\n",
    "    # K-Nearest Neighbors\n",
    "    model = implicit.als.AlternatingLeastSquares(50)\n",
    "    \n",
    "    start = time.time()\n",
    "    # train model \n",
    "    print(\"Fitting model...\")\n",
    "    model.fit(plays_sparse, show_progress=True)\n",
    "    stop = time.time()\n",
    "    total = stop-start\n",
    "    train_time.append(total)\n",
    "\n",
    "#plot\n",
    "df = pd.DataFrame({'n':size,'time':train_time})\n",
    "sns.pointplot(x=\"n\",y=\"time\",data=df)\n",
    "plt.title('Training Time by Input Size for KNN')\n",
    "plt.xlabel('Number of Users')\n",
    "plt.ylabel('Time (s)')"
   ]
  }
 ],
 "metadata": {
  "kernelspec": {
   "display_name": "Python 3",
   "language": "python",
   "name": "python3"
  },
  "language_info": {
   "codemirror_mode": {
    "name": "ipython",
    "version": 3
   },
   "file_extension": ".py",
   "mimetype": "text/x-python",
   "name": "python",
   "nbconvert_exporter": "python",
   "pygments_lexer": "ipython3",
   "version": "3.6.6"
  }
 },
 "nbformat": 4,
 "nbformat_minor": 2
}
