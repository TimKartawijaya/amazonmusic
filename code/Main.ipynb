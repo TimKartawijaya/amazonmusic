{
 "cells": [
  {
   "cell_type": "markdown",
   "metadata": {},
   "source": [
    "First we load the functions and libraries necessary for this report."
   ]
  },
  {
   "cell_type": "code",
   "execution_count": 1,
   "metadata": {},
   "outputs": [],
   "source": [
    "from __future__ import print_function\n",
    "from lightfm import LightFM\n",
    "\n",
    "import seaborn as sns\n",
    "import matplotlib.pyplot as plt"
   ]
  },
  {
   "cell_type": "code",
   "execution_count": 59,
   "metadata": {},
   "outputs": [],
   "source": [
    "run analysis_functions.ipynb #import all helper functions"
   ]
  },
  {
   "cell_type": "markdown",
   "metadata": {},
   "source": [
    "For initial analysis, we will explore and model data from only 9000 users. In future sections we will extend this model to more users. "
   ]
  },
  {
   "cell_type": "code",
   "execution_count": 3,
   "metadata": {},
   "outputs": [],
   "source": [
    "# Import main dataset\n",
    "df = pd.read_csv('lastfm_9000_users.csv', na_filter=False)\n",
    "df = df.drop(['Unnamed: 0'], axis=1)"
   ]
  },
  {
   "cell_type": "markdown",
   "metadata": {},
   "source": [
    "The structure of the analysis will be as such: \n",
    "0. Data Exploration\n",
    "1. Objective\n",
    "2. Prepare data\n",
    "3. Model Fitting, Tuning, and Evaluation\n",
    "    - Benchmarks\n",
    "        - Most Popular\n",
    "        - ALS Matrix Factorization (Implicit)\n",
    "        - Bayesian Personalized Ranking (Implicit)\n",
    "    - LightFM\n",
    "        - FM without Side Info (Vanilla)\n",
    "        - FM with User/Item Side Information\n",
    "        - Parameter Tuning\n",
    "    - Summary of Results between Models (Table)\n",
    "4. Model Exploration\n",
    "    - Metrics Used (Recall, Precision, Coverage)\n",
    "    - Metrics by User Segments \n",
    "        - Active/Non-Active\n",
    "        - Diverse/Non-Diverse \n",
    "        - Mainstream/Non-Mainstream \n",
    "    - Scale\n",
    "        - Metrics by Size\n",
    "        - Training Time / Predict Time by Size\n",
    "    - Qualitative Results (Serendipity/Novelty)\n",
    "6. Conclusion / Next Steps"
   ]
  },
  {
   "cell_type": "markdown",
   "metadata": {},
   "source": [
    "# 0. Data Exploration"
   ]
  },
  {
   "cell_type": "markdown",
   "metadata": {},
   "source": [
    "Before we dive into modeling, let's take a look at what data currently looks like. "
   ]
  },
  {
   "cell_type": "code",
   "execution_count": 4,
   "metadata": {},
   "outputs": [
    {
     "data": {
      "text/html": [
       "<div>\n",
       "<style scoped>\n",
       "    .dataframe tbody tr th:only-of-type {\n",
       "        vertical-align: middle;\n",
       "    }\n",
       "\n",
       "    .dataframe tbody tr th {\n",
       "        vertical-align: top;\n",
       "    }\n",
       "\n",
       "    .dataframe thead th {\n",
       "        text-align: right;\n",
       "    }\n",
       "</style>\n",
       "<table border=\"1\" class=\"dataframe\">\n",
       "  <thead>\n",
       "    <tr style=\"text-align: right;\">\n",
       "      <th></th>\n",
       "      <th>user_id</th>\n",
       "      <th>artist_mbid</th>\n",
       "      <th>artist_name</th>\n",
       "      <th>plays</th>\n",
       "    </tr>\n",
       "  </thead>\n",
       "  <tbody>\n",
       "    <tr>\n",
       "      <th>0</th>\n",
       "      <td>00029d80b8af94f2d5e3349ceb28b7304f80c1c4</td>\n",
       "      <td>b7ffd2af-418f-4be2-bdd1-22f8b48613da</td>\n",
       "      <td>nine inch nails</td>\n",
       "      <td>11092</td>\n",
       "    </tr>\n",
       "    <tr>\n",
       "      <th>1</th>\n",
       "      <td>00029d80b8af94f2d5e3349ceb28b7304f80c1c4</td>\n",
       "      <td>8ca01f46-53ac-4af2-8516-55a909c0905e</td>\n",
       "      <td>my bloody valentine</td>\n",
       "      <td>1671</td>\n",
       "    </tr>\n",
       "    <tr>\n",
       "      <th>2</th>\n",
       "      <td>00029d80b8af94f2d5e3349ceb28b7304f80c1c4</td>\n",
       "      <td>e795e03d-b5d5-4a5f-834d-162cfb308a2c</td>\n",
       "      <td>pj harvey</td>\n",
       "      <td>1603</td>\n",
       "    </tr>\n",
       "    <tr>\n",
       "      <th>3</th>\n",
       "      <td>00029d80b8af94f2d5e3349ceb28b7304f80c1c4</td>\n",
       "      <td>69ee3720-a7cb-4402-b48d-a02c366f2bcf</td>\n",
       "      <td>the cure</td>\n",
       "      <td>1588</td>\n",
       "    </tr>\n",
       "    <tr>\n",
       "      <th>4</th>\n",
       "      <td>00029d80b8af94f2d5e3349ceb28b7304f80c1c4</td>\n",
       "      <td>90cc2464-234e-4da0-b39b-576f36e633bc</td>\n",
       "      <td>antony and the johnsons</td>\n",
       "      <td>1039</td>\n",
       "    </tr>\n",
       "  </tbody>\n",
       "</table>\n",
       "</div>"
      ],
      "text/plain": [
       "                                    user_id  \\\n",
       "0  00029d80b8af94f2d5e3349ceb28b7304f80c1c4   \n",
       "1  00029d80b8af94f2d5e3349ceb28b7304f80c1c4   \n",
       "2  00029d80b8af94f2d5e3349ceb28b7304f80c1c4   \n",
       "3  00029d80b8af94f2d5e3349ceb28b7304f80c1c4   \n",
       "4  00029d80b8af94f2d5e3349ceb28b7304f80c1c4   \n",
       "\n",
       "                            artist_mbid              artist_name  plays  \n",
       "0  b7ffd2af-418f-4be2-bdd1-22f8b48613da          nine inch nails  11092  \n",
       "1  8ca01f46-53ac-4af2-8516-55a909c0905e      my bloody valentine   1671  \n",
       "2  e795e03d-b5d5-4a5f-834d-162cfb308a2c                pj harvey   1603  \n",
       "3  69ee3720-a7cb-4402-b48d-a02c366f2bcf                 the cure   1588  \n",
       "4  90cc2464-234e-4da0-b39b-576f36e633bc  antony and the johnsons   1039  "
      ]
     },
     "execution_count": 4,
     "metadata": {},
     "output_type": "execute_result"
    }
   ],
   "source": [
    "df.head()"
   ]
  },
  {
   "cell_type": "markdown",
   "metadata": {},
   "source": [
    "Next lets take a first, high-level look at the datset."
   ]
  },
  {
   "cell_type": "code",
   "execution_count": 17,
   "metadata": {},
   "outputs": [
    {
     "data": {
      "text/html": [
       "<div>\n",
       "<style scoped>\n",
       "    .dataframe tbody tr th:only-of-type {\n",
       "        vertical-align: middle;\n",
       "    }\n",
       "\n",
       "    .dataframe tbody tr th {\n",
       "        vertical-align: top;\n",
       "    }\n",
       "\n",
       "    .dataframe thead th {\n",
       "        text-align: right;\n",
       "    }\n",
       "</style>\n",
       "<table border=\"1\" class=\"dataframe\">\n",
       "  <thead>\n",
       "    <tr style=\"text-align: right;\">\n",
       "      <th></th>\n",
       "      <th>plays</th>\n",
       "    </tr>\n",
       "  </thead>\n",
       "  <tbody>\n",
       "    <tr>\n",
       "      <th>count</th>\n",
       "      <td>438346.000000</td>\n",
       "    </tr>\n",
       "    <tr>\n",
       "      <th>mean</th>\n",
       "      <td>216.435998</td>\n",
       "    </tr>\n",
       "    <tr>\n",
       "      <th>std</th>\n",
       "      <td>800.547832</td>\n",
       "    </tr>\n",
       "    <tr>\n",
       "      <th>min</th>\n",
       "      <td>1.000000</td>\n",
       "    </tr>\n",
       "    <tr>\n",
       "      <th>25%</th>\n",
       "      <td>34.000000</td>\n",
       "    </tr>\n",
       "    <tr>\n",
       "      <th>50%</th>\n",
       "      <td>94.000000</td>\n",
       "    </tr>\n",
       "    <tr>\n",
       "      <th>75%</th>\n",
       "      <td>225.000000</td>\n",
       "    </tr>\n",
       "    <tr>\n",
       "      <th>max</th>\n",
       "      <td>242328.000000</td>\n",
       "    </tr>\n",
       "  </tbody>\n",
       "</table>\n",
       "</div>"
      ],
      "text/plain": [
       "               plays\n",
       "count  438346.000000\n",
       "mean      216.435998\n",
       "std       800.547832\n",
       "min         1.000000\n",
       "25%        34.000000\n",
       "50%        94.000000\n",
       "75%       225.000000\n",
       "max    242328.000000"
      ]
     },
     "execution_count": 17,
     "metadata": {},
     "output_type": "execute_result"
    }
   ],
   "source": [
    "df.describe()"
   ]
  },
  {
   "cell_type": "code",
   "execution_count": 18,
   "metadata": {},
   "outputs": [
    {
     "data": {
      "text/html": [
       "<div>\n",
       "<style scoped>\n",
       "    .dataframe tbody tr th:only-of-type {\n",
       "        vertical-align: middle;\n",
       "    }\n",
       "\n",
       "    .dataframe tbody tr th {\n",
       "        vertical-align: top;\n",
       "    }\n",
       "\n",
       "    .dataframe thead th {\n",
       "        text-align: right;\n",
       "    }\n",
       "</style>\n",
       "<table border=\"1\" class=\"dataframe\">\n",
       "  <thead>\n",
       "    <tr style=\"text-align: right;\">\n",
       "      <th></th>\n",
       "      <th>user_id</th>\n",
       "      <th>artist_mbid</th>\n",
       "      <th>artist_name</th>\n",
       "    </tr>\n",
       "  </thead>\n",
       "  <tbody>\n",
       "    <tr>\n",
       "      <th>count</th>\n",
       "      <td>438346</td>\n",
       "      <td>438346</td>\n",
       "      <td>438346</td>\n",
       "    </tr>\n",
       "    <tr>\n",
       "      <th>unique</th>\n",
       "      <td>9000</td>\n",
       "      <td>47102</td>\n",
       "      <td>53577</td>\n",
       "    </tr>\n",
       "    <tr>\n",
       "      <th>top</th>\n",
       "      <td>1a0cefc82b7f7566d12b69697ea91a29b20f6554</td>\n",
       "      <td></td>\n",
       "      <td>radiohead</td>\n",
       "    </tr>\n",
       "    <tr>\n",
       "      <th>freq</th>\n",
       "      <td>107</td>\n",
       "      <td>5731</td>\n",
       "      <td>1926</td>\n",
       "    </tr>\n",
       "  </tbody>\n",
       "</table>\n",
       "</div>"
      ],
      "text/plain": [
       "                                         user_id artist_mbid artist_name\n",
       "count                                     438346      438346      438346\n",
       "unique                                      9000       47102       53577\n",
       "top     1a0cefc82b7f7566d12b69697ea91a29b20f6554               radiohead\n",
       "freq                                         107        5731        1926"
      ]
     },
     "execution_count": 18,
     "metadata": {},
     "output_type": "execute_result"
    }
   ],
   "source": [
    "df.describe(include = 'O')"
   ]
  },
  {
   "cell_type": "markdown",
   "metadata": {},
   "source": [
    "It's interesting to see that there are more artist names than artist mbid. This is probably because some artist names share the same mbid (seen below), due to both error and if the same artist have different names. **To distinguish between artists, we will then use artist_mbid.** FERNANDO NEED CODE HERE"
   ]
  },
  {
   "cell_type": "code",
   "execution_count": 19,
   "metadata": {},
   "outputs": [
    {
     "name": "stdout",
     "output_type": "stream",
     "text": [
      "<class 'pandas.core.frame.DataFrame'>\n",
      "RangeIndex: 438346 entries, 0 to 438345\n",
      "Data columns (total 4 columns):\n",
      "user_id        438346 non-null object\n",
      "artist_mbid    438346 non-null object\n",
      "artist_name    438346 non-null object\n",
      "plays          438346 non-null int64\n",
      "dtypes: int64(1), object(3)\n",
      "memory usage: 13.4+ MB\n"
     ]
    }
   ],
   "source": [
    "df.info()"
   ]
  },
  {
   "cell_type": "markdown",
   "metadata": {},
   "source": [
    "Let's see if there's any missing values within the dataset."
   ]
  },
  {
   "cell_type": "code",
   "execution_count": 6,
   "metadata": {},
   "outputs": [
    {
     "data": {
      "text/plain": [
       "user_id        0\n",
       "artist_mbid    0\n",
       "artist_name    0\n",
       "plays          0\n",
       "dtype: int64"
      ]
     },
     "execution_count": 6,
     "metadata": {},
     "output_type": "execute_result"
    }
   ],
   "source": [
    "df.isna().sum()"
   ]
  },
  {
   "cell_type": "markdown",
   "metadata": {},
   "source": [
    "Let's see if there's any wrong values in the datset."
   ]
  },
  {
   "cell_type": "code",
   "execution_count": 16,
   "metadata": {},
   "outputs": [
    {
     "name": "stdout",
     "output_type": "stream",
     "text": [
      "Wrong Values:\n",
      "=============\n",
      "User Id:  0\n",
      "Artist MBID:  5731\n",
      "Artist Name:  6\n",
      "Plays:  0\n"
     ]
    }
   ],
   "source": [
    "print('Wrong Values:\\n=============')\n",
    "print('User Id: ', df.loc[df.user_id == ''].shape[0])\n",
    "print('Artist MBID: ', df.loc[df.artist_mbid == ''].shape[0])\n",
    "print('Artist Name: ', df.loc[df.artist_name == ''].shape[0])\n",
    "print('Plays: ', df.loc[df.plays < 0].shape[0])"
   ]
  },
  {
   "cell_type": "markdown",
   "metadata": {},
   "source": [
    "It looks like there are some invalid values for mbid and name. Let's take a look at them:"
   ]
  },
  {
   "cell_type": "code",
   "execution_count": 37,
   "metadata": {},
   "outputs": [
    {
     "data": {
      "text/plain": [
       "0.013074146906781402"
      ]
     },
     "execution_count": 37,
     "metadata": {},
     "output_type": "execute_result"
    }
   ],
   "source": [
    "len(df.loc[df.artist_mbid == ''])/len(df)"
   ]
  },
  {
   "cell_type": "markdown",
   "metadata": {},
   "source": [
    "These values are only 1% of the dataset, so for sake of simplicity let us just drop these values. "
   ]
  },
  {
   "cell_type": "code",
   "execution_count": 40,
   "metadata": {},
   "outputs": [],
   "source": [
    "df = df[df.artist_mbid != '']\n",
    "df = df[df.artist_name != '']"
   ]
  },
  {
   "cell_type": "code",
   "execution_count": 41,
   "metadata": {},
   "outputs": [
    {
     "name": "stdout",
     "output_type": "stream",
     "text": [
      "Wrong Values:\n",
      "=============\n",
      "User Id:  0\n",
      "Artist MBID:  0\n",
      "Artist Name:  0\n",
      "Plays:  0\n"
     ]
    }
   ],
   "source": [
    "#sanity check\n",
    "print('Wrong Values:\\n=============')\n",
    "print('User Id: ', df.loc[df.user_id == ''].shape[0])\n",
    "print('Artist MBID: ', df.loc[df.artist_mbid == ''].shape[0])\n",
    "print('Artist Name: ', df.loc[df.artist_name == ''].shape[0])\n",
    "print('Plays: ', df.loc[df.plays < 0].shape[0])"
   ]
  },
  {
   "cell_type": "markdown",
   "metadata": {},
   "source": [
    "Next, let's see how the number of plays are distributed within the data."
   ]
  },
  {
   "cell_type": "code",
   "execution_count": 42,
   "metadata": {},
   "outputs": [
    {
     "name": "stderr",
     "output_type": "stream",
     "text": [
      "/home/tim_kartawijaya/anaconda3/lib/python3.6/site-packages/matplotlib/axes/_axes.py:6462: UserWarning: The 'normed' kwarg is deprecated, and has been replaced by the 'density' kwarg.\n",
      "  warnings.warn(\"The 'normed' kwarg is deprecated, and has been \"\n"
     ]
    },
    {
     "data": {
      "text/plain": [
       "<matplotlib.axes._subplots.AxesSubplot at 0x7f80b53564e0>"
      ]
     },
     "execution_count": 42,
     "metadata": {},
     "output_type": "execute_result"
    },
    {
     "data": {
      "image/png": "[encoded data removed]",
      "text/plain": [
       "<Figure size 432x288 with 1 Axes>"
      ]
     },
     "metadata": {},
     "output_type": "display_data"
    }
   ],
   "source": [
    "sns.distplot(df.plays)"
   ]
  },
  {
   "cell_type": "code",
   "execution_count": 43,
   "metadata": {},
   "outputs": [
    {
     "name": "stderr",
     "output_type": "stream",
     "text": [
      "/home/tim_kartawijaya/anaconda3/lib/python3.6/site-packages/matplotlib/axes/_axes.py:6462: UserWarning: The 'normed' kwarg is deprecated, and has been replaced by the 'density' kwarg.\n",
      "  warnings.warn(\"The 'normed' kwarg is deprecated, and has been \"\n"
     ]
    },
    {
     "data": {
      "text/plain": [
       "<matplotlib.axes._subplots.AxesSubplot at 0x7f80b562f860>"
      ]
     },
     "execution_count": 43,
     "metadata": {},
     "output_type": "execute_result"
    },
    {
     "data": {
      "image/png": "[encoded data removed]",
      "text/plain": [
       "<Figure size 432x288 with 1 Axes>"
      ]
     },
     "metadata": {},
     "output_type": "display_data"
    }
   ],
   "source": [
    "sns.distplot(df[df.plays < 1000].plays)"
   ]
  },
  {
   "cell_type": "markdown",
   "metadata": {},
   "source": [
    "It's interesting to see how the data is exponentially distributed as shown above. The packages we use should have already accounted for such an imbalance, but in case they don't, let's scale these values."
   ]
  },
  {
   "cell_type": "code",
   "execution_count": 44,
   "metadata": {},
   "outputs": [],
   "source": [
    "from sklearn.preprocessing import MinMaxScaler \n",
    "\n",
    "df['log_plays'] = df.plays.apply(lambda x: log(x))\n",
    "\n",
    "df.log_plays *= (1.0/df.log_plays.max())"
   ]
  },
  {
   "cell_type": "code",
   "execution_count": 45,
   "metadata": {},
   "outputs": [
    {
     "name": "stderr",
     "output_type": "stream",
     "text": [
      "/home/tim_kartawijaya/anaconda3/lib/python3.6/site-packages/matplotlib/axes/_axes.py:6462: UserWarning: The 'normed' kwarg is deprecated, and has been replaced by the 'density' kwarg.\n",
      "  warnings.warn(\"The 'normed' kwarg is deprecated, and has been \"\n"
     ]
    },
    {
     "data": {
      "text/plain": [
       "<matplotlib.axes._subplots.AxesSubplot at 0x7f80b432bf28>"
      ]
     },
     "execution_count": 45,
     "metadata": {},
     "output_type": "execute_result"
    },
    {
     "data": {
      "image/png": "[encoded data removed]",
      "text/plain": [
       "<Figure size 432x288 with 1 Axes>"
      ]
     },
     "metadata": {},
     "output_type": "display_data"
    }
   ],
   "source": [
    "sns.distplot(df.log_plays)"
   ]
  },
  {
   "cell_type": "markdown",
   "metadata": {},
   "source": [
    "# 1. Objective"
   ]
  },
  {
   "attachments": {},
   "cell_type": "markdown",
   "metadata": {},
   "source": [
    "The objective for this project is similar as before: to build a reliable recommender system that generates new and relevant artist recommendations to Last.fm users. We will do this by recommending the top-k (e.g. top 20) artists for each user. Each recommendation is personalized to each user and is ‘learnt’ from his or her listening habits and history. The business objective of our recommender system is to increase user activity in Last.fm and user loyalty to the Last.fm brand by providing a service that allows users to discover new artists and have a more enjoyable listening experience. This model is similar to Spotify's \"Discover Weekly\", but on an artist basis"
   ]
  },
  {
   "cell_type": "markdown",
   "metadata": {},
   "source": [
    "# 2. Prepare Data"
   ]
  },
  {
   "cell_type": "markdown",
   "metadata": {},
   "source": [
    "Let's first transform the dataset above to a format that is consumable by the Implicit and LightFM model."
   ]
  },
  {
   "cell_type": "markdown",
   "metadata": {},
   "source": [
    "### 2a. Create Sparse Matrix from Dataset"
   ]
  },
  {
   "cell_type": "code",
   "execution_count": 48,
   "metadata": {
    "scrolled": true
   },
   "outputs": [
    {
     "name": "stdout",
     "output_type": "stream",
     "text": [
      "Creating sparse matrix...\n"
     ]
    },
    {
     "name": "stderr",
     "output_type": "stream",
     "text": [
      "/home/tim_kartawijaya/anaconda3/lib/python3.6/site-packages/ipykernel_launcher.py:23: FutureWarning: specifying 'categories' or 'ordered' in .astype() is deprecated; pass a CategoricalDtype instead\n",
      "/home/tim_kartawijaya/anaconda3/lib/python3.6/site-packages/ipykernel_launcher.py:24: FutureWarning: specifying 'categories' or 'ordered' in .astype() is deprecated; pass a CategoricalDtype instead\n"
     ]
    },
    {
     "name": "stdout",
     "output_type": "stream",
     "text": [
      "Matrix Sparsity: 99.89793628874546\n"
     ]
    }
   ],
   "source": [
    "#create sparse matrix\n",
    "plays_sparse = create_sparse_matrix(df).astype('float')\n",
    "print('Matrix Sparsity:', calculate_sparsity(plays_sparse))"
   ]
  },
  {
   "cell_type": "markdown",
   "metadata": {},
   "source": [
    "### 2b. Split Data to Train/Test"
   ]
  },
  {
   "cell_type": "markdown",
   "metadata": {},
   "source": [
    "Split data into train test set, maintaining that each user still has some interactions intact. This custom split train test is only used for the **implicit** package. "
   ]
  },
  {
   "cell_type": "code",
   "execution_count": 49,
   "metadata": {},
   "outputs": [
    {
     "data": {
      "application/vnd.jupyter.widget-view+json": {
       "model_id": "4977175a410d49a799392a171785b9d1",
       "version_major": 2,
       "version_minor": 0
      },
      "text/plain": [
       "HBox(children=(IntProgress(value=0, max=8999), HTML(value='')))"
      ]
     },
     "metadata": {},
     "output_type": "display_data"
    },
    {
     "name": "stdout",
     "output_type": "stream",
     "text": [
      "\n",
      "Percentage of original data masked: 0.06637086337585506\n",
      "Users masked: 8975\n"
     ]
    }
   ],
   "source": [
    "# Split data into training and test sets\n",
    "train, test, user_count = split_train_test_per_user(plays_sparse, 3, 10)\n",
    "print(\"Percentage of original data masked:\", pct_masked(plays_sparse, train.T.tocsr()))\n",
    "print(\"Users masked:\", user_count)"
   ]
  },
  {
   "cell_type": "markdown",
   "metadata": {},
   "source": [
    "Note that the train is in the form of item by user, to accomodate the implicit and baseline models."
   ]
  },
  {
   "cell_type": "code",
   "execution_count": 50,
   "metadata": {},
   "outputs": [
    {
     "data": {
      "text/plain": [
       "<47100x8999 sparse matrix of type '<class 'numpy.float64'>'\n",
       "\twith 432600 stored elements in Compressed Sparse Row format>"
      ]
     },
     "execution_count": 50,
     "metadata": {},
     "output_type": "execute_result"
    }
   ],
   "source": [
    "train"
   ]
  },
  {
   "cell_type": "markdown",
   "metadata": {},
   "source": [
    "#### Scaled Train/Test"
   ]
  },
  {
   "cell_type": "markdown",
   "metadata": {},
   "source": [
    "Next, let's do a similar transformation for the scaled data. "
   ]
  },
  {
   "cell_type": "code",
   "execution_count": 51,
   "metadata": {},
   "outputs": [
    {
     "name": "stdout",
     "output_type": "stream",
     "text": [
      "Creating sparse matrix...\n"
     ]
    },
    {
     "name": "stderr",
     "output_type": "stream",
     "text": [
      "/home/tim_kartawijaya/anaconda3/lib/python3.6/site-packages/ipykernel_launcher.py:23: FutureWarning: specifying 'categories' or 'ordered' in .astype() is deprecated; pass a CategoricalDtype instead\n",
      "/home/tim_kartawijaya/anaconda3/lib/python3.6/site-packages/ipykernel_launcher.py:24: FutureWarning: specifying 'categories' or 'ordered' in .astype() is deprecated; pass a CategoricalDtype instead\n"
     ]
    },
    {
     "name": "stdout",
     "output_type": "stream",
     "text": [
      "Matrix Sparsity: 99.89885948639257\n"
     ]
    },
    {
     "data": {
      "application/vnd.jupyter.widget-view+json": {
       "model_id": "20ccd67071f8441ca02c0f74caaa3b2d",
       "version_major": 2,
       "version_minor": 0
      },
      "text/plain": [
       "HBox(children=(IntProgress(value=0, max=8999), HTML(value='')))"
      ]
     },
     "metadata": {},
     "output_type": "display_data"
    },
    {
     "name": "stdout",
     "output_type": "stream",
     "text": [
      "\n",
      "Percentage of original data masked: 0.06669071998208442\n",
      "Users masked: 8934\n"
     ]
    }
   ],
   "source": [
    "df_log = df.drop(columns = ['plays'], axis = 1)\n",
    "# plays_sparse = create_sparse_matrix(df).astype('float')\n",
    "\n",
    "df_log.columns = ['user_id','artist_mbid','artist_name','plays']\n",
    "\n",
    "#create sparse matrix\n",
    "plays_sparse_log = create_sparse_matrix(df_log).astype('float')\n",
    "print('Matrix Sparsity:', calculate_sparsity(plays_sparse_log))\n",
    "\n",
    "# Split data into training and test sets\n",
    "train_log, test_log, user_count_log = split_train_test_per_user(plays_sparse_log, 3, 10)\n",
    "print(\"Percentage of original data masked:\", pct_masked(plays_sparse_log, train_log.T.tocsr()))\n",
    "print(\"Users masked:\", user_count_log)"
   ]
  },
  {
   "cell_type": "markdown",
   "metadata": {},
   "source": [
    "### 2c. Build Interactions for LightFM"
   ]
  },
  {
   "cell_type": "markdown",
   "metadata": {},
   "source": [
    "For lightFM, we would need a different kind of format for the datasets. We create them using LightFM's data builders below."
   ]
  },
  {
   "cell_type": "code",
   "execution_count": 52,
   "metadata": {},
   "outputs": [],
   "source": [
    "import lightfm\n",
    "from lightfm.data import Dataset\n",
    "from lightfm import cross_validation\n",
    "\n",
    "# Initialize lightfm Dataset()\n",
    "int_df = df.drop(['artist_name', 'log_plays'], axis=1)\n",
    "int_data = lightfm.data.Dataset(user_identity_features=True, item_identity_features=True)\n",
    "\n",
    "# Create tuples for int_df values, as well as separate tuples for user_id and artist_id\n",
    "tuples = [tuple(x) for x in int_df.values]\n",
    "user_id = [tuple(x) for x in df.user_id]\n",
    "artist_id = [tuple(x) for x in df.artist_mbid]\n",
    "\n",
    "# Fit int_data\n",
    "int_data.fit(df.user_id, df.artist_mbid)\n",
    "\n",
    "# Build interactions, weights\n",
    "interactions, weights = int_data.build_interactions(tuples)\n",
    "\n",
    "# Create training and test sets for lightFM\n",
    "train_light, test_light = lightfm.cross_validation.random_train_test_split(plays_sparse, test_percentage=0.6, random_state=None)"
   ]
  },
  {
   "cell_type": "code",
   "execution_count": 54,
   "metadata": {},
   "outputs": [
    {
     "data": {
      "text/plain": [
       "<8999x47100 sparse matrix of type '<class 'numpy.float64'>'\n",
       "\twith 259560 stored elements in COOrdinate format>"
      ]
     },
     "execution_count": 54,
     "metadata": {},
     "output_type": "execute_result"
    }
   ],
   "source": [
    "test_light"
   ]
  },
  {
   "cell_type": "code",
   "execution_count": 53,
   "metadata": {},
   "outputs": [
    {
     "data": {
      "text/plain": [
       "<8999x47100 sparse matrix of type '<class 'numpy.float64'>'\n",
       "\twith 173040 stored elements in COOrdinate format>"
      ]
     },
     "execution_count": 53,
     "metadata": {},
     "output_type": "execute_result"
    }
   ],
   "source": [
    "train_light"
   ]
  },
  {
   "cell_type": "markdown",
   "metadata": {},
   "source": [
    "# 3. Model Fitting, Tuning, and Evaluation"
   ]
  },
  {
   "cell_type": "markdown",
   "metadata": {},
   "source": [
    "Next, we set up our models to perform recommendations on the Lastfm datasets. Compared to our previous attempt, we will now use a more sophisticated take on building a recommendation engine: Factorization Machines (FM). Our motivation in using FMs is to utilize the side information we have on users (age, gender, etc.) to improve our metrics. We decided to use LightFM's implementation of FMs due to its known efficiency and good results. Our benchmarks to beat will be the \"most popular\" model and the ALS Implicit Matrix Factorization.\n",
    "\n",
    "For Baseline and Implicit models, we will be focusing on the following metrics:\n",
    "1. Recall at k \n",
    "2. Precision at k \n",
    "3. NDCG at k \n",
    "4. Coverage\n",
    "\n",
    "We define recall@k as: the number of positive items in the first k positions of the ranked list of results divided by the number of positive items in the test period.\n",
    "\n",
    "We define precision@k as: the fraction of known positives in the first k positions of the ranked list of results.\n",
    "\n",
    "For the LightFM models, we will be using:\n",
    "1. Recall at k \n",
    "2. Precision at k\n",
    "3. Coverage\n",
    "\n",
    "NDCG isn't covered in LightFM models since it is not supported within the LightFM package. Furthermore, our attempt at calculating NDCG on our own did not turn out as expected, as the results did not make sense (much lower than recall @ k). "
   ]
  },
  {
   "cell_type": "markdown",
   "metadata": {},
   "source": [
    "## 3a. Benchmarks"
   ]
  },
  {
   "cell_type": "markdown",
   "metadata": {},
   "source": [
    "### Baseline: Most Popular"
   ]
  },
  {
   "cell_type": "markdown",
   "metadata": {},
   "source": [
    "The \"baseline\" recommends the most-popular artists to everyone, regardless of their play history. Implementation of the baseline model can be found in analysis_functions.ipynb. (To do: refactor models to separate Python scripts)."
   ]
  },
  {
   "cell_type": "code",
   "execution_count": 55,
   "metadata": {},
   "outputs": [
    {
     "name": "stdout",
     "output_type": "stream",
     "text": [
      "Fitting baseline...\n",
      "[3.24727e+05 3.37390e+04 6.50140e+04 ... 2.80000e+01 2.70000e+01\n",
      " 2.40000e+01]\n"
     ]
    }
   ],
   "source": [
    "model_baseline = Baseline(n_recs = 20)\n",
    "model_baseline.fit(train)"
   ]
  },
  {
   "cell_type": "markdown",
   "metadata": {},
   "source": [
    "No tuning is necessary since there are no parameters. We then evaluate the test set below: "
   ]
  },
  {
   "cell_type": "code",
   "execution_count": 20,
   "metadata": {},
   "outputs": [
    {
     "name": "stdout",
     "output_type": "stream",
     "text": [
      "Evaluating model...\n"
     ]
    },
    {
     "data": {
      "application/vnd.jupyter.widget-view+json": {
       "model_id": "3cb82d9973a54f1985eac5b882f18f52",
       "version_major": 2,
       "version_minor": 0
      },
      "text/plain": [
       "HBox(children=(IntProgress(value=0, max=8980), HTML(value='')))"
      ]
     },
     "metadata": {},
     "output_type": "display_data"
    },
    {
     "name": "stdout",
     "output_type": "stream",
     "text": [
      "\n",
      "Precision: 1.175946547884187 %\n",
      "Recall: 7.839643652561247 %\n",
      "Coverage: 0.04246104199397053 %\n",
      "Average NDCG per User: 4.700608311766834 %\n"
     ]
    }
   ],
   "source": [
    "coverage, precision, recall, ndcg = evaluate(model_baseline, \"baseline\", test, plays_sparse)\n",
    "print(\"Precision:\",precision*100,'%')\n",
    "print(\"Recall:\",recall*100,'%')\n",
    "print(\"Coverage:\",coverage*100,'%')\n",
    "print(\"Average NDCG per User:\",ndcg*100,'%')"
   ]
  },
  {
   "cell_type": "markdown",
   "metadata": {},
   "source": [
    "### Model-Based (ALS)\n",
    "\n",
    "Here we fit the model-based ALS Matrix Factorization using the implicit package from our past assignment and use the parameters that were found to be optimized in the HW 2 report. "
   ]
  },
  {
   "cell_type": "code",
   "execution_count": 21,
   "metadata": {
    "scrolled": true
   },
   "outputs": [
    {
     "name": "stderr",
     "output_type": "stream",
     "text": [
      "WARNING:root:OpenBLAS detected. Its highly recommend to set the environment variable 'export OPENBLAS_NUM_THREADS=1' to disable its internal multithreading\n",
      "  0%|          | 0/15 [00:00<?, ?it/s]"
     ]
    },
    {
     "name": "stdout",
     "output_type": "stream",
     "text": [
      "Fitting model...\n"
     ]
    },
    {
     "name": "stderr",
     "output_type": "stream",
     "text": [
      "100%|██████████| 15.0/15 [00:20<00:00,  1.54s/it]\n"
     ]
    }
   ],
   "source": [
    "model_als = implicit.als.AlternatingLeastSquares(factors = 30, regularization = 0.01)\n",
    "\n",
    "# Train model\n",
    "print(\"Fitting model...\")\n",
    "model_als.fit(train)"
   ]
  },
  {
   "cell_type": "code",
   "execution_count": 22,
   "metadata": {},
   "outputs": [
    {
     "name": "stdout",
     "output_type": "stream",
     "text": [
      "Evaluating model...\n"
     ]
    },
    {
     "data": {
      "application/vnd.jupyter.widget-view+json": {
       "model_id": "6b45c4b536904bdbb533cf693c5839b6",
       "version_major": 2,
       "version_minor": 0
      },
      "text/plain": [
       "HBox(children=(IntProgress(value=0, max=8980), HTML(value='')))"
      ]
     },
     "metadata": {},
     "output_type": "display_data"
    },
    {
     "name": "stdout",
     "output_type": "stream",
     "text": [
      "\n",
      "Precision: 3.2605790645879735 %\n",
      "Recall: 21.73719376391982 %\n",
      "Coverage: 8.481593138295613 %\n",
      "Average NDCG per User: 0.0 %\n"
     ]
    }
   ],
   "source": [
    "coverage, precision, recall, ndcg = evaluate(model_als, \"implicit\", test, train.T.tocsr())\n",
    "print(\"Precision:\",precision*100,'%')\n",
    "print(\"Recall:\",recall*100,'%')\n",
    "print(\"Coverage:\",coverage*100,'%')\n",
    "print(\"Average NDCG per User:\",ndcg*100,'%')"
   ]
  },
  {
   "cell_type": "markdown",
   "metadata": {},
   "source": [
    "### Bayesian Personalized Ranking (Implicit)"
   ]
  },
  {
   "cell_type": "markdown",
   "metadata": {},
   "source": [
    "Since in lightFM we will mainly be focused on using the bpr loss function, we will also implement Implicit's BPR model as a point of comparison. "
   ]
  },
  {
   "cell_type": "code",
   "execution_count": 56,
   "metadata": {},
   "outputs": [
    {
     "name": "stderr",
     "output_type": "stream",
     "text": [
      "  3%|▎         | 3/100 [00:00<00:04, 20.94it/s, correct=50.33%, skipped=2.18%]"
     ]
    },
    {
     "name": "stdout",
     "output_type": "stream",
     "text": [
      "Fitting model...\n"
     ]
    },
    {
     "name": "stderr",
     "output_type": "stream",
     "text": [
      "100%|██████████| 100/100 [00:04<00:00, 20.39it/s, correct=94.07%, skipped=2.19%]"
     ]
    },
    {
     "name": "stdout",
     "output_type": "stream",
     "text": [
      "Evaluating model...\n"
     ]
    },
    {
     "name": "stderr",
     "output_type": "stream",
     "text": [
      "\n"
     ]
    },
    {
     "data": {
      "application/vnd.jupyter.widget-view+json": {
       "model_id": "53b6474c973141359fb988650b9e954a",
       "version_major": 2,
       "version_minor": 0
      },
      "text/plain": [
       "HBox(children=(IntProgress(value=0, max=8975), HTML(value='')))"
      ]
     },
     "metadata": {},
     "output_type": "display_data"
    },
    {
     "name": "stdout",
     "output_type": "stream",
     "text": [
      "\n",
      "Precision: 3.37158774373259 %\n",
      "Recall: 22.477251624883937 %\n",
      "Coverage: 12.297239915074309 %\n",
      "Average NDCG per User: 12.930256130213369 %\n"
     ]
    }
   ],
   "source": [
    "model_bpr = implicit.bpr.BayesianPersonalizedRanking(factors = 30, regularization = 0.01)\n",
    "\n",
    "# Train model\n",
    "print(\"Fitting model...\")\n",
    "model_bpr.fit(train)\n",
    "\n",
    "coverage, precision, recall, ndcg = evaluate(model_bpr, \"implicit\", test, plays_sparse)\n",
    "print(\"Precision:\",precision*100,'%')\n",
    "print(\"Recall:\",recall*100,'%')\n",
    "print(\"Coverage:\",coverage*100,'%')\n",
    "print(\"Average NDCG per User:\",ndcg*100,'%')"
   ]
  },
  {
   "cell_type": "markdown",
   "metadata": {},
   "source": [
    "### LightFM (without side information)\n",
    "\n",
    "First, we fit the LightFM model without using side information, in the hopes of replicating the results of the MF models above. "
   ]
  },
  {
   "cell_type": "code",
   "execution_count": 60,
   "metadata": {},
   "outputs": [
    {
     "name": "stdout",
     "output_type": "stream",
     "text": [
      "Fitting model...\n",
      "Evaluating LightFM...\n",
      "Calculating Coverage...\n"
     ]
    },
    {
     "data": {
      "application/vnd.jupyter.widget-view+json": {
       "model_id": "28c3a84cc0bf42419d6dea6f4b033fe0",
       "version_major": 2,
       "version_minor": 0
      },
      "text/plain": [
       "HBox(children=(IntProgress(value=0, max=8999), HTML(value='')))"
      ]
     },
     "metadata": {},
     "output_type": "display_data"
    },
    {
     "name": "stdout",
     "output_type": "stream",
     "text": [
      "\n",
      "Calculating Recall at k...\n",
      "Calculating Precision at k...\n",
      "Precision: 10.704679042100906 %\n",
      "Recall: 7.412755207661769 %\n",
      "Coverage: 2.575371549893843 %\n"
     ]
    }
   ],
   "source": [
    "model_fm_vanilla = LightFM(learning_rate=0.05, loss='warp')\n",
    "\n",
    "#train model\n",
    "print(\"Fitting model...\")\n",
    "model_fm_vanilla.fit(train_light, epochs=10)\n",
    "\n",
    "#evaluate model\n",
    "coverage, precision, recall = evaluate_lightfm(model_fm_vanilla, interactions, train_light, test_light)\n",
    "print(\"Precision:\",precision*100,'%')\n",
    "print(\"Recall:\",recall*100,'%')\n",
    "print(\"Coverage:\",coverage*100,'%')"
   ]
  },
  {
   "cell_type": "markdown",
   "metadata": {},
   "source": [
    "Now we try to find the best hyperparameter for this model and use the model with the best hyperparameter to get our results."
   ]
  },
  {
   "cell_type": "markdown",
   "metadata": {},
   "source": [
    "We first try to tune the dimensionality of the feature embeddings to try to find the best recall, which we consider it important to have at least a few items that the user consider relevant within the top k results. Recall also relates directly to precision and NDCG. At the same time, we would need to consider coverage, as we want to expand the user's tastes as much as we could. "
   ]
  },
  {
   "cell_type": "code",
   "execution_count": null,
   "metadata": {},
   "outputs": [
    {
     "name": "stdout",
     "output_type": "stream",
     "text": [
      "Fitting fold number... 0\n",
      "Trying  10\n",
      "Evaluating LightFM...\n",
      "Calculating Coverage...\n"
     ]
    },
    {
     "data": {
      "application/vnd.jupyter.widget-view+json": {
       "model_id": "6d1f71d1394a4fdd8d6902976b20a714",
       "version_major": 2,
       "version_minor": 0
      },
      "text/plain": [
       "HBox(children=(IntProgress(value=0, max=8999), HTML(value='')))"
      ]
     },
     "metadata": {},
     "output_type": "display_data"
    },
    {
     "name": "stdout",
     "output_type": "stream",
     "text": [
      "\n",
      "Calculating Recall at k...\n",
      "Calculating Precision at k...\n",
      "0\n",
      "Trying  20\n",
      "Evaluating LightFM...\n",
      "Calculating Coverage...\n"
     ]
    },
    {
     "data": {
      "application/vnd.jupyter.widget-view+json": {
       "model_id": "25c44359d40d4685a4df18890f1f3345",
       "version_major": 2,
       "version_minor": 0
      },
      "text/plain": [
       "HBox(children=(IntProgress(value=0, max=8999), HTML(value='')))"
      ]
     },
     "metadata": {},
     "output_type": "display_data"
    },
    {
     "name": "stdout",
     "output_type": "stream",
     "text": [
      "\n",
      "Calculating Recall at k...\n",
      "Calculating Precision at k...\n",
      "1\n",
      "Trying  30\n",
      "Evaluating LightFM...\n",
      "Calculating Coverage...\n"
     ]
    },
    {
     "data": {
      "application/vnd.jupyter.widget-view+json": {
       "model_id": "73b088753d594f1397ab5a6dc5569e38",
       "version_major": 2,
       "version_minor": 0
      },
      "text/plain": [
       "HBox(children=(IntProgress(value=0, max=8999), HTML(value='')))"
      ]
     },
     "metadata": {},
     "output_type": "display_data"
    },
    {
     "name": "stdout",
     "output_type": "stream",
     "text": [
      "\n",
      "Calculating Recall at k...\n",
      "Calculating Precision at k...\n",
      "2\n",
      "Trying  40\n",
      "Evaluating LightFM...\n",
      "Calculating Coverage...\n"
     ]
    },
    {
     "data": {
      "application/vnd.jupyter.widget-view+json": {
       "model_id": "5436e17a232e4630bc074726206fdde6",
       "version_major": 2,
       "version_minor": 0
      },
      "text/plain": [
       "HBox(children=(IntProgress(value=0, max=8999), HTML(value='')))"
      ]
     },
     "metadata": {},
     "output_type": "display_data"
    },
    {
     "name": "stdout",
     "output_type": "stream",
     "text": [
      "\n",
      "Calculating Recall at k...\n",
      "Calculating Precision at k...\n",
      "3\n",
      "Trying  50\n",
      "Evaluating LightFM...\n",
      "Calculating Coverage...\n"
     ]
    },
    {
     "data": {
      "application/vnd.jupyter.widget-view+json": {
       "model_id": "e57ea9926f044b5889e78b95c824511f",
       "version_major": 2,
       "version_minor": 0
      },
      "text/plain": [
       "HBox(children=(IntProgress(value=0, max=8999), HTML(value='')))"
      ]
     },
     "metadata": {},
     "output_type": "display_data"
    },
    {
     "name": "stdout",
     "output_type": "stream",
     "text": [
      "\n",
      "Calculating Recall at k...\n",
      "Calculating Precision at k...\n",
      "4\n",
      "Fold  0  beat the record for recall!\n",
      "New best recall is  0.11211102989546595\n",
      "New best param is  50\n",
      "end of fold---------------------------\n",
      "Fitting fold number... 1\n",
      "Trying  10\n",
      "Evaluating LightFM...\n",
      "Calculating Coverage...\n"
     ]
    },
    {
     "data": {
      "application/vnd.jupyter.widget-view+json": {
       "model_id": "cf121569c7d941c59f6a15244cacb854",
       "version_major": 2,
       "version_minor": 0
      },
      "text/plain": [
       "HBox(children=(IntProgress(value=0, max=8999), HTML(value='')))"
      ]
     },
     "metadata": {},
     "output_type": "display_data"
    },
    {
     "name": "stdout",
     "output_type": "stream",
     "text": [
      "\n",
      "Calculating Recall at k...\n",
      "Calculating Precision at k...\n",
      "0\n",
      "Trying  20\n",
      "Evaluating LightFM...\n",
      "Calculating Coverage...\n"
     ]
    },
    {
     "data": {
      "application/vnd.jupyter.widget-view+json": {
       "model_id": "1f01e91c80bc4737af1d5af3e7c41684",
       "version_major": 2,
       "version_minor": 0
      },
      "text/plain": [
       "HBox(children=(IntProgress(value=0, max=8999), HTML(value='')))"
      ]
     },
     "metadata": {},
     "output_type": "display_data"
    },
    {
     "name": "stdout",
     "output_type": "stream",
     "text": [
      "\n",
      "Calculating Recall at k...\n",
      "Calculating Precision at k...\n",
      "1\n",
      "Trying  30\n",
      "Evaluating LightFM...\n",
      "Calculating Coverage...\n"
     ]
    },
    {
     "data": {
      "application/vnd.jupyter.widget-view+json": {
       "model_id": "995bb25986914f9da0289b38a71720fa",
       "version_major": 2,
       "version_minor": 0
      },
      "text/plain": [
       "HBox(children=(IntProgress(value=0, max=8999), HTML(value='')))"
      ]
     },
     "metadata": {},
     "output_type": "display_data"
    }
   ],
   "source": [
    "test_model = LightFM\n",
    "params = [10,20,30,40,50]\n",
    "k_fold = 4\n",
    "n_recs = 20\n",
    "ndcg_list, heatmap_list = auto_tune_parameter(k = k_fold, interactions = 20, test_model, plays_sparse, params)"
   ]
  },
  {
   "cell_type": "code",
   "execution_count": 79,
   "metadata": {},
   "outputs": [
    {
     "name": "stderr",
     "output_type": "stream",
     "text": [
      "/anaconda/lib/python3.6/site-packages/seaborn/categorical.py:1428: FutureWarning: remove_na is deprecated and is a private function. Do not use.\n",
      "  stat_data = remove_na(group_data)\n"
     ]
    },
    {
     "data": {
      "image/png": "[encoded data removed]",
      "text/plain": [
       "<Figure size 576x396 with 1 Axes>"
      ]
     },
     "metadata": {},
     "output_type": "display_data"
    }
   ],
   "source": [
    "#Plot Recall by Number of Components\n",
    "recall_values = heatmap_list[0]\n",
    "\n",
    "recall_heatmap_components = pd.DataFrame({'N':tries, 'Recall': recall_values})\n",
    "sns.pointplot(x='N',y='Recall',data=recall_heatmap_components)\n",
    "plt.title('Recall by Number of Components')\n",
    "plt.xlabel('Number of Components')\n",
    "plt.ylabel('Recall')\n",
    "\n",
    "plt.show()"
   ]
  },
  {
   "cell_type": "markdown",
   "metadata": {},
   "source": [
    "### LightFM (with side information)"
   ]
  },
  {
   "cell_type": "markdown",
   "metadata": {},
   "source": [
    "Next, we will try to fit LightFM with side information and check if it improves our model."
   ]
  },
  {
   "cell_type": "code",
   "execution_count": 46,
   "metadata": {
    "collapsed": true
   },
   "outputs": [],
   "source": [
    "user_feat = pd.read_csv(\"user_features_9000.csv\")\n",
    "user_feat = user_feat[user_feat.columns[1:]]\n",
    "user_features = scipy.sparse.csr_matrix(user_feat.values)"
   ]
  },
  {
   "cell_type": "code",
   "execution_count": 48,
   "metadata": {},
   "outputs": [
    {
     "name": "stdout",
     "output_type": "stream",
     "text": [
      "Fitting model...\n"
     ]
    },
    {
     "data": {
      "text/plain": [
       "<lightfm.lightfm.LightFM at 0x11ebb3be0>"
      ]
     },
     "execution_count": 48,
     "metadata": {},
     "output_type": "execute_result"
    }
   ],
   "source": [
    "model_fm = LightFM(learning_rate=0.05, loss='warp')\n",
    "\n",
    "# Train Model\n",
    "print(\"Fitting model...\")\n",
    "model_fm.fit(train_light, user_features=user_features, epochs=10)"
   ]
  },
  {
   "cell_type": "code",
   "execution_count": 29,
   "metadata": {},
   "outputs": [
    {
     "name": "stdout",
     "output_type": "stream",
     "text": [
      "Precision: train 0.08, test 0.11.\n",
      "Recall: train 0.04, test 0.04.\n"
     ]
    }
   ],
   "source": [
    "from lightfm.evaluation import precision_at_k\n",
    "from lightfm.evaluation import recall_at_k\n",
    "\n",
    "train_precision = precision_at_k(model_fm, train_light, user_features=user_features, k=10).mean()\n",
    "test_precision = precision_at_k(model_fm, test_light, user_features=user_features, k=10).mean()\n",
    "\n",
    "train_recall = recall_at_k(model_fm, train_light, user_features=user_features).mean()\n",
    "test_recall = recall_at_k(model_fm, test_light, user_features=user_features).mean()\n",
    "\n",
    "print('Precision: train %.2f, test %.2f.' % (train_precision, test_precision))\n",
    "print('Recall: train %.2f, test %.2f.' % (train_recall, test_recall))"
   ]
  },
  {
   "cell_type": "code",
   "execution_count": 52,
   "metadata": {},
   "outputs": [
    {
     "data": {
      "application/vnd.jupyter.widget-view+json": {
       "model_id": "64631f1dd423419c848027a301cec80a",
       "version_major": 2,
       "version_minor": 0
      },
      "text/plain": [
       "HBox(children=(IntProgress(value=0, max=9000), HTML(value='')))"
      ]
     },
     "metadata": {},
     "output_type": "display_data"
    },
    {
     "name": "stdout",
     "output_type": "stream",
     "text": [
      "\n",
      "Precision: 8.909879624843597 %\n",
      "Recall: 6.2011703730880985 %\n",
      "Coverage: 0.04246104199397053 %\n"
     ]
    }
   ],
   "source": [
    "#coverage, precision, recall, ndcg = evaluate(model_fm_vanilla, \"lightfm\", test, plays_sparse,liked=train.T.tocsr())\n",
    "coverage, precision, recall = evaluate_lightfm(model_fm, interactions, train_light, test_light, user_features=user_features)\n",
    "print(\"Precision:\",precision*100,'%')\n",
    "print(\"Recall:\",recall*100,'%')\n",
    "print(\"Coverage:\",coverage*100,'%')"
   ]
  },
  {
   "cell_type": "markdown",
   "metadata": {},
   "source": [
    "Now we try to find the best hyperparameter for this model with the best hyperparameter to get our results."
   ]
  },
  {
   "cell_type": "markdown",
   "metadata": {},
   "source": [
    "Tuning one parameter: number components. We try values [5,10,15,20]"
   ]
  },
  {
   "cell_type": "code",
   "execution_count": 82,
   "metadata": {},
   "outputs": [
    {
     "name": "stdout",
     "output_type": "stream",
     "text": [
      "Fitting fold number... 0\n",
      "Trying  10\n"
     ]
    },
    {
     "data": {
      "application/vnd.jupyter.widget-view+json": {
       "model_id": "649f4196e42842e8a87b6570127072e6"
      }
     },
     "metadata": {},
     "output_type": "display_data"
    },
    {
     "name": "stdout",
     "output_type": "stream",
     "text": [
      "0\n",
      "Fold  0  beat the record for recall!\n",
      "New best recall is  0.06197524462540848\n",
      "New best param is  10\n",
      "end of fold---------------------------\n"
     ]
    },
    {
     "data": {
      "application/vnd.jupyter.widget-view+json": {
       "model_id": "99fed1de64ae4ed0838929b05ed7c0e2"
      }
     },
     "metadata": {},
     "output_type": "display_data"
    },
    {
     "name": "stdout",
     "output_type": "stream",
     "text": [
      "The recall on the test set is  0.0629244852092972 , after hyperparameter optimization\n",
      "The precision on the test set is  0.030190151 , after hyperparameter optimization\n",
      "The coverage on the test set is  0.01730287461254299 , after hyperparameter optimization\n"
     ]
    }
   ],
   "source": [
    "testmodel=LightFM\n",
    "tries=[9,10,11,12]\n",
    "start = time.time()\n",
    "ndcg_list,heatmap_list=auto_tune_parameter(4,20,testmodel,plays_sparse,tries,user_features=user_features,item_features=None)\n",
    "stop = time.time()\n",
    "total = stop-start"
   ]
  },
  {
   "cell_type": "code",
   "execution_count": null,
   "metadata": {
    "collapsed": true
   },
   "outputs": [],
   "source": [
    "#Plot Recall by Number of Components\n",
    "recall_values=heatmap_list[0]\n",
    "# Plot NDCG by Activity Level\n",
    "recall_heatmap_components = pd.DataFrame({'N':tries, 'Recall': recall_values})\n",
    "sns.pointplot(x='N',y='Recall',data=recall_heatmap_components)\n",
    "plt.title('Recall by Number of Components')\n",
    "plt.xlabel('Number of Components')\n",
    "plt.ylabel('Recall')\n",
    "\n",
    "plt.show()"
   ]
  },
  {
   "cell_type": "markdown",
   "metadata": {},
   "source": [
    "### Summary of Performance Results (Table)"
   ]
  },
  {
   "cell_type": "markdown",
   "metadata": {},
   "source": [
    "# 4. Model Exploration"
   ]
  },
  {
   "cell_type": "markdown",
   "metadata": {},
   "source": [
    "Next, we explore these models even more. How do they perform in regards to size, different user population?"
   ]
  },
  {
   "cell_type": "markdown",
   "metadata": {},
   "source": [
    "## 4a. Performance by User Type"
   ]
  },
  {
   "cell_type": "code",
   "execution_count": 33,
   "metadata": {
    "collapsed": true
   },
   "outputs": [],
   "source": [
    "run grouping_functions.ipynb"
   ]
  },
  {
   "cell_type": "markdown",
   "metadata": {},
   "source": [
    "### Active/Non-Active"
   ]
  },
  {
   "cell_type": "code",
   "execution_count": 21,
   "metadata": {
    "collapsed": true
   },
   "outputs": [],
   "source": [
    "import seaborn as sns"
   ]
  },
  {
   "cell_type": "code",
   "execution_count": 78,
   "metadata": {
    "scrolled": true
   },
   "outputs": [
    {
     "data": {
      "application/vnd.jupyter.widget-view+json": {
       "model_id": "0ab08411a11548599dcc69a501588289"
      }
     },
     "metadata": {},
     "output_type": "display_data"
    },
    {
     "name": "stdout",
     "output_type": "stream",
     "text": [
      "\n",
      "Fitting model...\n",
      "Fitting baseline...\n",
      "[6194. 1352. 3513. ...   28.   27.   24.]\n",
      "Evaluating model...\n"
     ]
    },
    {
     "data": {
      "application/vnd.jupyter.widget-view+json": {
       "model_id": "92c36f16c4d5426f9832f33c1543f255"
      }
     },
     "metadata": {},
     "output_type": "display_data"
    },
    {
     "name": "stderr",
     "output_type": "stream",
     "text": [
      "  7%|▋         | 1.0/15 [00:00<00:01,  9.12it/s]"
     ]
    },
    {
     "name": "stdout",
     "output_type": "stream",
     "text": [
      "\n",
      "Recall: 6.775956284153005 %\n",
      "Average NDCG: 4.786805185772901 %\n",
      "Coverage: 0.04246104199397053 %\n",
      "Precision: 1.6939890710382512 %\n"
     ]
    },
    {
     "name": "stderr",
     "output_type": "stream",
     "text": [
      "100%|██████████| 15.0/15 [00:01<00:00,  8.08it/s]"
     ]
    },
    {
     "name": "stdout",
     "output_type": "stream",
     "text": [
      "Evaluating model...\n"
     ]
    },
    {
     "name": "stderr",
     "output_type": "stream",
     "text": [
      "\n"
     ]
    },
    {
     "data": {
      "application/vnd.jupyter.widget-view+json": {
       "model_id": "08717fa533be48e2a25c8d89e5ebbf97"
      }
     },
     "metadata": {},
     "output_type": "display_data"
    },
    {
     "name": "stdout",
     "output_type": "stream",
     "text": [
      "\n",
      "Recall: 16.612021857923498 %\n",
      "Average NDCG: 10.995741640367491 %\n",
      "Coverage: 5.161139654367118 %\n",
      "Precision: 4.1530054644808745 %\n"
     ]
    },
    {
     "data": {
      "application/vnd.jupyter.widget-view+json": {
       "model_id": "3f1e6bfa59f3499594830794caf471a2"
      }
     },
     "metadata": {},
     "output_type": "display_data"
    },
    {
     "name": "stdout",
     "output_type": "stream",
     "text": [
      "\n",
      "Fitting model...\n",
      "Fitting baseline...\n",
      "[37800.  6650. 11395. ...     0.     0.     0.]\n",
      "Evaluating model...\n"
     ]
    },
    {
     "data": {
      "application/vnd.jupyter.widget-view+json": {
       "model_id": "b46a83b707944dca999a969dfb5afc2e"
      }
     },
     "metadata": {},
     "output_type": "display_data"
    },
    {
     "name": "stderr",
     "output_type": "stream",
     "text": [
      "\r",
      "  0%|          | 0/15 [00:00<?, ?it/s]"
     ]
    },
    {
     "name": "stdout",
     "output_type": "stream",
     "text": [
      "\n",
      "Recall: 6.980313646980314 %\n",
      "Average NDCG: 4.854039254270085 %\n",
      "Coverage: 0.04246104199397053 %\n",
      "Precision: 1.7450784117450786 %\n"
     ]
    },
    {
     "name": "stderr",
     "output_type": "stream",
     "text": [
      "100%|██████████| 15.0/15 [00:02<00:00,  6.48it/s]"
     ]
    },
    {
     "name": "stdout",
     "output_type": "stream",
     "text": [
      "Evaluating model...\n"
     ]
    },
    {
     "name": "stderr",
     "output_type": "stream",
     "text": [
      "\n"
     ]
    },
    {
     "data": {
      "application/vnd.jupyter.widget-view+json": {
       "model_id": "dd1b1edef1ca4d95be67c9a2f6dd9582"
      }
     },
     "metadata": {},
     "output_type": "display_data"
    },
    {
     "name": "stdout",
     "output_type": "stream",
     "text": [
      "\n",
      "Recall: 17.31731731731732 %\n",
      "Average NDCG: 12.098077565521345 %\n",
      "Coverage: 6.250265381512462 %\n",
      "Precision: 4.32932932932933 %\n"
     ]
    },
    {
     "data": {
      "application/vnd.jupyter.widget-view+json": {
       "model_id": "2439765f8aa747daa1fb2be13d02909c"
      }
     },
     "metadata": {},
     "output_type": "display_data"
    },
    {
     "name": "stdout",
     "output_type": "stream",
     "text": [
      "\n",
      "Fitting model...\n",
      "Fitting baseline...\n",
      "[230791.  23444.  45401. ...      0.      0.      0.]\n",
      "Evaluating model...\n"
     ]
    },
    {
     "data": {
      "application/vnd.jupyter.widget-view+json": {
       "model_id": "3bc8e10df5c841adbdd8a1819fb57664"
      }
     },
     "metadata": {},
     "output_type": "display_data"
    },
    {
     "name": "stderr",
     "output_type": "stream",
     "text": [
      "\r",
      "  0%|          | 0/15 [00:00<?, ?it/s]"
     ]
    },
    {
     "name": "stdout",
     "output_type": "stream",
     "text": [
      "\n",
      "Recall: 7.636849132176235 %\n",
      "Average NDCG: 5.261193931189853 %\n",
      "Coverage: 0.04246104199397053 %\n",
      "Precision: 1.9092122830440588 %\n"
     ]
    },
    {
     "name": "stderr",
     "output_type": "stream",
     "text": [
      "100%|██████████| 15.0/15 [00:02<00:00,  5.72it/s]"
     ]
    },
    {
     "name": "stdout",
     "output_type": "stream",
     "text": [
      "Evaluating model...\n"
     ]
    },
    {
     "name": "stderr",
     "output_type": "stream",
     "text": [
      "\n"
     ]
    },
    {
     "data": {
      "application/vnd.jupyter.widget-view+json": {
       "model_id": "960cd5d0713240d3af937709f6577bc1"
      }
     },
     "metadata": {},
     "output_type": "display_data"
    },
    {
     "name": "stdout",
     "output_type": "stream",
     "text": [
      "\n",
      "Recall: 16.79572763684913 %\n",
      "Average NDCG: 10.91549543986731 %\n",
      "Coverage: 6.946626470213579 %\n",
      "Precision: 4.198931909212282 %\n"
     ]
    }
   ],
   "source": [
    "n=3\n",
    "activity_groups=active_users(plays_sparse, n)\n",
    "levels=[1,2,3]\n",
    "ndcg_activity_als = []\n",
    "recall_activity_als = []\n",
    "precision_activity_als = []\n",
    "coverage_activity_als = []\n",
    "\n",
    "ndcg_activity_baseline = []\n",
    "recall_activity_baseline = []\n",
    "precision_activity_baseline = []\n",
    "coverage_activity_baseline = []\n",
    "\n",
    "for group in activity_groups:\n",
    "    #print('Matrix Sparsity:', calculate_sparsity(group))\n",
    "    # Compute the recall and ndcg using optimal parameters for the ALS model on different dataset sizes\n",
    "    train, test, user_count = split_train_test_per_user(group, 4, 20)\n",
    "    # train model \n",
    "    print(\"Fitting model...\")\n",
    "    #FIRST, BASELINE------------------------------\n",
    "    model=Baseline(20)\n",
    "    model.fit(train)\n",
    "    coverage, precision, recall, ndcg = evaluate(model,\"baseline\", test, group)\n",
    "\n",
    "    recall_activity_baseline.append(recall)\n",
    "    ndcg_activity_baseline.append(ndcg)\n",
    "    precision_activity_baseline.append(precision)\n",
    "    coverage_activity_baseline.append(coverage)\n",
    "    \n",
    "    #SECOND, ALS-------------------------------------\n",
    "    model = implicit.als.AlternatingLeastSquares(factors=30, regularization=0.01)\n",
    "    model.fit(train, show_progress=True)\n",
    "    \n",
    "    coverage, precision, recall, ndcg = evaluate(model,\"implicit\", test, group)\n",
    "\n",
    "    recall_activity_als.append(recall)\n",
    "    ndcg_activity_als.append(ndcg)\n",
    "    precision_activity_als.append(precision)\n",
    "    coverage_activity_als.append(coverage)"
   ]
  },
  {
   "cell_type": "code",
   "execution_count": 79,
   "metadata": {},
   "outputs": [
    {
     "name": "stderr",
     "output_type": "stream",
     "text": [
      "/anaconda/lib/python3.6/site-packages/seaborn/categorical.py:1468: FutureWarning: remove_na is deprecated and is a private function. Do not use.\n",
      "  stat_data = remove_na(group_data[hue_mask])\n"
     ]
    },
    {
     "data": {
      "image/png": "[encoded data removed]",
      "text/plain": [
       "<Figure size 576x396 with 1 Axes>"
      ]
     },
     "metadata": {},
     "output_type": "display_data"
    }
   ],
   "source": [
    "# Plot NDCG by Activity Level\n",
    "ndcg_activity_als_df = pd.DataFrame({'N':levels, 'NDCG': ndcg_activity_als})\n",
    "ndcg_activity_baseline_df = pd.DataFrame({'N':levels, 'NDCG': ndcg_activity_baseline})\n",
    "f, ax = plt.subplots(1, 1)\n",
    "\n",
    "ndcg_activity_als_df['Model'] = 'Implicit ALS'\n",
    "ndcg_activity_baseline_df['Model'] = 'Baseline'\n",
    "df = pd.concat([ndcg_activity_als_df,ndcg_activity_baseline_df])\n",
    "sns.pointplot(ax=ax,x='N',y='NDCG',data=df,hue='Model')\n",
    "plt.title('NDCG by Activity Level')\n",
    "plt.xlabel('Activity Level')\n",
    "plt.ylabel('NDCG')\n",
    "\n",
    "plt.show()"
   ]
  },
  {
   "cell_type": "code",
   "execution_count": 80,
   "metadata": {},
   "outputs": [
    {
     "name": "stderr",
     "output_type": "stream",
     "text": [
      "/anaconda/lib/python3.6/site-packages/seaborn/categorical.py:1468: FutureWarning: remove_na is deprecated and is a private function. Do not use.\n",
      "  stat_data = remove_na(group_data[hue_mask])\n"
     ]
    },
    {
     "data": {
      "image/png": "[encoded data removed]",
      "text/plain": [
       "<Figure size 576x396 with 1 Axes>"
      ]
     },
     "metadata": {},
     "output_type": "display_data"
    }
   ],
   "source": [
    "# Plot Recall by Activity Level\n",
    "recall_activity_als_df = pd.DataFrame({'N':levels, 'Recall': recall_activity_als})\n",
    "recall_activity_baseline_df = pd.DataFrame({'N':levels, 'Recall': recall_activity_baseline})\n",
    "f, ax = plt.subplots(1, 1)\n",
    "\n",
    "recall_activity_als_df['Model'] = 'Implicit ALS'\n",
    "recall_activity_baseline_df['Model'] = 'Baseline'\n",
    "df = pd.concat([recall_activity_als_df,recall_activity_baseline_df])\n",
    "sns.pointplot(ax=ax,x='N',y='Recall',data=df,hue='Model')\n",
    "plt.title('Recall by Activity Level')\n",
    "plt.xlabel('Activity Level')\n",
    "plt.ylabel('Recall')\n",
    "\n",
    "plt.show()"
   ]
  },
  {
   "cell_type": "code",
   "execution_count": 83,
   "metadata": {},
   "outputs": [
    {
     "name": "stderr",
     "output_type": "stream",
     "text": [
      "/anaconda/lib/python3.6/site-packages/seaborn/categorical.py:1468: FutureWarning: remove_na is deprecated and is a private function. Do not use.\n",
      "  stat_data = remove_na(group_data[hue_mask])\n"
     ]
    },
    {
     "data": {
      "image/png": "[encoded data removed]",
      "text/plain": [
       "<Figure size 576x396 with 1 Axes>"
      ]
     },
     "metadata": {},
     "output_type": "display_data"
    }
   ],
   "source": [
    "# Plot Precision by Activity Level\n",
    "precision_activity_als_df = pd.DataFrame({'N':levels, 'Precision': precision_activity_als})\n",
    "precision_activity_baseline_df = pd.DataFrame({'N':levels, 'Precision': precision_activity_baseline})\n",
    "f, ax = plt.subplots(1, 1)\n",
    "\n",
    "precision_activity_als_df['Model'] = 'Implicit ALS'\n",
    "precision_activity_baseline_df['Model'] = 'Baseline'\n",
    "df = pd.concat([precision_activity_als_df,precision_activity_baseline_df])\n",
    "sns.pointplot(ax=ax,x='N',y='Precision',data=df,hue='Model')\n",
    "plt.title('Precision by Activity Level')\n",
    "plt.xlabel('Activity Level')\n",
    "plt.ylabel('Precision')\n",
    "\n",
    "plt.show()"
   ]
  },
  {
   "cell_type": "code",
   "execution_count": 84,
   "metadata": {},
   "outputs": [
    {
     "name": "stderr",
     "output_type": "stream",
     "text": [
      "/anaconda/lib/python3.6/site-packages/seaborn/categorical.py:1468: FutureWarning: remove_na is deprecated and is a private function. Do not use.\n",
      "  stat_data = remove_na(group_data[hue_mask])\n"
     ]
    },
    {
     "data": {
      "image/png": "[encoded data removed]",
      "text/plain": [
       "<Figure size 576x396 with 1 Axes>"
      ]
     },
     "metadata": {},
     "output_type": "display_data"
    }
   ],
   "source": [
    "# Plot Coverage by Diversity Level\n",
    "coverage_activity_als_df = pd.DataFrame({'N':levels, 'Coverage': coverage_activity_als})\n",
    "coverage_activity_baseline_df = pd.DataFrame({'N':levels, 'Coverage': coverage_activity_baseline})\n",
    "f, ax = plt.subplots(1, 1)\n",
    "\n",
    "coverage_activity_als_df['Model'] = 'Implicit ALS'\n",
    "coverage_activity_baseline_df['Model'] = 'Baseline'\n",
    "df = pd.concat([coverage_activity_als_df,coverage_activity_baseline_df])\n",
    "sns.pointplot(ax=ax,x='N',y='Coverage',data=df,hue='Model')\n",
    "plt.title('Coverage by Activity Level')\n",
    "plt.xlabel('Activity Level')\n",
    "plt.ylabel('Coverage')\n",
    "\n",
    "plt.show()"
   ]
  },
  {
   "cell_type": "markdown",
   "metadata": {},
   "source": [
    "### Diverse/Non-Diverse"
   ]
  },
  {
   "cell_type": "code",
   "execution_count": 72,
   "metadata": {
    "scrolled": true
   },
   "outputs": [
    {
     "data": {
      "application/vnd.jupyter.widget-view+json": {
       "model_id": "1335bca50c114ba6b5fc18778991e096"
      }
     },
     "metadata": {},
     "output_type": "display_data"
    },
    {
     "name": "stdout",
     "output_type": "stream",
     "text": [
      "\n",
      "Fitting model...\n",
      "Fitting baseline...\n",
      "[1.04349e+05 9.22100e+03 1.56230e+04 ... 2.80000e+01 2.70000e+01\n",
      " 2.40000e+01]\n",
      "Evaluating model...\n"
     ]
    },
    {
     "data": {
      "application/vnd.jupyter.widget-view+json": {
       "model_id": "dc2b66de537c4e73bd771f5f06bb2181"
      }
     },
     "metadata": {},
     "output_type": "display_data"
    },
    {
     "name": "stderr",
     "output_type": "stream",
     "text": [
      "\r",
      "  0%|          | 0/15 [00:00<?, ?it/s]"
     ]
    },
    {
     "name": "stdout",
     "output_type": "stream",
     "text": [
      "\n",
      "Recall: 7.006500171057133 %\n",
      "Average NDCG: 4.426799197570511 %\n",
      "Coverage: 0.04246104199397053 %\n",
      "Precision: 1.7516250427642832 %\n"
     ]
    },
    {
     "name": "stderr",
     "output_type": "stream",
     "text": [
      "100%|██████████| 15.0/15 [00:02<00:00,  5.45it/s]"
     ]
    },
    {
     "name": "stdout",
     "output_type": "stream",
     "text": [
      "Evaluating model...\n"
     ]
    },
    {
     "name": "stderr",
     "output_type": "stream",
     "text": [
      "\n"
     ]
    },
    {
     "data": {
      "application/vnd.jupyter.widget-view+json": {
       "model_id": "1ddba5cb15bd4942ad1f542f9e9385c4"
      }
     },
     "metadata": {},
     "output_type": "display_data"
    },
    {
     "name": "stdout",
     "output_type": "stream",
     "text": [
      "\n",
      "Recall: 16.161477933629833 %\n",
      "Average NDCG: 10.992684674944448 %\n",
      "Coverage: 5.9318075665576835 %\n",
      "Precision: 4.040369483407458 %\n"
     ]
    },
    {
     "data": {
      "application/vnd.jupyter.widget-view+json": {
       "model_id": "30c4901d99a949b3ad56c886d54d1e48"
      }
     },
     "metadata": {},
     "output_type": "display_data"
    },
    {
     "name": "stdout",
     "output_type": "stream",
     "text": [
      "\n",
      "Fitting model...\n",
      "Fitting baseline...\n",
      "[92344.  8570. 26077. ...     0.     0.     0.]\n",
      "Evaluating model...\n"
     ]
    },
    {
     "data": {
      "application/vnd.jupyter.widget-view+json": {
       "model_id": "3a995df7c16249b0b6b68099e5afb5e8"
      }
     },
     "metadata": {},
     "output_type": "display_data"
    },
    {
     "name": "stderr",
     "output_type": "stream",
     "text": [
      "  7%|▋         | 1.0/15 [00:00<00:01,  7.14it/s]"
     ]
    },
    {
     "name": "stdout",
     "output_type": "stream",
     "text": [
      "\n",
      "Recall: 7.5050033355570385 %\n",
      "Average NDCG: 5.2637730179707 %\n",
      "Coverage: 0.04246104199397053 %\n",
      "Precision: 1.8762508338892596 %\n"
     ]
    },
    {
     "name": "stderr",
     "output_type": "stream",
     "text": [
      "100%|██████████| 15.0/15 [00:01<00:00,  8.24it/s]"
     ]
    },
    {
     "name": "stdout",
     "output_type": "stream",
     "text": [
      "Evaluating model...\n"
     ]
    },
    {
     "name": "stderr",
     "output_type": "stream",
     "text": [
      "\n"
     ]
    },
    {
     "data": {
      "application/vnd.jupyter.widget-view+json": {
       "model_id": "e8d7195b0bf047e5b824ad62950b4156"
      }
     },
     "metadata": {},
     "output_type": "display_data"
    },
    {
     "name": "stdout",
     "output_type": "stream",
     "text": [
      "\n",
      "Recall: 16.110740493662444 %\n",
      "Average NDCG: 10.65406927764402 %\n",
      "Coverage: 5.8023013884760735 %\n",
      "Precision: 4.027685123415611 %\n"
     ]
    },
    {
     "data": {
      "application/vnd.jupyter.widget-view+json": {
       "model_id": "57cd3e93e5024167b00152b95ef42e5a"
      }
     },
     "metadata": {},
     "output_type": "display_data"
    },
    {
     "name": "stdout",
     "output_type": "stream",
     "text": [
      "\n",
      "Fitting model...\n",
      "Fitting baseline...\n",
      "[75484. 16468. 24400. ...     0.     0.     0.]\n",
      "Evaluating model...\n"
     ]
    },
    {
     "data": {
      "application/vnd.jupyter.widget-view+json": {
       "model_id": "bf3c828f88694efa889ecdb1eea2ed87"
      }
     },
     "metadata": {},
     "output_type": "display_data"
    },
    {
     "name": "stderr",
     "output_type": "stream",
     "text": [
      "  7%|▋         | 1.0/15 [00:00<00:02,  6.80it/s]"
     ]
    },
    {
     "name": "stdout",
     "output_type": "stream",
     "text": [
      "\n",
      "Recall: 6.3133333333333335 %\n",
      "Average NDCG: 4.518626024119206 %\n",
      "Coverage: 0.04246104199397053 %\n",
      "Precision: 1.5783333333333334 %\n"
     ]
    },
    {
     "name": "stderr",
     "output_type": "stream",
     "text": [
      "100%|██████████| 15.0/15 [00:02<00:00,  7.92it/s]"
     ]
    },
    {
     "name": "stdout",
     "output_type": "stream",
     "text": [
      "Evaluating model...\n"
     ]
    },
    {
     "name": "stderr",
     "output_type": "stream",
     "text": [
      "\n"
     ]
    },
    {
     "data": {
      "application/vnd.jupyter.widget-view+json": {
       "model_id": "64e7ec90de5743b4a88edb8df1246eda"
      }
     },
     "metadata": {},
     "output_type": "display_data"
    },
    {
     "name": "stdout",
     "output_type": "stream",
     "text": [
      "\n",
      "Recall: 16.813333333333333 %\n",
      "Average NDCG: 11.054940021194678 %\n",
      "Coverage: 6.394632924291963 %\n",
      "Precision: 4.203333333333333 %\n"
     ]
    }
   ],
   "source": [
    "n=3\n",
    "diversity_groups=diverse_users(plays_sparse, n)\n",
    "levels=[1,2,3]\n",
    "ndcg_div_als = []\n",
    "recall_div_als = []\n",
    "precision_div_als = []\n",
    "coverage_div_als = []\n",
    "\n",
    "ndcg_div_baseline = []\n",
    "recall_div_baseline = []\n",
    "precision_div_baseline = []\n",
    "coverage_div_baseline = []\n",
    "\n",
    "for group in diversity_groups:\n",
    "    #print('Matrix Sparsity:', calculate_sparsity(group))\n",
    "    # Compute the recall and ndcg using optimal parameters for the ALS model on different dataset sizes\n",
    "    train, test, user_count = split_train_test_per_user(group, 4, 20)\n",
    "    # train model \n",
    "    print(\"Fitting model...\")\n",
    "    #FIRST, BASELINE------------------------------\n",
    "    model=Baseline(20)\n",
    "    model.fit(train)\n",
    "    coverage, precision, recall, ndcg = evaluate(model,\"baseline\", test, group)\n",
    "\n",
    "    recall_div_baseline.append(recall)\n",
    "    ndcg_div_baseline.append(ndcg)\n",
    "    precision_div_baseline.append(precision)\n",
    "    coverage_div_baseline.append(coverage)\n",
    "    \n",
    "    #SECOND, ALS-------------------------------------\n",
    "    model = implicit.als.AlternatingLeastSquares(factors=30, regularization=0.01)\n",
    "    model.fit(train, show_progress=True)\n",
    "    \n",
    "    coverage, precision, recall, ndcg = evaluate(model,\"implicit\", test, group)\n",
    "\n",
    "    recall_div_als.append(recall)\n",
    "    ndcg_div_als.append(ndcg)\n",
    "    precision_div_als.append(precision)\n",
    "    coverage_div_als.append(coverage)"
   ]
  },
  {
   "cell_type": "code",
   "execution_count": 74,
   "metadata": {},
   "outputs": [
    {
     "name": "stderr",
     "output_type": "stream",
     "text": [
      "/anaconda/lib/python3.6/site-packages/seaborn/categorical.py:1468: FutureWarning: remove_na is deprecated and is a private function. Do not use.\n",
      "  stat_data = remove_na(group_data[hue_mask])\n"
     ]
    },
    {
     "data": {
      "image/png": "[encoded data removed]",
      "text/plain": [
       "<Figure size 576x396 with 1 Axes>"
      ]
     },
     "metadata": {},
     "output_type": "display_data"
    }
   ],
   "source": [
    "# Plot NDCG by Diversity Level\n",
    "ndcg_div_als_df = pd.DataFrame({'N':levels, 'NDCG': ndcg_div_als})\n",
    "ndcg_div_baseline_df = pd.DataFrame({'N':levels, 'NDCG': ndcg_div_baseline})\n",
    "f, ax = plt.subplots(1, 1)\n",
    "\n",
    "ndcg_div_als_df['Model'] = 'Implicit ALS'\n",
    "ndcg_div_baseline_df['Model'] = 'Baseline'\n",
    "df = pd.concat([ndcg_div_als_df,ndcg_div_baseline_df])\n",
    "sns.pointplot(ax=ax,x='N',y='NDCG',data=df,hue='Model')\n",
    "plt.title('NDCG by Diversity Level')\n",
    "plt.xlabel('Diversity Level')\n",
    "plt.ylabel('NDCG')\n",
    "\n",
    "plt.show()"
   ]
  },
  {
   "cell_type": "code",
   "execution_count": 60,
   "metadata": {},
   "outputs": [
    {
     "name": "stderr",
     "output_type": "stream",
     "text": [
      "/anaconda/lib/python3.6/site-packages/seaborn/categorical.py:1468: FutureWarning: remove_na is deprecated and is a private function. Do not use.\n",
      "  stat_data = remove_na(group_data[hue_mask])\n"
     ]
    },
    {
     "data": {
      "image/png": "[encoded data removed]",
      "text/plain": [
       "<Figure size 576x396 with 1 Axes>"
      ]
     },
     "metadata": {},
     "output_type": "display_data"
    }
   ],
   "source": [
    "# Plot Recall by Diversity Level\n",
    "recall_div_als_df = pd.DataFrame({'N':levels, 'Recall': recall_div_als})\n",
    "recall_div_baseline_df = pd.DataFrame({'N':levels, 'Recall': recall_div_baseline})\n",
    "f, ax = plt.subplots(1, 1)\n",
    "\n",
    "recall_div_als_df['Model'] = 'Implicit ALS'\n",
    "recall_div_baseline_df['Model'] = 'Baseline'\n",
    "df = pd.concat([recall_div_als_df,recall_div_baseline_df])\n",
    "sns.pointplot(ax=ax,x='N',y='Recall',data=df,hue='Model')\n",
    "plt.title('Recall by Diversity Level')\n",
    "plt.xlabel('Diversity Level')\n",
    "plt.ylabel('Recall')\n",
    "\n",
    "plt.show()"
   ]
  },
  {
   "cell_type": "code",
   "execution_count": 62,
   "metadata": {},
   "outputs": [
    {
     "name": "stderr",
     "output_type": "stream",
     "text": [
      "/anaconda/lib/python3.6/site-packages/seaborn/categorical.py:1468: FutureWarning: remove_na is deprecated and is a private function. Do not use.\n",
      "  stat_data = remove_na(group_data[hue_mask])\n"
     ]
    },
    {
     "data": {
      "image/png": "[encoded data removed]",
      "text/plain": [
       "<Figure size 576x396 with 1 Axes>"
      ]
     },
     "metadata": {},
     "output_type": "display_data"
    }
   ],
   "source": [
    "# Plot Precision by Diversity Level\n",
    "precision_div_als_df = pd.DataFrame({'N':levels, 'Precision': precision_div_als})\n",
    "precision_div_baseline_df = pd.DataFrame({'N':levels, 'Precision': precision_div_baseline})\n",
    "f, ax = plt.subplots(1, 1)\n",
    "\n",
    "precision_div_als_df['Model'] = 'Implicit ALS'\n",
    "precision_div_baseline_df['Model'] = 'Baseline'\n",
    "df = pd.concat([precision_div_als_df,precision_div_baseline_df])\n",
    "sns.pointplot(ax=ax,x='N',y='Precision',data=df,hue='Model')\n",
    "plt.title('Precision by Diversity Level')\n",
    "plt.xlabel('Diversity Level')\n",
    "plt.ylabel('Precision')\n",
    "\n",
    "plt.show()"
   ]
  },
  {
   "cell_type": "code",
   "execution_count": 63,
   "metadata": {},
   "outputs": [
    {
     "name": "stderr",
     "output_type": "stream",
     "text": [
      "/anaconda/lib/python3.6/site-packages/seaborn/categorical.py:1468: FutureWarning: remove_na is deprecated and is a private function. Do not use.\n",
      "  stat_data = remove_na(group_data[hue_mask])\n"
     ]
    },
    {
     "data": {
      "image/png": "[encoded data removed]",
      "text/plain": [
       "<Figure size 576x396 with 1 Axes>"
      ]
     },
     "metadata": {},
     "output_type": "display_data"
    }
   ],
   "source": [
    "# Plot Coverage by Diversity Level\n",
    "coverage_div_als_df = pd.DataFrame({'N':levels, 'Coverage': coverage_div_als})\n",
    "coverage_div_baseline_df = pd.DataFrame({'N':levels, 'Coverage': coverage_div_baseline})\n",
    "f, ax = plt.subplots(1, 1)\n",
    "\n",
    "coverage_div_als_df['Model'] = 'Implicit ALS'\n",
    "coverage_div_baseline_df['Model'] = 'Baseline'\n",
    "df = pd.concat([coverage_div_als_df,coverage_div_baseline_df])\n",
    "sns.pointplot(ax=ax,x='N',y='Coverage',data=df,hue='Model')\n",
    "plt.title('Coverage by Diversity Level')\n",
    "plt.xlabel('Diversity Level')\n",
    "plt.ylabel('Coverage')\n",
    "\n",
    "plt.show()"
   ]
  },
  {
   "cell_type": "markdown",
   "metadata": {},
   "source": [
    "### Mainstream / Non-Mainstream"
   ]
  },
  {
   "cell_type": "code",
   "execution_count": 87,
   "metadata": {
    "scrolled": true
   },
   "outputs": [
    {
     "data": {
      "application/vnd.jupyter.widget-view+json": {
       "model_id": "fdb6f7273c7844a5b7ced18694990e67"
      }
     },
     "metadata": {},
     "output_type": "display_data"
    },
    {
     "name": "stdout",
     "output_type": "stream",
     "text": [
      "\n",
      "Fitting model...\n",
      "Fitting baseline...\n",
      "[ 7392.  9617. 19081. ...     0.     0.     0.]\n",
      "Evaluating model...\n"
     ]
    },
    {
     "data": {
      "application/vnd.jupyter.widget-view+json": {
       "model_id": "b1cda553c5d94de0a5fb88ef94fb4b97"
      }
     },
     "metadata": {},
     "output_type": "display_data"
    },
    {
     "name": "stdout",
     "output_type": "stream",
     "text": [
      "\n"
     ]
    },
    {
     "name": "stderr",
     "output_type": "stream",
     "text": [
      "\r",
      "  0%|          | 0/15 [00:00<?, ?it/s]"
     ]
    },
    {
     "name": "stdout",
     "output_type": "stream",
     "text": [
      "Recall: 2.46704967894559 %\n",
      "Average NDCG: 1.1848020638967913 %\n",
      "Coverage: 0.04246104199397053 %\n",
      "Precision: 0.6167624197363974 %\n"
     ]
    },
    {
     "name": "stderr",
     "output_type": "stream",
     "text": [
      "100%|██████████| 15.0/15 [00:02<00:00,  7.68it/s]"
     ]
    },
    {
     "name": "stdout",
     "output_type": "stream",
     "text": [
      "Evaluating model...\n"
     ]
    },
    {
     "name": "stderr",
     "output_type": "stream",
     "text": [
      "\n"
     ]
    },
    {
     "data": {
      "application/vnd.jupyter.widget-view+json": {
       "model_id": "9716223a81564ec48cb391409e1c6dc1"
      }
     },
     "metadata": {},
     "output_type": "display_data"
    },
    {
     "name": "stdout",
     "output_type": "stream",
     "text": [
      "\n",
      "Recall: 15.417370733355865 %\n",
      "Average NDCG: 10.138706403826662 %\n",
      "Coverage: 7.600526516920725 %\n",
      "Precision: 3.8543426833389662 %\n"
     ]
    },
    {
     "data": {
      "application/vnd.jupyter.widget-view+json": {
       "model_id": "8b22709dcf844e569fc7c36184e9a885"
      }
     },
     "metadata": {},
     "output_type": "display_data"
    },
    {
     "name": "stdout",
     "output_type": "stream",
     "text": [
      "\n",
      "Fitting model...\n",
      "Fitting baseline...\n",
      "[3.7673e+04 1.2332e+04 1.7039e+04 ... 2.8000e+01 2.7000e+01 2.4000e+01]\n",
      "Evaluating model...\n"
     ]
    },
    {
     "data": {
      "application/vnd.jupyter.widget-view+json": {
       "model_id": "5d9be3bb56bc4930b799d79b28040deb"
      }
     },
     "metadata": {},
     "output_type": "display_data"
    },
    {
     "name": "stderr",
     "output_type": "stream",
     "text": [
      "  7%|▋         | 1.0/15 [00:00<00:01,  7.23it/s]"
     ]
    },
    {
     "name": "stdout",
     "output_type": "stream",
     "text": [
      "\n",
      "Recall: 5.693135935397039 %\n",
      "Average NDCG: 3.3300714657079413 %\n",
      "Coverage: 0.04246104199397053 %\n",
      "Precision: 1.4232839838492597 %\n"
     ]
    },
    {
     "name": "stderr",
     "output_type": "stream",
     "text": [
      "100%|██████████| 15.0/15 [00:01<00:00,  8.43it/s]"
     ]
    },
    {
     "name": "stdout",
     "output_type": "stream",
     "text": [
      "Evaluating model...\n"
     ]
    },
    {
     "name": "stderr",
     "output_type": "stream",
     "text": [
      "\n"
     ]
    },
    {
     "data": {
      "application/vnd.jupyter.widget-view+json": {
       "model_id": "d46f34ed535340f29ad47d37fa99bf77"
      }
     },
     "metadata": {},
     "output_type": "display_data"
    },
    {
     "name": "stdout",
     "output_type": "stream",
     "text": [
      "\n",
      "Recall: 15.0 %\n",
      "Average NDCG: 10.01600382016395 %\n",
      "Coverage: 5.961530295953462 %\n",
      "Precision: 3.75 %\n"
     ]
    },
    {
     "data": {
      "application/vnd.jupyter.widget-view+json": {
       "model_id": "24f3fe08c6c748af874cbe8d3914aeea"
      }
     },
     "metadata": {},
     "output_type": "display_data"
    },
    {
     "name": "stdout",
     "output_type": "stream",
     "text": [
      "\n",
      "Fitting model...\n",
      "Fitting baseline...\n",
      "[271820.  12408.  31613. ...      0.      0.      0.]\n",
      "Evaluating model...\n"
     ]
    },
    {
     "data": {
      "application/vnd.jupyter.widget-view+json": {
       "model_id": "9b32228d3fbf4022964d6bcbd6eca49c"
      }
     },
     "metadata": {},
     "output_type": "display_data"
    },
    {
     "name": "stderr",
     "output_type": "stream",
     "text": [
      "  7%|▋         | 1.0/15 [00:00<00:01,  7.54it/s]"
     ]
    },
    {
     "name": "stdout",
     "output_type": "stream",
     "text": [
      "\n",
      "Recall: 12.40133779264214 %\n",
      "Average NDCG: 9.70676309374585 %\n",
      "Coverage: 0.04246104199397053 %\n",
      "Precision: 3.100334448160535 %\n"
     ]
    },
    {
     "name": "stderr",
     "output_type": "stream",
     "text": [
      "100%|██████████| 15.0/15 [00:02<00:00,  7.86it/s]"
     ]
    },
    {
     "name": "stdout",
     "output_type": "stream",
     "text": [
      "Evaluating model...\n"
     ]
    },
    {
     "name": "stderr",
     "output_type": "stream",
     "text": [
      "\n"
     ]
    },
    {
     "data": {
      "application/vnd.jupyter.widget-view+json": {
       "model_id": "566fb85daa4f44bbb3ad5f0019914ab2"
      }
     },
     "metadata": {},
     "output_type": "display_data"
    },
    {
     "name": "stdout",
     "output_type": "stream",
     "text": [
      "\n",
      "Recall: 17.270903010033443 %\n",
      "Average NDCG: 10.589528010532689 %\n",
      "Coverage: 4.110228865016348 %\n",
      "Precision: 4.317725752508361 %\n"
     ]
    }
   ],
   "source": [
    "n=3\n",
    "ms_groups=mainstream_users(plays_sparse, top_artists=20, n=3)\n",
    "levels=[1,2,3]\n",
    "ndcg_ms_als = []\n",
    "recall_ms_als = []\n",
    "precision_ms_als = []\n",
    "coverage_ms_als = []\n",
    "\n",
    "ndcg_ms_baseline = []\n",
    "recall_ms_baseline = []\n",
    "precision_ms_baseline = []\n",
    "coverage_ms_baseline = []\n",
    "\n",
    "for group in ms_groups:\n",
    "    #print('Matrix Sparsity:', calculate_sparsity(group))\n",
    "    # Compute the recall and ndcg using optimal parameters for the ALS model on different dataset sizes\n",
    "    train, test, user_count = split_train_test_per_user(group, 4, 20)\n",
    "    # train model \n",
    "    print(\"Fitting model...\")\n",
    "    #FIRST, BASELINE------------------------------\n",
    "    model=Baseline(20)\n",
    "    model.fit(train)\n",
    "    coverage, precision, recall, ndcg = evaluate(model,\"baseline\", test, group)\n",
    "\n",
    "    print(\"Recall:\",recall*100,'%')\n",
    "    print(\"Average NDCG:\",ndcg*100,'%')\n",
    "    print(\"Coverage:\",coverage*100,'%')\n",
    "    print(\"Precision:\",precision*100,'%')\n",
    "\n",
    "    recall_ms_baseline.append(recall)\n",
    "    ndcg_ms_baseline.append(ndcg)\n",
    "    precision_ms_baseline.append(precision)\n",
    "    coverage_ms_baseline.append(coverage)\n",
    "    \n",
    "    #SECOND, ALS-------------------------------------\n",
    "    model = implicit.als.AlternatingLeastSquares(factors=30, regularization=0.01)\n",
    "    model.fit(train, show_progress=True)\n",
    "    \n",
    "    coverage, precision, recall, ndcg = evaluate(model,\"implicit\", test, group)\n",
    "    print(\"Recall:\",recall*100,'%')\n",
    "    print(\"Average NDCG:\",ndcg*100,'%')\n",
    "    print(\"Coverage:\",coverage*100,'%')\n",
    "    print(\"Precision:\",precision*100,'%')\n",
    "\n",
    "    recall_ms_als.append(recall)\n",
    "    ndcg_ms_als.append(ndcg)\n",
    "    precision_ms_als.append(precision)\n",
    "    coverage_ms_als.append(coverage)"
   ]
  },
  {
   "cell_type": "code",
   "execution_count": 88,
   "metadata": {},
   "outputs": [
    {
     "name": "stderr",
     "output_type": "stream",
     "text": [
      "/anaconda/lib/python3.6/site-packages/seaborn/categorical.py:1468: FutureWarning: remove_na is deprecated and is a private function. Do not use.\n",
      "  stat_data = remove_na(group_data[hue_mask])\n"
     ]
    },
    {
     "data": {
      "image/png": "[encoded data removed]",
      "text/plain": [
       "<Figure size 576x396 with 1 Axes>"
      ]
     },
     "metadata": {},
     "output_type": "display_data"
    }
   ],
   "source": [
    "# Plot NDCG by Mainstreamness Level\n",
    "ndcg_ms_als_df = pd.DataFrame({'N':levels, 'NDCG': ndcg_ms_als})\n",
    "ndcg_ms_baseline_df = pd.DataFrame({'N':levels, 'NDCG': ndcg_ms_baseline})\n",
    "f, ax = plt.subplots(1, 1)\n",
    "\n",
    "ndcg_ms_als_df['Model'] = 'Implicit ALS'\n",
    "ndcg_ms_baseline_df['Model'] = 'Baseline'\n",
    "df = pd.concat([ndcg_ms_als_df,ndcg_ms_baseline_df])\n",
    "sns.pointplot(ax=ax,x='N',y='NDCG',data=df,hue='Model')\n",
    "plt.title('NDCG by Mainstreamness Level')\n",
    "plt.xlabel('Mainstreamness Level')\n",
    "plt.ylabel('NDCG')\n",
    "\n",
    "plt.show()"
   ]
  },
  {
   "cell_type": "code",
   "execution_count": 89,
   "metadata": {},
   "outputs": [
    {
     "name": "stderr",
     "output_type": "stream",
     "text": [
      "/anaconda/lib/python3.6/site-packages/seaborn/categorical.py:1468: FutureWarning: remove_na is deprecated and is a private function. Do not use.\n",
      "  stat_data = remove_na(group_data[hue_mask])\n"
     ]
    },
    {
     "data": {
      "image/png": "[encoded data removed]",
      "text/plain": [
       "<Figure size 576x396 with 1 Axes>"
      ]
     },
     "metadata": {},
     "output_type": "display_data"
    }
   ],
   "source": [
    "# Plot Recall by Mainstreamness Level\n",
    "recall_ms_als_df = pd.DataFrame({'N':levels, 'Recall': recall_ms_als})\n",
    "recall_ms_baseline_df = pd.DataFrame({'N':levels, 'Recall': recall_ms_baseline})\n",
    "f, ax = plt.subplots(1, 1)\n",
    "\n",
    "recall_ms_als_df['Model'] = 'Implicit ALS'\n",
    "recall_ms_baseline_df['Model'] = 'Baseline'\n",
    "df = pd.concat([recall_ms_als_df,recall_ms_baseline_df])\n",
    "sns.pointplot(ax=ax,x='N',y='Recall',data=df,hue='Model')\n",
    "plt.title('Recall by Mainstreamness Level')\n",
    "plt.xlabel('Mainstreamness Level')\n",
    "plt.ylabel('Recall')\n",
    "\n",
    "plt.show()"
   ]
  },
  {
   "cell_type": "code",
   "execution_count": 90,
   "metadata": {
    "scrolled": false
   },
   "outputs": [
    {
     "name": "stderr",
     "output_type": "stream",
     "text": [
      "/anaconda/lib/python3.6/site-packages/seaborn/categorical.py:1468: FutureWarning: remove_na is deprecated and is a private function. Do not use.\n",
      "  stat_data = remove_na(group_data[hue_mask])\n"
     ]
    },
    {
     "data": {
      "image/png": "[encoded data removed]",
      "text/plain": [
       "<Figure size 576x396 with 1 Axes>"
      ]
     },
     "metadata": {},
     "output_type": "display_data"
    }
   ],
   "source": [
    "# Plot Precision by Mainstreamness Level\n",
    "precision_ms_als_df = pd.DataFrame({'N':levels, 'Precision': precision_ms_als})\n",
    "precision_ms_baseline_df = pd.DataFrame({'N':levels, 'Precision': precision_ms_baseline})\n",
    "f, ax = plt.subplots(1, 1)\n",
    "\n",
    "precision_ms_als_df['Model'] = 'Implicit ALS'\n",
    "precision_ms_baseline_df['Model'] = 'Baseline'\n",
    "df = pd.concat([precision_ms_als_df,precision_ms_baseline_df])\n",
    "sns.pointplot(ax=ax,x='N',y='Precision',data=df,hue='Model')\n",
    "plt.title('Precision by Mainstreamness Level')\n",
    "plt.xlabel('Mainstreamness Level')\n",
    "plt.ylabel('Precision')\n",
    "\n",
    "plt.show()"
   ]
  },
  {
   "cell_type": "code",
   "execution_count": 91,
   "metadata": {},
   "outputs": [
    {
     "name": "stderr",
     "output_type": "stream",
     "text": [
      "/anaconda/lib/python3.6/site-packages/seaborn/categorical.py:1468: FutureWarning: remove_na is deprecated and is a private function. Do not use.\n",
      "  stat_data = remove_na(group_data[hue_mask])\n"
     ]
    },
    {
     "data": {
      "image/png": "[encoded data removed]",
      "text/plain": [
       "<Figure size 576x396 with 1 Axes>"
      ]
     },
     "metadata": {},
     "output_type": "display_data"
    }
   ],
   "source": [
    "# Plot Coverage by Mainstreamness Level\n",
    "coverage_ms_als_df = pd.DataFrame({'N':levels, 'Coverage': coverage_ms_als})\n",
    "coverage_ms_baseline_df = pd.DataFrame({'N':levels, 'Coverage': coverage_ms_baseline})\n",
    "f, ax = plt.subplots(1, 1)\n",
    "\n",
    "coverage_ms_als_df['Model'] = 'Implicit ALS'\n",
    "coverage_ms_baseline_df['Model'] = 'Baseline'\n",
    "df = pd.concat([coverage_ms_als_df,coverage_ms_baseline_df])\n",
    "sns.pointplot(ax=ax,x='N',y='Coverage',data=df,hue='Model')\n",
    "plt.title('Coverage by Mainstreamness Level')\n",
    "plt.xlabel('Mainstreamness Level')\n",
    "plt.ylabel('Coverage')\n",
    "\n",
    "plt.show()"
   ]
  },
  {
   "cell_type": "markdown",
   "metadata": {},
   "source": [
    "## 4b. Performance by Input Size "
   ]
  },
  {
   "cell_type": "markdown",
   "metadata": {},
   "source": [
    "Next, we will see how our model scales, in regards to accuracy and running time. "
   ]
  },
  {
   "cell_type": "code",
   "execution_count": null,
   "metadata": {},
   "outputs": [],
   "source": [
    "#import full dataset: you can find data in \n",
    "#https://www.dropbox.com/s/nbdeiujmsi9l7ny/lastfm_150k_users.csv.zip?dl=0\n",
    "df_all = pd.read_csv(\"lastfm_150k_users.csv\")"
   ]
  },
  {
   "cell_type": "code",
   "execution_count": null,
   "metadata": {},
   "outputs": [],
   "source": [
    "#Helper function to sample full dataset\n",
    "def get_users(df, n):\n",
    "    sample_userid = df[\"user_id\"].unique()\n",
    "    sample_userid = np.random.choice(sample_userid, size = n, replace = False)\n",
    "\n",
    "    #grab rows with sample user id\n",
    "    df_sample = df[df.user_id.isin(sample_userid)].reset_index(drop = True)\n",
    "\n",
    "    return df_sample"
   ]
  },
  {
   "cell_type": "code",
   "execution_count": null,
   "metadata": {},
   "outputs": [],
   "source": [
    "sizes = [9000]\n",
    "\n",
    "precision_all = []\n",
    "recall_all = []\n",
    "coverage_all = []\n",
    "train_time = []\n",
    "recommend_time = []\n",
    "\n",
    "for size in sizes: \n",
    "    print(\"Modeling \", size, \" users...\")\n",
    "    \n",
    "    df_sample = get_users(df_all, size)\n",
    "    df_sample = df_sample.drop(['Unnamed: 0'], axis=1)\n",
    "    \n",
    "    #create FM model with tuned parameters\n",
    "    model_fm = LightFM(learning_rate=0.05, loss='warp')\n",
    "    \n",
    "    #create sparse matrix\n",
    "    plays_sparse = create_sparse_matrix(df_sample)\n",
    "    print('Matrix Sparsity:', calculate_sparsity(plays_sparse))\n",
    "    \n",
    "    #split train test\n",
    "    train, test = random_train_test_split(plays_sparse)\n",
    "    \n",
    "    start = timeit.timeit()\n",
    "    \n",
    "    #train model\n",
    "    print(\"Fitting model...\")\n",
    "    model_fm.fit(train, epochs = 30)\n",
    "    \n",
    "    end = timeit.timeit()\n",
    "    train_t = end-start\n",
    "    \n",
    "    #evaluate model \n",
    "    print(\"Evaluating model...\")\n",
    "    coverage, precision, recall = evaluate_lightfm(model_fm, plays_sparse, train, test)\n",
    "    print(\"Precision:\",precision*100,'%')\n",
    "    print(\"Recall:\",recall*100,'%')\n",
    "    print(\"Coverage:\",coverage*100,'%')\n",
    "    \n",
    "    #time recommend time\n",
    "    start = timeit.timeit()\n",
    "    \n",
    "    print(\"Recommending item...\")\n",
    "    (-model.predict(0,np.arange(original.shape[1]))).argsort()[:20]\n",
    "    \n",
    "    end = timeit.timeit()\n",
    "    \n",
    "    recommend_t = end-start\n",
    "    \n",
    "    precision_all.append(precision)\n",
    "    recall_all.append(recall)\n",
    "    coverage_all.append(coverage)\n",
    "    train_time.append(train_t)\n",
    "    recommend_time.append(recommend_t)\n",
    "    \n",
    "    print(\"Finish! \\n ========================\")"
   ]
  },
  {
   "cell_type": "code",
   "execution_count": null,
   "metadata": {
    "collapsed": true
   },
   "outputs": [],
   "source": [
    "# Plot Training Time by Input Size\n",
    "als_train_time_df = pd.DataFrame({'N':size, 'NDCG': als_train_time})\n",
    "base_train_time_df = pd.DataFrame({'N':size, 'NDCG': base_train_time})\n",
    "fm_train_time_df = pd.DataFrame({'N':size, 'NDCG': fm_train_time})\n",
    "\n",
    "f, ax = plt.subplots(1, 1)\n",
    "als_train_time_df['Model'] = 'Implicit ALS'\n",
    "base_train_time_df['Model'] = 'Baseline'\n",
    "fm_train_time_df['Model'] = 'Factorization Machine'\n",
    "df = pd.concat([als_train_time_df,base_train_time_df,fm_train_time_df])\n",
    "sns.pointplot(ax=ax,x='N',y='NDCG',data=df,hue='Model')\n",
    "plt.title('Training Time by Input Size for Factorization Machine')\n",
    "plt.xlabel('Number of Users')\n",
    "plt.ylabel('Time (s)')\n",
    "\n",
    "plt.show()"
   ]
  },
  {
   "cell_type": "markdown",
   "metadata": {},
   "source": [
    "## "
   ]
  },
  {
   "cell_type": "markdown",
   "metadata": {},
   "source": [
    "# 5. Conclusion / Next Steps"
   ]
  }
 ],
 "metadata": {
  "kernelspec": {
   "display_name": "Python 3",
   "language": "python",
   "name": "python3"
  },
  "language_info": {
   "codemirror_mode": {
    "name": "ipython",
    "version": 3
   },
   "file_extension": ".py",
   "mimetype": "text/x-python",
   "name": "python",
   "nbconvert_exporter": "python",
   "pygments_lexer": "ipython3",
   "version": "3.6.5"
  }
 },
 "nbformat": 4,
 "nbformat_minor": 2
}
