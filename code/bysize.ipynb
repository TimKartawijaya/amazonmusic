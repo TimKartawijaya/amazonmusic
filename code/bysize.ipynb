{
 "cells": [
  {
   "cell_type": "markdown",
   "metadata": {},
   "source": [
    "By Size, Time and Metrics"
   ]
  },
  {
   "cell_type": "code",
   "execution_count": null,
   "metadata": {},
   "outputs": [],
   "source": [
    "run analysis_functions.ipynb #import all helper functions\n",
    "import numpy as np\n",
    "import pandas as pd"
   ]
  },
  {
   "cell_type": "code",
   "execution_count": null,
   "metadata": {},
   "outputs": [],
   "source": [
    "#import full dataset\n",
    "#read in full dataset\n",
    "col_names = [\"user_id\",\"artist_mbid\",\"artist_name\",\"plays\"]\n",
    "df_all = pd.read_csv(\"usersha1-artmbid-artname-plays.tsv\", sep = \"\\t\", header = None, names = col_names)\n",
    "df_all = df_all[df_all.user_id != \"sep 20, 2008\"]"
   ]
  },
  {
   "cell_type": "code",
   "execution_count": null,
   "metadata": {},
   "outputs": [],
   "source": [
    "#Use this to sample full dataset\n",
    "def get_users(df, n):\n",
    "    sample_userid = df[\"user_id\"].unique()\n",
    "    sample_userid = np.random.choice(sample_userid, size = n, replace = False)\n",
    "\n",
    "    #grab rows with sample user id\n",
    "    df_sample = df[df.user_id.isin(sample_userid)].reset_index(drop = True)\n",
    "\n",
    "    return df_sample"
   ]
  },
  {
   "cell_type": "code",
   "execution_count": null,
   "metadata": {},
   "outputs": [],
   "source": [
    "from __future__ import print_function\n",
    "from lightfm import LightFM\n",
    "from lightfm.cross_validation import random_train_test_split\n",
    "from lightfm.evaluation import precision_at_k\n",
    "from lightfm.evaluation import recall_at_k\n",
    "import timeit \n",
    "\n",
    "sizes = [9000, 20000, 40000, 60000, 80000]\n",
    "\n",
    "precision_all = []\n",
    "recal_all = []\n",
    "coverage_all = []\n",
    "train_time = []\n",
    "recommend_time = []\n",
    "\n",
    "for size in sizes: \n",
    "    df = get_users(df_all, size)\n",
    "    df = df.drop(['Unnamed: 0'], axis=1)\n",
    "    \n",
    "    #create FM model with tuned parameters\n",
    "    model_fm = LightFM(learning_rate=0.05, loss='warp')\n",
    "    \n",
    "    #create sparse matrix\n",
    "    plays_sparse = create_sparse_matrix(i).astype('float')\n",
    "    print('Matrix Sparsity:', calculate_sparsity(plays_sparse))\n",
    "    \n",
    "    #split train test\n",
    "    train,test = random_train_test_split(plays_sparse)\n",
    "    \n",
    "    start = timeit.timeit()\n",
    "    \n",
    "    #train model\n",
    "    model_fm.fit(train, epochs = 30)\n",
    "    \n",
    "    end = timeit.timeit()\n",
    "    train_t = end-start\n",
    "    \n",
    "    #evaluate model \n",
    "    #coverage, precision, recall, ndcg = evaluate(model_fm_vanilla, \"lightfm\", test, plays_sparse,liked=train.T.tocsr())\n",
    "    coverage, precision, recall = evaluate_lightfm(model_fm, plays_sparse, train, test)\n",
    "    print(\"Precision:\",precision*100,'%')\n",
    "    print(\"Recall:\",recall*100,'%')\n",
    "    print(\"Coverage:\",coverage*100,'%')\n",
    "    \n",
    "    #time recommend time\n",
    "    start = timeit.timeit()\n",
    "    \n",
    "    (-model.predict(0,np.arange(original.shape[1]))).argsort()[:20]\n",
    "    \n",
    "    end = timeit.timeit()\n",
    "    \n",
    "    recommend_t = end-start\n",
    "    \n",
    "    precision_all.append(precision)\n",
    "    recal_all.append(recall)\n",
    "    coverage_all.append(coverage)\n",
    "    train_time.append(train_t)\n",
    "    recommend_time.append(recommend_t)"
   ]
  },
  {
   "cell_type": "markdown",
   "metadata": {},
   "source": [
    "Qualitative Results"
   ]
  },
  {
   "cell_type": "code",
   "execution_count": 16,
   "metadata": {},
   "outputs": [
    {
     "name": "stdout",
     "output_type": "stream",
     "text": [
      "Creating sparse matrix...\n"
     ]
    },
    {
     "name": "stderr",
     "output_type": "stream",
     "text": [
      "/Users/TimGimi/anaconda2/lib/python2.7/site-packages/ipykernel_launcher.py:23: FutureWarning: specifying 'categories' or 'ordered' in .astype() is deprecated; pass a CategoricalDtype instead\n",
      "/Users/TimGimi/anaconda2/lib/python2.7/site-packages/ipykernel_launcher.py:24: FutureWarning: specifying 'categories' or 'ordered' in .astype() is deprecated; pass a CategoricalDtype instead\n"
     ]
    }
   ],
   "source": [
    "df = pd.read_csv('lastfm_9000_users.csv', na_filter=False)\n",
    "df = df.drop(['Unnamed: 0'], axis=1)\n",
    "users = list(np.sort(df.user_id.unique()))\n",
    "plays_sparse = create_sparse_matrix(df).astype('float')"
   ]
  },
  {
   "cell_type": "code",
   "execution_count": 320,
   "metadata": {},
   "outputs": [],
   "source": [
    "#list of artists\n",
    "\n",
    "artists_rock = [\n",
    "    'the beatles',\n",
    "    'the rolling stones',\n",
    "    'led zeppelin',\n",
    "    'queen',\n",
    "    'pink floyd',\n",
    "    'ac/dc',\n",
    "    'guns n\\' roses',\n",
    "    'aerosmith'\n",
    "]\n",
    "\n",
    "artists_rap = [\n",
    "    'kanye west',\n",
    "    '2pac',\n",
    "    'lil wayne',\n",
    "    'eminem',\n",
    "    'young jeezy',\n",
    "    'jay-z',\n",
    "    'drake'\n",
    "]\n",
    "\n",
    "artists_tim = [\n",
    "    'daft punk',\n",
    "    'deadmau5',\n",
    "    'john mayer',\n",
    "    'hans zimmer',\n",
    "    'coldplay'\n",
    "]\n",
    "\n",
    "# tim's brother\n",
    "# artists_deus = [\n",
    "#     'coldplay',\n",
    "#     'john mayer',\n",
    "#     'justin timberlake'\n",
    "# ]\n",
    "\n",
    "artists_char = [\n",
    "           'solange', \n",
    "           'sufjan stevens',  \n",
    "           'beirut', \n",
    "           'yo la tengo', \n",
    "           'little dragon', \n",
    "           'crystal castles', \n",
    "           'a tribe called quest', \n",
    "           'radiohead', \n",
    "           'faye wong',\n",
    "           'the beach boys',\n",
    "           'van morrison',\n",
    "           'marvin gaye',\n",
    "           'whitney houston',\n",
    "           'kanye west',\n",
    "           'curtis mayfield',\n",
    "           '2pac',\n",
    "           'eagles',\n",
    "           'david bowie',\n",
    "           'prince'\n",
    "]\n",
    "\n",
    "new_users = [('rap', artists_rap),('rock', artists_rock), ('tim', artists_tim), ('char', artists_char)]"
   ]
  },
  {
   "cell_type": "code",
   "execution_count": 321,
   "metadata": {},
   "outputs": [],
   "source": [
    "#get artist_name from artist_id\n",
    "#def get_artist_name(artist_idx):\n",
    "\n",
    "def add_user(data, new_user, value = 1000):\n",
    "    col_names = ['user_id','artist_mbid','artist_name','plays']\n",
    "    mbid_dict = pd.Series(data.artist_mbid.values, index = data.artist_name).to_dict()\n",
    "    final = []\n",
    "    \n",
    "    user_name = new_user[0]\n",
    "    user_artists = new_user[1]\n",
    "    \n",
    "    for artist in user_artists:\n",
    "        final.append([user_name, mbid_dict[artist], artist, value])\n",
    "    return pd.concat([data, pd.DataFrame(final, columns = col_names)])\n",
    "\n",
    "def create_artist_mapping(data):\n",
    "    artists = list(data.artist_mbid.unique())\n",
    "    artist_categories = data.artist_mbid.astype('category', categories=artists).cat.categories\n",
    "    name_dict = pd.Series(data.artist_name.values, index = data.artist_mbid).to_dict()\n",
    "    artist_map = dict((i, name_dict[x]) for (i, x) in enumerate(artist_categories))\n",
    "    return artist_map\n",
    "\n",
    "def create_user_mapping(data):\n",
    "    users = list(data.user_id.unique())\n",
    "    user_categories = data.user_id.astype('category', categories=users).cat.categories\n",
    "    user_map = dict((x, i) for (i, x) in enumerate(user_categories))\n",
    "    return user_map\n",
    "\n",
    "def get_artist_name(list_idx, artist_mapping):\n",
    "    return [artist_mapping[idx] for idx in list_idx]"
   ]
  },
  {
   "cell_type": "code",
   "execution_count": 322,
   "metadata": {},
   "outputs": [],
   "source": [
    "run analysis_functions.ipynb #import all helper functions"
   ]
  },
  {
   "cell_type": "markdown",
   "metadata": {},
   "source": [
    "## ALS"
   ]
  },
  {
   "cell_type": "code",
   "execution_count": 323,
   "metadata": {},
   "outputs": [
    {
     "name": "stderr",
     "output_type": "stream",
     "text": [
      "/Users/TimGimi/anaconda2/lib/python2.7/site-packages/ipykernel_launcher.py:18: FutureWarning: specifying 'categories' or 'ordered' in .astype() is deprecated; pass a CategoricalDtype instead\n",
      "/Users/TimGimi/anaconda2/lib/python2.7/site-packages/ipykernel_launcher.py:25: FutureWarning: specifying 'categories' or 'ordered' in .astype() is deprecated; pass a CategoricalDtype instead\n",
      "/Users/TimGimi/anaconda2/lib/python2.7/site-packages/ipykernel_launcher.py:23: FutureWarning: specifying 'categories' or 'ordered' in .astype() is deprecated; pass a CategoricalDtype instead\n"
     ]
    },
    {
     "name": "stdout",
     "output_type": "stream",
     "text": [
      "Creating sparse matrix...\n"
     ]
    },
    {
     "name": "stderr",
     "output_type": "stream",
     "text": [
      "/Users/TimGimi/anaconda2/lib/python2.7/site-packages/ipykernel_launcher.py:24: FutureWarning: specifying 'categories' or 'ordered' in .astype() is deprecated; pass a CategoricalDtype instead\n"
     ]
    },
    {
     "data": {
      "application/vnd.jupyter.widget-view+json": {
       "model_id": "671514011d5d444a8240ce7ed8e3f06b",
       "version_major": 2,
       "version_minor": 0
      },
      "text/plain": [
       "HBox(children=(IntProgress(value=0, max=9001), HTML(value=u'')))"
      ]
     },
     "metadata": {},
     "output_type": "display_data"
    },
    {
     "name": "stderr",
     "output_type": "stream",
     "text": [
      "\r",
      "  0%|          | 0/15 [00:00<?, ?it/s]"
     ]
    },
    {
     "name": "stdout",
     "output_type": "stream",
     "text": [
      "Fitting model...\n"
     ]
    },
    {
     "name": "stderr",
     "output_type": "stream",
     "text": [
      "100%|██████████| 15.0/15 [00:05<00:00,  2.92it/s]\n"
     ]
    },
    {
     "name": "stdout",
     "output_type": "stream",
     "text": [
      "User  rap  :\n",
      " ['lupe fiasco', 'lil wayne', '2pac', '50 cent', 't.i.', 'ludacris', 'the game', 'jay-z', 'kanye west', 'eminem', 'snoop dogg', 'nas', 'notorious b.i.g.', 'dr. dre', 'bone thugs-n-harmony', 'drake', 'akon', 'young jeezy', 'ice cube', 't-pain']\n",
      "Creating sparse matrix...\n"
     ]
    },
    {
     "data": {
      "application/vnd.jupyter.widget-view+json": {
       "model_id": "0669a72faac04142b22b5b612d6837a8",
       "version_major": 2,
       "version_minor": 0
      },
      "text/plain": [
       "HBox(children=(IntProgress(value=0, max=9001), HTML(value=u'')))"
      ]
     },
     "metadata": {},
     "output_type": "display_data"
    },
    {
     "name": "stderr",
     "output_type": "stream",
     "text": [
      "  3%|▎         | 0.5/15 [00:00<00:04,  3.20it/s]"
     ]
    },
    {
     "name": "stdout",
     "output_type": "stream",
     "text": [
      "Fitting model...\n"
     ]
    },
    {
     "name": "stderr",
     "output_type": "stream",
     "text": [
      "100%|██████████| 15.0/15 [00:05<00:00,  2.76it/s]\n"
     ]
    },
    {
     "name": "stdout",
     "output_type": "stream",
     "text": [
      "User  rock  :\n",
      " ['martingo', 'the beatles', 'ac/dc', 'queen', \"guns n' roses\", 'pink floyd', 'led zeppelin', 'red hot chili peppers', 'nirvana', 'the rolling stones', 'aerosmith', 'metallica', 'u2', 'the doors', 'muse', 'radiohead', 'coldplay', 'r.e.m.', 'johnny cash', 'the who']\n",
      "Creating sparse matrix...\n"
     ]
    },
    {
     "data": {
      "application/vnd.jupyter.widget-view+json": {
       "model_id": "61465b1ec70845c2ae018841da8461da",
       "version_major": 2,
       "version_minor": 0
      },
      "text/plain": [
       "HBox(children=(IntProgress(value=0, max=9001), HTML(value=u'')))"
      ]
     },
     "metadata": {},
     "output_type": "display_data"
    },
    {
     "name": "stderr",
     "output_type": "stream",
     "text": [
      "  3%|▎         | 0.5/15 [00:00<00:04,  3.06it/s]"
     ]
    },
    {
     "name": "stdout",
     "output_type": "stream",
     "text": [
      "Fitting model...\n"
     ]
    },
    {
     "name": "stderr",
     "output_type": "stream",
     "text": [
      "100%|██████████| 15.0/15 [00:06<00:00,  2.51it/s]\n"
     ]
    },
    {
     "name": "stdout",
     "output_type": "stream",
     "text": [
      "User  tim  :\n",
      " ['martingo', 'coldplay', 'michael jackson', 'daft punk', 'kanye west', 'hans zimmer', 'john mayer', 'soundtrack', 'linkin park', 'red hot chili peppers', 'muse', 'eminem', 'the prodigy', 'the killers', 'moby', 'the beatles', 'deadmau5', 'pendulum', 'david guetta', 'gorillaz']\n",
      "Creating sparse matrix...\n"
     ]
    },
    {
     "data": {
      "application/vnd.jupyter.widget-view+json": {
       "model_id": "41a2db46aad549a7aaf8336a1fb0e8f3",
       "version_major": 2,
       "version_minor": 0
      },
      "text/plain": [
       "HBox(children=(IntProgress(value=0, max=9001), HTML(value=u'')))"
      ]
     },
     "metadata": {},
     "output_type": "display_data"
    },
    {
     "name": "stderr",
     "output_type": "stream",
     "text": [
      "  3%|▎         | 0.5/15 [00:00<00:04,  3.15it/s]"
     ]
    },
    {
     "name": "stdout",
     "output_type": "stream",
     "text": [
      "Fitting model...\n"
     ]
    },
    {
     "name": "stderr",
     "output_type": "stream",
     "text": [
      "100%|██████████| 15.0/15 [00:06<00:00,  2.48it/s]"
     ]
    },
    {
     "name": "stdout",
     "output_type": "stream",
     "text": [
      "User  char  :\n",
      " ['martingo', 'die \\xc3\\x84rzte', 'die toten hosen', 'red hot chili peppers', '[unknown]', 'mando diao', 'the beatles', 'clueso', 'farin urlaub', 'beatsteaks', 'johnny cash', 'jack johnson', 'sportfreunde stiller', 'deichkind', 'die fantastischen vier', 'b\\xc3\\xb6hse onkelz', 'peter fox', 'coldplay', 'madsen', 'linkin park']\n"
     ]
    },
    {
     "name": "stderr",
     "output_type": "stream",
     "text": [
      "\n"
     ]
    }
   ],
   "source": [
    "#use implicit to get recommended for users\n",
    "model_als = implicit.als.AlternatingLeastSquares(factors = 30, regularization = 0.01)\n",
    "\n",
    "for new in new_users: \n",
    "    new_users_df = add_user(df, new, 1000)\n",
    "\n",
    "    #create mappings\n",
    "    artist_mapping = create_artist_mapping(new_users_df)\n",
    "    user_mapping = create_user_mapping(new_users_df)\n",
    "\n",
    "    plays_sparse = create_sparse_matrix(new_users_df)\n",
    "    train, test, user_count = split_train_test_per_user(plays_sparse, 3, 10)\n",
    "\n",
    "    # Train model\n",
    "    print(\"Fitting model...\")\n",
    "    model_als.fit(train)\n",
    "\n",
    "    recs = model_als.recommend(user_mapping[new[0]], train.T.tocsr(), N=20, filter_already_liked_items=True)#, artist_mapping) #returns (item_id, score)\n",
    "    recs = [x[0] for x in recs]\n",
    "    \n",
    "    print(\"User \", new[0], \" :\\n\", get_artist_name(recs, artist_mapping))\n",
    "\n",
    "    "
   ]
  },
  {
   "cell_type": "markdown",
   "metadata": {},
   "source": [
    "## LightFM"
   ]
  },
  {
   "cell_type": "code",
   "execution_count": 329,
   "metadata": {},
   "outputs": [
    {
     "name": "stderr",
     "output_type": "stream",
     "text": [
      "/Users/TimGimi/anaconda2/lib/python2.7/site-packages/ipykernel_launcher.py:18: FutureWarning: specifying 'categories' or 'ordered' in .astype() is deprecated; pass a CategoricalDtype instead\n",
      "/Users/TimGimi/anaconda2/lib/python2.7/site-packages/ipykernel_launcher.py:25: FutureWarning: specifying 'categories' or 'ordered' in .astype() is deprecated; pass a CategoricalDtype instead\n",
      "/Users/TimGimi/anaconda2/lib/python2.7/site-packages/ipykernel_launcher.py:23: FutureWarning: specifying 'categories' or 'ordered' in .astype() is deprecated; pass a CategoricalDtype instead\n"
     ]
    },
    {
     "name": "stdout",
     "output_type": "stream",
     "text": [
      "Creating sparse matrix...\n"
     ]
    },
    {
     "name": "stderr",
     "output_type": "stream",
     "text": [
      "/Users/TimGimi/anaconda2/lib/python2.7/site-packages/ipykernel_launcher.py:24: FutureWarning: specifying 'categories' or 'ordered' in .astype() is deprecated; pass a CategoricalDtype instead\n"
     ]
    },
    {
     "name": "stdout",
     "output_type": "stream",
     "text": [
      "User  rap  :\n",
      " ['martingo', 'the cure', 'radiohead', 'joy division', 'aphex twin', 'david bowie', 'depeche mode', 'boards of canada', 'sigur r\\xc3\\xb3s', 'the beatles', 'bj\\xc3\\xb6rk', 'pixies', 'the smiths', 'sonic youth', 'nirvana', 'portishead', 'beirut', 'new order', 'nick cave and the bad seeds', 'pink floyd']\n",
      "Creating sparse matrix...\n",
      "User  rock  :\n",
      " ['martingo', 'pink floyd', 'tom waits', 'the beatles', 'johnny cash', 'radiohead', 'nine inch nails', 'the cure', 'nick cave and the bad seeds', 'joy division', 'tool', 'david bowie', 'the doors', 'sigur r\\xc3\\xb3s', 'the clash', 'led zeppelin', 'bob dylan', 'porcupine tree', 'the smashing pumpkins', 'leonard cohen']\n",
      "Creating sparse matrix...\n",
      "User  tim  :\n",
      " ['martingo', 'the beatles', 'radiohead', 'tom waits', 'the cure', 'david bowie', 'pink floyd', 'bob dylan', 'the clash', 'joy division', 'pj harvey', 'pixies', 'the doors', 'the velvet underground', 'nick cave and the bad seeds', 'the rolling stones', 'the smiths', 'siouxsie and the banshees', 'nine inch nails', 'johnny cash']\n",
      "Creating sparse matrix...\n",
      "User  char  :\n",
      " ['martingo', 'radiohead', 'the beatles', 'the cure', 'david bowie', 'pink floyd', 'the smashing pumpkins', 'nine inch nails', 'bj\\xc3\\xb6rk', 'coldplay', 'bob dylan', 'sigur r\\xc3\\xb3s', 'the white stripes', 'depeche mode', 'pixies', 'modest mouse', 'led zeppelin', 'beck', 'nirvana', 'muse']\n"
     ]
    }
   ],
   "source": [
    "#use implicit to get recommended for users\n",
    "from lightfm.cross_validation import random_train_test_split\n",
    "\n",
    "#create FM model with tuned parameters\n",
    "model_fm = LightFM(learning_rate=0.05, loss='warp')\n",
    "\n",
    "for new in new_users: \n",
    "    new_users_df = add_user(df, new, 1000)\n",
    "\n",
    "    #create mappings\n",
    "    artist_mapping = create_artist_mapping(new_users_df)\n",
    "    user_mapping = create_user_mapping(new_users_df)\n",
    "    \n",
    "    #create sparse matrix\n",
    "    plays_sparse = create_sparse_matrix(new_users_df)\n",
    "    \n",
    "    #split train test\n",
    "    train,test = random_train_test_split(plays_sparse)\n",
    "\n",
    "    print(\"training...\")\n",
    "    #train model\n",
    "    model_fm.fit(train, epochs = 30)\n",
    "    \n",
    "    print(\"recommending...\")\n",
    "    #get recommendation from model\n",
    "    recs = (-model_fm.predict(0,np.arange(plays_sparse.shape[1]))).argsort()[:20]\n",
    "    \n",
    "    print(\"User \", new[0], \" :\\n\", get_artist_name(recs, artist_mapping))\n",
    "    \n",
    "    \n",
    "    "
   ]
  },
  {
   "cell_type": "markdown",
   "metadata": {},
   "source": [
    "## Baseline"
   ]
  },
  {
   "cell_type": "code",
   "execution_count": 263,
   "metadata": {},
   "outputs": [
    {
     "name": "stdout",
     "output_type": "stream",
     "text": [
      "Fitting baseline...\n",
      "[332922  34681  68905 ...     28     27     24]\n"
     ]
    },
    {
     "data": {
      "text/plain": [
       "['martingo',\n",
       " 'the beatles',\n",
       " 'radiohead',\n",
       " 'madonna',\n",
       " 'coldplay',\n",
       " 'nine inch nails',\n",
       " 'marilyn manson',\n",
       " 'metallica',\n",
       " 'muse',\n",
       " 'pink floyd',\n",
       " 'linkin park',\n",
       " 'red hot chili peppers',\n",
       " 'system of a down',\n",
       " 'death cab for cutie',\n",
       " 'placebo',\n",
       " 'nightwish',\n",
       " 'depeche mode',\n",
       " '2pac',\n",
       " 'the killers',\n",
       " 'in flames']"
      ]
     },
     "execution_count": 263,
     "metadata": {},
     "output_type": "execute_result"
    }
   ],
   "source": [
    "#use baseline to get recommended users\n",
    "model_baseline = Baseline(n_recs = 20)\n",
    "model_baseline.fit(train)\n",
    "get_artist_name(model_baseline.predict(), artist_mapping)"
   ]
  },
  {
   "cell_type": "markdown",
   "metadata": {},
   "source": [
    "LightFM Troubleshoot Fit Partial"
   ]
  },
  {
   "cell_type": "code",
   "execution_count": 52,
   "metadata": {},
   "outputs": [],
   "source": [
    "from __future__ import print_function\n",
    "from lightfm import LightFM"
   ]
  },
  {
   "cell_type": "code",
   "execution_count": 53,
   "metadata": {},
   "outputs": [],
   "source": [
    "run analysis_functions.ipynb #import all helper functions"
   ]
  },
  {
   "cell_type": "code",
   "execution_count": 54,
   "metadata": {},
   "outputs": [
    {
     "name": "stdout",
     "output_type": "stream",
     "text": [
      "Creating sparse matrix...\n"
     ]
    },
    {
     "name": "stderr",
     "output_type": "stream",
     "text": [
      "/Users/TimGimi/anaconda2/lib/python2.7/site-packages/ipykernel_launcher.py:23: FutureWarning: specifying 'categories' or 'ordered' in .astype() is deprecated; pass a CategoricalDtype instead\n",
      "/Users/TimGimi/anaconda2/lib/python2.7/site-packages/ipykernel_launcher.py:24: FutureWarning: specifying 'categories' or 'ordered' in .astype() is deprecated; pass a CategoricalDtype instead\n"
     ]
    },
    {
     "name": "stdout",
     "output_type": "stream",
     "text": [
      "Matrix Sparsity: 99.8965986346\n",
      "Fitting model...\n",
      "Epoch 0\n",
      "Epoch 1\n",
      "Epoch 2\n",
      "Epoch 3\n",
      "Epoch 4\n",
      "Epoch 5\n",
      "Epoch 6\n",
      "Epoch 7\n",
      "Epoch 8\n",
      "Epoch 9\n"
     ]
    },
    {
     "data": {
      "text/plain": [
       "<lightfm.lightfm.LightFM at 0x1a1a86db50>"
      ]
     },
     "execution_count": 54,
     "metadata": {},
     "output_type": "execute_result"
    }
   ],
   "source": [
    "# Import main dataset\n",
    "df = pd.read_csv('lastfm_9000_users.csv', na_filter=False)\n",
    "df = df.drop(['Unnamed: 0'], axis=1)\n",
    "\n",
    "#create sparse matrix\n",
    "plays_sparse = create_sparse_matrix(df).astype('float')\n",
    "print('Matrix Sparsity:', calculate_sparsity(plays_sparse))\n",
    "\n",
    "import lightfm\n",
    "from lightfm.data import Dataset\n",
    "from lightfm import cross_validation\n",
    "\n",
    "# Initialize lightfm Dataset()\n",
    "int_df = df.drop(['artist_name'], axis=1)\n",
    "int_data = lightfm.data.Dataset(user_identity_features=True, item_identity_features=True)\n",
    "\n",
    "# Create tuples for int_df values, as well as separate tuples for user_id and artist_id\n",
    "tuples = [tuple(x) for x in int_df.values]\n",
    "user_id = [tuple(x) for x in df.user_id]\n",
    "artist_id = [tuple(x) for x in df.artist_mbid]\n",
    "\n",
    "# Fit int_data\n",
    "int_data.fit(df.user_id, df.artist_mbid)\n",
    "\n",
    "# Build interactions, weights\n",
    "interactions, weights = int_data.build_interactions(tuples)\n",
    "\n",
    "# Create training and test sets for lightFM\n",
    "train_light, test_light = lightfm.cross_validation.random_train_test_split(plays_sparse, test_percentage=0.6, random_state=None)\n",
    "\n",
    "model_fm_vanilla = LightFM(learning_rate=0.05, loss='warp')\n",
    "\n",
    "# Train Model\n",
    "print(\"Fitting model...\")\n",
    "model_fm_vanilla.fit(train_light, epochs=10, verbose = True)"
   ]
  },
  {
   "cell_type": "code",
   "execution_count": null,
   "metadata": {},
   "outputs": [],
   "source": []
  }
 ],
 "metadata": {
  "kernelspec": {
   "display_name": "Python 3",
   "language": "python",
   "name": "python3"
  },
  "language_info": {
   "codemirror_mode": {
    "name": "ipython",
    "version": 2
   },
   "file_extension": ".py",
   "mimetype": "text/x-python",
   "name": "python",
   "nbconvert_exporter": "python",
   "pygments_lexer": "ipython2",
   "version": "2.7.15"
  }
 },
 "nbformat": 4,
 "nbformat_minor": 2
}
