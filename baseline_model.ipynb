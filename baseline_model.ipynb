{
 "cells": [
  {
   "cell_type": "code",
   "execution_count": 1,
   "metadata": {},
   "outputs": [
    {
     "name": "stderr",
     "output_type": "stream",
     "text": [
      "/anaconda/lib/python3.6/site-packages/ipykernel_launcher.py:16: FutureWarning: specifying 'categories' or 'ordered' in .astype() is deprecated; pass a CategoricalDtype instead\n",
      "  app.launch_new_instance()\n",
      "/anaconda/lib/python3.6/site-packages/ipykernel_launcher.py:17: FutureWarning: specifying 'categories' or 'ordered' in .astype() is deprecated; pass a CategoricalDtype instead\n",
      "/anaconda/lib/python3.6/site-packages/ipykernel_launcher.py:21: FutureWarning: specifying 'categories' or 'ordered' in .astype() is deprecated; pass a CategoricalDtype instead\n",
      "/anaconda/lib/python3.6/site-packages/ipykernel_launcher.py:22: FutureWarning: specifying 'categories' or 'ordered' in .astype() is deprecated; pass a CategoricalDtype instead\n"
     ]
    },
    {
     "data": {
      "text/plain": [
       "<53577x9000 sparse matrix of type '<class 'numpy.int64'>'\n",
       "\twith 438344 stored elements in Compressed Sparse Row format>"
      ]
     },
     "execution_count": 1,
     "metadata": {},
     "output_type": "execute_result"
    }
   ],
   "source": [
    "from sklearn.neighbors import NearestNeighbors\n",
    "import pandas as pd\n",
    "import implicit\n",
    "import numpy as np\n",
    "import scipy\n",
    "\n",
    "df = pd.read_csv('lastfm_9000_users.csv', na_filter=False)\n",
    "\n",
    "data = df.drop(['Unnamed: 0','artist_mbid'], axis=1)\n",
    "\n",
    "users = list(np.sort(data.user_id.unique()))\n",
    "artists = list(data.artist_name.unique())\n",
    "plays = list(data.plays)\n",
    "\n",
    "#user-user\n",
    "rows = data.user_id.astype('category', categories=users).cat.codes\n",
    "cols = data.artist_name.astype('category', categories=artists).cat.codes\n",
    "plays_sparse = scipy.sparse.csr_matrix((plays, (rows, cols)), shape=(len(users),len(artists)))\n",
    "\n",
    "#item-item\n",
    "rows = data.artist_name.astype('category', categories=artists).cat.codes\n",
    "cols = data.user_id.astype('category', categories=users).cat.codes\n",
    "plays_sparse = scipy.sparse.csr_matrix((plays, (rows, cols)), shape=(len(artists),len(users)))\n",
    "\n",
    "plays_sparse"
   ]
  },
  {
   "cell_type": "code",
   "execution_count": 62,
   "metadata": {
    "collapsed": true
   },
   "outputs": [],
   "source": [
    "def top_k_recommendations(k,user_id,user_items):\n",
    "    user_plays=plays_sparse[:,user_id].toarray()\n",
    "    user_plays=np.ravel(user_plays)\n",
    "    idx = (-user_plays).argsort()[:k]\n",
    "    return idx"
   ]
  },
  {
   "cell_type": "code",
   "execution_count": 75,
   "metadata": {
    "scrolled": true
   },
   "outputs": [
    {
     "name": "stdout",
     "output_type": "stream",
     "text": [
      "These are the artists are recommended to user  0018c29f20d69d17a14ba01089ec997acaffbb46\n",
      "ryan adams\n",
      "m. ward\n",
      "my morning jacket\n",
      "fleet foxes\n",
      "richard hawley\n",
      "doves\n",
      "radiohead\n",
      "arctic monkeys\n",
      "the broken family band\n",
      "josh ritter\n",
      "the coral\n",
      "the libertines\n",
      "patti smith\n",
      "blur\n",
      "josh rouse\n"
     ]
    }
   ],
   "source": [
    "# recommend items for a user\n",
    "userid = 3\n",
    "number_of_recs=15\n",
    "user_items = plays_sparse.T.tocsr()\n",
    "recommendations = top_k_recommendations(number_of_recs, userid,user_items)\n",
    "print(\"These are the artists are recommended to user \",users[userid])\n",
    "for x in recommendations:\n",
    "    print(artists[x])"
   ]
  }
 ],
 "metadata": {
  "kernelspec": {
   "display_name": "Python 3",
   "language": "python",
   "name": "python3"
  },
  "language_info": {
   "codemirror_mode": {
    "name": "ipython",
    "version": 3
   },
   "file_extension": ".py",
   "mimetype": "text/x-python",
   "name": "python",
   "nbconvert_exporter": "python",
   "pygments_lexer": "ipython3",
   "version": "3.6.6"
  }
 },
 "nbformat": 4,
 "nbformat_minor": 2
}
