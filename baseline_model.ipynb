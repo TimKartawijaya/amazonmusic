{
 "cells": [
  {
   "cell_type": "code",
   "execution_count": 1,
   "metadata": {},
   "outputs": [
    {
     "name": "stderr",
     "output_type": "stream",
     "text": [
      "/anaconda/lib/python3.6/site-packages/ipykernel_launcher.py:16: FutureWarning: specifying 'categories' or 'ordered' in .astype() is deprecated; pass a CategoricalDtype instead\n",
      "  app.launch_new_instance()\n",
      "/anaconda/lib/python3.6/site-packages/ipykernel_launcher.py:17: FutureWarning: specifying 'categories' or 'ordered' in .astype() is deprecated; pass a CategoricalDtype instead\n",
      "/anaconda/lib/python3.6/site-packages/ipykernel_launcher.py:21: FutureWarning: specifying 'categories' or 'ordered' in .astype() is deprecated; pass a CategoricalDtype instead\n",
      "/anaconda/lib/python3.6/site-packages/ipykernel_launcher.py:22: FutureWarning: specifying 'categories' or 'ordered' in .astype() is deprecated; pass a CategoricalDtype instead\n"
     ]
    },
    {
     "data": {
      "text/plain": [
       "<53577x9000 sparse matrix of type '<class 'numpy.int64'>'\n",
       "\twith 438344 stored elements in Compressed Sparse Row format>"
      ]
     },
     "execution_count": 1,
     "metadata": {},
     "output_type": "execute_result"
    }
   ],
   "source": [
    "from sklearn.neighbors import NearestNeighbors\n",
    "import pandas as pd\n",
    "import implicit\n",
    "import numpy as np\n",
    "import scipy\n",
    "\n",
    "df = pd.read_csv('lastfm_9000_users.csv', na_filter=False)\n",
    "\n",
    "data = df.drop(['Unnamed: 0','artist_mbid'], axis=1)\n",
    "\n",
    "users = list(np.sort(data.user_id.unique()))\n",
    "artists = list(data.artist_name.unique())\n",
    "plays = list(data.plays)\n",
    "\n",
    "#user-user\n",
    "rows = data.user_id.astype('category', categories=users).cat.codes\n",
    "cols = data.artist_name.astype('category', categories=artists).cat.codes\n",
    "plays_sparse = scipy.sparse.csr_matrix((plays, (rows, cols)), shape=(len(users),len(artists)))\n",
    "\n",
    "#item-item\n",
    "rows = data.artist_name.astype('category', categories=artists).cat.codes\n",
    "cols = data.user_id.astype('category', categories=users).cat.codes\n",
    "plays_sparse = scipy.sparse.csr_matrix((plays, (rows, cols)), shape=(len(artists),len(users)))\n",
    "\n",
    "plays_sparse"
   ]
  },
  {
   "cell_type": "code",
   "execution_count": 97,
   "metadata": {
    "collapsed": true
   },
   "outputs": [],
   "source": [
    "def top_k_recommendations(k,user_items):\n",
    "    plays=plays_sparse.toarray()\n",
    "    totalplays=np.sum(plays,axis=1)    \n",
    "    idx = (-totalplays).argsort()[:k]\n",
    "    return idx"
   ]
  },
  {
   "cell_type": "code",
   "execution_count": 98,
   "metadata": {
    "scrolled": true
   },
   "outputs": [
    {
     "name": "stdout",
     "output_type": "stream",
     "text": [
      "These are the artists are recommended to each user (most popular)\n",
      "the beatles\n",
      "radiohead\n",
      "coldplay\n",
      "madonna\n",
      "nine inch nails\n",
      "metallica\n",
      "muse\n",
      "pink floyd\n",
      "linkin park\n",
      "marilyn manson\n",
      "red hot chili peppers\n",
      "placebo\n",
      "system of a down\n",
      "death cab for cutie\n",
      "in flames\n"
     ]
    }
   ],
   "source": [
    "# recommend items for a user\n",
    "userid = 3\n",
    "number_of_recs=15\n",
    "user_items = plays_sparse.T.tocsr()\n",
    "recommendations = top_k_recommendations(number_of_recs,user_items)\n",
    "print(\"These are the artists are recommended to each user (most popular)\")\n",
    "for x in recommendations:\n",
    "    print(artists[x])"
   ]
  }
 ],
 "metadata": {
  "kernelspec": {
   "display_name": "Python 3",
   "language": "python",
   "name": "python3"
  },
  "language_info": {
   "codemirror_mode": {
    "name": "ipython",
    "version": 3
   },
   "file_extension": ".py",
   "mimetype": "text/x-python",
   "name": "python",
   "nbconvert_exporter": "python",
   "pygments_lexer": "ipython3",
   "version": "3.6.6"
  }
 },
 "nbformat": 4,
 "nbformat_minor": 2
}
