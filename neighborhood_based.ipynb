{
 "cells": [
  {
   "cell_type": "code",
   "execution_count": 1,
   "metadata": {},
   "outputs": [],
   "source": [
    "from sklearn.neighbors import NearestNeighbors\n",
    "import pandas as pd\n",
    "import implicit\n",
    "import numpy as np\n",
    "import scipy\n",
    "from sklearn.neighbors import NearestNeighbors"
   ]
  },
  {
   "cell_type": "code",
   "execution_count": 2,
   "metadata": {},
   "outputs": [],
   "source": [
    "df = pd.read_csv('lastfm_9000_users.csv', na_filter=False)"
   ]
  },
  {
   "cell_type": "code",
   "execution_count": 3,
   "metadata": {},
   "outputs": [],
   "source": [
    "data = df.drop(['Unnamed: 0','artist_name'], axis=1)"
   ]
  },
  {
   "cell_type": "code",
   "execution_count": 4,
   "metadata": {},
   "outputs": [],
   "source": [
    "users = list(np.sort(data.user_id.unique()))\n",
    "artists = list(data.artist_mbid.unique())\n",
    "plays = list(data.plays)"
   ]
  },
  {
   "cell_type": "code",
   "execution_count": 5,
   "metadata": {},
   "outputs": [],
   "source": [
    "#user-user\n",
    "#rows = data.user_id.astype('category', categories=users).cat.codes\n",
    "#cols = data.artist_mbid.astype('category', categories=artists).cat.codes\n",
    "#plays_sparse = scipy.sparse.csr_matrix((plays, (rows, cols)), shape=(len(users),len(artists)))"
   ]
  },
  {
   "cell_type": "code",
   "execution_count": 6,
   "metadata": {},
   "outputs": [],
   "source": [
    "#item-item\n",
    "rows = data.artist_mbid.astype('category', categories=artists).cat.codes\n",
    "cols = data.user_id.astype('category', categories=users).cat.codes\n",
    "plays_sparse = scipy.sparse.csr_matrix((plays, (rows, cols)), shape=(len(artists),len(users)))"
   ]
  },
  {
   "cell_type": "code",
   "execution_count": 7,
   "metadata": {
    "scrolled": true
   },
   "outputs": [
    {
     "data": {
      "text/plain": [
       "<47102x9000 sparse matrix of type '<class 'numpy.int64'>'\n",
       "\twith 438337 stored elements in Compressed Sparse Row format>"
      ]
     },
     "execution_count": 7,
     "metadata": {},
     "output_type": "execute_result"
    }
   ],
   "source": [
    "plays_sparse"
   ]
  },
  {
   "cell_type": "code",
   "execution_count": 8,
   "metadata": {},
   "outputs": [
    {
     "data": {
      "text/plain": [
       "\"\\n'death cab for cutie',\\n'paramore',\\n'ok go',\\n'foo fighters',\\n'green day',\\n'eminem',\\n'kanye west',\\n'maroon 5',\\n'britney spears',\\n'justin timberlake',\\n'notorious b.i.g.'\\n\""
      ]
     },
     "execution_count": 8,
     "metadata": {},
     "output_type": "execute_result"
    }
   ],
   "source": [
    "sample_artists = ['kanye west',\n",
    "'coldplay',\n",
    "'justin timberlake']\n",
    "\n",
    "\"\"\"\n",
    "'death cab for cutie',\n",
    "'paramore',\n",
    "'ok go',\n",
    "'foo fighters',\n",
    "'green day',\n",
    "'eminem',\n",
    "'kanye west',\n",
    "'maroon 5',\n",
    "'britney spears',\n",
    "'justin timberlake',\n",
    "'notorious b.i.g.'\n",
    "\"\"\""
   ]
  },
  {
   "cell_type": "code",
   "execution_count": 9,
   "metadata": {},
   "outputs": [
    {
     "name": "stdout",
     "output_type": "stream",
     "text": [
      "Artists that are similar to kanye west:\n",
      "['charles mingus']\n",
      "['looking glass studios']\n",
      "['stan getz & dizzy gillespie']\n",
      "['doyle bramhall']\n",
      "['albert collins']\n",
      "['victor wooten & steve bailey' 'steve bailey / victor wooten']\n",
      "\n",
      "\n",
      "Artists that are similar to coldplay:\n",
      "['coldplay']\n",
      "['chikara tsuzuki']\n",
      "['wayne newton']\n",
      "['dimitri hvorostovsky' 'Дмитрий Хворостовский']\n",
      "['carlos varela']\n",
      "['nouvelle vague']\n",
      "\n",
      "\n",
      "Artists that are similar to justin timberlake:\n",
      "['inxs']\n",
      "['arthur grumiaux']\n",
      "['martin pearlman']\n",
      "['christophe rousset']\n",
      "['kazuhito yamashita']\n",
      "['david russell']\n",
      "\n",
      "\n"
     ]
    }
   ],
   "source": [
    "for artist in sample_artists:\n",
    "    artist_index = df.artist_name[df.artist_name == artist].index.tolist()[0]\n",
    "    model_knn = NearestNeighbors(metric = 'cosine', algorithm = 'brute')\n",
    "    model_knn.fit(plays_sparse)\n",
    "    distances, indices = model_knn.kneighbors(plays_sparse[artist_index], n_neighbors = 6)\n",
    "    print('Artists that are similar to', artist + ':')\n",
    "    for i in range(0, len(indices[0])):\n",
    "        print(df.artist_name[df.artist_mbid == artists[indices[0][i]]].unique())\n",
    "    print('\\n')"
   ]
  }
 ],
 "metadata": {
  "kernelspec": {
   "display_name": "Python 3",
   "language": "python",
   "name": "python3"
  },
  "language_info": {
   "codemirror_mode": {
    "name": "ipython",
    "version": 3
   },
   "file_extension": ".py",
   "mimetype": "text/x-python",
   "name": "python",
   "nbconvert_exporter": "python",
   "pygments_lexer": "ipython3",
   "version": "3.6.3"
  }
 },
 "nbformat": 4,
 "nbformat_minor": 2
}
