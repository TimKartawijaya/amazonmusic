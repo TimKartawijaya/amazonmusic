{
 "cells": [
  {
   "cell_type": "code",
   "execution_count": 1,
   "metadata": {},
   "outputs": [],
   "source": [
    "from sklearn.neighbors import NearestNeighbors\n",
    "import pandas as pd\n",
    "import implicit\n",
    "import numpy as np\n",
    "import scipy\n",
    "from sklearn.neighbors import NearestNeighbors"
   ]
  },
  {
   "cell_type": "code",
   "execution_count": 2,
   "metadata": {},
   "outputs": [],
   "source": [
    "df = pd.read_csv('lastfm_9000_users.csv', na_filter=False)"
   ]
  },
  {
   "cell_type": "code",
   "execution_count": 3,
   "metadata": {},
   "outputs": [],
   "source": [
    "data = df.drop(['Unnamed: 0','artist_name'], axis=1)"
   ]
  },
  {
   "cell_type": "code",
   "execution_count": 4,
   "metadata": {},
   "outputs": [],
   "source": [
    "data.user_id = data.user_id.factorize()[0]"
   ]
  },
  {
   "cell_type": "code",
   "execution_count": 5,
   "metadata": {},
   "outputs": [],
   "source": [
    "users = list(np.sort(data.user_id.unique()))\n",
    "artists = list(data.artist_mbid.unique())\n",
    "plays = list(data.plays)"
   ]
  },
  {
   "cell_type": "code",
   "execution_count": 6,
   "metadata": {},
   "outputs": [],
   "source": [
    "#user-user\n",
    "rows2 = data.user_id.astype('category', categories=users).cat.codes\n",
    "cols2 = data.artist_mbid.astype('category', categories=artists).cat.codes\n",
    "plays_sparse2 = scipy.sparse.csr_matrix((plays, (rows2, cols2)), shape=(len(users),len(artists)))"
   ]
  },
  {
   "cell_type": "code",
   "execution_count": 7,
   "metadata": {},
   "outputs": [],
   "source": [
    "#item-item\n",
    "rows = data.artist_mbid.astype('category', categories=artists).cat.codes\n",
    "cols = data.user_id.astype('category', categories=users).cat.codes\n",
    "plays_sparse = scipy.sparse.csr_matrix((plays, (rows, cols)), shape=(len(artists),len(users)))"
   ]
  },
  {
   "cell_type": "code",
   "execution_count": 50,
   "metadata": {},
   "outputs": [
    {
     "data": {
      "text/plain": [
       "\"\\n'death cab for cutie',\\n'paramore',\\n'ok go',\\n'foo fighters',\\n'green day',\\n'eminem',\\n'kanye west',\\n'maroon 5',\\n'britney spears',\\n'justin timberlake',\\n'notorious b.i.g.'\\n\""
      ]
     },
     "execution_count": 50,
     "metadata": {},
     "output_type": "execute_result"
    }
   ],
   "source": [
    "sample_artists = ['kanye west',\n",
    "'coldplay',\n",
    "'justin timberlake']\n",
    "\n",
    "\"\"\"\n",
    "'death cab for cutie',\n",
    "'paramore',\n",
    "'ok go',\n",
    "'foo fighters',\n",
    "'green day',\n",
    "'eminem',\n",
    "'kanye west',\n",
    "'maroon 5',\n",
    "'britney spears',\n",
    "'justin timberlake',\n",
    "'notorious b.i.g.'\n",
    "\"\"\""
   ]
  },
  {
   "cell_type": "code",
   "execution_count": null,
   "metadata": {
    "scrolled": true
   },
   "outputs": [],
   "source": [
    "\"\"\"\n",
    "for artist in sample_artists:\n",
    "    artist_index = df.artist_name[df.artist_name == artist].index.tolist()[0]\n",
    "    model_knn = NearestNeighbors(metric = 'cosine', algorithm = 'brute')\n",
    "    model_knn.fit(plays_sparse)\n",
    "    distances, indices = model_knn.kneighbors(plays_sparse[artist_index], n_neighbors = 6)\n",
    "    print('Artists that are similar to', artist + ':')\n",
    "    for i in range(0, len(indices[0])):\n",
    "        print(df.artist_name[df.artist_mbid == artists[indices[0][i]]].unique())\n",
    "    print('\\n')\n",
    "\"\"\""
   ]
  },
  {
   "cell_type": "code",
   "execution_count": 64,
   "metadata": {},
   "outputs": [
    {
     "name": "stderr",
     "output_type": "stream",
     "text": [
      "100%|██████████| 47102/47102 [00:00<00:00, 129377.60it/s]\n"
     ]
    }
   ],
   "source": [
    "model_knn = implicit.nearest_neighbours.BM25Recommender()\n",
    "model_knn.fit(plays_sparse, show_progress=True)"
   ]
  },
  {
   "cell_type": "code",
   "execution_count": 51,
   "metadata": {},
   "outputs": [
    {
     "name": "stdout",
     "output_type": "stream",
     "text": [
      "Artists that are similar to kanye west:\n",
      "['charles mingus']\n",
      "['miles davis']\n",
      "['john coltrane']\n",
      "['thelonious monk']\n",
      "['duke ellington']\n",
      "['charlie parker']\n",
      "['herbie hancock']\n",
      "['sonny rollins']\n",
      "['bill evans']\n",
      "['tom waits']\n",
      "\n",
      "\n",
      "Artists that are similar to coldplay:\n",
      "['coldplay']\n",
      "['radiohead']\n",
      "['the killers']\n",
      "['red hot chili peppers']\n",
      "['muse']\n",
      "['u2']\n",
      "['the beatles' 'beatles']\n",
      "['plan x' 'kiraç & funda arar - www.catlaemi.net'\n",
      " 'bisbal y alejandro sanz' ... 'frank sinatra/duke ellington'\n",
      " 'chase kreger' 'martingo']\n",
      "['snow patrol']\n",
      "['death cab for cutie']\n",
      "\n",
      "\n",
      "Artists that are similar to justin timberlake:\n",
      "['inxs']\n",
      "['depeche mode']\n",
      "['u2']\n",
      "['the cure']\n",
      "['coldplay']\n",
      "['queen']\n",
      "['pink floyd']\n",
      "['alanis morissette']\n",
      "['david bowie']\n",
      "['simple minds']\n",
      "\n",
      "\n"
     ]
    }
   ],
   "source": [
    "for artist in sample_artists:\n",
    "    artist_index = df.artist_name[df.artist_name == artist].index.tolist()[0]\n",
    "    related = model_knn.similar_items(artist_index)\n",
    "    print('Artists that are similar to', artist + ':')\n",
    "    for (x,y) in related:\n",
    "        print(df.artist_name[df.artist_mbid == artists[x]].unique())\n",
    "    print('\\n')"
   ]
  },
  {
   "cell_type": "code",
   "execution_count": 58,
   "metadata": {},
   "outputs": [
    {
     "data": {
      "text/plain": [
       "<47102x9000 sparse matrix of type '<class 'numpy.int64'>'\n",
       "\twith 438337 stored elements in Compressed Sparse Row format>"
      ]
     },
     "execution_count": 58,
     "metadata": {},
     "output_type": "execute_result"
    }
   ],
   "source": [
    "plays_sparse"
   ]
  },
  {
   "cell_type": "code",
   "execution_count": 55,
   "metadata": {},
   "outputs": [
    {
     "name": "stderr",
     "output_type": "stream",
     "text": [
      "100%|██████████| 15.0/15 [00:03<00:00,  4.04it/s]\n"
     ]
    }
   ],
   "source": [
    "model = implicit.als.AlternatingLeastSquares(factors=50)\n",
    "model.fit(plays_sparse)"
   ]
  },
  {
   "cell_type": "code",
   "execution_count": 56,
   "metadata": {},
   "outputs": [
    {
     "data": {
      "text/plain": [
       "<9000x47102 sparse matrix of type '<class 'numpy.int64'>'\n",
       "\twith 438337 stored elements in Compressed Sparse Row format>"
      ]
     },
     "execution_count": 56,
     "metadata": {},
     "output_type": "execute_result"
    }
   ],
   "source": [
    "user_plays_sparse = plays_sparse.T.tocsr()\n",
    "user_plays_sparse"
   ]
  },
  {
   "cell_type": "code",
   "execution_count": 68,
   "metadata": {},
   "outputs": [
    {
     "data": {
      "text/plain": [
       "[(1569, 1.8930104),\n",
       " (1076, 1.693833),\n",
       " (4648, 1.6386454),\n",
       " (1074, 1.5217786),\n",
       " (5695, 1.4756634),\n",
       " (1339, 1.4285048),\n",
       " (351, 1.426858),\n",
       " (7086, 1.4050913),\n",
       " (363, 1.3643575),\n",
       " (120, 1.3570861),\n",
       " (5741, 1.3404362),\n",
       " (275, 1.3284478),\n",
       " (3632, 1.3030187),\n",
       " (336, 1.2511883),\n",
       " (1741, 1.246616),\n",
       " (1226, 1.2420986),\n",
       " (679, 1.2226174),\n",
       " (781, 1.2172772),\n",
       " (5010, 1.2172517),\n",
       " (85, 1.2031524)]"
      ]
     },
     "execution_count": 68,
     "metadata": {},
     "output_type": "execute_result"
    }
   ],
   "source": [
    "user_plays_sparse = plays_sparse.T.tocsr()\n",
    "model.recommend(1000,user_plays_sparse, N=20)"
   ]
  },
  {
   "cell_type": "code",
   "execution_count": 52,
   "metadata": {},
   "outputs": [
    {
     "data": {
      "text/plain": [
       "<9000x47102 sparse matrix of type '<class 'numpy.int64'>'\n",
       "\twith 438337 stored elements in Compressed Sparse Row format>"
      ]
     },
     "execution_count": 52,
     "metadata": {},
     "output_type": "execute_result"
    }
   ],
   "source": [
    "user_plays_sparse"
   ]
  },
  {
   "cell_type": "code",
   "execution_count": 18,
   "metadata": {},
   "outputs": [
    {
     "ename": "TypeError",
     "evalue": "'>=' not supported between instances of 'str' and 'int'",
     "output_type": "error",
     "traceback": [
      "\u001b[0;31m---------------------------------------------------------------------------\u001b[0m",
      "\u001b[0;31mTypeError\u001b[0m                                 Traceback (most recent call last)",
      "\u001b[0;32m<ipython-input-18-eb6e56ca6f5f>\u001b[0m in \u001b[0;36m<module>\u001b[0;34m()\u001b[0m\n\u001b[0;32m----> 1\u001b[0;31m \u001b[0mmodel_knn\u001b[0m\u001b[0;34m.\u001b[0m\u001b[0mrank_items\u001b[0m\u001b[0;34m(\u001b[0m\u001b[0mint\u001b[0m\u001b[0;34m(\u001b[0m\u001b[0musers\u001b[0m\u001b[0;34m[\u001b[0m\u001b[0;36m1\u001b[0m\u001b[0;34m]\u001b[0m\u001b[0;34m)\u001b[0m\u001b[0;34m,\u001b[0m\u001b[0mplays_sparse2\u001b[0m\u001b[0;34m,\u001b[0m\u001b[0martists\u001b[0m\u001b[0;34m[\u001b[0m\u001b[0;36m1\u001b[0m\u001b[0;34m:\u001b[0m\u001b[0;36m3\u001b[0m\u001b[0;34m]\u001b[0m\u001b[0;34m)\u001b[0m\u001b[0;34m\u001b[0m\u001b[0m\n\u001b[0m",
      "\u001b[0;32m~/anaconda/lib/python3.6/site-packages/implicit/nearest_neighbours.py\u001b[0m in \u001b[0;36mrank_items\u001b[0;34m(self, userid, user_items, selected_items, recalculate_user)\u001b[0m\n\u001b[1;32m     48\u001b[0m         \u001b[0;34m\"\"\" Rank given items for a user and returns sorted item list \"\"\"\u001b[0m\u001b[0;34m\u001b[0m\u001b[0m\n\u001b[1;32m     49\u001b[0m         \u001b[0;31m# check if selected_items contains itemids that are not in the model(user_items)\u001b[0m\u001b[0;34m\u001b[0m\u001b[0;34m\u001b[0m\u001b[0m\n\u001b[0;32m---> 50\u001b[0;31m         \u001b[0;32mif\u001b[0m \u001b[0mmax\u001b[0m\u001b[0;34m(\u001b[0m\u001b[0mselected_items\u001b[0m\u001b[0;34m)\u001b[0m \u001b[0;34m>=\u001b[0m \u001b[0muser_items\u001b[0m\u001b[0;34m.\u001b[0m\u001b[0mshape\u001b[0m\u001b[0;34m[\u001b[0m\u001b[0;36m1\u001b[0m\u001b[0;34m]\u001b[0m \u001b[0;32mor\u001b[0m \u001b[0mmin\u001b[0m\u001b[0;34m(\u001b[0m\u001b[0mselected_items\u001b[0m\u001b[0;34m)\u001b[0m \u001b[0;34m<\u001b[0m \u001b[0;36m0\u001b[0m\u001b[0;34m:\u001b[0m\u001b[0;34m\u001b[0m\u001b[0m\n\u001b[0m\u001b[1;32m     51\u001b[0m             \u001b[0;32mraise\u001b[0m \u001b[0mIndexError\u001b[0m\u001b[0;34m(\u001b[0m\u001b[0;34m\"Some of selected itemids are not in the model\"\u001b[0m\u001b[0;34m)\u001b[0m\u001b[0;34m\u001b[0m\u001b[0m\n\u001b[1;32m     52\u001b[0m \u001b[0;34m\u001b[0m\u001b[0m\n",
      "\u001b[0;31mTypeError\u001b[0m: '>=' not supported between instances of 'str' and 'int'"
     ]
    }
   ],
   "source": [
    "model_knn.rank_items(int(users[1]),plays_sparse2,artists[1:3])"
   ]
  }
 ],
 "metadata": {
  "kernelspec": {
   "display_name": "Python 3",
   "language": "python",
   "name": "python3"
  },
  "language_info": {
   "codemirror_mode": {
    "name": "ipython",
    "version": 3
   },
   "file_extension": ".py",
   "mimetype": "text/x-python",
   "name": "python",
   "nbconvert_exporter": "python",
   "pygments_lexer": "ipython3",
   "version": "3.6.3"
  }
 },
 "nbformat": 4,
 "nbformat_minor": 2
}
