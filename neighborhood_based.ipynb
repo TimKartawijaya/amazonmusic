{
 "cells": [
  {
   "cell_type": "code",
   "execution_count": 1,
   "metadata": {},
   "outputs": [],
   "source": [
    "# Import necessary packages\n",
    "from sklearn.neighbors import NearestNeighbors\n",
    "import pandas as pd\n",
    "import implicit\n",
    "import numpy as np\n",
    "import scipy\n",
    "from sklearn.neighbors import NearestNeighbors"
   ]
  },
  {
   "cell_type": "code",
   "execution_count": 2,
   "metadata": {},
   "outputs": [],
   "source": [
    "# Load Data\n",
    "df = pd.read_csv('lastfm_9000_users.csv', na_filter=False)\n",
    "data = df.drop(['Unnamed: 0','artist_name'], axis=1)\n",
    "#data.user_id = data.user_id.factorize()[0]"
   ]
  },
  {
   "cell_type": "code",
   "execution_count": 3,
   "metadata": {},
   "outputs": [],
   "source": [
    "# Set up arrays of unique users and artists for our matrix\n",
    "users = list(np.sort(data.user_id.unique()))\n",
    "artists = list(data.artist_mbid.unique())\n",
    "plays = list(data.plays)"
   ]
  },
  {
   "cell_type": "code",
   "execution_count": 4,
   "metadata": {},
   "outputs": [],
   "source": [
    "#user-user\n",
    "#rows2 = data.user_id.astype('category', categories=users).cat.codes\n",
    "#cols2 = data.artist_mbid.astype('category', categories=artists).cat.codes\n",
    "#plays_sparse2 = scipy.sparse.csr_matrix((plays, (rows2, cols2)), shape=(len(users),len(artists)))\n",
    "\n",
    "#item-item\n",
    "rows = data.artist_mbid.astype('category', categories=artists).cat.codes\n",
    "cols = data.user_id.astype('category', categories=users).cat.codes\n",
    "plays_sparse = scipy.sparse.csr_matrix((plays, (rows, cols)), shape=(len(artists),len(users))).astype(float)"
   ]
  },
  {
   "cell_type": "code",
   "execution_count": 5,
   "metadata": {},
   "outputs": [
    {
     "data": {
      "text/plain": [
       "\"\\n'death cab for cutie',\\n'paramore',\\n'ok go',\\n'foo fighters',\\n'green day',\\n'eminem',\\n'kanye west',\\n'maroon 5',\\n'britney spears',\\n'justin timberlake',\\n'notorious b.i.g.'\\n\\nfor artist in sample_artists:\\n    artist_index = df.artist_name[df.artist_name == artist].index.tolist()[0]\\n    model_knn = NearestNeighbors(metric = 'cosine', algorithm = 'brute')\\n    model_knn.fit(plays_sparse)\\n    distances, indices = model_knn.kneighbors(plays_sparse[artist_index], n_neighbors = 6)\\n    print('Artists that are similar to', artist + ':')\\n    for i in range(0, len(indices[0])):\\n        print(df.artist_name[df.artist_mbid == artists[indices[0][i]]].unique())\\n    print('\\n')\\n\""
      ]
     },
     "execution_count": 5,
     "metadata": {},
     "output_type": "execute_result"
    }
   ],
   "source": [
    "sample_artists = ['kanye west',\n",
    "'coldplay',\n",
    "'justin timberlake']\n",
    "\n",
    "\"\"\"\n",
    "'death cab for cutie',\n",
    "'paramore',\n",
    "'ok go',\n",
    "'foo fighters',\n",
    "'green day',\n",
    "'eminem',\n",
    "'kanye west',\n",
    "'maroon 5',\n",
    "'britney spears',\n",
    "'justin timberlake',\n",
    "'notorious b.i.g.'\n",
    "\n",
    "for artist in sample_artists:\n",
    "    artist_index = df.artist_name[df.artist_name == artist].index.tolist()[0]\n",
    "    model_knn = NearestNeighbors(metric = 'cosine', algorithm = 'brute')\n",
    "    model_knn.fit(plays_sparse)\n",
    "    distances, indices = model_knn.kneighbors(plays_sparse[artist_index], n_neighbors = 6)\n",
    "    print('Artists that are similar to', artist + ':')\n",
    "    for i in range(0, len(indices[0])):\n",
    "        print(df.artist_name[df.artist_mbid == artists[indices[0][i]]].unique())\n",
    "    print('\\n')\n",
    "\"\"\""
   ]
  },
  {
   "cell_type": "code",
   "execution_count": 6,
   "metadata": {},
   "outputs": [
    {
     "name": "stderr",
     "output_type": "stream",
     "text": [
      "100%|██████████| 47102/47102 [00:00<00:00, 135048.28it/s]\n"
     ]
    }
   ],
   "source": [
    "# Train K-Nearest Neighbors Model\n",
    "model_knn = implicit.nearest_neighbours.BM25Recommender()\n",
    "model_knn.fit(plays_sparse, show_progress=True)"
   ]
  },
  {
   "cell_type": "code",
   "execution_count": 7,
   "metadata": {},
   "outputs": [
    {
     "name": "stdout",
     "output_type": "stream",
     "text": [
      "Artists that are similar to kanye west:\n",
      "['charles mingus']\n",
      "['miles davis']\n",
      "['john coltrane']\n",
      "['thelonious monk']\n",
      "['duke ellington']\n",
      "['charlie parker']\n",
      "['herbie hancock']\n",
      "['sonny rollins']\n",
      "['bill evans']\n",
      "['tom waits']\n",
      "\n",
      "\n",
      "Artists that are similar to coldplay:\n",
      "['coldplay']\n",
      "['radiohead']\n",
      "['the killers']\n",
      "['red hot chili peppers']\n",
      "['muse']\n",
      "['u2']\n",
      "['the beatles' 'beatles']\n",
      "['plan x' 'kiraç & funda arar - www.catlaemi.net'\n",
      " 'bisbal y alejandro sanz' ... 'frank sinatra/duke ellington'\n",
      " 'chase kreger' 'martingo']\n",
      "['snow patrol']\n",
      "['death cab for cutie']\n",
      "\n",
      "\n",
      "Artists that are similar to justin timberlake:\n",
      "['inxs']\n",
      "['depeche mode']\n",
      "['u2']\n",
      "['the cure']\n",
      "['coldplay']\n",
      "['queen']\n",
      "['pink floyd']\n",
      "['alanis morissette']\n",
      "['david bowie']\n",
      "['simple minds']\n",
      "\n",
      "\n"
     ]
    }
   ],
   "source": [
    "# Output Similar Artists\n",
    "for artist in sample_artists:\n",
    "    artist_index = df.artist_name[df.artist_name == artist].index.tolist()[0]\n",
    "    related = model_knn.similar_items(artist_index)\n",
    "    print('Artists that are similar to', artist + ':')\n",
    "    for (x,y) in related:\n",
    "        print(df.artist_name[df.artist_mbid == artists[x]].unique())\n",
    "    print('\\n')"
   ]
  },
  {
   "cell_type": "code",
   "execution_count": 8,
   "metadata": {},
   "outputs": [
    {
     "name": "stdout",
     "output_type": "stream",
     "text": [
      "['rihanna']\n",
      "['coldplay']\n",
      "['linkin park']\n",
      "['beyoncé' 'beyonce']\n",
      "['avril lavigne']\n",
      "['christina aguilera']\n",
      "['michael jackson']\n",
      "['madonna']\n",
      "['red hot chili peppers']\n",
      "['the killers']\n",
      "['the beatles' 'beatles']\n",
      "['amy winehouse']\n",
      "['radiohead']\n",
      "['muse']\n",
      "['lily allen']\n",
      "['timbaland']\n",
      "['daft punk']\n",
      "['kelly clarkson']\n",
      "['lady gaga']\n",
      "['kanye west']\n"
     ]
    }
   ],
   "source": [
    "# Generate recommendations for particular user\n",
    "user = 5\n",
    "for x,y in model_knn.recommend(user,plays_sparse.T.tocsr(), N=20, filter_already_liked_items=True):\n",
    "    print(df.artist_name[df.artist_mbid == artists[x]].unique())"
   ]
  }
 ],
 "metadata": {
  "kernelspec": {
   "display_name": "Python 3",
   "language": "python",
   "name": "python3"
  },
  "language_info": {
   "codemirror_mode": {
    "name": "ipython",
    "version": 3
   },
   "file_extension": ".py",
   "mimetype": "text/x-python",
   "name": "python",
   "nbconvert_exporter": "python",
   "pygments_lexer": "ipython3",
   "version": "3.6.3"
  }
 },
 "nbformat": 4,
 "nbformat_minor": 2
}
