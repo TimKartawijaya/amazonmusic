{
 "cells": [
  {
   "cell_type": "code",
   "execution_count": 39,
   "metadata": {},
   "outputs": [],
   "source": [
    "import numpy as np"
   ]
  },
  {
   "cell_type": "code",
   "execution_count": 30,
   "metadata": {},
   "outputs": [],
   "source": [
    "import pandas as pd\n",
    "\n",
    "#read in full dataset\n",
    "col_names = [\"user_id\",\"artist_mbid\",\"artist_name\",\"plays\"]\n",
    "df = pd.read_csv(\"usersha1-artmbid-artname-plays.tsv\", sep = \"\\t\", header = None, names = col_names)"
   ]
  },
  {
   "cell_type": "code",
   "execution_count": 37,
   "metadata": {},
   "outputs": [],
   "source": [
    "#remove faulty user_id\n",
    "df = df[df.user_id != \"sep 20, 2008\"]"
   ]
  },
  {
   "cell_type": "code",
   "execution_count": 43,
   "metadata": {},
   "outputs": [],
   "source": [
    "#generate sample of 9000 distinct user ids\n",
    "sample_userid = df[\"user_id\"].unique()\n",
    "sample_userid = np.random.choice(sample_userid, size = 9000, replace = False)"
   ]
  },
  {
   "cell_type": "code",
   "execution_count": 53,
   "metadata": {},
   "outputs": [],
   "source": [
    "#grab rows with sample user id\n",
    "df_sample = df[df.user_id.isin(sample_userid)].reset_index(drop = True)"
   ]
  },
  {
   "cell_type": "code",
   "execution_count": 58,
   "metadata": {},
   "outputs": [],
   "source": [
    "#save to csv\n",
    "df_sample.to_csv(\"lastfm_9000_users.csv\")"
   ]
  }
 ],
 "metadata": {
  "kernelspec": {
   "display_name": "Python 3",
   "language": "python",
   "name": "python3"
  },
  "language_info": {
   "codemirror_mode": {
    "name": "ipython",
    "version": 2
   },
   "file_extension": ".py",
   "mimetype": "text/x-python",
   "name": "python",
   "nbconvert_exporter": "python",
   "pygments_lexer": "ipython2",
   "version": "2.7.15"
  }
 },
 "nbformat": 4,
 "nbformat_minor": 2
}
